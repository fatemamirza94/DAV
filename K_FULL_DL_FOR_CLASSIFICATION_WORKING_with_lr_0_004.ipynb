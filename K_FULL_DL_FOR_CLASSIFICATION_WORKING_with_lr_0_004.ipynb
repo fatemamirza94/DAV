{
  "nbformat": 4,
  "nbformat_minor": 0,
  "metadata": {
    "colab": {
      "name": "K-FULL DL FOR CLASSIFICATION WORKING with lr 0.004.ipynb",
      "provenance": [],
      "collapsed_sections": []
    },
    "kernelspec": {
      "name": "python3",
      "display_name": "Python 3"
    },
    "language_info": {
      "name": "python"
    }
  },
  "cells": [
    {
      "cell_type": "markdown",
      "metadata": {
        "id": "6kvVYfS3YI8-"
      },
      "source": [
        "**APPENDIX K**"
      ]
    },
    {
      "cell_type": "code",
      "metadata": {
        "id": "P5oYOydUunqp",
        "colab": {
          "base_uri": "https://localhost:8080/"
        },
        "outputId": "d5d0b323-f2cf-4671-a355-f197eda49a76"
      },
      "source": [
        "import numpy as np\n",
        "import pandas as pd\n",
        "import matplotlib.pyplot as plt\n",
        "import seaborn as sns\n",
        "from datetime import datetime\n",
        "import random\n",
        " \n",
        "import statsmodels.api as sm\n",
        " \n",
        "from sklearn.preprocessing import LabelEncoder, StandardScaler\n",
        "from sklearn.metrics import mean_squared_error\n",
        " \n",
        "# Import Keras\n",
        "from keras.preprocessing.sequence import TimeseriesGenerator\n",
        "from keras.models import Sequential\n",
        "from keras.layers import Dense, LSTM\n",
        " \n",
        "# Import Prophet\n",
        "from fbprophet import Prophet\n",
        "# Import VAR Model\n",
        "from statsmodels.tsa.vector_ar.var_model import VAR\n",
        " \n",
        "import warnings\n",
        "warnings.filterwarnings('ignore')"
      ],
      "execution_count": null,
      "outputs": [
        {
          "output_type": "stream",
          "text": [
            "/usr/local/lib/python3.7/dist-packages/statsmodels/tools/_testing.py:19: FutureWarning: pandas.util.testing is deprecated. Use the functions in the public API at pandas.testing instead.\n",
            "  import pandas.util.testing as tm\n"
          ],
          "name": "stderr"
        }
      ]
    },
    {
      "cell_type": "code",
      "metadata": {
        "colab": {
          "base_uri": "https://localhost:8080/",
          "height": 195
        },
        "id": "qJBqLx6mvxSC",
        "outputId": "eddad18d-ed5d-43fc-ae2a-293181101f22"
      },
      "source": [
        "df = pd.read_csv('/content/all_together - Copy.csv')\n",
        "df.head()"
      ],
      "execution_count": null,
      "outputs": [
        {
          "output_type": "execute_result",
          "data": {
            "text/html": [
              "<div>\n",
              "<style scoped>\n",
              "    .dataframe tbody tr th:only-of-type {\n",
              "        vertical-align: middle;\n",
              "    }\n",
              "\n",
              "    .dataframe tbody tr th {\n",
              "        vertical-align: top;\n",
              "    }\n",
              "\n",
              "    .dataframe thead th {\n",
              "        text-align: right;\n",
              "    }\n",
              "</style>\n",
              "<table border=\"1\" class=\"dataframe\">\n",
              "  <thead>\n",
              "    <tr style=\"text-align: right;\">\n",
              "      <th></th>\n",
              "      <th>No</th>\n",
              "      <th>year</th>\n",
              "      <th>month</th>\n",
              "      <th>day</th>\n",
              "      <th>hour</th>\n",
              "      <th>PM10</th>\n",
              "      <th>SO2</th>\n",
              "      <th>NO2</th>\n",
              "      <th>CO</th>\n",
              "      <th>O3</th>\n",
              "      <th>TEMP</th>\n",
              "      <th>PRES</th>\n",
              "      <th>DEWP</th>\n",
              "      <th>RAIN</th>\n",
              "      <th>WSPM</th>\n",
              "      <th>TARGET</th>\n",
              "    </tr>\n",
              "  </thead>\n",
              "  <tbody>\n",
              "    <tr>\n",
              "      <th>0</th>\n",
              "      <td>1</td>\n",
              "      <td>2013</td>\n",
              "      <td>3</td>\n",
              "      <td>1</td>\n",
              "      <td>0</td>\n",
              "      <td>4.0</td>\n",
              "      <td>4.0</td>\n",
              "      <td>7.0</td>\n",
              "      <td>300.0</td>\n",
              "      <td>77.0</td>\n",
              "      <td>-0.7</td>\n",
              "      <td>1023.0</td>\n",
              "      <td>-18.8</td>\n",
              "      <td>0.0</td>\n",
              "      <td>4.4</td>\n",
              "      <td>0.0</td>\n",
              "    </tr>\n",
              "    <tr>\n",
              "      <th>1</th>\n",
              "      <td>2</td>\n",
              "      <td>2013</td>\n",
              "      <td>3</td>\n",
              "      <td>1</td>\n",
              "      <td>1</td>\n",
              "      <td>8.0</td>\n",
              "      <td>4.0</td>\n",
              "      <td>7.0</td>\n",
              "      <td>300.0</td>\n",
              "      <td>77.0</td>\n",
              "      <td>-1.1</td>\n",
              "      <td>1023.2</td>\n",
              "      <td>-18.2</td>\n",
              "      <td>0.0</td>\n",
              "      <td>4.7</td>\n",
              "      <td>0.0</td>\n",
              "    </tr>\n",
              "    <tr>\n",
              "      <th>2</th>\n",
              "      <td>3</td>\n",
              "      <td>2013</td>\n",
              "      <td>3</td>\n",
              "      <td>1</td>\n",
              "      <td>2</td>\n",
              "      <td>7.0</td>\n",
              "      <td>5.0</td>\n",
              "      <td>10.0</td>\n",
              "      <td>300.0</td>\n",
              "      <td>73.0</td>\n",
              "      <td>-1.1</td>\n",
              "      <td>1023.5</td>\n",
              "      <td>-18.2</td>\n",
              "      <td>0.0</td>\n",
              "      <td>5.6</td>\n",
              "      <td>0.0</td>\n",
              "    </tr>\n",
              "    <tr>\n",
              "      <th>3</th>\n",
              "      <td>4</td>\n",
              "      <td>2013</td>\n",
              "      <td>3</td>\n",
              "      <td>1</td>\n",
              "      <td>3</td>\n",
              "      <td>6.0</td>\n",
              "      <td>11.0</td>\n",
              "      <td>11.0</td>\n",
              "      <td>300.0</td>\n",
              "      <td>72.0</td>\n",
              "      <td>-1.4</td>\n",
              "      <td>1024.5</td>\n",
              "      <td>-19.4</td>\n",
              "      <td>0.0</td>\n",
              "      <td>3.1</td>\n",
              "      <td>0.0</td>\n",
              "    </tr>\n",
              "    <tr>\n",
              "      <th>4</th>\n",
              "      <td>5</td>\n",
              "      <td>2013</td>\n",
              "      <td>3</td>\n",
              "      <td>1</td>\n",
              "      <td>4</td>\n",
              "      <td>3.0</td>\n",
              "      <td>12.0</td>\n",
              "      <td>12.0</td>\n",
              "      <td>300.0</td>\n",
              "      <td>72.0</td>\n",
              "      <td>-2.0</td>\n",
              "      <td>1025.2</td>\n",
              "      <td>-19.5</td>\n",
              "      <td>0.0</td>\n",
              "      <td>2.0</td>\n",
              "      <td>0.0</td>\n",
              "    </tr>\n",
              "  </tbody>\n",
              "</table>\n",
              "</div>"
            ],
            "text/plain": [
              "   No  year  month  day  hour  PM10  ...  TEMP    PRES  DEWP  RAIN  WSPM  TARGET\n",
              "0   1  2013      3    1     0   4.0  ...  -0.7  1023.0 -18.8   0.0   4.4     0.0\n",
              "1   2  2013      3    1     1   8.0  ...  -1.1  1023.2 -18.2   0.0   4.7     0.0\n",
              "2   3  2013      3    1     2   7.0  ...  -1.1  1023.5 -18.2   0.0   5.6     0.0\n",
              "3   4  2013      3    1     3   6.0  ...  -1.4  1024.5 -19.4   0.0   3.1     0.0\n",
              "4   5  2013      3    1     4   3.0  ...  -2.0  1025.2 -19.5   0.0   2.0     0.0\n",
              "\n",
              "[5 rows x 16 columns]"
            ]
          },
          "metadata": {
            "tags": []
          },
          "execution_count": 2
        }
      ]
    },
    {
      "cell_type": "code",
      "metadata": {
        "colab": {
          "base_uri": "https://localhost:8080/",
          "height": 195
        },
        "id": "7bkqxnuiv572",
        "outputId": "b6485df6-ddda-414c-e9df-e437ce8be6bc"
      },
      "source": [
        "df['date'] = df[['year', 'month', 'day', 'hour']].apply(lambda row: f\"{row['year']}-{row['month']}-{row['day']} {row['hour']}:00:00\", axis=1)\n",
        "df['date'] = pd.to_datetime(df['date'], format='%Y-%m-%d')\n",
        "df.head()"
      ],
      "execution_count": null,
      "outputs": [
        {
          "output_type": "execute_result",
          "data": {
            "text/html": [
              "<div>\n",
              "<style scoped>\n",
              "    .dataframe tbody tr th:only-of-type {\n",
              "        vertical-align: middle;\n",
              "    }\n",
              "\n",
              "    .dataframe tbody tr th {\n",
              "        vertical-align: top;\n",
              "    }\n",
              "\n",
              "    .dataframe thead th {\n",
              "        text-align: right;\n",
              "    }\n",
              "</style>\n",
              "<table border=\"1\" class=\"dataframe\">\n",
              "  <thead>\n",
              "    <tr style=\"text-align: right;\">\n",
              "      <th></th>\n",
              "      <th>No</th>\n",
              "      <th>year</th>\n",
              "      <th>month</th>\n",
              "      <th>day</th>\n",
              "      <th>hour</th>\n",
              "      <th>PM10</th>\n",
              "      <th>SO2</th>\n",
              "      <th>NO2</th>\n",
              "      <th>CO</th>\n",
              "      <th>O3</th>\n",
              "      <th>TEMP</th>\n",
              "      <th>PRES</th>\n",
              "      <th>DEWP</th>\n",
              "      <th>RAIN</th>\n",
              "      <th>WSPM</th>\n",
              "      <th>TARGET</th>\n",
              "      <th>date</th>\n",
              "    </tr>\n",
              "  </thead>\n",
              "  <tbody>\n",
              "    <tr>\n",
              "      <th>0</th>\n",
              "      <td>1</td>\n",
              "      <td>2013</td>\n",
              "      <td>3</td>\n",
              "      <td>1</td>\n",
              "      <td>0</td>\n",
              "      <td>4.0</td>\n",
              "      <td>4.0</td>\n",
              "      <td>7.0</td>\n",
              "      <td>300.0</td>\n",
              "      <td>77.0</td>\n",
              "      <td>-0.7</td>\n",
              "      <td>1023.0</td>\n",
              "      <td>-18.8</td>\n",
              "      <td>0.0</td>\n",
              "      <td>4.4</td>\n",
              "      <td>0.0</td>\n",
              "      <td>2013-03-01 00:00:00</td>\n",
              "    </tr>\n",
              "    <tr>\n",
              "      <th>1</th>\n",
              "      <td>2</td>\n",
              "      <td>2013</td>\n",
              "      <td>3</td>\n",
              "      <td>1</td>\n",
              "      <td>1</td>\n",
              "      <td>8.0</td>\n",
              "      <td>4.0</td>\n",
              "      <td>7.0</td>\n",
              "      <td>300.0</td>\n",
              "      <td>77.0</td>\n",
              "      <td>-1.1</td>\n",
              "      <td>1023.2</td>\n",
              "      <td>-18.2</td>\n",
              "      <td>0.0</td>\n",
              "      <td>4.7</td>\n",
              "      <td>0.0</td>\n",
              "      <td>2013-03-01 01:00:00</td>\n",
              "    </tr>\n",
              "    <tr>\n",
              "      <th>2</th>\n",
              "      <td>3</td>\n",
              "      <td>2013</td>\n",
              "      <td>3</td>\n",
              "      <td>1</td>\n",
              "      <td>2</td>\n",
              "      <td>7.0</td>\n",
              "      <td>5.0</td>\n",
              "      <td>10.0</td>\n",
              "      <td>300.0</td>\n",
              "      <td>73.0</td>\n",
              "      <td>-1.1</td>\n",
              "      <td>1023.5</td>\n",
              "      <td>-18.2</td>\n",
              "      <td>0.0</td>\n",
              "      <td>5.6</td>\n",
              "      <td>0.0</td>\n",
              "      <td>2013-03-01 02:00:00</td>\n",
              "    </tr>\n",
              "    <tr>\n",
              "      <th>3</th>\n",
              "      <td>4</td>\n",
              "      <td>2013</td>\n",
              "      <td>3</td>\n",
              "      <td>1</td>\n",
              "      <td>3</td>\n",
              "      <td>6.0</td>\n",
              "      <td>11.0</td>\n",
              "      <td>11.0</td>\n",
              "      <td>300.0</td>\n",
              "      <td>72.0</td>\n",
              "      <td>-1.4</td>\n",
              "      <td>1024.5</td>\n",
              "      <td>-19.4</td>\n",
              "      <td>0.0</td>\n",
              "      <td>3.1</td>\n",
              "      <td>0.0</td>\n",
              "      <td>2013-03-01 03:00:00</td>\n",
              "    </tr>\n",
              "    <tr>\n",
              "      <th>4</th>\n",
              "      <td>5</td>\n",
              "      <td>2013</td>\n",
              "      <td>3</td>\n",
              "      <td>1</td>\n",
              "      <td>4</td>\n",
              "      <td>3.0</td>\n",
              "      <td>12.0</td>\n",
              "      <td>12.0</td>\n",
              "      <td>300.0</td>\n",
              "      <td>72.0</td>\n",
              "      <td>-2.0</td>\n",
              "      <td>1025.2</td>\n",
              "      <td>-19.5</td>\n",
              "      <td>0.0</td>\n",
              "      <td>2.0</td>\n",
              "      <td>0.0</td>\n",
              "      <td>2013-03-01 04:00:00</td>\n",
              "    </tr>\n",
              "  </tbody>\n",
              "</table>\n",
              "</div>"
            ],
            "text/plain": [
              "   No  year  month  day  hour  ...  DEWP  RAIN  WSPM  TARGET                date\n",
              "0   1  2013      3    1     0  ... -18.8   0.0   4.4     0.0 2013-03-01 00:00:00\n",
              "1   2  2013      3    1     1  ... -18.2   0.0   4.7     0.0 2013-03-01 01:00:00\n",
              "2   3  2013      3    1     2  ... -18.2   0.0   5.6     0.0 2013-03-01 02:00:00\n",
              "3   4  2013      3    1     3  ... -19.4   0.0   3.1     0.0 2013-03-01 03:00:00\n",
              "4   5  2013      3    1     4  ... -19.5   0.0   2.0     0.0 2013-03-01 04:00:00\n",
              "\n",
              "[5 rows x 17 columns]"
            ]
          },
          "metadata": {
            "tags": []
          },
          "execution_count": 3
        }
      ]
    },
    {
      "cell_type": "code",
      "metadata": {
        "colab": {
          "base_uri": "https://localhost:8080/",
          "height": 195
        },
        "id": "Cjqljd_Dv_J2",
        "outputId": "5dcc18af-1fb4-434d-cec2-ee92a4f3c038"
      },
      "source": [
        "\n",
        "df.drop(['No','year','month','day','hour'], axis=1, inplace=True)\n",
        "df.head()"
      ],
      "execution_count": null,
      "outputs": [
        {
          "output_type": "execute_result",
          "data": {
            "text/html": [
              "<div>\n",
              "<style scoped>\n",
              "    .dataframe tbody tr th:only-of-type {\n",
              "        vertical-align: middle;\n",
              "    }\n",
              "\n",
              "    .dataframe tbody tr th {\n",
              "        vertical-align: top;\n",
              "    }\n",
              "\n",
              "    .dataframe thead th {\n",
              "        text-align: right;\n",
              "    }\n",
              "</style>\n",
              "<table border=\"1\" class=\"dataframe\">\n",
              "  <thead>\n",
              "    <tr style=\"text-align: right;\">\n",
              "      <th></th>\n",
              "      <th>PM10</th>\n",
              "      <th>SO2</th>\n",
              "      <th>NO2</th>\n",
              "      <th>CO</th>\n",
              "      <th>O3</th>\n",
              "      <th>TEMP</th>\n",
              "      <th>PRES</th>\n",
              "      <th>DEWP</th>\n",
              "      <th>RAIN</th>\n",
              "      <th>WSPM</th>\n",
              "      <th>TARGET</th>\n",
              "      <th>date</th>\n",
              "    </tr>\n",
              "  </thead>\n",
              "  <tbody>\n",
              "    <tr>\n",
              "      <th>0</th>\n",
              "      <td>4.0</td>\n",
              "      <td>4.0</td>\n",
              "      <td>7.0</td>\n",
              "      <td>300.0</td>\n",
              "      <td>77.0</td>\n",
              "      <td>-0.7</td>\n",
              "      <td>1023.0</td>\n",
              "      <td>-18.8</td>\n",
              "      <td>0.0</td>\n",
              "      <td>4.4</td>\n",
              "      <td>0.0</td>\n",
              "      <td>2013-03-01 00:00:00</td>\n",
              "    </tr>\n",
              "    <tr>\n",
              "      <th>1</th>\n",
              "      <td>8.0</td>\n",
              "      <td>4.0</td>\n",
              "      <td>7.0</td>\n",
              "      <td>300.0</td>\n",
              "      <td>77.0</td>\n",
              "      <td>-1.1</td>\n",
              "      <td>1023.2</td>\n",
              "      <td>-18.2</td>\n",
              "      <td>0.0</td>\n",
              "      <td>4.7</td>\n",
              "      <td>0.0</td>\n",
              "      <td>2013-03-01 01:00:00</td>\n",
              "    </tr>\n",
              "    <tr>\n",
              "      <th>2</th>\n",
              "      <td>7.0</td>\n",
              "      <td>5.0</td>\n",
              "      <td>10.0</td>\n",
              "      <td>300.0</td>\n",
              "      <td>73.0</td>\n",
              "      <td>-1.1</td>\n",
              "      <td>1023.5</td>\n",
              "      <td>-18.2</td>\n",
              "      <td>0.0</td>\n",
              "      <td>5.6</td>\n",
              "      <td>0.0</td>\n",
              "      <td>2013-03-01 02:00:00</td>\n",
              "    </tr>\n",
              "    <tr>\n",
              "      <th>3</th>\n",
              "      <td>6.0</td>\n",
              "      <td>11.0</td>\n",
              "      <td>11.0</td>\n",
              "      <td>300.0</td>\n",
              "      <td>72.0</td>\n",
              "      <td>-1.4</td>\n",
              "      <td>1024.5</td>\n",
              "      <td>-19.4</td>\n",
              "      <td>0.0</td>\n",
              "      <td>3.1</td>\n",
              "      <td>0.0</td>\n",
              "      <td>2013-03-01 03:00:00</td>\n",
              "    </tr>\n",
              "    <tr>\n",
              "      <th>4</th>\n",
              "      <td>3.0</td>\n",
              "      <td>12.0</td>\n",
              "      <td>12.0</td>\n",
              "      <td>300.0</td>\n",
              "      <td>72.0</td>\n",
              "      <td>-2.0</td>\n",
              "      <td>1025.2</td>\n",
              "      <td>-19.5</td>\n",
              "      <td>0.0</td>\n",
              "      <td>2.0</td>\n",
              "      <td>0.0</td>\n",
              "      <td>2013-03-01 04:00:00</td>\n",
              "    </tr>\n",
              "  </tbody>\n",
              "</table>\n",
              "</div>"
            ],
            "text/plain": [
              "   PM10   SO2   NO2     CO    O3  ...  DEWP  RAIN  WSPM  TARGET                date\n",
              "0   4.0   4.0   7.0  300.0  77.0  ... -18.8   0.0   4.4     0.0 2013-03-01 00:00:00\n",
              "1   8.0   4.0   7.0  300.0  77.0  ... -18.2   0.0   4.7     0.0 2013-03-01 01:00:00\n",
              "2   7.0   5.0  10.0  300.0  73.0  ... -18.2   0.0   5.6     0.0 2013-03-01 02:00:00\n",
              "3   6.0  11.0  11.0  300.0  72.0  ... -19.4   0.0   3.1     0.0 2013-03-01 03:00:00\n",
              "4   3.0  12.0  12.0  300.0  72.0  ... -19.5   0.0   2.0     0.0 2013-03-01 04:00:00\n",
              "\n",
              "[5 rows x 12 columns]"
            ]
          },
          "metadata": {
            "tags": []
          },
          "execution_count": 4
        }
      ]
    },
    {
      "cell_type": "code",
      "metadata": {
        "colab": {
          "base_uri": "https://localhost:8080/",
          "height": 195
        },
        "id": "NNoYRfSMwJFg",
        "outputId": "03947e61-3ce4-4e3c-b630-81fd31c167af"
      },
      "source": [
        "df.sort_values(by='date', inplace=True)\n",
        "df.head()"
      ],
      "execution_count": null,
      "outputs": [
        {
          "output_type": "execute_result",
          "data": {
            "text/html": [
              "<div>\n",
              "<style scoped>\n",
              "    .dataframe tbody tr th:only-of-type {\n",
              "        vertical-align: middle;\n",
              "    }\n",
              "\n",
              "    .dataframe tbody tr th {\n",
              "        vertical-align: top;\n",
              "    }\n",
              "\n",
              "    .dataframe thead th {\n",
              "        text-align: right;\n",
              "    }\n",
              "</style>\n",
              "<table border=\"1\" class=\"dataframe\">\n",
              "  <thead>\n",
              "    <tr style=\"text-align: right;\">\n",
              "      <th></th>\n",
              "      <th>PM10</th>\n",
              "      <th>SO2</th>\n",
              "      <th>NO2</th>\n",
              "      <th>CO</th>\n",
              "      <th>O3</th>\n",
              "      <th>TEMP</th>\n",
              "      <th>PRES</th>\n",
              "      <th>DEWP</th>\n",
              "      <th>RAIN</th>\n",
              "      <th>WSPM</th>\n",
              "      <th>TARGET</th>\n",
              "      <th>date</th>\n",
              "    </tr>\n",
              "  </thead>\n",
              "  <tbody>\n",
              "    <tr>\n",
              "      <th>0</th>\n",
              "      <td>4.0</td>\n",
              "      <td>4.0</td>\n",
              "      <td>7.0</td>\n",
              "      <td>300.0</td>\n",
              "      <td>77.0</td>\n",
              "      <td>-0.7</td>\n",
              "      <td>1023.0</td>\n",
              "      <td>-18.8</td>\n",
              "      <td>0.0</td>\n",
              "      <td>4.4</td>\n",
              "      <td>0.0</td>\n",
              "      <td>2013-03-01 00:00:00</td>\n",
              "    </tr>\n",
              "    <tr>\n",
              "      <th>35064</th>\n",
              "      <td>6.0</td>\n",
              "      <td>13.0</td>\n",
              "      <td>7.0</td>\n",
              "      <td>300.0</td>\n",
              "      <td>85.0</td>\n",
              "      <td>-2.3</td>\n",
              "      <td>1020.8</td>\n",
              "      <td>-19.7</td>\n",
              "      <td>0.0</td>\n",
              "      <td>0.5</td>\n",
              "      <td>0.0</td>\n",
              "      <td>2013-03-01 00:00:00</td>\n",
              "    </tr>\n",
              "    <tr>\n",
              "      <th>1</th>\n",
              "      <td>8.0</td>\n",
              "      <td>4.0</td>\n",
              "      <td>7.0</td>\n",
              "      <td>300.0</td>\n",
              "      <td>77.0</td>\n",
              "      <td>-1.1</td>\n",
              "      <td>1023.2</td>\n",
              "      <td>-18.2</td>\n",
              "      <td>0.0</td>\n",
              "      <td>4.7</td>\n",
              "      <td>0.0</td>\n",
              "      <td>2013-03-01 01:00:00</td>\n",
              "    </tr>\n",
              "    <tr>\n",
              "      <th>35065</th>\n",
              "      <td>3.0</td>\n",
              "      <td>6.0</td>\n",
              "      <td>6.0</td>\n",
              "      <td>300.0</td>\n",
              "      <td>85.0</td>\n",
              "      <td>-2.5</td>\n",
              "      <td>1021.3</td>\n",
              "      <td>-19.0</td>\n",
              "      <td>0.0</td>\n",
              "      <td>0.7</td>\n",
              "      <td>0.0</td>\n",
              "      <td>2013-03-01 01:00:00</td>\n",
              "    </tr>\n",
              "    <tr>\n",
              "      <th>2</th>\n",
              "      <td>7.0</td>\n",
              "      <td>5.0</td>\n",
              "      <td>10.0</td>\n",
              "      <td>300.0</td>\n",
              "      <td>73.0</td>\n",
              "      <td>-1.1</td>\n",
              "      <td>1023.5</td>\n",
              "      <td>-18.2</td>\n",
              "      <td>0.0</td>\n",
              "      <td>5.6</td>\n",
              "      <td>0.0</td>\n",
              "      <td>2013-03-01 02:00:00</td>\n",
              "    </tr>\n",
              "  </tbody>\n",
              "</table>\n",
              "</div>"
            ],
            "text/plain": [
              "       PM10   SO2   NO2     CO  ...  RAIN  WSPM  TARGET                date\n",
              "0       4.0   4.0   7.0  300.0  ...   0.0   4.4     0.0 2013-03-01 00:00:00\n",
              "35064   6.0  13.0   7.0  300.0  ...   0.0   0.5     0.0 2013-03-01 00:00:00\n",
              "1       8.0   4.0   7.0  300.0  ...   0.0   4.7     0.0 2013-03-01 01:00:00\n",
              "35065   3.0   6.0   6.0  300.0  ...   0.0   0.7     0.0 2013-03-01 01:00:00\n",
              "2       7.0   5.0  10.0  300.0  ...   0.0   5.6     0.0 2013-03-01 02:00:00\n",
              "\n",
              "[5 rows x 12 columns]"
            ]
          },
          "metadata": {
            "tags": []
          },
          "execution_count": 5
        }
      ]
    },
    {
      "cell_type": "code",
      "metadata": {
        "colab": {
          "base_uri": "https://localhost:8080/"
        },
        "id": "YkQt0T91wNL3",
        "outputId": "0f10bf37-02a1-4e20-de67-01665b2d19d0"
      },
      "source": [
        "df['date'].min(), df['date'].max()"
      ],
      "execution_count": null,
      "outputs": [
        {
          "output_type": "execute_result",
          "data": {
            "text/plain": [
              "(Timestamp('2013-03-01 00:00:00'), Timestamp('2017-02-28 23:00:00'))"
            ]
          },
          "metadata": {
            "tags": []
          },
          "execution_count": 6
        }
      ]
    },
    {
      "cell_type": "code",
      "metadata": {
        "colab": {
          "base_uri": "https://localhost:8080/",
          "height": 225
        },
        "id": "fRtjz4u_wV3q",
        "outputId": "08013f5d-c4fc-40a8-dd6c-a38878aa561a"
      },
      "source": [
        "df.set_index('date', inplace=True)\n",
        "df.head()"
      ],
      "execution_count": null,
      "outputs": [
        {
          "output_type": "execute_result",
          "data": {
            "text/html": [
              "<div>\n",
              "<style scoped>\n",
              "    .dataframe tbody tr th:only-of-type {\n",
              "        vertical-align: middle;\n",
              "    }\n",
              "\n",
              "    .dataframe tbody tr th {\n",
              "        vertical-align: top;\n",
              "    }\n",
              "\n",
              "    .dataframe thead th {\n",
              "        text-align: right;\n",
              "    }\n",
              "</style>\n",
              "<table border=\"1\" class=\"dataframe\">\n",
              "  <thead>\n",
              "    <tr style=\"text-align: right;\">\n",
              "      <th></th>\n",
              "      <th>PM10</th>\n",
              "      <th>SO2</th>\n",
              "      <th>NO2</th>\n",
              "      <th>CO</th>\n",
              "      <th>O3</th>\n",
              "      <th>TEMP</th>\n",
              "      <th>PRES</th>\n",
              "      <th>DEWP</th>\n",
              "      <th>RAIN</th>\n",
              "      <th>WSPM</th>\n",
              "      <th>TARGET</th>\n",
              "    </tr>\n",
              "    <tr>\n",
              "      <th>date</th>\n",
              "      <th></th>\n",
              "      <th></th>\n",
              "      <th></th>\n",
              "      <th></th>\n",
              "      <th></th>\n",
              "      <th></th>\n",
              "      <th></th>\n",
              "      <th></th>\n",
              "      <th></th>\n",
              "      <th></th>\n",
              "      <th></th>\n",
              "    </tr>\n",
              "  </thead>\n",
              "  <tbody>\n",
              "    <tr>\n",
              "      <th>2013-03-01 00:00:00</th>\n",
              "      <td>4.0</td>\n",
              "      <td>4.0</td>\n",
              "      <td>7.0</td>\n",
              "      <td>300.0</td>\n",
              "      <td>77.0</td>\n",
              "      <td>-0.7</td>\n",
              "      <td>1023.0</td>\n",
              "      <td>-18.8</td>\n",
              "      <td>0.0</td>\n",
              "      <td>4.4</td>\n",
              "      <td>0.0</td>\n",
              "    </tr>\n",
              "    <tr>\n",
              "      <th>2013-03-01 00:00:00</th>\n",
              "      <td>6.0</td>\n",
              "      <td>13.0</td>\n",
              "      <td>7.0</td>\n",
              "      <td>300.0</td>\n",
              "      <td>85.0</td>\n",
              "      <td>-2.3</td>\n",
              "      <td>1020.8</td>\n",
              "      <td>-19.7</td>\n",
              "      <td>0.0</td>\n",
              "      <td>0.5</td>\n",
              "      <td>0.0</td>\n",
              "    </tr>\n",
              "    <tr>\n",
              "      <th>2013-03-01 01:00:00</th>\n",
              "      <td>8.0</td>\n",
              "      <td>4.0</td>\n",
              "      <td>7.0</td>\n",
              "      <td>300.0</td>\n",
              "      <td>77.0</td>\n",
              "      <td>-1.1</td>\n",
              "      <td>1023.2</td>\n",
              "      <td>-18.2</td>\n",
              "      <td>0.0</td>\n",
              "      <td>4.7</td>\n",
              "      <td>0.0</td>\n",
              "    </tr>\n",
              "    <tr>\n",
              "      <th>2013-03-01 01:00:00</th>\n",
              "      <td>3.0</td>\n",
              "      <td>6.0</td>\n",
              "      <td>6.0</td>\n",
              "      <td>300.0</td>\n",
              "      <td>85.0</td>\n",
              "      <td>-2.5</td>\n",
              "      <td>1021.3</td>\n",
              "      <td>-19.0</td>\n",
              "      <td>0.0</td>\n",
              "      <td>0.7</td>\n",
              "      <td>0.0</td>\n",
              "    </tr>\n",
              "    <tr>\n",
              "      <th>2013-03-01 02:00:00</th>\n",
              "      <td>7.0</td>\n",
              "      <td>5.0</td>\n",
              "      <td>10.0</td>\n",
              "      <td>300.0</td>\n",
              "      <td>73.0</td>\n",
              "      <td>-1.1</td>\n",
              "      <td>1023.5</td>\n",
              "      <td>-18.2</td>\n",
              "      <td>0.0</td>\n",
              "      <td>5.6</td>\n",
              "      <td>0.0</td>\n",
              "    </tr>\n",
              "  </tbody>\n",
              "</table>\n",
              "</div>"
            ],
            "text/plain": [
              "                     PM10   SO2   NO2     CO  ...  DEWP  RAIN  WSPM  TARGET\n",
              "date                                          ...                          \n",
              "2013-03-01 00:00:00   4.0   4.0   7.0  300.0  ... -18.8   0.0   4.4     0.0\n",
              "2013-03-01 00:00:00   6.0  13.0   7.0  300.0  ... -19.7   0.0   0.5     0.0\n",
              "2013-03-01 01:00:00   8.0   4.0   7.0  300.0  ... -18.2   0.0   4.7     0.0\n",
              "2013-03-01 01:00:00   3.0   6.0   6.0  300.0  ... -19.0   0.0   0.7     0.0\n",
              "2013-03-01 02:00:00   7.0   5.0  10.0  300.0  ... -18.2   0.0   5.6     0.0\n",
              "\n",
              "[5 rows x 11 columns]"
            ]
          },
          "metadata": {
            "tags": []
          },
          "execution_count": 7
        }
      ]
    },
    {
      "cell_type": "code",
      "metadata": {
        "id": "_bF-mSl7vKbC"
      },
      "source": [
        "X = df.drop('TARGET',axis=1)\n",
        "y = df[['TARGET']]\n",
        "\n",
        "X = np.nan_to_num(X)\n",
        "y = np.nan_to_num(y)"
      ],
      "execution_count": null,
      "outputs": []
    },
    {
      "cell_type": "code",
      "metadata": {
        "id": "nEWChctQ32cA"
      },
      "source": [
        "from sklearn.preprocessing import LabelEncoder\n",
        "encoder =  LabelEncoder()\n",
        "y1 = encoder.fit_transform(y)\n",
        "\n",
        "Y = pd.get_dummies(y1).values"
      ],
      "execution_count": null,
      "outputs": []
    },
    {
      "cell_type": "code",
      "metadata": {
        "id": "BNF8hs69vp5G"
      },
      "source": [
        "from sklearn.model_selection import train_test_split\n",
        "X_train,X_test, y_train,y_test = train_test_split(X,Y,test_size=0.25,random_state=0) "
      ],
      "execution_count": null,
      "outputs": []
    },
    {
      "cell_type": "code",
      "metadata": {
        "colab": {
          "base_uri": "https://localhost:8080/"
        },
        "id": "uaSY65bC0Bux",
        "outputId": "3b648c28-3194-4bdf-f258-65b05a1d2687"
      },
      "source": [
        "X_train.shape"
      ],
      "execution_count": null,
      "outputs": [
        {
          "output_type": "execute_result",
          "data": {
            "text/plain": [
              "(39088, 10)"
            ]
          },
          "metadata": {
            "tags": []
          },
          "execution_count": 11
        }
      ]
    },
    {
      "cell_type": "code",
      "metadata": {
        "colab": {
          "base_uri": "https://localhost:8080/"
        },
        "id": "cuFTKU0u3qpA",
        "outputId": "5ca99134-1376-4e36-f121-defdacf1a10e"
      },
      "source": [
        "y_train.shape"
      ],
      "execution_count": null,
      "outputs": [
        {
          "output_type": "execute_result",
          "data": {
            "text/plain": [
              "(39088, 3)"
            ]
          },
          "metadata": {
            "tags": []
          },
          "execution_count": 12
        }
      ]
    },
    {
      "cell_type": "code",
      "metadata": {
        "colab": {
          "base_uri": "https://localhost:8080/"
        },
        "id": "YSo50CyHwFUD",
        "outputId": "f0f2514b-266f-4aea-d8d3-35b835bd68e0"
      },
      "source": [
        "from keras.models import Sequential\n",
        "from keras.layers import Dense\n",
        "from keras.optimizers import SGD,Adam\n",
        "\n",
        "\n",
        "model = Sequential()\n",
        "\n",
        "model.add(Dense(20,input_shape=(10,),activation='tanh'))\n",
        "model.add(Dense(8,activation='tanh'))\n",
        "model.add(Dense(6,activation='tanh'))\n",
        "model.add(Dense(3,activation='softmax'))\n",
        "\n",
        "model.compile(Adam(lr=0.004),'categorical_crossentropy',metrics=['accuracy'])\n",
        "\n",
        "model.summary()"
      ],
      "execution_count": null,
      "outputs": [
        {
          "output_type": "stream",
          "text": [
            "Model: \"sequential_3\"\n",
            "_________________________________________________________________\n",
            "Layer (type)                 Output Shape              Param #   \n",
            "=================================================================\n",
            "dense_12 (Dense)             (None, 20)                220       \n",
            "_________________________________________________________________\n",
            "dense_13 (Dense)             (None, 8)                 168       \n",
            "_________________________________________________________________\n",
            "dense_14 (Dense)             (None, 6)                 54        \n",
            "_________________________________________________________________\n",
            "dense_15 (Dense)             (None, 3)                 21        \n",
            "=================================================================\n",
            "Total params: 463\n",
            "Trainable params: 463\n",
            "Non-trainable params: 0\n",
            "_________________________________________________________________\n"
          ],
          "name": "stdout"
        }
      ]
    },
    {
      "cell_type": "code",
      "metadata": {
        "colab": {
          "base_uri": "https://localhost:8080/"
        },
        "id": "Pi5SwVjowNAG",
        "outputId": "baea4cdd-1ece-42a6-82c9-ce983b48ad6f"
      },
      "source": [
        "history = model.fit(X_train,y_train,batch_size=100, epochs=100,verbose=1, validation_split=0.20)\n",
        "y_pred = model.predict(X_test)\n"
      ],
      "execution_count": null,
      "outputs": [
        {
          "output_type": "stream",
          "text": [
            "Epoch 1/100\n",
            "313/313 [==============================] - 1s 2ms/step - loss: 0.7017 - accuracy: 0.6859 - val_loss: 0.5463 - val_accuracy: 0.7579\n",
            "Epoch 2/100\n",
            "313/313 [==============================] - 0s 1ms/step - loss: 0.5386 - accuracy: 0.7723 - val_loss: 0.4999 - val_accuracy: 0.7746\n",
            "Epoch 3/100\n",
            "313/313 [==============================] - 0s 1ms/step - loss: 0.4982 - accuracy: 0.7875 - val_loss: 0.4881 - val_accuracy: 0.7896\n",
            "Epoch 4/100\n",
            "313/313 [==============================] - 0s 1ms/step - loss: 0.4657 - accuracy: 0.8042 - val_loss: 0.4910 - val_accuracy: 0.8021\n",
            "Epoch 5/100\n",
            "313/313 [==============================] - 0s 1ms/step - loss: 0.4823 - accuracy: 0.7934 - val_loss: 0.4796 - val_accuracy: 0.7758\n",
            "Epoch 6/100\n",
            "313/313 [==============================] - 0s 1ms/step - loss: 0.4626 - accuracy: 0.8091 - val_loss: 0.4649 - val_accuracy: 0.8078\n",
            "Epoch 7/100\n",
            "313/313 [==============================] - 0s 1ms/step - loss: 0.4721 - accuracy: 0.8040 - val_loss: 0.4368 - val_accuracy: 0.8149\n",
            "Epoch 8/100\n",
            "313/313 [==============================] - 0s 2ms/step - loss: 0.4442 - accuracy: 0.8116 - val_loss: 0.4605 - val_accuracy: 0.7942\n",
            "Epoch 9/100\n",
            "313/313 [==============================] - 0s 1ms/step - loss: 0.4400 - accuracy: 0.8104 - val_loss: 0.4645 - val_accuracy: 0.8065\n",
            "Epoch 10/100\n",
            "313/313 [==============================] - 0s 1ms/step - loss: 0.4366 - accuracy: 0.8157 - val_loss: 0.4587 - val_accuracy: 0.8198\n",
            "Epoch 11/100\n",
            "313/313 [==============================] - 0s 1ms/step - loss: 0.4372 - accuracy: 0.8189 - val_loss: 0.4449 - val_accuracy: 0.8039\n",
            "Epoch 12/100\n",
            "313/313 [==============================] - 0s 1ms/step - loss: 0.4586 - accuracy: 0.8020 - val_loss: 0.4492 - val_accuracy: 0.8260\n",
            "Epoch 13/100\n",
            "313/313 [==============================] - 0s 1ms/step - loss: 0.4521 - accuracy: 0.8191 - val_loss: 0.4431 - val_accuracy: 0.8246\n",
            "Epoch 14/100\n",
            "313/313 [==============================] - 0s 1ms/step - loss: 0.4461 - accuracy: 0.8116 - val_loss: 0.4492 - val_accuracy: 0.7850\n",
            "Epoch 15/100\n",
            "313/313 [==============================] - 0s 1ms/step - loss: 0.4537 - accuracy: 0.8034 - val_loss: 0.4359 - val_accuracy: 0.8353\n",
            "Epoch 16/100\n",
            "313/313 [==============================] - 0s 1ms/step - loss: 0.4469 - accuracy: 0.8199 - val_loss: 0.4365 - val_accuracy: 0.8239\n",
            "Epoch 17/100\n",
            "313/313 [==============================] - 0s 1ms/step - loss: 0.4342 - accuracy: 0.8192 - val_loss: 0.4442 - val_accuracy: 0.8118\n",
            "Epoch 18/100\n",
            "313/313 [==============================] - 0s 1ms/step - loss: 0.4400 - accuracy: 0.8114 - val_loss: 0.4265 - val_accuracy: 0.8402\n",
            "Epoch 19/100\n",
            "313/313 [==============================] - 0s 1ms/step - loss: 0.4466 - accuracy: 0.8162 - val_loss: 0.4264 - val_accuracy: 0.8263\n",
            "Epoch 20/100\n",
            "313/313 [==============================] - 0s 1ms/step - loss: 0.4250 - accuracy: 0.8185 - val_loss: 0.4440 - val_accuracy: 0.8273\n",
            "Epoch 21/100\n",
            "313/313 [==============================] - 0s 1ms/step - loss: 0.4229 - accuracy: 0.8219 - val_loss: 0.4211 - val_accuracy: 0.8290\n",
            "Epoch 22/100\n",
            "313/313 [==============================] - 0s 1ms/step - loss: 0.4224 - accuracy: 0.8217 - val_loss: 0.4259 - val_accuracy: 0.8360\n",
            "Epoch 23/100\n",
            "313/313 [==============================] - 0s 1ms/step - loss: 0.4194 - accuracy: 0.8307 - val_loss: 0.4526 - val_accuracy: 0.8199\n",
            "Epoch 24/100\n",
            "313/313 [==============================] - 0s 1ms/step - loss: 0.4330 - accuracy: 0.8205 - val_loss: 0.4258 - val_accuracy: 0.8239\n",
            "Epoch 25/100\n",
            "313/313 [==============================] - 0s 1ms/step - loss: 0.4340 - accuracy: 0.8156 - val_loss: 0.4243 - val_accuracy: 0.8328\n",
            "Epoch 26/100\n",
            "313/313 [==============================] - 0s 1ms/step - loss: 0.4408 - accuracy: 0.8169 - val_loss: 0.4310 - val_accuracy: 0.7955\n",
            "Epoch 27/100\n",
            "313/313 [==============================] - 0s 2ms/step - loss: 0.4079 - accuracy: 0.8373 - val_loss: 0.4183 - val_accuracy: 0.8194\n",
            "Epoch 28/100\n",
            "313/313 [==============================] - 0s 2ms/step - loss: 0.4405 - accuracy: 0.8166 - val_loss: 0.4252 - val_accuracy: 0.8306\n",
            "Epoch 29/100\n",
            "313/313 [==============================] - 0s 1ms/step - loss: 0.4270 - accuracy: 0.8236 - val_loss: 0.4384 - val_accuracy: 0.8369\n",
            "Epoch 30/100\n",
            "313/313 [==============================] - 0s 1ms/step - loss: 0.4321 - accuracy: 0.8184 - val_loss: 0.4206 - val_accuracy: 0.8278\n",
            "Epoch 31/100\n",
            "313/313 [==============================] - 0s 1ms/step - loss: 0.4125 - accuracy: 0.8311 - val_loss: 0.4342 - val_accuracy: 0.8023\n",
            "Epoch 32/100\n",
            "313/313 [==============================] - 0s 1ms/step - loss: 0.4484 - accuracy: 0.7988 - val_loss: 0.4401 - val_accuracy: 0.8219\n",
            "Epoch 33/100\n",
            "313/313 [==============================] - 0s 1ms/step - loss: 0.4369 - accuracy: 0.8181 - val_loss: 0.4410 - val_accuracy: 0.7893\n",
            "Epoch 34/100\n",
            "313/313 [==============================] - 0s 1ms/step - loss: 0.4220 - accuracy: 0.8199 - val_loss: 0.4240 - val_accuracy: 0.8314\n",
            "Epoch 35/100\n",
            "313/313 [==============================] - 0s 1ms/step - loss: 0.4251 - accuracy: 0.8289 - val_loss: 0.4226 - val_accuracy: 0.8373\n",
            "Epoch 36/100\n",
            "313/313 [==============================] - 0s 1ms/step - loss: 0.4172 - accuracy: 0.8307 - val_loss: 0.4340 - val_accuracy: 0.8162\n",
            "Epoch 37/100\n",
            "313/313 [==============================] - 0s 1ms/step - loss: 0.4341 - accuracy: 0.8129 - val_loss: 0.4374 - val_accuracy: 0.7932\n",
            "Epoch 38/100\n",
            "313/313 [==============================] - 0s 1ms/step - loss: 0.4176 - accuracy: 0.8186 - val_loss: 0.4382 - val_accuracy: 0.8109\n",
            "Epoch 39/100\n",
            "313/313 [==============================] - 0s 1ms/step - loss: 0.4259 - accuracy: 0.8219 - val_loss: 0.4425 - val_accuracy: 0.7989\n",
            "Epoch 40/100\n",
            "313/313 [==============================] - 0s 1ms/step - loss: 0.4251 - accuracy: 0.8181 - val_loss: 0.4274 - val_accuracy: 0.8152\n",
            "Epoch 41/100\n",
            "313/313 [==============================] - 0s 1ms/step - loss: 0.4183 - accuracy: 0.8208 - val_loss: 0.4447 - val_accuracy: 0.8021\n",
            "Epoch 42/100\n",
            "313/313 [==============================] - 0s 1ms/step - loss: 0.4178 - accuracy: 0.8223 - val_loss: 0.4395 - val_accuracy: 0.8127\n",
            "Epoch 43/100\n",
            "313/313 [==============================] - 0s 1ms/step - loss: 0.4220 - accuracy: 0.8189 - val_loss: 0.4302 - val_accuracy: 0.8271\n",
            "Epoch 44/100\n",
            "313/313 [==============================] - 0s 1ms/step - loss: 0.4099 - accuracy: 0.8319 - val_loss: 0.4334 - val_accuracy: 0.8147\n",
            "Epoch 45/100\n",
            "313/313 [==============================] - 0s 1ms/step - loss: 0.4151 - accuracy: 0.8247 - val_loss: 0.4191 - val_accuracy: 0.8267\n",
            "Epoch 46/100\n",
            "313/313 [==============================] - 0s 1ms/step - loss: 0.4170 - accuracy: 0.8227 - val_loss: 0.4228 - val_accuracy: 0.8122\n",
            "Epoch 47/100\n",
            "313/313 [==============================] - 0s 1ms/step - loss: 0.4180 - accuracy: 0.8225 - val_loss: 0.4415 - val_accuracy: 0.8249\n",
            "Epoch 48/100\n",
            "313/313 [==============================] - 0s 2ms/step - loss: 0.4409 - accuracy: 0.8175 - val_loss: 0.4290 - val_accuracy: 0.7970\n",
            "Epoch 49/100\n",
            "313/313 [==============================] - 0s 1ms/step - loss: 0.4270 - accuracy: 0.8131 - val_loss: 0.4263 - val_accuracy: 0.8237\n",
            "Epoch 50/100\n",
            "313/313 [==============================] - 0s 1ms/step - loss: 0.4193 - accuracy: 0.8163 - val_loss: 0.4190 - val_accuracy: 0.8317\n",
            "Epoch 51/100\n",
            "313/313 [==============================] - 0s 2ms/step - loss: 0.4168 - accuracy: 0.8277 - val_loss: 0.4255 - val_accuracy: 0.8328\n",
            "Epoch 52/100\n",
            "313/313 [==============================] - 0s 1ms/step - loss: 0.4221 - accuracy: 0.8221 - val_loss: 0.4155 - val_accuracy: 0.8075\n",
            "Epoch 53/100\n",
            "313/313 [==============================] - 0s 1ms/step - loss: 0.4176 - accuracy: 0.8143 - val_loss: 0.4146 - val_accuracy: 0.8153\n",
            "Epoch 54/100\n",
            "313/313 [==============================] - 0s 1ms/step - loss: 0.4205 - accuracy: 0.8148 - val_loss: 0.4656 - val_accuracy: 0.8047\n",
            "Epoch 55/100\n",
            "313/313 [==============================] - 0s 1ms/step - loss: 0.4412 - accuracy: 0.8148 - val_loss: 0.4179 - val_accuracy: 0.8264\n",
            "Epoch 56/100\n",
            "313/313 [==============================] - 0s 1ms/step - loss: 0.4264 - accuracy: 0.8251 - val_loss: 0.4234 - val_accuracy: 0.8262\n",
            "Epoch 57/100\n",
            "313/313 [==============================] - 0s 1ms/step - loss: 0.4254 - accuracy: 0.8138 - val_loss: 0.4207 - val_accuracy: 0.8259\n",
            "Epoch 58/100\n",
            "313/313 [==============================] - 0s 1ms/step - loss: 0.4357 - accuracy: 0.8240 - val_loss: 0.4340 - val_accuracy: 0.8094\n",
            "Epoch 59/100\n",
            "313/313 [==============================] - 0s 1ms/step - loss: 0.4585 - accuracy: 0.7935 - val_loss: 0.4674 - val_accuracy: 0.8168\n",
            "Epoch 60/100\n",
            "313/313 [==============================] - 0s 2ms/step - loss: 0.4597 - accuracy: 0.8196 - val_loss: 0.4350 - val_accuracy: 0.8354\n",
            "Epoch 61/100\n",
            "313/313 [==============================] - 0s 1ms/step - loss: 0.4464 - accuracy: 0.8018 - val_loss: 0.4508 - val_accuracy: 0.8126\n",
            "Epoch 62/100\n",
            "313/313 [==============================] - 0s 1ms/step - loss: 0.4535 - accuracy: 0.8067 - val_loss: 0.4599 - val_accuracy: 0.7928\n",
            "Epoch 63/100\n",
            "313/313 [==============================] - 0s 1ms/step - loss: 0.4471 - accuracy: 0.8049 - val_loss: 0.4690 - val_accuracy: 0.8143\n",
            "Epoch 64/100\n",
            "313/313 [==============================] - 0s 2ms/step - loss: 0.4608 - accuracy: 0.8165 - val_loss: 0.5000 - val_accuracy: 0.7196\n",
            "Epoch 65/100\n",
            "313/313 [==============================] - 0s 2ms/step - loss: 0.4707 - accuracy: 0.7804 - val_loss: 0.4293 - val_accuracy: 0.8218\n",
            "Epoch 66/100\n",
            "313/313 [==============================] - 0s 1ms/step - loss: 0.4294 - accuracy: 0.8202 - val_loss: 0.4640 - val_accuracy: 0.7952\n",
            "Epoch 67/100\n",
            "313/313 [==============================] - 0s 1ms/step - loss: 0.4541 - accuracy: 0.8098 - val_loss: 0.4370 - val_accuracy: 0.8167\n",
            "Epoch 68/100\n",
            "313/313 [==============================] - 0s 2ms/step - loss: 0.4335 - accuracy: 0.8142 - val_loss: 0.4418 - val_accuracy: 0.8166\n",
            "Epoch 69/100\n",
            "313/313 [==============================] - 0s 1ms/step - loss: 0.4200 - accuracy: 0.8270 - val_loss: 0.4250 - val_accuracy: 0.8281\n",
            "Epoch 70/100\n",
            "313/313 [==============================] - 0s 1ms/step - loss: 0.4169 - accuracy: 0.8311 - val_loss: 0.4233 - val_accuracy: 0.8360\n",
            "Epoch 71/100\n",
            "313/313 [==============================] - 0s 1ms/step - loss: 0.4230 - accuracy: 0.8233 - val_loss: 0.4165 - val_accuracy: 0.8360\n",
            "Epoch 72/100\n",
            "313/313 [==============================] - 0s 1ms/step - loss: 0.4235 - accuracy: 0.8197 - val_loss: 0.4378 - val_accuracy: 0.8062\n",
            "Epoch 73/100\n",
            "313/313 [==============================] - 0s 1ms/step - loss: 0.4397 - accuracy: 0.7997 - val_loss: 0.4365 - val_accuracy: 0.7778\n",
            "Epoch 74/100\n",
            "313/313 [==============================] - 0s 1ms/step - loss: 0.4254 - accuracy: 0.8021 - val_loss: 0.4307 - val_accuracy: 0.8139\n",
            "Epoch 75/100\n",
            "313/313 [==============================] - 0s 2ms/step - loss: 0.4004 - accuracy: 0.8315 - val_loss: 0.4049 - val_accuracy: 0.8364\n",
            "Epoch 76/100\n",
            "313/313 [==============================] - 0s 1ms/step - loss: 0.4103 - accuracy: 0.8213 - val_loss: 0.4407 - val_accuracy: 0.8074\n",
            "Epoch 77/100\n",
            "313/313 [==============================] - 0s 1ms/step - loss: 0.4266 - accuracy: 0.8142 - val_loss: 0.4283 - val_accuracy: 0.8173\n",
            "Epoch 78/100\n",
            "313/313 [==============================] - 0s 1ms/step - loss: 0.4249 - accuracy: 0.8122 - val_loss: 0.4194 - val_accuracy: 0.8141\n",
            "Epoch 79/100\n",
            "313/313 [==============================] - 0s 1ms/step - loss: 0.4000 - accuracy: 0.8312 - val_loss: 0.4060 - val_accuracy: 0.8285\n",
            "Epoch 80/100\n",
            "313/313 [==============================] - 0s 1ms/step - loss: 0.4093 - accuracy: 0.8211 - val_loss: 0.4392 - val_accuracy: 0.8085\n",
            "Epoch 81/100\n",
            "313/313 [==============================] - 0s 2ms/step - loss: 0.4192 - accuracy: 0.8279 - val_loss: 0.4220 - val_accuracy: 0.8278\n",
            "Epoch 82/100\n",
            "313/313 [==============================] - 0s 1ms/step - loss: 0.4044 - accuracy: 0.8358 - val_loss: 0.4165 - val_accuracy: 0.8332\n",
            "Epoch 83/100\n",
            "313/313 [==============================] - 0s 1ms/step - loss: 0.4126 - accuracy: 0.8254 - val_loss: 0.4333 - val_accuracy: 0.7999\n",
            "Epoch 84/100\n",
            "313/313 [==============================] - 0s 1ms/step - loss: 0.4103 - accuracy: 0.8225 - val_loss: 0.4068 - val_accuracy: 0.8361\n",
            "Epoch 85/100\n",
            "313/313 [==============================] - 0s 2ms/step - loss: 0.4110 - accuracy: 0.8299 - val_loss: 0.4228 - val_accuracy: 0.8304\n",
            "Epoch 86/100\n",
            "313/313 [==============================] - 0s 1ms/step - loss: 0.4126 - accuracy: 0.8268 - val_loss: 0.4260 - val_accuracy: 0.8211\n",
            "Epoch 87/100\n",
            "313/313 [==============================] - 0s 1ms/step - loss: 0.4173 - accuracy: 0.8208 - val_loss: 0.4231 - val_accuracy: 0.7957\n",
            "Epoch 88/100\n",
            "313/313 [==============================] - 0s 2ms/step - loss: 0.4143 - accuracy: 0.8168 - val_loss: 0.4513 - val_accuracy: 0.7882\n",
            "Epoch 89/100\n",
            "313/313 [==============================] - 0s 1ms/step - loss: 0.4360 - accuracy: 0.7993 - val_loss: 0.4254 - val_accuracy: 0.8127\n",
            "Epoch 90/100\n",
            "313/313 [==============================] - 0s 2ms/step - loss: 0.4249 - accuracy: 0.8112 - val_loss: 0.4600 - val_accuracy: 0.8122\n",
            "Epoch 91/100\n",
            "313/313 [==============================] - 0s 1ms/step - loss: 0.4379 - accuracy: 0.8069 - val_loss: 0.4768 - val_accuracy: 0.7805\n",
            "Epoch 92/100\n",
            "313/313 [==============================] - 0s 2ms/step - loss: 0.4417 - accuracy: 0.7964 - val_loss: 0.4308 - val_accuracy: 0.8241\n",
            "Epoch 93/100\n",
            "313/313 [==============================] - 0s 1ms/step - loss: 0.4185 - accuracy: 0.8238 - val_loss: 0.4619 - val_accuracy: 0.7933\n",
            "Epoch 94/100\n",
            "313/313 [==============================] - 0s 2ms/step - loss: 0.4208 - accuracy: 0.8261 - val_loss: 0.4612 - val_accuracy: 0.7851\n",
            "Epoch 95/100\n",
            "313/313 [==============================] - 0s 1ms/step - loss: 0.4220 - accuracy: 0.8104 - val_loss: 0.4319 - val_accuracy: 0.8223\n",
            "Epoch 96/100\n",
            "313/313 [==============================] - 0s 1ms/step - loss: 0.4037 - accuracy: 0.8296 - val_loss: 0.4514 - val_accuracy: 0.7882\n",
            "Epoch 97/100\n",
            "313/313 [==============================] - 0s 1ms/step - loss: 0.4224 - accuracy: 0.8255 - val_loss: 0.4154 - val_accuracy: 0.8336\n",
            "Epoch 98/100\n",
            "313/313 [==============================] - 0s 2ms/step - loss: 0.4242 - accuracy: 0.8299 - val_loss: 0.4489 - val_accuracy: 0.8280\n",
            "Epoch 99/100\n",
            "313/313 [==============================] - 0s 1ms/step - loss: 0.4262 - accuracy: 0.8338 - val_loss: 0.4343 - val_accuracy: 0.8240\n",
            "Epoch 100/100\n",
            "313/313 [==============================] - 0s 1ms/step - loss: 0.4249 - accuracy: 0.8266 - val_loss: 0.4457 - val_accuracy: 0.8212\n"
          ],
          "name": "stdout"
        }
      ]
    },
    {
      "cell_type": "code",
      "metadata": {
        "colab": {
          "base_uri": "https://localhost:8080/"
        },
        "id": "ybgQGu9F3GQ6",
        "outputId": "b348a8e7-3373-4e6d-fadd-b3c9e078691c"
      },
      "source": [
        "y_pred"
      ],
      "execution_count": null,
      "outputs": [
        {
          "output_type": "execute_result",
          "data": {
            "text/plain": [
              "array([[1.50440261e-03, 2.40010217e-01, 7.58485377e-01],\n",
              "       [2.89185941e-01, 7.10484445e-01, 3.29633243e-04],\n",
              "       [1.50440261e-03, 2.40010217e-01, 7.58485377e-01],\n",
              "       ...,\n",
              "       [7.47275352e-03, 9.62168813e-01, 3.03584673e-02],\n",
              "       [8.90802681e-01, 1.08663626e-01, 5.33663551e-04],\n",
              "       [1.50440261e-03, 2.40010217e-01, 7.58485377e-01]], dtype=float32)"
            ]
          },
          "metadata": {
            "tags": []
          },
          "execution_count": 34
        }
      ]
    },
    {
      "cell_type": "code",
      "metadata": {
        "id": "HTmZ0h8I3PIy"
      },
      "source": [
        "y_test_class = np.argmax(y_test,axis=1)\n",
        "y_pred_class = np.argmax(y_pred,axis=1)"
      ],
      "execution_count": null,
      "outputs": []
    },
    {
      "cell_type": "code",
      "metadata": {
        "colab": {
          "base_uri": "https://localhost:8080/"
        },
        "id": "XJRRspAR3ThX",
        "outputId": "f79a166d-46f3-4eb5-aacb-973c60270b0a"
      },
      "source": [
        "from sklearn.metrics import classification_report,confusion_matrix\n",
        "print(classification_report(y_test_class,y_pred_class))\n",
        "print(confusion_matrix(y_test_class,y_pred_class))"
      ],
      "execution_count": null,
      "outputs": [
        {
          "output_type": "stream",
          "text": [
            "              precision    recall  f1-score   support\n",
            "\n",
            "           0       0.86      0.79      0.82      3251\n",
            "           1       0.80      0.87      0.83      6527\n",
            "           2       0.85      0.77      0.81      3252\n",
            "\n",
            "    accuracy                           0.83     13030\n",
            "   macro avg       0.84      0.81      0.82     13030\n",
            "weighted avg       0.83      0.83      0.83     13030\n",
            "\n",
            "[[2582  669    0]\n",
            " [ 424 5674  429]\n",
            " [   3  743 2506]]\n"
          ],
          "name": "stdout"
        }
      ]
    },
    {
      "cell_type": "code",
      "metadata": {
        "colab": {
          "base_uri": "https://localhost:8080/"
        },
        "id": "YDe9083Uif4m",
        "outputId": "b9f7310a-7686-4426-b43a-c142ecd0654f"
      },
      "source": [
        "import seaborn as sns\n",
        "import pandas as pd\n",
        "import datetime \n",
        "import calendar\n",
        "import matplotlib.pyplot as plt\n",
        "import numpy as np\n",
        "import scipy.stats as stats\n",
        " \n",
        "from sklearn.model_selection import train_test_split\n",
        "from sklearn.linear_model import LogisticRegression\n",
        "from sklearn import metrics\n",
        "from sklearn.metrics import roc_curve, auc\n",
        "from sklearn.metrics import roc_auc_score\n",
        "\n",
        "from sklearn import model_selection\n",
        "from sklearn import linear_model\n",
        "from sklearn import metrics\n",
        " \n",
        "\n",
        "# Model accuracy\n",
        "print(\"\\n\")\n",
        "print(\"Normal Predictor Values ===============================\")\n",
        "#print(\"model score: %.3f\" % model.score(X_test, y_test))\n",
        "print(\"Accuracy:\",metrics.accuracy_score(y_test_class,y_pred_class))\n",
        "print(\"Precision:\",metrics.precision_score(y_test_class,y_pred_class, average='weighted'))\n",
        "print(\"Recall:\",metrics.recall_score(y_test_class,y_pred_class, average='weighted'))\n",
        "print(\"F1 Score:\",metrics.f1_score(y_test_class,y_pred_class, average='weighted'))\n",
        "print(\"\\n\")"
      ],
      "execution_count": null,
      "outputs": [
        {
          "output_type": "stream",
          "text": [
            "\n",
            "\n",
            "Normal Predictor Values ===============================\n",
            "Accuracy: 0.8259401381427475\n",
            "Precision: 0.8282972538441749\n",
            "Recall: 0.8259401381427475\n",
            "F1 Score: 0.8255731804340203\n",
            "\n",
            "\n"
          ],
          "name": "stdout"
        }
      ]
    },
    {
      "cell_type": "code",
      "metadata": {
        "colab": {
          "base_uri": "https://localhost:8080/"
        },
        "id": "rKWmbYXGB9fK",
        "outputId": "ec2080ab-74c6-4b31-f978-59be4f642881"
      },
      "source": [
        "print(history.history.keys())"
      ],
      "execution_count": null,
      "outputs": [
        {
          "output_type": "stream",
          "text": [
            "dict_keys(['loss', 'accuracy', 'val_loss', 'val_accuracy'])\n"
          ],
          "name": "stdout"
        }
      ]
    },
    {
      "cell_type": "code",
      "metadata": {
        "colab": {
          "base_uri": "https://localhost:8080/",
          "height": 573
        },
        "id": "R-3MH6uhB-Gy",
        "outputId": "5357e94a-d769-4b7b-c543-498f82647b64"
      },
      "source": [
        "# summarize history for accuracy\n",
        "plt.plot(history.history['accuracy'])\n",
        "plt.plot(history.history['val_accuracy'])\n",
        "plt.title('model accuracy')\n",
        "plt.ylabel('accuracy')\n",
        "plt.xlabel('epoch')\n",
        "plt.legend(['train', 'test'], loc='upper left')\n",
        "plt.show()\n",
        "\n",
        "# summarize history for loss\n",
        "plt.plot(history.history['loss'])\n",
        "plt.plot(history.history['val_loss'])\n",
        "plt.title('model loss')\n",
        "plt.ylabel('loss')\n",
        "plt.xlabel('epoch')\n",
        "plt.legend(['train', 'test'], loc='upper left')\n",
        "plt.show()\n"
      ],
      "execution_count": null,
      "outputs": [
        {
          "output_type": "display_data",
          "data": {
            "image/png": "[encoded data removed]",
            "text/plain": [
              "<Figure size 432x288 with 1 Axes>"
            ]
          },
          "metadata": {
            "tags": [],
            "needs_background": "light"
          }
        },
        {
          "output_type": "display_data",
          "data": {
            "image/png": "[encoded data removed]",
            "text/plain": [
              "<Figure size 432x288 with 1 Axes>"
            ]
          },
          "metadata": {
            "tags": [],
            "needs_background": "light"
          }
        }
      ]
    },
    {
      "cell_type": "code",
      "metadata": {
        "colab": {
          "base_uri": "https://localhost:8080/"
        },
        "id": "GrbmUqxHHI3r",
        "outputId": "93d8051f-933d-4589-e6e4-566e94ebece1"
      },
      "source": [
        "from keras.models import Sequential\n",
        "from keras.layers import Dense\n",
        "from keras.optimizers import SGD, RMSprop, Adam\n",
        "\n",
        "\n",
        "model = Sequential()\n",
        "\n",
        "model.add(Dense(20,input_shape=(10,),activation='tanh'))\n",
        "model.add(Dense(8,activation='tanh'))\n",
        "model.add(Dense(6,activation='tanh'))\n",
        "model.add(Dense(3,activation='softmax'))\n",
        "\n",
        "model.compile(SGD(lr=0.004),'categorical_crossentropy',metrics=['accuracy'])\n",
        "\n",
        "model.summary()"
      ],
      "execution_count": null,
      "outputs": [
        {
          "output_type": "stream",
          "text": [
            "Model: \"sequential_1\"\n",
            "_________________________________________________________________\n",
            "Layer (type)                 Output Shape              Param #   \n",
            "=================================================================\n",
            "dense_4 (Dense)              (None, 20)                220       \n",
            "_________________________________________________________________\n",
            "dense_5 (Dense)              (None, 8)                 168       \n",
            "_________________________________________________________________\n",
            "dense_6 (Dense)              (None, 6)                 54        \n",
            "_________________________________________________________________\n",
            "dense_7 (Dense)              (None, 3)                 21        \n",
            "=================================================================\n",
            "Total params: 463\n",
            "Trainable params: 463\n",
            "Non-trainable params: 0\n",
            "_________________________________________________________________\n"
          ],
          "name": "stdout"
        }
      ]
    },
    {
      "cell_type": "code",
      "metadata": {
        "colab": {
          "base_uri": "https://localhost:8080/"
        },
        "id": "hGazJrfpHVTj",
        "outputId": "24f70882-b686-4b0d-bbfc-ee07f4c96d4a"
      },
      "source": [
        "history = model.fit(X_train,y_train,epochs=100,verbose=1, validation_split=0.20)\n",
        "y_pred = model.predict(X_test)\n"
      ],
      "execution_count": null,
      "outputs": [
        {
          "output_type": "stream",
          "text": [
            "Epoch 1/100\n",
            "978/978 [==============================] - 2s 1ms/step - loss: 0.9067 - accuracy: 0.5917 - val_loss: 0.6816 - val_accuracy: 0.6842\n",
            "Epoch 2/100\n",
            "978/978 [==============================] - 1s 1ms/step - loss: 0.6895 - accuracy: 0.7011 - val_loss: 0.6521 - val_accuracy: 0.7504\n",
            "Epoch 3/100\n",
            "978/978 [==============================] - 1s 1ms/step - loss: 0.6797 - accuracy: 0.7049 - val_loss: 0.6476 - val_accuracy: 0.7174\n",
            "Epoch 4/100\n",
            "978/978 [==============================] - 1s 1ms/step - loss: 0.6589 - accuracy: 0.6943 - val_loss: 0.6778 - val_accuracy: 0.6278\n",
            "Epoch 5/100\n",
            "978/978 [==============================] - 1s 1ms/step - loss: 0.7074 - accuracy: 0.6573 - val_loss: 0.7209 - val_accuracy: 0.5870\n",
            "Epoch 6/100\n",
            "978/978 [==============================] - 1s 1ms/step - loss: 0.7390 - accuracy: 0.5961 - val_loss: 0.7300 - val_accuracy: 0.5569\n",
            "Epoch 7/100\n",
            "978/978 [==============================] - 1s 1ms/step - loss: 0.7381 - accuracy: 0.6110 - val_loss: 0.7918 - val_accuracy: 0.6804\n",
            "Epoch 8/100\n",
            "978/978 [==============================] - 1s 1ms/step - loss: 0.7368 - accuracy: 0.6200 - val_loss: 0.7579 - val_accuracy: 0.5807\n",
            "Epoch 9/100\n",
            "978/978 [==============================] - 1s 1ms/step - loss: 0.7482 - accuracy: 0.5847 - val_loss: 0.8038 - val_accuracy: 0.6247\n",
            "Epoch 10/100\n",
            "978/978 [==============================] - 1s 1ms/step - loss: 0.7642 - accuracy: 0.6487 - val_loss: 0.6916 - val_accuracy: 0.6268\n",
            "Epoch 11/100\n",
            "978/978 [==============================] - 1s 1ms/step - loss: 0.6744 - accuracy: 0.6629 - val_loss: 0.6680 - val_accuracy: 0.6375\n",
            "Epoch 12/100\n",
            "978/978 [==============================] - 1s 1ms/step - loss: 0.6843 - accuracy: 0.6372 - val_loss: 0.6888 - val_accuracy: 0.6146\n",
            "Epoch 13/100\n",
            "978/978 [==============================] - 1s 1ms/step - loss: 0.6935 - accuracy: 0.5991 - val_loss: 0.6860 - val_accuracy: 0.7355\n",
            "Epoch 14/100\n",
            "978/978 [==============================] - 1s 1ms/step - loss: 0.6830 - accuracy: 0.7329 - val_loss: 0.6706 - val_accuracy: 0.6837\n",
            "Epoch 15/100\n",
            "978/978 [==============================] - 1s 1ms/step - loss: 0.6848 - accuracy: 0.6903 - val_loss: 0.6808 - val_accuracy: 0.6356\n",
            "Epoch 16/100\n",
            "978/978 [==============================] - 1s 1ms/step - loss: 0.6849 - accuracy: 0.6251 - val_loss: 0.6981 - val_accuracy: 0.6196\n",
            "Epoch 17/100\n",
            "978/978 [==============================] - 1s 1ms/step - loss: 0.7147 - accuracy: 0.6051 - val_loss: 0.7419 - val_accuracy: 0.5711\n",
            "Epoch 18/100\n",
            "978/978 [==============================] - 1s 1ms/step - loss: 0.7100 - accuracy: 0.6055 - val_loss: 0.6819 - val_accuracy: 0.5935\n",
            "Epoch 19/100\n",
            "978/978 [==============================] - 1s 1ms/step - loss: 0.6946 - accuracy: 0.6168 - val_loss: 0.7264 - val_accuracy: 0.6045\n",
            "Epoch 20/100\n",
            "978/978 [==============================] - 1s 1ms/step - loss: 0.7150 - accuracy: 0.6135 - val_loss: 0.6851 - val_accuracy: 0.6701\n",
            "Epoch 21/100\n",
            "978/978 [==============================] - 1s 1ms/step - loss: 0.6765 - accuracy: 0.6606 - val_loss: 0.6678 - val_accuracy: 0.6674\n",
            "Epoch 22/100\n",
            "978/978 [==============================] - 1s 1ms/step - loss: 0.6903 - accuracy: 0.6782 - val_loss: 0.6822 - val_accuracy: 0.7199\n",
            "Epoch 23/100\n",
            "978/978 [==============================] - 1s 1ms/step - loss: 0.6786 - accuracy: 0.7111 - val_loss: 0.6742 - val_accuracy: 0.6975\n",
            "Epoch 24/100\n",
            "978/978 [==============================] - 1s 1ms/step - loss: 0.6603 - accuracy: 0.6809 - val_loss: 0.6329 - val_accuracy: 0.7191\n",
            "Epoch 25/100\n",
            "978/978 [==============================] - 1s 1ms/step - loss: 0.6444 - accuracy: 0.6974 - val_loss: 0.6364 - val_accuracy: 0.7035\n",
            "Epoch 26/100\n",
            "978/978 [==============================] - 1s 1ms/step - loss: 0.6447 - accuracy: 0.7050 - val_loss: 0.6326 - val_accuracy: 0.7117\n",
            "Epoch 27/100\n",
            "978/978 [==============================] - 1s 1ms/step - loss: 0.6391 - accuracy: 0.7119 - val_loss: 0.6734 - val_accuracy: 0.6646\n",
            "Epoch 28/100\n",
            "978/978 [==============================] - 1s 1ms/step - loss: 0.6702 - accuracy: 0.6900 - val_loss: 0.6301 - val_accuracy: 0.6983\n",
            "Epoch 29/100\n",
            "978/978 [==============================] - 1s 1ms/step - loss: 0.6431 - accuracy: 0.7008 - val_loss: 0.6495 - val_accuracy: 0.6917\n",
            "Epoch 30/100\n",
            "978/978 [==============================] - 1s 1ms/step - loss: 0.6283 - accuracy: 0.7038 - val_loss: 0.6145 - val_accuracy: 0.7264\n",
            "Epoch 31/100\n",
            "978/978 [==============================] - 1s 1ms/step - loss: 0.6335 - accuracy: 0.6856 - val_loss: 0.6743 - val_accuracy: 0.6732\n",
            "Epoch 32/100\n",
            "978/978 [==============================] - 1s 1ms/step - loss: 0.6667 - accuracy: 0.7208 - val_loss: 0.6653 - val_accuracy: 0.6671\n",
            "Epoch 33/100\n",
            "978/978 [==============================] - 1s 1ms/step - loss: 0.6586 - accuracy: 0.6795 - val_loss: 0.6456 - val_accuracy: 0.7411\n",
            "Epoch 34/100\n",
            "978/978 [==============================] - 1s 1ms/step - loss: 0.6505 - accuracy: 0.7112 - val_loss: 0.6413 - val_accuracy: 0.7213\n",
            "Epoch 35/100\n",
            "978/978 [==============================] - 1s 1ms/step - loss: 0.6434 - accuracy: 0.7041 - val_loss: 0.6682 - val_accuracy: 0.6181\n",
            "Epoch 36/100\n",
            "978/978 [==============================] - 1s 1ms/step - loss: 0.6539 - accuracy: 0.6745 - val_loss: 0.6622 - val_accuracy: 0.6321\n",
            "Epoch 37/100\n",
            "978/978 [==============================] - 1s 1ms/step - loss: 0.6513 - accuracy: 0.6762 - val_loss: 0.6755 - val_accuracy: 0.6271\n",
            "Epoch 38/100\n",
            "978/978 [==============================] - 1s 1ms/step - loss: 0.6699 - accuracy: 0.6693 - val_loss: 0.7395 - val_accuracy: 0.5550\n",
            "Epoch 39/100\n",
            "978/978 [==============================] - 1s 1ms/step - loss: 0.7391 - accuracy: 0.5895 - val_loss: 0.7145 - val_accuracy: 0.6136\n",
            "Epoch 40/100\n",
            "978/978 [==============================] - 1s 1ms/step - loss: 0.7085 - accuracy: 0.5944 - val_loss: 0.7024 - val_accuracy: 0.5895\n",
            "Epoch 41/100\n",
            "978/978 [==============================] - 1s 1ms/step - loss: 0.7133 - accuracy: 0.5720 - val_loss: 0.6728 - val_accuracy: 0.7334\n",
            "Epoch 42/100\n",
            "978/978 [==============================] - 1s 1ms/step - loss: 0.7067 - accuracy: 0.6092 - val_loss: 0.6540 - val_accuracy: 0.6764\n",
            "Epoch 43/100\n",
            "978/978 [==============================] - 1s 1ms/step - loss: 0.6751 - accuracy: 0.6959 - val_loss: 0.6662 - val_accuracy: 0.6911\n",
            "Epoch 44/100\n",
            "978/978 [==============================] - 1s 1ms/step - loss: 0.6624 - accuracy: 0.6683 - val_loss: 0.6307 - val_accuracy: 0.7142\n",
            "Epoch 45/100\n",
            "978/978 [==============================] - 1s 1ms/step - loss: 0.6605 - accuracy: 0.7196 - val_loss: 0.6780 - val_accuracy: 0.7512\n",
            "Epoch 46/100\n",
            "978/978 [==============================] - 1s 1ms/step - loss: 0.6668 - accuracy: 0.7403 - val_loss: 0.7644 - val_accuracy: 0.6846\n",
            "Epoch 47/100\n",
            "978/978 [==============================] - 1s 1ms/step - loss: 0.6879 - accuracy: 0.7083 - val_loss: 0.6645 - val_accuracy: 0.6417\n",
            "Epoch 48/100\n",
            "978/978 [==============================] - 1s 1ms/step - loss: 0.6534 - accuracy: 0.7138 - val_loss: 0.6625 - val_accuracy: 0.6612\n",
            "Epoch 49/100\n",
            "978/978 [==============================] - 1s 1ms/step - loss: 0.6500 - accuracy: 0.7103 - val_loss: 0.6679 - val_accuracy: 0.6188\n",
            "Epoch 50/100\n",
            "978/978 [==============================] - 1s 1ms/step - loss: 0.6460 - accuracy: 0.6823 - val_loss: 0.6386 - val_accuracy: 0.7270\n",
            "Epoch 51/100\n",
            "978/978 [==============================] - 1s 1ms/step - loss: 0.6641 - accuracy: 0.6770 - val_loss: 0.6461 - val_accuracy: 0.7187\n",
            "Epoch 52/100\n",
            "978/978 [==============================] - 1s 1ms/step - loss: 0.6518 - accuracy: 0.7328 - val_loss: 0.6394 - val_accuracy: 0.7227\n",
            "Epoch 53/100\n",
            "978/978 [==============================] - 1s 1ms/step - loss: 0.6250 - accuracy: 0.7133 - val_loss: 0.6341 - val_accuracy: 0.6598\n",
            "Epoch 54/100\n",
            "978/978 [==============================] - 1s 1ms/step - loss: 0.6204 - accuracy: 0.7093 - val_loss: 0.6827 - val_accuracy: 0.6151\n",
            "Epoch 55/100\n",
            "978/978 [==============================] - 1s 1ms/step - loss: 0.6203 - accuracy: 0.7019 - val_loss: 0.5873 - val_accuracy: 0.7438\n",
            "Epoch 56/100\n",
            "978/978 [==============================] - 1s 1ms/step - loss: 0.6209 - accuracy: 0.7378 - val_loss: 0.5896 - val_accuracy: 0.7543\n",
            "Epoch 57/100\n",
            "978/978 [==============================] - 1s 1ms/step - loss: 0.6195 - accuracy: 0.7166 - val_loss: 0.5854 - val_accuracy: 0.7585\n",
            "Epoch 58/100\n",
            "978/978 [==============================] - 1s 1ms/step - loss: 0.6075 - accuracy: 0.7120 - val_loss: 0.6450 - val_accuracy: 0.5975\n",
            "Epoch 59/100\n",
            "978/978 [==============================] - 1s 1ms/step - loss: 0.6359 - accuracy: 0.6684 - val_loss: 0.6606 - val_accuracy: 0.7383\n",
            "Epoch 60/100\n",
            "978/978 [==============================] - 1s 1ms/step - loss: 0.6492 - accuracy: 0.7149 - val_loss: 0.6357 - val_accuracy: 0.6444\n",
            "Epoch 61/100\n",
            "978/978 [==============================] - 1s 1ms/step - loss: 0.6428 - accuracy: 0.6554 - val_loss: 0.6281 - val_accuracy: 0.7053\n",
            "Epoch 62/100\n",
            "978/978 [==============================] - 1s 1ms/step - loss: 0.6349 - accuracy: 0.6771 - val_loss: 0.6489 - val_accuracy: 0.6541\n",
            "Epoch 63/100\n",
            "978/978 [==============================] - 1s 1ms/step - loss: 0.6337 - accuracy: 0.6867 - val_loss: 0.6463 - val_accuracy: 0.6841\n",
            "Epoch 64/100\n",
            "978/978 [==============================] - 1s 1ms/step - loss: 0.6330 - accuracy: 0.7019 - val_loss: 0.6554 - val_accuracy: 0.6474\n",
            "Epoch 65/100\n",
            "978/978 [==============================] - 1s 1ms/step - loss: 0.6382 - accuracy: 0.6694 - val_loss: 0.6290 - val_accuracy: 0.7021\n",
            "Epoch 66/100\n",
            "978/978 [==============================] - 1s 1ms/step - loss: 0.6290 - accuracy: 0.6894 - val_loss: 0.6330 - val_accuracy: 0.7265\n",
            "Epoch 67/100\n",
            "978/978 [==============================] - 1s 1ms/step - loss: 0.6587 - accuracy: 0.6689 - val_loss: 0.6176 - val_accuracy: 0.7268\n",
            "Epoch 68/100\n",
            "978/978 [==============================] - 1s 1ms/step - loss: 0.6411 - accuracy: 0.6787 - val_loss: 0.6290 - val_accuracy: 0.6720\n",
            "Epoch 69/100\n",
            "978/978 [==============================] - 1s 1ms/step - loss: 0.6185 - accuracy: 0.7179 - val_loss: 0.6291 - val_accuracy: 0.6839\n",
            "Epoch 70/100\n",
            "978/978 [==============================] - 1s 1ms/step - loss: 0.6274 - accuracy: 0.6965 - val_loss: 0.6189 - val_accuracy: 0.7189\n",
            "Epoch 71/100\n",
            "978/978 [==============================] - 1s 1ms/step - loss: 0.6253 - accuracy: 0.7120 - val_loss: 0.6264 - val_accuracy: 0.7134\n",
            "Epoch 72/100\n",
            "978/978 [==============================] - 1s 1ms/step - loss: 0.6392 - accuracy: 0.6768 - val_loss: 0.6755 - val_accuracy: 0.6055\n",
            "Epoch 73/100\n",
            "978/978 [==============================] - 1s 1ms/step - loss: 0.6827 - accuracy: 0.5995 - val_loss: 0.6297 - val_accuracy: 0.6859\n",
            "Epoch 74/100\n",
            "978/978 [==============================] - 1s 1ms/step - loss: 0.6162 - accuracy: 0.7069 - val_loss: 0.6262 - val_accuracy: 0.7082\n",
            "Epoch 75/100\n",
            "978/978 [==============================] - 1s 1ms/step - loss: 0.6218 - accuracy: 0.7456 - val_loss: 0.6287 - val_accuracy: 0.7114\n",
            "Epoch 76/100\n",
            "978/978 [==============================] - 1s 1ms/step - loss: 0.6373 - accuracy: 0.6959 - val_loss: 0.6322 - val_accuracy: 0.7244\n",
            "Epoch 77/100\n",
            "978/978 [==============================] - 1s 1ms/step - loss: 0.6111 - accuracy: 0.7250 - val_loss: 0.6327 - val_accuracy: 0.6765\n",
            "Epoch 78/100\n",
            "978/978 [==============================] - 1s 1ms/step - loss: 0.6241 - accuracy: 0.7015 - val_loss: 0.6451 - val_accuracy: 0.6435\n",
            "Epoch 79/100\n",
            "978/978 [==============================] - 1s 1ms/step - loss: 0.6451 - accuracy: 0.6473 - val_loss: 0.6171 - val_accuracy: 0.6870\n",
            "Epoch 80/100\n",
            "978/978 [==============================] - 1s 1ms/step - loss: 0.6222 - accuracy: 0.6984 - val_loss: 0.6673 - val_accuracy: 0.6090\n",
            "Epoch 81/100\n",
            "978/978 [==============================] - 1s 1ms/step - loss: 0.6591 - accuracy: 0.6522 - val_loss: 0.6627 - val_accuracy: 0.7580\n",
            "Epoch 82/100\n",
            "978/978 [==============================] - 1s 1ms/step - loss: 0.6606 - accuracy: 0.7580 - val_loss: 0.6583 - val_accuracy: 0.6970\n",
            "Epoch 83/100\n",
            "978/978 [==============================] - 1s 1ms/step - loss: 0.6324 - accuracy: 0.7353 - val_loss: 0.6359 - val_accuracy: 0.6802\n",
            "Epoch 84/100\n",
            "978/978 [==============================] - 1s 1ms/step - loss: 0.6223 - accuracy: 0.7420 - val_loss: 0.6514 - val_accuracy: 0.7512\n",
            "Epoch 85/100\n",
            "978/978 [==============================] - 1s 1ms/step - loss: 0.6519 - accuracy: 0.7427 - val_loss: 0.6161 - val_accuracy: 0.7635\n",
            "Epoch 86/100\n",
            "978/978 [==============================] - 1s 1ms/step - loss: 0.6175 - accuracy: 0.7523 - val_loss: 0.6532 - val_accuracy: 0.6476\n",
            "Epoch 87/100\n",
            "978/978 [==============================] - 1s 1ms/step - loss: 0.6310 - accuracy: 0.6976 - val_loss: 0.6242 - val_accuracy: 0.7719\n",
            "Epoch 88/100\n",
            "978/978 [==============================] - 1s 1ms/step - loss: 0.6272 - accuracy: 0.7285 - val_loss: 0.6101 - val_accuracy: 0.7616\n",
            "Epoch 89/100\n",
            "978/978 [==============================] - 1s 1ms/step - loss: 0.6204 - accuracy: 0.7380 - val_loss: 0.6066 - val_accuracy: 0.7200\n",
            "Epoch 90/100\n",
            "978/978 [==============================] - 1s 1ms/step - loss: 0.6020 - accuracy: 0.7190 - val_loss: 0.6102 - val_accuracy: 0.7208\n",
            "Epoch 91/100\n",
            "978/978 [==============================] - 1s 1ms/step - loss: 0.6096 - accuracy: 0.7160 - val_loss: 0.5989 - val_accuracy: 0.7377\n",
            "Epoch 92/100\n",
            "978/978 [==============================] - 1s 1ms/step - loss: 0.6161 - accuracy: 0.7271 - val_loss: 0.6197 - val_accuracy: 0.6572\n",
            "Epoch 93/100\n",
            "978/978 [==============================] - 1s 1ms/step - loss: 0.6273 - accuracy: 0.6602 - val_loss: 0.6155 - val_accuracy: 0.6635\n",
            "Epoch 94/100\n",
            "978/978 [==============================] - 1s 1ms/step - loss: 0.6121 - accuracy: 0.7148 - val_loss: 0.7249 - val_accuracy: 0.6723\n",
            "Epoch 95/100\n",
            "978/978 [==============================] - 1s 1ms/step - loss: 0.6475 - accuracy: 0.7026 - val_loss: 0.6257 - val_accuracy: 0.6456\n",
            "Epoch 96/100\n",
            "978/978 [==============================] - 1s 1ms/step - loss: 0.6331 - accuracy: 0.6604 - val_loss: 0.6226 - val_accuracy: 0.7787\n",
            "Epoch 97/100\n",
            "978/978 [==============================] - 1s 1ms/step - loss: 0.6125 - accuracy: 0.7512 - val_loss: 0.6387 - val_accuracy: 0.7504\n",
            "Epoch 98/100\n",
            "978/978 [==============================] - 1s 1ms/step - loss: 0.5871 - accuracy: 0.7700 - val_loss: 0.6262 - val_accuracy: 0.7282\n",
            "Epoch 99/100\n",
            "978/978 [==============================] - 1s 1ms/step - loss: 0.6081 - accuracy: 0.7380 - val_loss: 0.6376 - val_accuracy: 0.6375\n",
            "Epoch 100/100\n",
            "978/978 [==============================] - 1s 1ms/step - loss: 0.6113 - accuracy: 0.7023 - val_loss: 0.5959 - val_accuracy: 0.7682\n"
          ],
          "name": "stdout"
        }
      ]
    },
    {
      "cell_type": "code",
      "metadata": {
        "id": "eDpCdKveHYWi"
      },
      "source": [
        "y_test_class = np.argmax(y_test,axis=1)\n",
        "y_pred_class = np.argmax(y_pred,axis=1)"
      ],
      "execution_count": null,
      "outputs": []
    },
    {
      "cell_type": "code",
      "metadata": {
        "colab": {
          "base_uri": "https://localhost:8080/"
        },
        "id": "LsveEscxJm6r",
        "outputId": "8b7daa7c-2310-4815-b242-6fb032d47c03"
      },
      "source": [
        "#from sklearn.metrics import classification_report,confusion_matrix\n",
        "from sklearn.metrics import classification_report, confusion_matrix, accuracy_score\n",
        "print(classification_report(y_test_class,y_pred_class))\n",
        "print(confusion_matrix(y_test_class,y_pred_class))\n",
        "\n",
        "\n"
      ],
      "execution_count": null,
      "outputs": [
        {
          "output_type": "stream",
          "text": [
            "              precision    recall  f1-score   support\n",
            "\n",
            "           0       0.79      0.85      0.82      3251\n",
            "           1       0.83      0.71      0.77      6527\n",
            "           2       0.70      0.85      0.77      3252\n",
            "\n",
            "    accuracy                           0.78     13030\n",
            "   macro avg       0.77      0.80      0.78     13030\n",
            "weighted avg       0.79      0.78      0.78     13030\n",
            "\n",
            "[[2762  470   19]\n",
            " [ 730 4646 1151]\n",
            " [  15  470 2767]]\n"
          ],
          "name": "stdout"
        }
      ]
    },
    {
      "cell_type": "code",
      "metadata": {
        "colab": {
          "base_uri": "https://localhost:8080/"
        },
        "id": "8hBXFfpfNES1",
        "outputId": "fb40000c-4022-42b4-9ac6-e8a1a16f50d5"
      },
      "source": [
        "import seaborn as sns\n",
        "import pandas as pd\n",
        "import datetime \n",
        "import calendar\n",
        "import matplotlib.pyplot as plt\n",
        "import numpy as np\n",
        "import scipy.stats as stats\n",
        " \n",
        "from sklearn.model_selection import train_test_split\n",
        "from sklearn.linear_model import LogisticRegression\n",
        "from sklearn import metrics\n",
        "from sklearn.metrics import roc_curve, auc\n",
        "from sklearn.metrics import roc_auc_score\n",
        "\n",
        "from sklearn import model_selection\n",
        "from sklearn import linear_model\n",
        "from sklearn import metrics\n",
        " \n",
        "\n",
        "# Model accuracy\n",
        "print(\"\\n\")\n",
        "print(\"Normal Predictor Values ===============================\")\n",
        "#print(\"model score: %.3f\" % model.score(X_test, y_test))\n",
        "print(\"Accuracy:\",metrics.accuracy_score(y_test_class,y_pred_class))\n",
        "print(\"Precision:\",metrics.precision_score(y_test_class,y_pred_class, average='weighted'))\n",
        "print(\"Recall:\",metrics.recall_score(y_test_class,y_pred_class, average='weighted'))\n",
        "print(\"F1 Score:\",metrics.f1_score(y_test_class,y_pred_class, average='weighted'))\n",
        "print(\"\\n\")"
      ],
      "execution_count": null,
      "outputs": [
        {
          "output_type": "stream",
          "text": [
            "\n",
            "\n",
            "Normal Predictor Values ===============================\n",
            "Accuracy: 0.7808902532617038\n",
            "Precision: 0.7885342997192001\n",
            "Recall: 0.7808902532617038\n",
            "F1 Score: 0.7803258334479013\n",
            "\n",
            "\n"
          ],
          "name": "stdout"
        }
      ]
    },
    {
      "cell_type": "code",
      "metadata": {
        "id": "tiBYaKv4Jq9O",
        "colab": {
          "base_uri": "https://localhost:8080/",
          "height": 573
        },
        "outputId": "4bc0b0d0-23ca-4393-d87d-acfa4dbd34b8"
      },
      "source": [
        " # summarize history for accuracy\n",
        "plt.plot(history.history['accuracy'])\n",
        "plt.plot(history.history['val_accuracy'])\n",
        "plt.title('model accuracy')\n",
        "plt.ylabel('accuracy')\n",
        "plt.xlabel('epoch')\n",
        "plt.legend(['train', 'test'], loc='upper left')\n",
        "plt.show()\n",
        "\n",
        "# summarize history for loss\n",
        "plt.plot(history.history['loss'])\n",
        "plt.plot(history.history['val_loss'])\n",
        "plt.title('model loss')\n",
        "plt.ylabel('loss')\n",
        "plt.xlabel('epoch')\n",
        "plt.legend(['train', 'test'], loc='upper left')\n",
        "plt.show()\n"
      ],
      "execution_count": null,
      "outputs": [
        {
          "output_type": "display_data",
          "data": {
            "image/png": "[encoded data removed]",
            "text/plain": [
              "<Figure size 432x288 with 1 Axes>"
            ]
          },
          "metadata": {
            "tags": [],
            "needs_background": "light"
          }
        },
        {
          "output_type": "display_data",
          "data": {
            "image/png": "[encoded data removed]",
            "text/plain": [
              "<Figure size 432x288 with 1 Axes>"
            ]
          },
          "metadata": {
            "tags": [],
            "needs_background": "light"
          }
        }
      ]
    },
    {
      "cell_type": "code",
      "metadata": {
        "colab": {
          "base_uri": "https://localhost:8080/"
        },
        "id": "spmz1CGOJzFF",
        "outputId": "b3ae9c03-e71e-4ee3-d4fb-596e5da57ff3"
      },
      "source": [
        "from keras.models import Sequential\n",
        "from keras.layers import Dense\n",
        "from keras.optimizers import SGD, RMSprop, Adam\n",
        "\n",
        "\n",
        "model = Sequential()\n",
        "\n",
        "model.add(Dense(20,input_shape=(10,),activation='tanh'))\n",
        "model.add(Dense(8,activation='tanh'))\n",
        "model.add(Dense(6,activation='tanh'))\n",
        "model.add(Dense(3,activation='softmax'))\n",
        "\n",
        "model.compile(RMSprop(lr=0.004),'categorical_crossentropy',metrics=['accuracy'])\n",
        "\n",
        "model.summary()"
      ],
      "execution_count": null,
      "outputs": [
        {
          "output_type": "stream",
          "text": [
            "Model: \"sequential_2\"\n",
            "_________________________________________________________________\n",
            "Layer (type)                 Output Shape              Param #   \n",
            "=================================================================\n",
            "dense_8 (Dense)              (None, 20)                220       \n",
            "_________________________________________________________________\n",
            "dense_9 (Dense)              (None, 8)                 168       \n",
            "_________________________________________________________________\n",
            "dense_10 (Dense)             (None, 6)                 54        \n",
            "_________________________________________________________________\n",
            "dense_11 (Dense)             (None, 3)                 21        \n",
            "=================================================================\n",
            "Total params: 463\n",
            "Trainable params: 463\n",
            "Non-trainable params: 0\n",
            "_________________________________________________________________\n"
          ],
          "name": "stdout"
        }
      ]
    },
    {
      "cell_type": "code",
      "metadata": {
        "colab": {
          "base_uri": "https://localhost:8080/"
        },
        "id": "m7iEnwlnJ82y",
        "outputId": "a11aef18-848e-4ed7-ae04-7e72c1edcd86"
      },
      "source": [
        "history = model.fit(X_train,y_train,batch_size=100, epochs=100,verbose=1, validation_split=0.20)\n",
        "y_pred = model.predict(X_test)\n"
      ],
      "execution_count": null,
      "outputs": [
        {
          "output_type": "stream",
          "text": [
            "Epoch 1/100\n",
            "313/313 [==============================] - 1s 2ms/step - loss: 0.7667 - accuracy: 0.6528 - val_loss: 0.5504 - val_accuracy: 0.7751\n",
            "Epoch 2/100\n",
            "313/313 [==============================] - 0s 1ms/step - loss: 0.5450 - accuracy: 0.7622 - val_loss: 0.5189 - val_accuracy: 0.7629\n",
            "Epoch 3/100\n",
            "313/313 [==============================] - 0s 1ms/step - loss: 0.5075 - accuracy: 0.7780 - val_loss: 0.4873 - val_accuracy: 0.8003\n",
            "Epoch 4/100\n",
            "313/313 [==============================] - 0s 1ms/step - loss: 0.4847 - accuracy: 0.7967 - val_loss: 0.5475 - val_accuracy: 0.7673\n",
            "Epoch 5/100\n",
            "313/313 [==============================] - 0s 1ms/step - loss: 0.4886 - accuracy: 0.7964 - val_loss: 0.4275 - val_accuracy: 0.8222\n",
            "Epoch 6/100\n",
            "313/313 [==============================] - 0s 1ms/step - loss: 0.4418 - accuracy: 0.8110 - val_loss: 0.4328 - val_accuracy: 0.8162\n",
            "Epoch 7/100\n",
            "313/313 [==============================] - 0s 1ms/step - loss: 0.4438 - accuracy: 0.8030 - val_loss: 0.4264 - val_accuracy: 0.8150\n",
            "Epoch 8/100\n",
            "313/313 [==============================] - 0s 1ms/step - loss: 0.4346 - accuracy: 0.8171 - val_loss: 0.4190 - val_accuracy: 0.8299\n",
            "Epoch 9/100\n",
            "313/313 [==============================] - 0s 1ms/step - loss: 0.4291 - accuracy: 0.8221 - val_loss: 0.4570 - val_accuracy: 0.8104\n",
            "Epoch 10/100\n",
            "313/313 [==============================] - 0s 1ms/step - loss: 0.4307 - accuracy: 0.8194 - val_loss: 0.4377 - val_accuracy: 0.8207\n",
            "Epoch 11/100\n",
            "313/313 [==============================] - 0s 1ms/step - loss: 0.4284 - accuracy: 0.8206 - val_loss: 0.4358 - val_accuracy: 0.8093\n",
            "Epoch 12/100\n",
            "313/313 [==============================] - 0s 1ms/step - loss: 0.4329 - accuracy: 0.8208 - val_loss: 0.4224 - val_accuracy: 0.8078\n",
            "Epoch 13/100\n",
            "313/313 [==============================] - 0s 1ms/step - loss: 0.4231 - accuracy: 0.8265 - val_loss: 0.4300 - val_accuracy: 0.8130\n",
            "Epoch 14/100\n",
            "313/313 [==============================] - 0s 1ms/step - loss: 0.4167 - accuracy: 0.8267 - val_loss: 0.4247 - val_accuracy: 0.8290\n",
            "Epoch 15/100\n",
            "313/313 [==============================] - 0s 1ms/step - loss: 0.4168 - accuracy: 0.8305 - val_loss: 0.4396 - val_accuracy: 0.7988\n",
            "Epoch 16/100\n",
            "313/313 [==============================] - 0s 1ms/step - loss: 0.4137 - accuracy: 0.8289 - val_loss: 0.4310 - val_accuracy: 0.8408\n",
            "Epoch 17/100\n",
            "313/313 [==============================] - 0s 1ms/step - loss: 0.4241 - accuracy: 0.8252 - val_loss: 0.4420 - val_accuracy: 0.8156\n",
            "Epoch 18/100\n",
            "313/313 [==============================] - 0s 2ms/step - loss: 0.4193 - accuracy: 0.8219 - val_loss: 0.4091 - val_accuracy: 0.8198\n",
            "Epoch 19/100\n",
            "313/313 [==============================] - 0s 1ms/step - loss: 0.4170 - accuracy: 0.8215 - val_loss: 0.4155 - val_accuracy: 0.8198\n",
            "Epoch 20/100\n",
            "313/313 [==============================] - 0s 1ms/step - loss: 0.4160 - accuracy: 0.8274 - val_loss: 0.4468 - val_accuracy: 0.8158\n",
            "Epoch 21/100\n",
            "313/313 [==============================] - 0s 1ms/step - loss: 0.4263 - accuracy: 0.8228 - val_loss: 0.4155 - val_accuracy: 0.8145\n",
            "Epoch 22/100\n",
            "313/313 [==============================] - 0s 1ms/step - loss: 0.4263 - accuracy: 0.8199 - val_loss: 0.4856 - val_accuracy: 0.7952\n",
            "Epoch 23/100\n",
            "313/313 [==============================] - 0s 1ms/step - loss: 0.4267 - accuracy: 0.8240 - val_loss: 0.4393 - val_accuracy: 0.8058\n",
            "Epoch 24/100\n",
            "313/313 [==============================] - 0s 1ms/step - loss: 0.4135 - accuracy: 0.8292 - val_loss: 0.4125 - val_accuracy: 0.8354\n",
            "Epoch 25/100\n",
            "313/313 [==============================] - 0s 1ms/step - loss: 0.4185 - accuracy: 0.8236 - val_loss: 0.4212 - val_accuracy: 0.8228\n",
            "Epoch 26/100\n",
            "313/313 [==============================] - 0s 1ms/step - loss: 0.4085 - accuracy: 0.8349 - val_loss: 0.4034 - val_accuracy: 0.8257\n",
            "Epoch 27/100\n",
            "313/313 [==============================] - 0s 1ms/step - loss: 0.4039 - accuracy: 0.8282 - val_loss: 0.4096 - val_accuracy: 0.8268\n",
            "Epoch 28/100\n",
            "313/313 [==============================] - 0s 2ms/step - loss: 0.4031 - accuracy: 0.8307 - val_loss: 0.4116 - val_accuracy: 0.8175\n",
            "Epoch 29/100\n",
            "313/313 [==============================] - 0s 1ms/step - loss: 0.4167 - accuracy: 0.8314 - val_loss: 0.4096 - val_accuracy: 0.8376\n",
            "Epoch 30/100\n",
            "313/313 [==============================] - 0s 1ms/step - loss: 0.4045 - accuracy: 0.8329 - val_loss: 0.4345 - val_accuracy: 0.8161\n",
            "Epoch 31/100\n",
            "313/313 [==============================] - 0s 2ms/step - loss: 0.4161 - accuracy: 0.8205 - val_loss: 0.4306 - val_accuracy: 0.8158\n",
            "Epoch 32/100\n",
            "313/313 [==============================] - 0s 1ms/step - loss: 0.4085 - accuracy: 0.8273 - val_loss: 0.4211 - val_accuracy: 0.8209\n",
            "Epoch 33/100\n",
            "313/313 [==============================] - 0s 1ms/step - loss: 0.4085 - accuracy: 0.8269 - val_loss: 0.4144 - val_accuracy: 0.8354\n",
            "Epoch 34/100\n",
            "313/313 [==============================] - 0s 2ms/step - loss: 0.4065 - accuracy: 0.8301 - val_loss: 0.4292 - val_accuracy: 0.8305\n",
            "Epoch 35/100\n",
            "313/313 [==============================] - 0s 1ms/step - loss: 0.4117 - accuracy: 0.8355 - val_loss: 0.4184 - val_accuracy: 0.8354\n",
            "Epoch 36/100\n",
            "313/313 [==============================] - 0s 1ms/step - loss: 0.4074 - accuracy: 0.8359 - val_loss: 0.4370 - val_accuracy: 0.8226\n",
            "Epoch 37/100\n",
            "313/313 [==============================] - 0s 1ms/step - loss: 0.4123 - accuracy: 0.8304 - val_loss: 0.4250 - val_accuracy: 0.8294\n",
            "Epoch 38/100\n",
            "313/313 [==============================] - 0s 1ms/step - loss: 0.4229 - accuracy: 0.8276 - val_loss: 0.4116 - val_accuracy: 0.8200\n",
            "Epoch 39/100\n",
            "313/313 [==============================] - 0s 1ms/step - loss: 0.4091 - accuracy: 0.8371 - val_loss: 0.4238 - val_accuracy: 0.7948\n",
            "Epoch 40/100\n",
            "313/313 [==============================] - 0s 1ms/step - loss: 0.4119 - accuracy: 0.8289 - val_loss: 0.4263 - val_accuracy: 0.8363\n",
            "Epoch 41/100\n",
            "313/313 [==============================] - 0s 1ms/step - loss: 0.4188 - accuracy: 0.8407 - val_loss: 0.4549 - val_accuracy: 0.8298\n",
            "Epoch 42/100\n",
            "313/313 [==============================] - 0s 1ms/step - loss: 0.4382 - accuracy: 0.8215 - val_loss: 0.4238 - val_accuracy: 0.8170\n",
            "Epoch 43/100\n",
            "313/313 [==============================] - 0s 1ms/step - loss: 0.4129 - accuracy: 0.8306 - val_loss: 0.4214 - val_accuracy: 0.8263\n",
            "Epoch 44/100\n",
            "313/313 [==============================] - 0s 1ms/step - loss: 0.4206 - accuracy: 0.8307 - val_loss: 0.4078 - val_accuracy: 0.8164\n",
            "Epoch 45/100\n",
            "313/313 [==============================] - 0s 1ms/step - loss: 0.4054 - accuracy: 0.8322 - val_loss: 0.4091 - val_accuracy: 0.8286\n",
            "Epoch 46/100\n",
            "313/313 [==============================] - 0s 1ms/step - loss: 0.4038 - accuracy: 0.8356 - val_loss: 0.4028 - val_accuracy: 0.8350\n",
            "Epoch 47/100\n",
            "313/313 [==============================] - 0s 1ms/step - loss: 0.4166 - accuracy: 0.8326 - val_loss: 0.3985 - val_accuracy: 0.8429\n",
            "Epoch 48/100\n",
            "313/313 [==============================] - 0s 1ms/step - loss: 0.4019 - accuracy: 0.8337 - val_loss: 0.4126 - val_accuracy: 0.8353\n",
            "Epoch 49/100\n",
            "313/313 [==============================] - 0s 1ms/step - loss: 0.3944 - accuracy: 0.8337 - val_loss: 0.4176 - val_accuracy: 0.8152\n",
            "Epoch 50/100\n",
            "313/313 [==============================] - 0s 1ms/step - loss: 0.4059 - accuracy: 0.8315 - val_loss: 0.4232 - val_accuracy: 0.8345\n",
            "Epoch 51/100\n",
            "313/313 [==============================] - 0s 1ms/step - loss: 0.4120 - accuracy: 0.8364 - val_loss: 0.4212 - val_accuracy: 0.8186\n",
            "Epoch 52/100\n",
            "313/313 [==============================] - 0s 1ms/step - loss: 0.4032 - accuracy: 0.8297 - val_loss: 0.4177 - val_accuracy: 0.8310\n",
            "Epoch 53/100\n",
            "313/313 [==============================] - 0s 1ms/step - loss: 0.4131 - accuracy: 0.8303 - val_loss: 0.4135 - val_accuracy: 0.8303\n",
            "Epoch 54/100\n",
            "313/313 [==============================] - 0s 1ms/step - loss: 0.3998 - accuracy: 0.8394 - val_loss: 0.4210 - val_accuracy: 0.8227\n",
            "Epoch 55/100\n",
            "313/313 [==============================] - 0s 1ms/step - loss: 0.4133 - accuracy: 0.8324 - val_loss: 0.4107 - val_accuracy: 0.8350\n",
            "Epoch 56/100\n",
            "313/313 [==============================] - 0s 1ms/step - loss: 0.4085 - accuracy: 0.8307 - val_loss: 0.4094 - val_accuracy: 0.8387\n",
            "Epoch 57/100\n",
            "313/313 [==============================] - 0s 1ms/step - loss: 0.4108 - accuracy: 0.8341 - val_loss: 0.4320 - val_accuracy: 0.8286\n",
            "Epoch 58/100\n",
            "313/313 [==============================] - 0s 1ms/step - loss: 0.4165 - accuracy: 0.8298 - val_loss: 0.4030 - val_accuracy: 0.8383\n",
            "Epoch 59/100\n",
            "313/313 [==============================] - 0s 1ms/step - loss: 0.4067 - accuracy: 0.8335 - val_loss: 0.4121 - val_accuracy: 0.8200\n",
            "Epoch 60/100\n",
            "313/313 [==============================] - 0s 1ms/step - loss: 0.4060 - accuracy: 0.8316 - val_loss: 0.4241 - val_accuracy: 0.8332\n",
            "Epoch 61/100\n",
            "313/313 [==============================] - 0s 1ms/step - loss: 0.4016 - accuracy: 0.8292 - val_loss: 0.4055 - val_accuracy: 0.8267\n",
            "Epoch 62/100\n",
            "313/313 [==============================] - 0s 1ms/step - loss: 0.4092 - accuracy: 0.8307 - val_loss: 0.4073 - val_accuracy: 0.8384\n",
            "Epoch 63/100\n",
            "313/313 [==============================] - 0s 1ms/step - loss: 0.4008 - accuracy: 0.8339 - val_loss: 0.4141 - val_accuracy: 0.8368\n",
            "Epoch 64/100\n",
            "313/313 [==============================] - 0s 1ms/step - loss: 0.4005 - accuracy: 0.8374 - val_loss: 0.4051 - val_accuracy: 0.8276\n",
            "Epoch 65/100\n",
            "313/313 [==============================] - 0s 2ms/step - loss: 0.4020 - accuracy: 0.8320 - val_loss: 0.4690 - val_accuracy: 0.8228\n",
            "Epoch 66/100\n",
            "313/313 [==============================] - 0s 1ms/step - loss: 0.4234 - accuracy: 0.8358 - val_loss: 0.4193 - val_accuracy: 0.8240\n",
            "Epoch 67/100\n",
            "313/313 [==============================] - 0s 1ms/step - loss: 0.4029 - accuracy: 0.8328 - val_loss: 0.4163 - val_accuracy: 0.8318\n",
            "Epoch 68/100\n",
            "313/313 [==============================] - 0s 1ms/step - loss: 0.4070 - accuracy: 0.8334 - val_loss: 0.4110 - val_accuracy: 0.8388\n",
            "Epoch 69/100\n",
            "313/313 [==============================] - 0s 1ms/step - loss: 0.4145 - accuracy: 0.8376 - val_loss: 0.4232 - val_accuracy: 0.8117\n",
            "Epoch 70/100\n",
            "313/313 [==============================] - 0s 1ms/step - loss: 0.4192 - accuracy: 0.8312 - val_loss: 0.4296 - val_accuracy: 0.8333\n",
            "Epoch 71/100\n",
            "313/313 [==============================] - 0s 1ms/step - loss: 0.4134 - accuracy: 0.8354 - val_loss: 0.4171 - val_accuracy: 0.8329\n",
            "Epoch 72/100\n",
            "313/313 [==============================] - 0s 1ms/step - loss: 0.4250 - accuracy: 0.8274 - val_loss: 0.4283 - val_accuracy: 0.8349\n",
            "Epoch 73/100\n",
            "313/313 [==============================] - 0s 1ms/step - loss: 0.4202 - accuracy: 0.8300 - val_loss: 0.4348 - val_accuracy: 0.8401\n",
            "Epoch 74/100\n",
            "313/313 [==============================] - 0s 1ms/step - loss: 0.4166 - accuracy: 0.8336 - val_loss: 0.4157 - val_accuracy: 0.8194\n",
            "Epoch 75/100\n",
            "313/313 [==============================] - 0s 1ms/step - loss: 0.4107 - accuracy: 0.8344 - val_loss: 0.4312 - val_accuracy: 0.8312\n",
            "Epoch 76/100\n",
            "313/313 [==============================] - 0s 1ms/step - loss: 0.3988 - accuracy: 0.8320 - val_loss: 0.4098 - val_accuracy: 0.8141\n",
            "Epoch 77/100\n",
            "313/313 [==============================] - 0s 1ms/step - loss: 0.4070 - accuracy: 0.8304 - val_loss: 0.4169 - val_accuracy: 0.8078\n",
            "Epoch 78/100\n",
            "313/313 [==============================] - 0s 1ms/step - loss: 0.4160 - accuracy: 0.8312 - val_loss: 0.4205 - val_accuracy: 0.8379\n",
            "Epoch 79/100\n",
            "313/313 [==============================] - 0s 1ms/step - loss: 0.4159 - accuracy: 0.8313 - val_loss: 0.4189 - val_accuracy: 0.8329\n",
            "Epoch 80/100\n",
            "313/313 [==============================] - 0s 1ms/step - loss: 0.4107 - accuracy: 0.8346 - val_loss: 0.4168 - val_accuracy: 0.8338\n",
            "Epoch 81/100\n",
            "313/313 [==============================] - 0s 1ms/step - loss: 0.4091 - accuracy: 0.8352 - val_loss: 0.4263 - val_accuracy: 0.8298\n",
            "Epoch 82/100\n",
            "313/313 [==============================] - 0s 1ms/step - loss: 0.4182 - accuracy: 0.8323 - val_loss: 0.4268 - val_accuracy: 0.8263\n",
            "Epoch 83/100\n",
            "313/313 [==============================] - 0s 1ms/step - loss: 0.4132 - accuracy: 0.8336 - val_loss: 0.4294 - val_accuracy: 0.8323\n",
            "Epoch 84/100\n",
            "313/313 [==============================] - 0s 1ms/step - loss: 0.4157 - accuracy: 0.8293 - val_loss: 0.4260 - val_accuracy: 0.8346\n",
            "Epoch 85/100\n",
            "313/313 [==============================] - 0s 2ms/step - loss: 0.4079 - accuracy: 0.8353 - val_loss: 0.4144 - val_accuracy: 0.8298\n",
            "Epoch 86/100\n",
            "313/313 [==============================] - 0s 1ms/step - loss: 0.4206 - accuracy: 0.8363 - val_loss: 0.4439 - val_accuracy: 0.8309\n",
            "Epoch 87/100\n",
            "313/313 [==============================] - 0s 1ms/step - loss: 0.4269 - accuracy: 0.8340 - val_loss: 0.4249 - val_accuracy: 0.8237\n",
            "Epoch 88/100\n",
            "313/313 [==============================] - 0s 1ms/step - loss: 0.4139 - accuracy: 0.8357 - val_loss: 0.4156 - val_accuracy: 0.8353\n",
            "Epoch 89/100\n",
            "313/313 [==============================] - 0s 2ms/step - loss: 0.4176 - accuracy: 0.8334 - val_loss: 0.4229 - val_accuracy: 0.8329\n",
            "Epoch 90/100\n",
            "313/313 [==============================] - 0s 2ms/step - loss: 0.4134 - accuracy: 0.8285 - val_loss: 0.4141 - val_accuracy: 0.8318\n",
            "Epoch 91/100\n",
            "313/313 [==============================] - 0s 2ms/step - loss: 0.4240 - accuracy: 0.8293 - val_loss: 0.4159 - val_accuracy: 0.8319\n",
            "Epoch 92/100\n",
            "313/313 [==============================] - 0s 1ms/step - loss: 0.4206 - accuracy: 0.8268 - val_loss: 0.4091 - val_accuracy: 0.8323\n",
            "Epoch 93/100\n",
            "313/313 [==============================] - 0s 2ms/step - loss: 0.4078 - accuracy: 0.8336 - val_loss: 0.4114 - val_accuracy: 0.8301\n",
            "Epoch 94/100\n",
            "313/313 [==============================] - 0s 1ms/step - loss: 0.4085 - accuracy: 0.8339 - val_loss: 0.4299 - val_accuracy: 0.8360\n",
            "Epoch 95/100\n",
            "313/313 [==============================] - 0s 1ms/step - loss: 0.4163 - accuracy: 0.8346 - val_loss: 0.4443 - val_accuracy: 0.8285\n",
            "Epoch 96/100\n",
            "313/313 [==============================] - 0s 2ms/step - loss: 0.4119 - accuracy: 0.8321 - val_loss: 0.4179 - val_accuracy: 0.8332\n",
            "Epoch 97/100\n",
            "313/313 [==============================] - 0s 1ms/step - loss: 0.4170 - accuracy: 0.8343 - val_loss: 0.4369 - val_accuracy: 0.8372\n",
            "Epoch 98/100\n",
            "313/313 [==============================] - 0s 1ms/step - loss: 0.4217 - accuracy: 0.8379 - val_loss: 0.4415 - val_accuracy: 0.8318\n",
            "Epoch 99/100\n",
            "313/313 [==============================] - 0s 1ms/step - loss: 0.4094 - accuracy: 0.8368 - val_loss: 0.4234 - val_accuracy: 0.8322\n",
            "Epoch 100/100\n",
            "313/313 [==============================] - 0s 1ms/step - loss: 0.4169 - accuracy: 0.8311 - val_loss: 0.4217 - val_accuracy: 0.8144\n"
          ],
          "name": "stdout"
        }
      ]
    },
    {
      "cell_type": "code",
      "metadata": {
        "id": "9WvWQlddKgwI"
      },
      "source": [
        "y_test_class = np.argmax(y_test,axis=1)\n",
        "y_pred_class = np.argmax(y_pred,axis=1)"
      ],
      "execution_count": null,
      "outputs": []
    },
    {
      "cell_type": "code",
      "metadata": {
        "colab": {
          "base_uri": "https://localhost:8080/"
        },
        "id": "0uGMENbXKlc3",
        "outputId": "b16e3cdf-ce4f-4159-d013-b7f4a2852354"
      },
      "source": [
        "from sklearn.metrics import classification_report,confusion_matrix\n",
        "print(classification_report(y_test_class,y_pred_class))\n",
        "print(confusion_matrix(y_test_class,y_pred_class))"
      ],
      "execution_count": null,
      "outputs": [
        {
          "output_type": "stream",
          "text": [
            "              precision    recall  f1-score   support\n",
            "\n",
            "           0       0.87      0.81      0.84      3251\n",
            "           1       0.86      0.75      0.80      6527\n",
            "           2       0.71      0.94      0.81      3252\n",
            "\n",
            "    accuracy                           0.81     13030\n",
            "   macro avg       0.81      0.84      0.82     13030\n",
            "weighted avg       0.83      0.81      0.81     13030\n",
            "\n",
            "[[2646  592   13]\n",
            " [ 386 4905 1236]\n",
            " [   3  189 3060]]\n"
          ],
          "name": "stdout"
        }
      ]
    },
    {
      "cell_type": "code",
      "metadata": {
        "colab": {
          "base_uri": "https://localhost:8080/"
        },
        "id": "4c_OvKc0L54x",
        "outputId": "6ab3f093-2f3b-4db1-cdfd-606f0486c445"
      },
      "source": [
        "import seaborn as sns\n",
        "import pandas as pd\n",
        "import datetime \n",
        "import calendar\n",
        "import matplotlib.pyplot as plt\n",
        "import numpy as np\n",
        "import scipy.stats as stats\n",
        " \n",
        "from sklearn.model_selection import train_test_split\n",
        "from sklearn.linear_model import LogisticRegression\n",
        "from sklearn import metrics\n",
        "from sklearn.metrics import roc_curve, auc\n",
        "from sklearn.metrics import roc_auc_score\n",
        "\n",
        "from sklearn import model_selection\n",
        "from sklearn import linear_model\n",
        "from sklearn import metrics\n",
        " \n",
        "\n",
        "# Model accuracy\n",
        "print(\"\\n\")\n",
        "print(\"Normal Predictor Values ===============================\")\n",
        "#print(\"model score: %.3f\" % model.score(X_test, y_test))\n",
        "print(\"Accuracy:\",metrics.accuracy_score(y_test_class,y_pred_class))\n",
        "print(\"Precision:\",metrics.precision_score(y_test_class,y_pred_class, average='weighted'))\n",
        "print(\"Recall:\",metrics.recall_score(y_test_class,y_pred_class, average='weighted'))\n",
        "print(\"F1 Score:\",metrics.f1_score(y_test_class,y_pred_class, average='weighted'))\n",
        "print(\"\\n\")"
      ],
      "execution_count": null,
      "outputs": [
        {
          "output_type": "stream",
          "text": [
            "\n",
            "\n",
            "Normal Predictor Values ===============================\n",
            "Accuracy: 0.8143514965464314\n",
            "Precision: 0.8268748949983081\n",
            "Recall: 0.8143514965464314\n",
            "F1 Score: 0.8144212393457094\n",
            "\n",
            "\n"
          ],
          "name": "stdout"
        }
      ]
    },
    {
      "cell_type": "code",
      "metadata": {
        "colab": {
          "base_uri": "https://localhost:8080/",
          "height": 573
        },
        "id": "HaXkTkQfKu6e",
        "outputId": "1f6a5bf4-3d86-4be2-e7a3-4dff7435ed2d"
      },
      "source": [
        "# summarize history for accuracy\n",
        "plt.plot(history.history['accuracy'])\n",
        "plt.plot(history.history['val_accuracy'])\n",
        "plt.title('model accuracy')\n",
        "plt.ylabel('accuracy')\n",
        "plt.xlabel('epoch')\n",
        "plt.legend(['train', 'test'], loc='upper left')\n",
        "plt.show()\n",
        "\n",
        "# summarize history for loss\n",
        "plt.plot(history.history['loss'])\n",
        "plt.plot(history.history['val_loss'])\n",
        "plt.title('model loss')\n",
        "plt.ylabel('loss')\n",
        "plt.xlabel('epoch')\n",
        "plt.legend(['train', 'test'], loc='upper left')\n",
        "plt.show()\n"
      ],
      "execution_count": null,
      "outputs": [
        {
          "output_type": "display_data",
          "data": {
            "image/png": "[encoded data removed]",
            "text/plain": [
              "<Figure size 432x288 with 1 Axes>"
            ]
          },
          "metadata": {
            "tags": [],
            "needs_background": "light"
          }
        },
        {
          "output_type": "display_data",
          "data": {
            "image/png": "[encoded data removed]",
            "text/plain": [
              "<Figure size 432x288 with 1 Axes>"
            ]
          },
          "metadata": {
            "tags": [],
            "needs_background": "light"
          }
        }
      ]
    }
  ]
}