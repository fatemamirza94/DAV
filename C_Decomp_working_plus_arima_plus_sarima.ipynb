{
  "nbformat": 4,
  "nbformat_minor": 0,
  "metadata": {
    "colab": {
      "name": "C - Decomp working plus arima plus sarima.ipynb",
      "provenance": []
    },
    "kernelspec": {
      "display_name": "Python 3",
      "name": "python3"
    }
  },
  "cells": [
    {
      "cell_type": "markdown",
      "metadata": {
        "id": "Kfa4342jQnyN"
      },
      "source": [
        "**APPENDIX C**"
      ]
    },
    {
      "cell_type": "code",
      "metadata": {
        "id": "k2pSd9RnqvI6"
      },
      "source": [
        "import pandas as pd\n",
        "df = pd.read_csv(\"/content/Aotizhongxin - Copy.csv\",parse_dates=['date'])"
      ],
      "execution_count": null,
      "outputs": []
    },
    {
      "cell_type": "code",
      "metadata": {
        "colab": {
          "base_uri": "https://localhost:8080/"
        },
        "id": "C8e25owjtBkL",
        "outputId": "db2b1e58-afa7-41ea-a4e1-9fe511fb8f64"
      },
      "source": [
        "df.info()"
      ],
      "execution_count": null,
      "outputs": [
        {
          "output_type": "stream",
          "text": [
            "<class 'pandas.core.frame.DataFrame'>\n",
            "RangeIndex: 35064 entries, 0 to 35063\n",
            "Data columns (total 2 columns):\n",
            " #   Column  Non-Null Count  Dtype         \n",
            "---  ------  --------------  -----         \n",
            " 0   date    35064 non-null  datetime64[ns]\n",
            " 1   PM2.5   35064 non-null  float64       \n",
            "dtypes: datetime64[ns](1), float64(1)\n",
            "memory usage: 548.0 KB\n"
          ],
          "name": "stdout"
        }
      ]
    },
    {
      "cell_type": "code",
      "metadata": {
        "colab": {
          "base_uri": "https://localhost:8080/"
        },
        "id": "sK7_TYU4rJJT",
        "outputId": "77370190-ee72-411e-cfd2-d8a6870ee760"
      },
      "source": [
        "type(df)"
      ],
      "execution_count": null,
      "outputs": [
        {
          "output_type": "execute_result",
          "data": {
            "text/plain": [
              "pandas.core.frame.DataFrame"
            ]
          },
          "metadata": {
            "tags": []
          },
          "execution_count": 3
        }
      ]
    },
    {
      "cell_type": "code",
      "metadata": {
        "colab": {
          "base_uri": "https://localhost:8080/"
        },
        "id": "CSsDJMscrMjW",
        "outputId": "d6348df4-7e9e-4067-85df-530853da6066"
      },
      "source": [
        "type(df['date'])"
      ],
      "execution_count": null,
      "outputs": [
        {
          "output_type": "execute_result",
          "data": {
            "text/plain": [
              "pandas.core.series.Series"
            ]
          },
          "metadata": {
            "tags": []
          },
          "execution_count": 4
        }
      ]
    },
    {
      "cell_type": "code",
      "metadata": {
        "id": "SCvSm8Wwr4dM"
      },
      "source": [
        "df['date'] = pd.to_datetime(df['date'])"
      ],
      "execution_count": null,
      "outputs": []
    },
    {
      "cell_type": "code",
      "metadata": {
        "colab": {
          "base_uri": "https://localhost:8080/"
        },
        "id": "bEAuPC5NuNwa",
        "outputId": "4e446313-2bba-493d-e299-17321e8d4782"
      },
      "source": [
        " isinstance(df.index, pd.DatetimeIndex) "
      ],
      "execution_count": null,
      "outputs": [
        {
          "output_type": "execute_result",
          "data": {
            "text/plain": [
              "True"
            ]
          },
          "metadata": {
            "tags": []
          },
          "execution_count": 8
        }
      ]
    },
    {
      "cell_type": "code",
      "metadata": {
        "id": "VfFQAp2quoBi"
      },
      "source": [
        "format = '%Y-%m-%d %H:%M:%S'\n",
        "df['date'] = pd.to_datetime(df['date'], format=format)\n",
        "df = df.set_index(pd.DatetimeIndex(df['date']))"
      ],
      "execution_count": null,
      "outputs": []
    },
    {
      "cell_type": "code",
      "metadata": {
        "colab": {
          "base_uri": "https://localhost:8080/",
          "height": 431
        },
        "id": "pT0r7uQkrXuU",
        "outputId": "b394ea74-c4b4-4d2e-8900-a2974cbc1074"
      },
      "source": [
        "df.set_index('date')"
      ],
      "execution_count": null,
      "outputs": [
        {
          "output_type": "execute_result",
          "data": {
            "text/html": [
              "<div>\n",
              "<style scoped>\n",
              "    .dataframe tbody tr th:only-of-type {\n",
              "        vertical-align: middle;\n",
              "    }\n",
              "\n",
              "    .dataframe tbody tr th {\n",
              "        vertical-align: top;\n",
              "    }\n",
              "\n",
              "    .dataframe thead th {\n",
              "        text-align: right;\n",
              "    }\n",
              "</style>\n",
              "<table border=\"1\" class=\"dataframe\">\n",
              "  <thead>\n",
              "    <tr style=\"text-align: right;\">\n",
              "      <th></th>\n",
              "      <th>PM2.5</th>\n",
              "    </tr>\n",
              "    <tr>\n",
              "      <th>date</th>\n",
              "      <th></th>\n",
              "    </tr>\n",
              "  </thead>\n",
              "  <tbody>\n",
              "    <tr>\n",
              "      <th>2013-01-03 00:00:00</th>\n",
              "      <td>4.0</td>\n",
              "    </tr>\n",
              "    <tr>\n",
              "      <th>2013-01-03 01:00:00</th>\n",
              "      <td>8.0</td>\n",
              "    </tr>\n",
              "    <tr>\n",
              "      <th>2013-01-03 02:00:00</th>\n",
              "      <td>7.0</td>\n",
              "    </tr>\n",
              "    <tr>\n",
              "      <th>2013-01-03 03:00:00</th>\n",
              "      <td>6.0</td>\n",
              "    </tr>\n",
              "    <tr>\n",
              "      <th>2013-01-03 04:00:00</th>\n",
              "      <td>3.0</td>\n",
              "    </tr>\n",
              "    <tr>\n",
              "      <th>...</th>\n",
              "      <td>...</td>\n",
              "    </tr>\n",
              "    <tr>\n",
              "      <th>2017-02-28 19:00:00</th>\n",
              "      <td>12.0</td>\n",
              "    </tr>\n",
              "    <tr>\n",
              "      <th>2017-02-28 20:00:00</th>\n",
              "      <td>13.0</td>\n",
              "    </tr>\n",
              "    <tr>\n",
              "      <th>2017-02-28 21:00:00</th>\n",
              "      <td>16.0</td>\n",
              "    </tr>\n",
              "    <tr>\n",
              "      <th>2017-02-28 22:00:00</th>\n",
              "      <td>21.0</td>\n",
              "    </tr>\n",
              "    <tr>\n",
              "      <th>2017-02-28 23:00:00</th>\n",
              "      <td>19.0</td>\n",
              "    </tr>\n",
              "  </tbody>\n",
              "</table>\n",
              "<p>35064 rows × 1 columns</p>\n",
              "</div>"
            ],
            "text/plain": [
              "                     PM2.5\n",
              "date                      \n",
              "2013-01-03 00:00:00    4.0\n",
              "2013-01-03 01:00:00    8.0\n",
              "2013-01-03 02:00:00    7.0\n",
              "2013-01-03 03:00:00    6.0\n",
              "2013-01-03 04:00:00    3.0\n",
              "...                    ...\n",
              "2017-02-28 19:00:00   12.0\n",
              "2017-02-28 20:00:00   13.0\n",
              "2017-02-28 21:00:00   16.0\n",
              "2017-02-28 22:00:00   21.0\n",
              "2017-02-28 23:00:00   19.0\n",
              "\n",
              "[35064 rows x 1 columns]"
            ]
          },
          "metadata": {
            "tags": []
          },
          "execution_count": 9
        }
      ]
    },
    {
      "cell_type": "code",
      "metadata": {
        "id": "fK7BJqYxrnuC"
      },
      "source": [
        "month_average = df['PM2.5'].resample('MS').mean()"
      ],
      "execution_count": null,
      "outputs": []
    },
    {
      "cell_type": "code",
      "metadata": {
        "colab": {
          "base_uri": "https://localhost:8080/",
          "height": 367
        },
        "id": "YY1n2OvUvRe7",
        "outputId": "0535ee38-b9a3-4041-a670-7383d92ba672"
      },
      "source": [
        "import pandas as pd\n",
        "import numpy as np\n",
        "import matplotlib.pyplot as plt\n",
        "import seaborn as sns\n",
        "import statsmodels.api as sm\n",
        "\n",
        "plt.figure(figsize=(20,20))\n",
        "decomposition = sm.tsa.seasonal_decompose(month_average, model='additive')\n",
        "fig = decomposition.plot()\n",
        "plt.show()\n"
      ],
      "execution_count": null,
      "outputs": [
        {
          "output_type": "stream",
          "text": [
            "/usr/local/lib/python3.7/dist-packages/statsmodels/tools/_testing.py:19: FutureWarning: pandas.util.testing is deprecated. Use the functions in the public API at pandas.testing instead.\n",
            "  import pandas.util.testing as tm\n"
          ],
          "name": "stderr"
        },
        {
          "output_type": "display_data",
          "data": {
            "text/plain": [
              "<Figure size 1440x1440 with 0 Axes>"
            ]
          },
          "metadata": {
            "tags": []
          }
        },
        {
          "output_type": "display_data",
          "data": {
            "image/png": "[encoded data removed]",
            "text/plain": [
              "<Figure size 432x288 with 4 Axes>"
            ]
          },
          "metadata": {
            "tags": []
          }
        }
      ]
    },
    {
      "cell_type": "code",
      "metadata": {
        "colab": {
          "base_uri": "https://localhost:8080/"
        },
        "id": "W1Kzd0WH1mq3",
        "outputId": "bf5aed86-1c92-419f-faeb-6fcdcd34fe2a"
      },
      "source": [
        "from   statsmodels.tsa.stattools  import  adfuller\n",
        "result = adfuller(month_average) \n",
        "\n",
        "print('ADF Statistic: %f' % result[0]) \n",
        "print('p-value: %f' % result[1]) \n",
        "#print(result.summary())"
      ],
      "execution_count": null,
      "outputs": [
        {
          "output_type": "stream",
          "text": [
            "ADF Statistic: -3.882722\n",
            "p-value: 0.002166\n"
          ],
          "name": "stdout"
        }
      ]
    },
    {
      "cell_type": "code",
      "metadata": {
        "id": "LTHLzhdxz4K5"
      },
      "source": [
        "from statsmodels.tsa.arima_model import ARIMA\n",
        "model = ARIMA(month_average, order=(0,1,1))\n",
        "results = model.fit(disp=-1)"
      ],
      "execution_count": null,
      "outputs": []
    },
    {
      "cell_type": "code",
      "metadata": {
        "id": "AoZylAMg0tLt"
      },
      "source": [
        "predictions_ARIMA_diff = pd.Series(results.fittedvalues, copy=True)\n",
        "predictions_ARIMA_diff_cumsum = predictions_ARIMA_diff.cumsum()\n",
        "predictions_ARIMA_log = pd.Series(df['PM2.5'].iloc[0], index=df.index)\n",
        "predictions_ARIMA_log = predictions_ARIMA_log.add(predictions_ARIMA_diff_cumsum, fill_value=0)\n",
        "predictions_ARIMA = np.exp(predictions_ARIMA_log)\n"
      ],
      "execution_count": null,
      "outputs": []
    },
    {
      "cell_type": "code",
      "metadata": {
        "colab": {
          "base_uri": "https://localhost:8080/",
          "height": 282
        },
        "id": "PkvxwtE22B5-",
        "outputId": "16277b33-b348-40bd-a82e-02ee2bf0e972"
      },
      "source": [
        "plt.plot(df['date'],df['PM2.5'])"
      ],
      "execution_count": null,
      "outputs": [
        {
          "output_type": "execute_result",
          "data": {
            "text/plain": [
              "[<matplotlib.lines.Line2D at 0x7fa66346f890>]"
            ]
          },
          "metadata": {
            "tags": []
          },
          "execution_count": 71
        },
        {
          "output_type": "display_data",
          "data": {
            "image/png": "[encoded data removed]",
            "text/plain": [
              "<Figure size 432x288 with 1 Axes>"
            ]
          },
          "metadata": {
            "tags": []
          }
        }
      ]
    },
    {
      "cell_type": "code",
      "metadata": {
        "id": "kQqe-wvc3jLd"
      },
      "source": [
        "df.to_csv('check_new.csv')"
      ],
      "execution_count": null,
      "outputs": []
    },
    {
      "cell_type": "code",
      "metadata": {
        "colab": {
          "base_uri": "https://localhost:8080/"
        },
        "id": "TqS35tt532jm",
        "outputId": "c9a8d9c6-0f0d-4186-ecb9-0949368d274e"
      },
      "source": [
        "type(predictions_ARIMA.asfreq('M'))"
      ],
      "execution_count": null,
      "outputs": [
        {
          "output_type": "execute_result",
          "data": {
            "text/plain": [
              "pandas.core.series.Series"
            ]
          },
          "metadata": {
            "tags": []
          },
          "execution_count": 73
        }
      ]
    },
    {
      "cell_type": "code",
      "metadata": {
        "colab": {
          "base_uri": "https://localhost:8080/",
          "height": 282
        },
        "id": "QEpRPIfB4Ifk",
        "outputId": "3ec86fbc-77bd-437e-a9fa-f2accfdb16b0"
      },
      "source": [
        "plt.plot(predictions_ARIMA)"
      ],
      "execution_count": null,
      "outputs": [
        {
          "output_type": "execute_result",
          "data": {
            "text/plain": [
              "[<matplotlib.lines.Line2D at 0x7fa66338d6d0>]"
            ]
          },
          "metadata": {
            "tags": []
          },
          "execution_count": 74
        },
        {
          "output_type": "display_data",
          "data": {
            "image/png": "[encoded data removed]",
            "text/plain": [
              "<Figure size 432x288 with 1 Axes>"
            ]
          },
          "metadata": {
            "tags": []
          }
        }
      ]
    },
    {
      "cell_type": "code",
      "metadata": {
        "colab": {
          "base_uri": "https://localhost:8080/",
          "height": 513
        },
        "id": "ZnATgn_S416c",
        "outputId": "4196580d-f5d5-4be1-b0c1-031e48a7ed5b"
      },
      "source": [
        "results.plot_predict(1,65)"
      ],
      "execution_count": null,
      "outputs": [
        {
          "output_type": "execute_result",
          "data": {
            "image/png": "[encoded data removed]",
            "text/plain": [
              "<Figure size 432x288 with 1 Axes>"
            ]
          },
          "metadata": {
            "tags": []
          },
          "execution_count": 75
        },
        {
          "output_type": "display_data",
          "data": {
            "image/png": "[encoded data removed]",
            "text/plain": [
              "<Figure size 432x288 with 1 Axes>"
            ]
          },
          "metadata": {
            "tags": []
          }
        }
      ]
    },
    {
      "cell_type": "code",
      "metadata": {
        "colab": {
          "base_uri": "https://localhost:8080/",
          "height": 295
        },
        "id": "vQrUdi164yIc",
        "outputId": "fd2f766f-c664-4107-8142-4b2ef0020134"
      },
      "source": [
        "results.summary()"
      ],
      "execution_count": null,
      "outputs": [
        {
          "output_type": "execute_result",
          "data": {
            "text/html": [
              "<table class=\"simpletable\">\n",
              "<caption>ARIMA Model Results</caption>\n",
              "<tr>\n",
              "  <th>Dep. Variable:</th>      <td>D.PM2.5</td>     <th>  No. Observations:  </th>    <td>59</td>   \n",
              "</tr>\n",
              "<tr>\n",
              "  <th>Model:</th>          <td>ARIMA(0, 1, 1)</td>  <th>  Log Likelihood     </th> <td>-303.558</td>\n",
              "</tr>\n",
              "<tr>\n",
              "  <th>Method:</th>             <td>css-mle</td>     <th>  S.D. of innovations</th>  <td>41.474</td> \n",
              "</tr>\n",
              "<tr>\n",
              "  <th>Date:</th>          <td>Wed, 28 Apr 2021</td> <th>  AIC                </th>  <td>613.116</td>\n",
              "</tr>\n",
              "<tr>\n",
              "  <th>Time:</th>              <td>11:12:58</td>     <th>  BIC                </th>  <td>619.348</td>\n",
              "</tr>\n",
              "<tr>\n",
              "  <th>Sample:</th>           <td>02-01-2013</td>    <th>  HQIC               </th>  <td>615.549</td>\n",
              "</tr>\n",
              "<tr>\n",
              "  <th></th>                 <td>- 12-01-2017</td>   <th>                     </th>     <td> </td>   \n",
              "</tr>\n",
              "</table>\n",
              "<table class=\"simpletable\">\n",
              "<tr>\n",
              "        <td></td>           <th>coef</th>     <th>std err</th>      <th>z</th>      <th>P>|z|</th>  <th>[0.025</th>    <th>0.975]</th>  \n",
              "</tr>\n",
              "<tr>\n",
              "  <th>const</th>         <td>   -0.3322</td> <td>    3.606</td> <td>   -0.092</td> <td> 0.927</td> <td>   -7.400</td> <td>    6.736</td>\n",
              "</tr>\n",
              "<tr>\n",
              "  <th>ma.L1.D.PM2.5</th> <td>   -0.3387</td> <td>    0.194</td> <td>   -1.741</td> <td> 0.087</td> <td>   -0.720</td> <td>    0.043</td>\n",
              "</tr>\n",
              "</table>\n",
              "<table class=\"simpletable\">\n",
              "<caption>Roots</caption>\n",
              "<tr>\n",
              "    <td></td>   <th>            Real</th>  <th>         Imaginary</th> <th>         Modulus</th>  <th>        Frequency</th>\n",
              "</tr>\n",
              "<tr>\n",
              "  <th>MA.1</th> <td>           2.9526</td> <td>          +0.0000j</td> <td>           2.9526</td> <td>           0.0000</td>\n",
              "</tr>\n",
              "</table>"
            ],
            "text/plain": [
              "<class 'statsmodels.iolib.summary.Summary'>\n",
              "\"\"\"\n",
              "                             ARIMA Model Results                              \n",
              "==============================================================================\n",
              "Dep. Variable:                D.PM2.5   No. Observations:                   59\n",
              "Model:                 ARIMA(0, 1, 1)   Log Likelihood                -303.558\n",
              "Method:                       css-mle   S.D. of innovations             41.474\n",
              "Date:                Wed, 28 Apr 2021   AIC                            613.116\n",
              "Time:                        11:12:58   BIC                            619.348\n",
              "Sample:                    02-01-2013   HQIC                           615.549\n",
              "                         - 12-01-2017                                         \n",
              "=================================================================================\n",
              "                    coef    std err          z      P>|z|      [0.025      0.975]\n",
              "---------------------------------------------------------------------------------\n",
              "const            -0.3322      3.606     -0.092      0.927      -7.400       6.736\n",
              "ma.L1.D.PM2.5    -0.3387      0.194     -1.741      0.087      -0.720       0.043\n",
              "                                    Roots                                    \n",
              "=============================================================================\n",
              "                  Real          Imaginary           Modulus         Frequency\n",
              "-----------------------------------------------------------------------------\n",
              "MA.1            2.9526           +0.0000j            2.9526            0.0000\n",
              "-----------------------------------------------------------------------------\n",
              "\"\"\""
            ]
          },
          "metadata": {
            "tags": []
          },
          "execution_count": 76
        }
      ]
    },
    {
      "cell_type": "code",
      "metadata": {
        "id": "KYYw8r6BHXrW"
      },
      "source": [
        "qqq = (predictions_ARIMA.asfreq('M'))"
      ],
      "execution_count": null,
      "outputs": []
    },
    {
      "cell_type": "code",
      "metadata": {
        "id": "9lCNcZxFIi8F"
      },
      "source": [
        "www =month_average[0:59]"
      ],
      "execution_count": null,
      "outputs": []
    },
    {
      "cell_type": "code",
      "metadata": {
        "id": "MEVpdrJ6I3zz"
      },
      "source": [
        "qqq = np.nan_to_num(qqq)"
      ],
      "execution_count": null,
      "outputs": []
    },
    {
      "cell_type": "code",
      "metadata": {
        "colab": {
          "base_uri": "https://localhost:8080/"
        },
        "id": "HC-rnKMNIEfa",
        "outputId": "e8ee958c-714b-408d-e1ce-018c86421070"
      },
      "source": [
        "from sklearn import metrics\n",
        "print(metrics.mean_absolute_error(www,qqq))\n",
        "print(metrics.mean_squared_error(www,qqq))\n",
        "print(metrics.mean_squared_error(www,qqq,squared=False))"
      ],
      "execution_count": null,
      "outputs": [
        {
          "output_type": "stream",
          "text": [
            "42.6154315958466\n",
            "4423.687662079496\n",
            "66.51080861092801\n"
          ],
          "name": "stdout"
        }
      ]
    },
    {
      "cell_type": "code",
      "metadata": {
        "colab": {
          "base_uri": "https://localhost:8080/",
          "height": 281
        },
        "id": "_bYGXf7h_B0Z",
        "outputId": "6a4521e9-e926-459a-ffea-9fe63fb3f1eb"
      },
      "source": [
        "\n",
        "from matplotlib import pyplot\n",
        "from statsmodels.graphics.tsaplots import plot_acf\n",
        "plot_acf(df['PM2.5'])\n",
        "pyplot.show()"
      ],
      "execution_count": null,
      "outputs": [
        {
          "output_type": "display_data",
          "data": {
            "image/png": "[encoded data removed]",
            "text/plain": [
              "<Figure size 432x288 with 1 Axes>"
            ]
          },
          "metadata": {
            "tags": []
          }
        }
      ]
    },
    {
      "cell_type": "code",
      "metadata": {
        "colab": {
          "background_save": true
        },
        "id": "8kGKtUU-TmGr"
      },
      "source": [
        " mod = sm.tsa.statespace.SARIMAX(month_average,\n",
        "                                            order=(0,1,2),\n",
        "                                            seasonal_order=(0,1,2,6),\n",
        "                                            enforce_stationarity=False,\n",
        "                                            enforce_invertibility=False)\n",
        "results = mod.fit()"
      ],
      "execution_count": null,
      "outputs": []
    },
    {
      "cell_type": "code",
      "metadata": {
        "colab": {
          "background_save": true,
          "base_uri": "https://localhost:8080/",
          "height": 513
        },
        "id": "ImiAEV41UHgY",
        "outputId": "0cffe1bc-6978-4dd4-e32a-bcb323bfdaf7"
      },
      "source": [
        "results.plot_diagnostics(figsize=(18, 8))\n",
        "plt.show()"
      ],
      "execution_count": null,
      "outputs": [
        {
          "output_type": "display_data",
          "data": {
            "image/png": "[encoded data removed]",
            "text/plain": [
              "<Figure size 1296x576 with 4 Axes>"
            ]
          },
          "metadata": {
            "tags": []
          }
        }
      ]
    },
    {
      "cell_type": "code",
      "metadata": {
        "id": "rxkibCrm1uQe"
      },
      "source": [
        "x = results.predict(1,65)"
      ],
      "execution_count": null,
      "outputs": []
    },
    {
      "cell_type": "code",
      "metadata": {
        "colab": {
          "base_uri": "https://localhost:8080/",
          "height": 295
        },
        "id": "o2O5tCWu3HS8",
        "outputId": "f2fe0dcf-e216-4df2-bb29-8468ae0a2991"
      },
      "source": [
        "plt.plot(x, label = 'Predicted')\n",
        "plt.plot(month_average, label = 'Actual')\n",
        "plt.xlabel('Date')\n",
        "plt.ylabel('Values')\n",
        "plt.title('SARIMA Prediction ')\n",
        "# show a legend on the plot\n",
        "plt.legend()\n",
        "plt.show()"
      ],
      "execution_count": null,
      "outputs": [
        {
          "output_type": "display_data",
          "data": {
            "image/png": "[encoded data removed]",
            "text/plain": [
              "<Figure size 432x288 with 1 Axes>"
            ]
          },
          "metadata": {
            "tags": []
          }
        }
      ]
    },
    {
      "cell_type": "code",
      "metadata": {
        "colab": {
          "base_uri": "https://localhost:8080/"
        },
        "id": "vaS0pqkE_-Hj",
        "outputId": "ed4088fa-bd3e-46d1-988e-cf94dc5ce333"
      },
      "source": [
        "print(results.summary())"
      ],
      "execution_count": null,
      "outputs": [
        {
          "output_type": "stream",
          "text": [
            "                                 Statespace Model Results                                \n",
            "=========================================================================================\n",
            "Dep. Variable:                             PM2.5   No. Observations:                   60\n",
            "Model:             SARIMAX(0, 1, 2)x(0, 1, 2, 2)   Log Likelihood                -256.419\n",
            "Date:                           Wed, 28 Apr 2021   AIC                            522.839\n",
            "Time:                                   12:32:21   BIC                            532.399\n",
            "Sample:                               01-01-2013   HQIC                           526.479\n",
            "                                    - 12-01-2017                                         \n",
            "Covariance Type:                             opg                                         \n",
            "==============================================================================\n",
            "                 coef    std err          z      P>|z|      [0.025      0.975]\n",
            "------------------------------------------------------------------------------\n",
            "ma.L1         -0.2340    589.849     -0.000      1.000   -1156.318    1155.850\n",
            "ma.L2         -0.7660    451.695     -0.002      0.999    -886.071     884.539\n",
            "ma.S.L2       -0.9263   1131.758     -0.001      0.999   -2219.132    2217.279\n",
            "ma.S.L4       -0.0737     83.341     -0.001      0.999    -163.418     163.271\n",
            "sigma2      1313.3684   1.47e+06      0.001      0.999   -2.88e+06    2.88e+06\n",
            "===================================================================================\n",
            "Ljung-Box (Q):                       23.27   Jarque-Bera (JB):                47.63\n",
            "Prob(Q):                              0.98   Prob(JB):                         0.00\n",
            "Heteroskedasticity (H):               5.66   Skew:                             1.25\n",
            "Prob(H) (two-sided):                  0.00   Kurtosis:                         7.07\n",
            "===================================================================================\n",
            "\n",
            "Warnings:\n",
            "[1] Covariance matrix calculated using the outer product of gradients (complex-step).\n"
          ],
          "name": "stdout"
        }
      ]
    },
    {
      "cell_type": "code",
      "metadata": {
        "colab": {
          "base_uri": "https://localhost:8080/"
        },
        "id": "0tEKgNYENg6j",
        "outputId": "24a6d1ff-f5ff-4e94-ed96-d5a59799bc1b"
      },
      "source": [
        "from sklearn import metrics\n",
        "print(metrics.mean_absolute_error(month_average,x))\n",
        "print(metrics.mean_squared_error(month_average,x))\n",
        "print(metrics.mean_squared_error(month_average,x,squared=False))"
      ],
      "execution_count": null,
      "outputs": [
        {
          "output_type": "stream",
          "text": [
            "17.51959012054277\n",
            "607.4214798911852\n",
            "24.645922175710634\n"
          ],
          "name": "stdout"
        }
      ]
    },
    {
      "cell_type": "code",
      "metadata": {
        "id": "qvX9QLyOANyv"
      },
      "source": [
        "n_test = 2\n",
        "train, test = df[:-n_test], df[-n_test:]"
      ],
      "execution_count": null,
      "outputs": []
    },
    {
      "cell_type": "code",
      "metadata": {
        "colab": {
          "base_uri": "https://localhost:8080/"
        },
        "id": "DCC2M9g6FF2W",
        "outputId": "16ce3006-ffe2-4e0b-9862-2d1065c59c34"
      },
      "source": [
        "print(df)"
      ],
      "execution_count": null,
      "outputs": [
        {
          "output_type": "stream",
          "text": [
            "                                   date  PM2.5\n",
            "date                                          \n",
            "2013-01-03 00:00:00 2013-01-03 00:00:00    4.0\n",
            "2013-01-03 01:00:00 2013-01-03 01:00:00    8.0\n",
            "2013-01-03 02:00:00 2013-01-03 02:00:00    7.0\n",
            "2013-01-03 03:00:00 2013-01-03 03:00:00    6.0\n",
            "2013-01-03 04:00:00 2013-01-03 04:00:00    3.0\n",
            "...                                 ...    ...\n",
            "2017-02-28 19:00:00 2017-02-28 19:00:00   12.0\n",
            "2017-02-28 20:00:00 2017-02-28 20:00:00   13.0\n",
            "2017-02-28 21:00:00 2017-02-28 21:00:00   16.0\n",
            "2017-02-28 22:00:00 2017-02-28 22:00:00   21.0\n",
            "2017-02-28 23:00:00 2017-02-28 23:00:00   19.0\n",
            "\n",
            "[35064 rows x 2 columns]\n"
          ],
          "name": "stdout"
        }
      ]
    },
    {
      "cell_type": "code",
      "metadata": {
        "colab": {
          "base_uri": "https://localhost:8080/"
        },
        "id": "1MtzcKJ3C8U0",
        "outputId": "804e8e76-3b6f-4e23-d306-70e247a5edf1"
      },
      "source": [
        "n_test = 23766\n",
        "train, test = df['PM2.5'], df['PM2.5']\n",
        "train, test = train[:-n_test], test[-n_test:]\n",
        "\n",
        "print(test)"
      ],
      "execution_count": null,
      "outputs": [
        {
          "output_type": "stream",
          "text": [
            "date\n",
            "2014-06-14 18:00:00    52.0\n",
            "2014-06-14 19:00:00    51.0\n",
            "2014-06-14 20:00:00    57.0\n",
            "2014-06-14 21:00:00    72.0\n",
            "2014-06-14 22:00:00    83.0\n",
            "                       ... \n",
            "2017-02-28 19:00:00    12.0\n",
            "2017-02-28 20:00:00    13.0\n",
            "2017-02-28 21:00:00    16.0\n",
            "2017-02-28 22:00:00    21.0\n",
            "2017-02-28 23:00:00    19.0\n",
            "Name: PM2.5, Length: 23766, dtype: float64\n"
          ],
          "name": "stdout"
        }
      ]
    },
    {
      "cell_type": "code",
      "metadata": {
        "colab": {
          "base_uri": "https://localhost:8080/",
          "height": 352
        },
        "id": "FR_BvDOzAZaU",
        "outputId": "5a0e85e4-97f5-4beb-c5d3-6381813a33ce"
      },
      "source": [
        "from random import gauss\n",
        "from random import seed\n",
        "from matplotlib import pyplot\n",
        "from arch import arch_model\n",
        "model = arch_model(train, mean='Zero', vol='ARCH', p=15)"
      ],
      "execution_count": null,
      "outputs": [
        {
          "output_type": "error",
          "ename": "ValueError",
          "evalue": "ignored",
          "traceback": [
            "\u001b[0;31m---------------------------------------------------------------------------\u001b[0m",
            "\u001b[0;31mValueError\u001b[0m                                Traceback (most recent call last)",
            "\u001b[0;32m<ipython-input-50-589d22302d54>\u001b[0m in \u001b[0;36m<module>\u001b[0;34m()\u001b[0m\n\u001b[1;32m      3\u001b[0m \u001b[0;32mfrom\u001b[0m \u001b[0mmatplotlib\u001b[0m \u001b[0;32mimport\u001b[0m \u001b[0mpyplot\u001b[0m\u001b[0;34m\u001b[0m\u001b[0;34m\u001b[0m\u001b[0m\n\u001b[1;32m      4\u001b[0m \u001b[0;32mfrom\u001b[0m \u001b[0march\u001b[0m \u001b[0;32mimport\u001b[0m \u001b[0march_model\u001b[0m\u001b[0;34m\u001b[0m\u001b[0;34m\u001b[0m\u001b[0m\n\u001b[0;32m----> 5\u001b[0;31m \u001b[0mmodel\u001b[0m \u001b[0;34m=\u001b[0m \u001b[0march_model\u001b[0m\u001b[0;34m(\u001b[0m\u001b[0mtrain\u001b[0m\u001b[0;34m,\u001b[0m \u001b[0mmean\u001b[0m\u001b[0;34m=\u001b[0m\u001b[0;34m'Zero'\u001b[0m\u001b[0;34m,\u001b[0m \u001b[0mvol\u001b[0m\u001b[0;34m=\u001b[0m\u001b[0;34m'ARCH'\u001b[0m\u001b[0;34m,\u001b[0m \u001b[0mp\u001b[0m\u001b[0;34m=\u001b[0m\u001b[0;36m15\u001b[0m\u001b[0;34m)\u001b[0m\u001b[0;34m\u001b[0m\u001b[0;34m\u001b[0m\u001b[0m\n\u001b[0m",
            "\u001b[0;32m/usr/local/lib/python3.7/dist-packages/arch/univariate/mean.py\u001b[0m in \u001b[0;36march_model\u001b[0;34m(y, x, mean, lags, vol, p, o, q, power, dist, hold_back, rescale)\u001b[0m\n\u001b[1;32m   1638\u001b[0m         \u001b[0mam\u001b[0m \u001b[0;34m=\u001b[0m \u001b[0mConstantMean\u001b[0m\u001b[0;34m(\u001b[0m\u001b[0my\u001b[0m\u001b[0;34m,\u001b[0m \u001b[0mhold_back\u001b[0m\u001b[0;34m=\u001b[0m\u001b[0mhold_back\u001b[0m\u001b[0;34m,\u001b[0m \u001b[0mrescale\u001b[0m\u001b[0;34m=\u001b[0m\u001b[0mrescale\u001b[0m\u001b[0;34m)\u001b[0m\u001b[0;34m\u001b[0m\u001b[0;34m\u001b[0m\u001b[0m\n\u001b[1;32m   1639\u001b[0m     \u001b[0;32melse\u001b[0m\u001b[0;34m:\u001b[0m  \u001b[0;31m# mean == \"zero\"\u001b[0m\u001b[0;34m\u001b[0m\u001b[0;34m\u001b[0m\u001b[0m\n\u001b[0;32m-> 1640\u001b[0;31m         \u001b[0mam\u001b[0m \u001b[0;34m=\u001b[0m \u001b[0mZeroMean\u001b[0m\u001b[0;34m(\u001b[0m\u001b[0my\u001b[0m\u001b[0;34m,\u001b[0m \u001b[0mhold_back\u001b[0m\u001b[0;34m=\u001b[0m\u001b[0mhold_back\u001b[0m\u001b[0;34m,\u001b[0m \u001b[0mrescale\u001b[0m\u001b[0;34m=\u001b[0m\u001b[0mrescale\u001b[0m\u001b[0;34m)\u001b[0m\u001b[0;34m\u001b[0m\u001b[0;34m\u001b[0m\u001b[0m\n\u001b[0m\u001b[1;32m   1641\u001b[0m \u001b[0;34m\u001b[0m\u001b[0m\n\u001b[1;32m   1642\u001b[0m     \u001b[0;32mif\u001b[0m \u001b[0mvol\u001b[0m \u001b[0;32min\u001b[0m \u001b[0;34m(\u001b[0m\u001b[0;34m\"arch\"\u001b[0m\u001b[0;34m,\u001b[0m \u001b[0;34m\"garch\"\u001b[0m\u001b[0;34m,\u001b[0m \u001b[0;34m\"figarch\"\u001b[0m\u001b[0;34m,\u001b[0m \u001b[0;34m\"egarch\"\u001b[0m\u001b[0;34m)\u001b[0m \u001b[0;32mand\u001b[0m \u001b[0;32mnot\u001b[0m \u001b[0misinstance\u001b[0m\u001b[0;34m(\u001b[0m\u001b[0mp\u001b[0m\u001b[0;34m,\u001b[0m \u001b[0mint\u001b[0m\u001b[0;34m)\u001b[0m\u001b[0;34m:\u001b[0m\u001b[0;34m\u001b[0m\u001b[0;34m\u001b[0m\u001b[0m\n",
            "\u001b[0;32m/usr/local/lib/python3.7/dist-packages/arch/univariate/mean.py\u001b[0m in \u001b[0;36m__init__\u001b[0;34m(self, y, hold_back, volatility, distribution, rescale)\u001b[0m\n\u001b[1;32m   1211\u001b[0m             \u001b[0mvolatility\u001b[0m\u001b[0;34m=\u001b[0m\u001b[0mvolatility\u001b[0m\u001b[0;34m,\u001b[0m\u001b[0;34m\u001b[0m\u001b[0;34m\u001b[0m\u001b[0m\n\u001b[1;32m   1212\u001b[0m             \u001b[0mdistribution\u001b[0m\u001b[0;34m=\u001b[0m\u001b[0mdistribution\u001b[0m\u001b[0;34m,\u001b[0m\u001b[0;34m\u001b[0m\u001b[0;34m\u001b[0m\u001b[0m\n\u001b[0;32m-> 1213\u001b[0;31m             \u001b[0mrescale\u001b[0m\u001b[0;34m=\u001b[0m\u001b[0mrescale\u001b[0m\u001b[0;34m,\u001b[0m\u001b[0;34m\u001b[0m\u001b[0;34m\u001b[0m\u001b[0m\n\u001b[0m\u001b[1;32m   1214\u001b[0m         )\n\u001b[1;32m   1215\u001b[0m         \u001b[0mself\u001b[0m\u001b[0;34m.\u001b[0m\u001b[0m_name\u001b[0m \u001b[0;34m=\u001b[0m \u001b[0;34m\"Zero Mean\"\u001b[0m\u001b[0;34m\u001b[0m\u001b[0;34m\u001b[0m\u001b[0m\n",
            "\u001b[0;32m/usr/local/lib/python3.7/dist-packages/arch/univariate/mean.py\u001b[0m in \u001b[0;36m__init__\u001b[0;34m(self, y, x, lags, constant, use_rotated, hold_back, volatility, distribution, rescale)\u001b[0m\n\u001b[1;32m    251\u001b[0m             \u001b[0mvolatility\u001b[0m\u001b[0;34m=\u001b[0m\u001b[0mvolatility\u001b[0m\u001b[0;34m,\u001b[0m\u001b[0;34m\u001b[0m\u001b[0;34m\u001b[0m\u001b[0m\n\u001b[1;32m    252\u001b[0m             \u001b[0mdistribution\u001b[0m\u001b[0;34m=\u001b[0m\u001b[0mdistribution\u001b[0m\u001b[0;34m,\u001b[0m\u001b[0;34m\u001b[0m\u001b[0;34m\u001b[0m\u001b[0m\n\u001b[0;32m--> 253\u001b[0;31m             \u001b[0mrescale\u001b[0m\u001b[0;34m=\u001b[0m\u001b[0mrescale\u001b[0m\u001b[0;34m,\u001b[0m\u001b[0;34m\u001b[0m\u001b[0;34m\u001b[0m\u001b[0m\n\u001b[0m\u001b[1;32m    254\u001b[0m         )\n\u001b[1;32m    255\u001b[0m         \u001b[0mself\u001b[0m\u001b[0;34m.\u001b[0m\u001b[0m_x\u001b[0m \u001b[0;34m=\u001b[0m \u001b[0mx\u001b[0m\u001b[0;34m\u001b[0m\u001b[0;34m\u001b[0m\u001b[0m\n",
            "\u001b[0;32m/usr/local/lib/python3.7/dist-packages/arch/univariate/base.py\u001b[0m in \u001b[0;36m__init__\u001b[0;34m(self, y, volatility, distribution, hold_back, rescale)\u001b[0m\n\u001b[1;32m    196\u001b[0m         \u001b[0mself\u001b[0m\u001b[0;34m.\u001b[0m\u001b[0m_is_pandas\u001b[0m \u001b[0;34m=\u001b[0m \u001b[0misinstance\u001b[0m\u001b[0;34m(\u001b[0m\u001b[0my\u001b[0m\u001b[0;34m,\u001b[0m \u001b[0;34m(\u001b[0m\u001b[0mDataFrame\u001b[0m\u001b[0;34m,\u001b[0m \u001b[0mSeries\u001b[0m\u001b[0;34m)\u001b[0m\u001b[0;34m)\u001b[0m\u001b[0;34m\u001b[0m\u001b[0;34m\u001b[0m\u001b[0m\n\u001b[1;32m    197\u001b[0m         \u001b[0;32mif\u001b[0m \u001b[0my\u001b[0m \u001b[0;32mis\u001b[0m \u001b[0;32mnot\u001b[0m \u001b[0;32mNone\u001b[0m\u001b[0;34m:\u001b[0m\u001b[0;34m\u001b[0m\u001b[0;34m\u001b[0m\u001b[0m\n\u001b[0;32m--> 198\u001b[0;31m             \u001b[0mself\u001b[0m\u001b[0;34m.\u001b[0m\u001b[0m_y_series\u001b[0m \u001b[0;34m=\u001b[0m \u001b[0mcast\u001b[0m\u001b[0;34m(\u001b[0m\u001b[0mSeries\u001b[0m\u001b[0;34m,\u001b[0m \u001b[0mensure1d\u001b[0m\u001b[0;34m(\u001b[0m\u001b[0my\u001b[0m\u001b[0;34m,\u001b[0m \u001b[0;34m\"y\"\u001b[0m\u001b[0;34m,\u001b[0m \u001b[0mseries\u001b[0m\u001b[0;34m=\u001b[0m\u001b[0;32mTrue\u001b[0m\u001b[0;34m)\u001b[0m\u001b[0;34m)\u001b[0m\u001b[0;34m\u001b[0m\u001b[0;34m\u001b[0m\u001b[0m\n\u001b[0m\u001b[1;32m    199\u001b[0m         \u001b[0;32melse\u001b[0m\u001b[0;34m:\u001b[0m\u001b[0;34m\u001b[0m\u001b[0;34m\u001b[0m\u001b[0m\n\u001b[1;32m    200\u001b[0m             \u001b[0mself\u001b[0m\u001b[0;34m.\u001b[0m\u001b[0m_y_series\u001b[0m \u001b[0;34m=\u001b[0m \u001b[0mcast\u001b[0m\u001b[0;34m(\u001b[0m\u001b[0mSeries\u001b[0m\u001b[0;34m,\u001b[0m \u001b[0mensure1d\u001b[0m\u001b[0;34m(\u001b[0m\u001b[0mnp\u001b[0m\u001b[0;34m.\u001b[0m\u001b[0mempty\u001b[0m\u001b[0;34m(\u001b[0m\u001b[0;34m(\u001b[0m\u001b[0;36m0\u001b[0m\u001b[0;34m,\u001b[0m\u001b[0;34m)\u001b[0m\u001b[0;34m)\u001b[0m\u001b[0;34m,\u001b[0m \u001b[0;34m\"y\"\u001b[0m\u001b[0;34m,\u001b[0m \u001b[0mseries\u001b[0m\u001b[0;34m=\u001b[0m\u001b[0;32mTrue\u001b[0m\u001b[0;34m)\u001b[0m\u001b[0;34m)\u001b[0m\u001b[0;34m\u001b[0m\u001b[0;34m\u001b[0m\u001b[0m\n",
            "\u001b[0;32m/usr/local/lib/python3.7/dist-packages/arch/utility/array.py\u001b[0m in \u001b[0;36mensure1d\u001b[0;34m(x, name, series)\u001b[0m\n\u001b[1;32m     47\u001b[0m     \u001b[0;32mif\u001b[0m \u001b[0misinstance\u001b[0m\u001b[0;34m(\u001b[0m\u001b[0mx\u001b[0m\u001b[0;34m,\u001b[0m \u001b[0mDataFrame\u001b[0m\u001b[0;34m)\u001b[0m\u001b[0;34m:\u001b[0m\u001b[0;34m\u001b[0m\u001b[0;34m\u001b[0m\u001b[0m\n\u001b[1;32m     48\u001b[0m         \u001b[0;32mif\u001b[0m \u001b[0mx\u001b[0m\u001b[0;34m.\u001b[0m\u001b[0mshape\u001b[0m\u001b[0;34m[\u001b[0m\u001b[0;36m1\u001b[0m\u001b[0;34m]\u001b[0m \u001b[0;34m!=\u001b[0m \u001b[0;36m1\u001b[0m\u001b[0;34m:\u001b[0m\u001b[0;34m\u001b[0m\u001b[0;34m\u001b[0m\u001b[0m\n\u001b[0;32m---> 49\u001b[0;31m             \u001b[0;32mraise\u001b[0m \u001b[0mValueError\u001b[0m\u001b[0;34m(\u001b[0m\u001b[0;34mf\"{name} must be squeezable to 1 dimension\"\u001b[0m\u001b[0;34m)\u001b[0m\u001b[0;34m\u001b[0m\u001b[0;34m\u001b[0m\u001b[0m\n\u001b[0m\u001b[1;32m     50\u001b[0m         \u001b[0;32mif\u001b[0m \u001b[0;32mnot\u001b[0m \u001b[0mseries\u001b[0m\u001b[0;34m:\u001b[0m\u001b[0;34m\u001b[0m\u001b[0;34m\u001b[0m\u001b[0m\n\u001b[1;32m     51\u001b[0m             \u001b[0;32mreturn\u001b[0m \u001b[0mnp\u001b[0m\u001b[0;34m.\u001b[0m\u001b[0masarray\u001b[0m\u001b[0;34m(\u001b[0m\u001b[0mx\u001b[0m\u001b[0;34m.\u001b[0m\u001b[0miloc\u001b[0m\u001b[0;34m[\u001b[0m\u001b[0;34m:\u001b[0m\u001b[0;34m,\u001b[0m \u001b[0;36m0\u001b[0m\u001b[0;34m]\u001b[0m\u001b[0;34m)\u001b[0m\u001b[0;34m\u001b[0m\u001b[0;34m\u001b[0m\u001b[0m\n",
            "\u001b[0;31mValueError\u001b[0m: y must be squeezable to 1 dimension"
          ]
        }
      ]
    },
    {
      "cell_type": "code",
      "metadata": {
        "colab": {
          "base_uri": "https://localhost:8080/",
          "height": 316
        },
        "id": "vYjlh2BXGpCd",
        "outputId": "14cb80ab-8da2-435b-f1f7-e2067b47db9f"
      },
      "source": [
        "model_fit = model.fit()"
      ],
      "execution_count": null,
      "outputs": [
        {
          "output_type": "error",
          "ename": "ValueError",
          "evalue": "ignored",
          "traceback": [
            "\u001b[0;31m---------------------------------------------------------------------------\u001b[0m",
            "\u001b[0;31mValueError\u001b[0m                                Traceback (most recent call last)",
            "\u001b[0;32m<ipython-input-51-a0e793f6305e>\u001b[0m in \u001b[0;36m<module>\u001b[0;34m()\u001b[0m\n\u001b[0;32m----> 1\u001b[0;31m \u001b[0mmodel_fit\u001b[0m \u001b[0;34m=\u001b[0m \u001b[0mmodel\u001b[0m\u001b[0;34m.\u001b[0m\u001b[0mfit\u001b[0m\u001b[0;34m(\u001b[0m\u001b[0;34m)\u001b[0m\u001b[0;34m\u001b[0m\u001b[0;34m\u001b[0m\u001b[0m\n\u001b[0m",
            "\u001b[0;32m/usr/local/lib/python3.7/dist-packages/statsmodels/tsa/arima_model.py\u001b[0m in \u001b[0;36mfit\u001b[0;34m(self, start_params, trend, method, transparams, solver, maxiter, full_output, disp, callback, start_ar_lags, **kwargs)\u001b[0m\n\u001b[1;32m   1147\u001b[0m                                            \u001b[0mmethod\u001b[0m\u001b[0;34m,\u001b[0m \u001b[0mtransparams\u001b[0m\u001b[0;34m,\u001b[0m \u001b[0msolver\u001b[0m\u001b[0;34m,\u001b[0m\u001b[0;34m\u001b[0m\u001b[0;34m\u001b[0m\u001b[0m\n\u001b[1;32m   1148\u001b[0m                                            \u001b[0mmaxiter\u001b[0m\u001b[0;34m,\u001b[0m \u001b[0mfull_output\u001b[0m\u001b[0;34m,\u001b[0m \u001b[0mdisp\u001b[0m\u001b[0;34m,\u001b[0m\u001b[0;34m\u001b[0m\u001b[0;34m\u001b[0m\u001b[0m\n\u001b[0;32m-> 1149\u001b[0;31m                                            callback, start_ar_lags, **kwargs)\n\u001b[0m\u001b[1;32m   1150\u001b[0m         \u001b[0mnormalized_cov_params\u001b[0m \u001b[0;34m=\u001b[0m \u001b[0;32mNone\u001b[0m  \u001b[0;31m# TODO: fix this?\u001b[0m\u001b[0;34m\u001b[0m\u001b[0;34m\u001b[0m\u001b[0m\n\u001b[1;32m   1151\u001b[0m         arima_fit = ARIMAResults(self, mlefit._results.params,\n",
            "\u001b[0;32m/usr/local/lib/python3.7/dist-packages/statsmodels/tsa/arima_model.py\u001b[0m in \u001b[0;36mfit\u001b[0;34m(self, start_params, trend, method, transparams, solver, maxiter, full_output, disp, callback, start_ar_lags, **kwargs)\u001b[0m\n\u001b[1;32m    902\u001b[0m         \u001b[0;31m# (re)set trend and handle exogenous variables\u001b[0m\u001b[0;34m\u001b[0m\u001b[0;34m\u001b[0m\u001b[0;34m\u001b[0m\u001b[0m\n\u001b[1;32m    903\u001b[0m         \u001b[0;31m# always pass original exog\u001b[0m\u001b[0;34m\u001b[0m\u001b[0;34m\u001b[0m\u001b[0;34m\u001b[0m\u001b[0m\n\u001b[0;32m--> 904\u001b[0;31m         \u001b[0mk_trend\u001b[0m\u001b[0;34m,\u001b[0m \u001b[0mexog\u001b[0m \u001b[0;34m=\u001b[0m \u001b[0m_make_arma_exog\u001b[0m\u001b[0;34m(\u001b[0m\u001b[0mendog\u001b[0m\u001b[0;34m,\u001b[0m \u001b[0mself\u001b[0m\u001b[0;34m.\u001b[0m\u001b[0mexog\u001b[0m\u001b[0;34m,\u001b[0m \u001b[0mtrend\u001b[0m\u001b[0;34m)\u001b[0m\u001b[0;34m\u001b[0m\u001b[0;34m\u001b[0m\u001b[0m\n\u001b[0m\u001b[1;32m    905\u001b[0m \u001b[0;34m\u001b[0m\u001b[0m\n\u001b[1;32m    906\u001b[0m         \u001b[0;31m# Check has something to estimate\u001b[0m\u001b[0;34m\u001b[0m\u001b[0;34m\u001b[0m\u001b[0;34m\u001b[0m\u001b[0m\n",
            "\u001b[0;32m/usr/local/lib/python3.7/dist-packages/statsmodels/tsa/arima_model.py\u001b[0m in \u001b[0;36m_make_arma_exog\u001b[0;34m(endog, exog, trend)\u001b[0m\n\u001b[1;32m    395\u001b[0m         \u001b[0mexog\u001b[0m \u001b[0;34m=\u001b[0m \u001b[0mnp\u001b[0m\u001b[0;34m.\u001b[0m\u001b[0mones\u001b[0m\u001b[0;34m(\u001b[0m\u001b[0;34m(\u001b[0m\u001b[0mlen\u001b[0m\u001b[0;34m(\u001b[0m\u001b[0mendog\u001b[0m\u001b[0;34m)\u001b[0m\u001b[0;34m,\u001b[0m \u001b[0;36m1\u001b[0m\u001b[0;34m)\u001b[0m\u001b[0;34m)\u001b[0m\u001b[0;34m\u001b[0m\u001b[0;34m\u001b[0m\u001b[0m\n\u001b[1;32m    396\u001b[0m     \u001b[0;32melif\u001b[0m \u001b[0mexog\u001b[0m \u001b[0;32mis\u001b[0m \u001b[0;32mnot\u001b[0m \u001b[0;32mNone\u001b[0m \u001b[0;32mand\u001b[0m \u001b[0mtrend\u001b[0m \u001b[0;34m==\u001b[0m \u001b[0;34m'c'\u001b[0m\u001b[0;34m:\u001b[0m  \u001b[0;31m# constant plus exogenous\u001b[0m\u001b[0;34m\u001b[0m\u001b[0;34m\u001b[0m\u001b[0m\n\u001b[0;32m--> 397\u001b[0;31m         \u001b[0mexog\u001b[0m \u001b[0;34m=\u001b[0m \u001b[0madd_trend\u001b[0m\u001b[0;34m(\u001b[0m\u001b[0mexog\u001b[0m\u001b[0;34m,\u001b[0m \u001b[0mtrend\u001b[0m\u001b[0;34m=\u001b[0m\u001b[0;34m'c'\u001b[0m\u001b[0;34m,\u001b[0m \u001b[0mprepend\u001b[0m\u001b[0;34m=\u001b[0m\u001b[0;32mTrue\u001b[0m\u001b[0;34m,\u001b[0m \u001b[0mhas_constant\u001b[0m\u001b[0;34m=\u001b[0m\u001b[0;34m'raise'\u001b[0m\u001b[0;34m)\u001b[0m\u001b[0;34m\u001b[0m\u001b[0;34m\u001b[0m\u001b[0m\n\u001b[0m\u001b[1;32m    398\u001b[0m     \u001b[0;32melif\u001b[0m \u001b[0mexog\u001b[0m \u001b[0;32mis\u001b[0m \u001b[0;32mnot\u001b[0m \u001b[0;32mNone\u001b[0m \u001b[0;32mand\u001b[0m \u001b[0mtrend\u001b[0m \u001b[0;34m==\u001b[0m \u001b[0;34m'nc'\u001b[0m\u001b[0;34m:\u001b[0m\u001b[0;34m\u001b[0m\u001b[0;34m\u001b[0m\u001b[0m\n\u001b[1;32m    399\u001b[0m         \u001b[0;31m# make sure it's not holding constant from last run\u001b[0m\u001b[0;34m\u001b[0m\u001b[0;34m\u001b[0m\u001b[0;34m\u001b[0m\u001b[0m\n",
            "\u001b[0;32m/usr/local/lib/python3.7/dist-packages/statsmodels/tsa/tsatools.py\u001b[0m in \u001b[0;36madd_trend\u001b[0;34m(x, trend, prepend, has_constant)\u001b[0m\n\u001b[1;32m    106\u001b[0m                 \u001b[0mmsg\u001b[0m \u001b[0;34m=\u001b[0m \u001b[0;34m\"x contains a constant. Adding a constant with \"\u001b[0m\u001b[0;31m \u001b[0m\u001b[0;31m\\\u001b[0m\u001b[0;34m\u001b[0m\u001b[0;34m\u001b[0m\u001b[0m\n\u001b[1;32m    107\u001b[0m                       \u001b[0;34m\"trend='{0}' is not allowed.\"\u001b[0m\u001b[0;34m.\u001b[0m\u001b[0mformat\u001b[0m\u001b[0;34m(\u001b[0m\u001b[0mtrend\u001b[0m\u001b[0;34m)\u001b[0m\u001b[0;34m\u001b[0m\u001b[0;34m\u001b[0m\u001b[0m\n\u001b[0;32m--> 108\u001b[0;31m                 \u001b[0;32mraise\u001b[0m \u001b[0mValueError\u001b[0m\u001b[0;34m(\u001b[0m\u001b[0mmsg\u001b[0m\u001b[0;34m)\u001b[0m\u001b[0;34m\u001b[0m\u001b[0;34m\u001b[0m\u001b[0m\n\u001b[0m\u001b[1;32m    109\u001b[0m             \u001b[0;32melif\u001b[0m \u001b[0mhas_constant\u001b[0m \u001b[0;34m==\u001b[0m \u001b[0;34m'skip'\u001b[0m\u001b[0;34m:\u001b[0m\u001b[0;34m\u001b[0m\u001b[0;34m\u001b[0m\u001b[0m\n\u001b[1;32m    110\u001b[0m                 \u001b[0mcolumns\u001b[0m \u001b[0;34m=\u001b[0m \u001b[0mcolumns\u001b[0m\u001b[0;34m[\u001b[0m\u001b[0;36m1\u001b[0m\u001b[0;34m:\u001b[0m\u001b[0;34m]\u001b[0m\u001b[0;34m\u001b[0m\u001b[0;34m\u001b[0m\u001b[0m\n",
            "\u001b[0;31mValueError\u001b[0m: x contains a constant. Adding a constant with trend='c' is not allowed."
          ]
        }
      ]
    },
    {
      "cell_type": "code",
      "metadata": {
        "colab": {
          "base_uri": "https://localhost:8080/",
          "height": 168
        },
        "id": "_v7M_tqSGqjJ",
        "outputId": "143a9b98-9c4a-44ee-9f72-fad7cd890695"
      },
      "source": [
        "yhat = model_fit.forecast(horizon=1000)"
      ],
      "execution_count": null,
      "outputs": [
        {
          "output_type": "error",
          "ename": "NameError",
          "evalue": "ignored",
          "traceback": [
            "\u001b[0;31m---------------------------------------------------------------------------\u001b[0m",
            "\u001b[0;31mNameError\u001b[0m                                 Traceback (most recent call last)",
            "\u001b[0;32m<ipython-input-52-ed46f09fadb0>\u001b[0m in \u001b[0;36m<module>\u001b[0;34m()\u001b[0m\n\u001b[0;32m----> 1\u001b[0;31m \u001b[0myhat\u001b[0m \u001b[0;34m=\u001b[0m \u001b[0mmodel_fit\u001b[0m\u001b[0;34m.\u001b[0m\u001b[0mforecast\u001b[0m\u001b[0;34m(\u001b[0m\u001b[0mhorizon\u001b[0m\u001b[0;34m=\u001b[0m\u001b[0;36m1000\u001b[0m\u001b[0;34m)\u001b[0m\u001b[0;34m\u001b[0m\u001b[0;34m\u001b[0m\u001b[0m\n\u001b[0m",
            "\u001b[0;31mNameError\u001b[0m: name 'model_fit' is not defined"
          ]
        }
      ]
    },
    {
      "cell_type": "code",
      "metadata": {
        "colab": {
          "base_uri": "https://localhost:8080/",
          "height": 168
        },
        "id": "rU_bgJA8LVh8",
        "outputId": "4331a376-08c7-4d82-b98c-266687998a4a"
      },
      "source": [
        "print(yhat)"
      ],
      "execution_count": null,
      "outputs": [
        {
          "output_type": "error",
          "ename": "NameError",
          "evalue": "ignored",
          "traceback": [
            "\u001b[0;31m---------------------------------------------------------------------------\u001b[0m",
            "\u001b[0;31mNameError\u001b[0m                                 Traceback (most recent call last)",
            "\u001b[0;32m<ipython-input-53-5d3780222d75>\u001b[0m in \u001b[0;36m<module>\u001b[0;34m()\u001b[0m\n\u001b[0;32m----> 1\u001b[0;31m \u001b[0mprint\u001b[0m\u001b[0;34m(\u001b[0m\u001b[0myhat\u001b[0m\u001b[0;34m)\u001b[0m\u001b[0;34m\u001b[0m\u001b[0;34m\u001b[0m\u001b[0m\n\u001b[0m",
            "\u001b[0;31mNameError\u001b[0m: name 'yhat' is not defined"
          ]
        }
      ]
    },
    {
      "cell_type": "code",
      "metadata": {
        "colab": {
          "base_uri": "https://localhost:8080/",
          "height": 354
        },
        "id": "i3ZI-xe2HSJS",
        "outputId": "594d0ec1-160c-44c3-df7e-6ec0ad3bf78a"
      },
      "source": [
        "import statistics\n",
        "#pyplot.plot(tt)\n",
        "var = [i*0.01 for i in range(0,6000)]\n",
        "pyplot.plot(df[-n_test:])\n",
        "pyplot.plot(yhat.variance.values[-1, :])\n",
        "pyplot.show()"
      ],
      "execution_count": null,
      "outputs": [
        {
          "output_type": "error",
          "ename": "ValueError",
          "evalue": "ignored",
          "traceback": [
            "\u001b[0;31m---------------------------------------------------------------------------\u001b[0m",
            "\u001b[0;31mValueError\u001b[0m                                Traceback (most recent call last)",
            "\u001b[0;32m<ipython-input-163-83933a060c82>\u001b[0m in \u001b[0;36m<module>\u001b[0;34m()\u001b[0m\n\u001b[1;32m      4\u001b[0m \u001b[0mpyplot\u001b[0m\u001b[0;34m.\u001b[0m\u001b[0mplot\u001b[0m\u001b[0;34m(\u001b[0m\u001b[0mdf\u001b[0m\u001b[0;34m[\u001b[0m\u001b[0;34m-\u001b[0m\u001b[0mn_test\u001b[0m\u001b[0;34m:\u001b[0m\u001b[0;34m]\u001b[0m\u001b[0;34m)\u001b[0m\u001b[0;34m\u001b[0m\u001b[0;34m\u001b[0m\u001b[0m\n\u001b[1;32m      5\u001b[0m \u001b[0mpyplot\u001b[0m\u001b[0;34m.\u001b[0m\u001b[0mplot\u001b[0m\u001b[0;34m(\u001b[0m\u001b[0myhat\u001b[0m\u001b[0;34m.\u001b[0m\u001b[0mvariance\u001b[0m\u001b[0;34m.\u001b[0m\u001b[0mvalues\u001b[0m\u001b[0;34m[\u001b[0m\u001b[0;34m-\u001b[0m\u001b[0;36m1\u001b[0m\u001b[0;34m,\u001b[0m \u001b[0;34m:\u001b[0m\u001b[0;34m]\u001b[0m\u001b[0;34m)\u001b[0m\u001b[0;34m\u001b[0m\u001b[0;34m\u001b[0m\u001b[0m\n\u001b[0;32m----> 6\u001b[0;31m \u001b[0mpyplot\u001b[0m\u001b[0;34m.\u001b[0m\u001b[0mshow\u001b[0m\u001b[0;34m(\u001b[0m\u001b[0;34m)\u001b[0m\u001b[0;34m\u001b[0m\u001b[0;34m\u001b[0m\u001b[0m\n\u001b[0m",
            "\u001b[0;32m/usr/local/lib/python3.7/dist-packages/matplotlib/pyplot.py\u001b[0m in \u001b[0;36mshow\u001b[0;34m(*args, **kw)\u001b[0m\n\u001b[1;32m    270\u001b[0m     \"\"\"\n\u001b[1;32m    271\u001b[0m     \u001b[0;32mglobal\u001b[0m \u001b[0m_show\u001b[0m\u001b[0;34m\u001b[0m\u001b[0;34m\u001b[0m\u001b[0m\n\u001b[0;32m--> 272\u001b[0;31m     \u001b[0;32mreturn\u001b[0m \u001b[0m_show\u001b[0m\u001b[0;34m(\u001b[0m\u001b[0;34m*\u001b[0m\u001b[0margs\u001b[0m\u001b[0;34m,\u001b[0m \u001b[0;34m**\u001b[0m\u001b[0mkw\u001b[0m\u001b[0;34m)\u001b[0m\u001b[0;34m\u001b[0m\u001b[0;34m\u001b[0m\u001b[0m\n\u001b[0m\u001b[1;32m    273\u001b[0m \u001b[0;34m\u001b[0m\u001b[0m\n\u001b[1;32m    274\u001b[0m \u001b[0;34m\u001b[0m\u001b[0m\n",
            "\u001b[0;32m/usr/local/lib/python3.7/dist-packages/ipykernel/pylab/backend_inline.py\u001b[0m in \u001b[0;36mshow\u001b[0;34m(close, block)\u001b[0m\n\u001b[1;32m     37\u001b[0m             display(\n\u001b[1;32m     38\u001b[0m                 \u001b[0mfigure_manager\u001b[0m\u001b[0;34m.\u001b[0m\u001b[0mcanvas\u001b[0m\u001b[0;34m.\u001b[0m\u001b[0mfigure\u001b[0m\u001b[0;34m,\u001b[0m\u001b[0;34m\u001b[0m\u001b[0;34m\u001b[0m\u001b[0m\n\u001b[0;32m---> 39\u001b[0;31m                 \u001b[0mmetadata\u001b[0m\u001b[0;34m=\u001b[0m\u001b[0m_fetch_figure_metadata\u001b[0m\u001b[0;34m(\u001b[0m\u001b[0mfigure_manager\u001b[0m\u001b[0;34m.\u001b[0m\u001b[0mcanvas\u001b[0m\u001b[0;34m.\u001b[0m\u001b[0mfigure\u001b[0m\u001b[0;34m)\u001b[0m\u001b[0;34m\u001b[0m\u001b[0;34m\u001b[0m\u001b[0m\n\u001b[0m\u001b[1;32m     40\u001b[0m             )\n\u001b[1;32m     41\u001b[0m     \u001b[0;32mfinally\u001b[0m\u001b[0;34m:\u001b[0m\u001b[0;34m\u001b[0m\u001b[0;34m\u001b[0m\u001b[0m\n",
            "\u001b[0;32m/usr/local/lib/python3.7/dist-packages/ipykernel/pylab/backend_inline.py\u001b[0m in \u001b[0;36m_fetch_figure_metadata\u001b[0;34m(fig)\u001b[0m\n\u001b[1;32m    175\u001b[0m         \u001b[0;31m# the background is transparent\u001b[0m\u001b[0;34m\u001b[0m\u001b[0;34m\u001b[0m\u001b[0;34m\u001b[0m\u001b[0m\n\u001b[1;32m    176\u001b[0m         ticksLight = _is_light([label.get_color()\n\u001b[0;32m--> 177\u001b[0;31m                                 \u001b[0;32mfor\u001b[0m \u001b[0maxes\u001b[0m \u001b[0;32min\u001b[0m \u001b[0mfig\u001b[0m\u001b[0;34m.\u001b[0m\u001b[0maxes\u001b[0m\u001b[0;34m\u001b[0m\u001b[0;34m\u001b[0m\u001b[0m\n\u001b[0m\u001b[1;32m    178\u001b[0m                                 \u001b[0;32mfor\u001b[0m \u001b[0maxis\u001b[0m \u001b[0;32min\u001b[0m \u001b[0;34m(\u001b[0m\u001b[0maxes\u001b[0m\u001b[0;34m.\u001b[0m\u001b[0mxaxis\u001b[0m\u001b[0;34m,\u001b[0m \u001b[0maxes\u001b[0m\u001b[0;34m.\u001b[0m\u001b[0myaxis\u001b[0m\u001b[0;34m)\u001b[0m\u001b[0;34m\u001b[0m\u001b[0;34m\u001b[0m\u001b[0m\n\u001b[1;32m    179\u001b[0m                                 for label in axis.get_ticklabels()])\n",
            "\u001b[0;32m/usr/local/lib/python3.7/dist-packages/ipykernel/pylab/backend_inline.py\u001b[0m in \u001b[0;36m<listcomp>\u001b[0;34m(.0)\u001b[0m\n\u001b[1;32m    177\u001b[0m                                 \u001b[0;32mfor\u001b[0m \u001b[0maxes\u001b[0m \u001b[0;32min\u001b[0m \u001b[0mfig\u001b[0m\u001b[0;34m.\u001b[0m\u001b[0maxes\u001b[0m\u001b[0;34m\u001b[0m\u001b[0;34m\u001b[0m\u001b[0m\n\u001b[1;32m    178\u001b[0m                                 \u001b[0;32mfor\u001b[0m \u001b[0maxis\u001b[0m \u001b[0;32min\u001b[0m \u001b[0;34m(\u001b[0m\u001b[0maxes\u001b[0m\u001b[0;34m.\u001b[0m\u001b[0mxaxis\u001b[0m\u001b[0;34m,\u001b[0m \u001b[0maxes\u001b[0m\u001b[0;34m.\u001b[0m\u001b[0myaxis\u001b[0m\u001b[0;34m)\u001b[0m\u001b[0;34m\u001b[0m\u001b[0;34m\u001b[0m\u001b[0m\n\u001b[0;32m--> 179\u001b[0;31m                                 for label in axis.get_ticklabels()])\n\u001b[0m\u001b[1;32m    180\u001b[0m         \u001b[0;32mif\u001b[0m \u001b[0mticksLight\u001b[0m\u001b[0;34m.\u001b[0m\u001b[0msize\u001b[0m \u001b[0;32mand\u001b[0m \u001b[0;34m(\u001b[0m\u001b[0mticksLight\u001b[0m \u001b[0;34m==\u001b[0m \u001b[0mticksLight\u001b[0m\u001b[0;34m[\u001b[0m\u001b[0;36m0\u001b[0m\u001b[0;34m]\u001b[0m\u001b[0;34m)\u001b[0m\u001b[0;34m.\u001b[0m\u001b[0mall\u001b[0m\u001b[0;34m(\u001b[0m\u001b[0;34m)\u001b[0m\u001b[0;34m:\u001b[0m\u001b[0;34m\u001b[0m\u001b[0;34m\u001b[0m\u001b[0m\n\u001b[1;32m    181\u001b[0m             \u001b[0;31m# there are one or more tick labels, all with the same lightness\u001b[0m\u001b[0;34m\u001b[0m\u001b[0;34m\u001b[0m\u001b[0;34m\u001b[0m\u001b[0m\n",
            "\u001b[0;32m/usr/local/lib/python3.7/dist-packages/matplotlib/axis.py\u001b[0m in \u001b[0;36mget_ticklabels\u001b[0;34m(self, minor, which)\u001b[0m\n\u001b[1;32m   1318\u001b[0m         \u001b[0;32mif\u001b[0m \u001b[0mminor\u001b[0m\u001b[0;34m:\u001b[0m\u001b[0;34m\u001b[0m\u001b[0;34m\u001b[0m\u001b[0m\n\u001b[1;32m   1319\u001b[0m             \u001b[0;32mreturn\u001b[0m \u001b[0mself\u001b[0m\u001b[0;34m.\u001b[0m\u001b[0mget_minorticklabels\u001b[0m\u001b[0;34m(\u001b[0m\u001b[0;34m)\u001b[0m\u001b[0;34m\u001b[0m\u001b[0;34m\u001b[0m\u001b[0m\n\u001b[0;32m-> 1320\u001b[0;31m         \u001b[0;32mreturn\u001b[0m \u001b[0mself\u001b[0m\u001b[0;34m.\u001b[0m\u001b[0mget_majorticklabels\u001b[0m\u001b[0;34m(\u001b[0m\u001b[0;34m)\u001b[0m\u001b[0;34m\u001b[0m\u001b[0;34m\u001b[0m\u001b[0m\n\u001b[0m\u001b[1;32m   1321\u001b[0m \u001b[0;34m\u001b[0m\u001b[0m\n\u001b[1;32m   1322\u001b[0m     \u001b[0;32mdef\u001b[0m \u001b[0mget_majorticklines\u001b[0m\u001b[0;34m(\u001b[0m\u001b[0mself\u001b[0m\u001b[0;34m)\u001b[0m\u001b[0;34m:\u001b[0m\u001b[0;34m\u001b[0m\u001b[0;34m\u001b[0m\u001b[0m\n",
            "\u001b[0;32m/usr/local/lib/python3.7/dist-packages/matplotlib/axis.py\u001b[0m in \u001b[0;36mget_majorticklabels\u001b[0;34m(self)\u001b[0m\n\u001b[1;32m   1274\u001b[0m     \u001b[0;32mdef\u001b[0m \u001b[0mget_majorticklabels\u001b[0m\u001b[0;34m(\u001b[0m\u001b[0mself\u001b[0m\u001b[0;34m)\u001b[0m\u001b[0;34m:\u001b[0m\u001b[0;34m\u001b[0m\u001b[0;34m\u001b[0m\u001b[0m\n\u001b[1;32m   1275\u001b[0m         \u001b[0;34m'Return a list of Text instances for the major ticklabels.'\u001b[0m\u001b[0;34m\u001b[0m\u001b[0;34m\u001b[0m\u001b[0m\n\u001b[0;32m-> 1276\u001b[0;31m         \u001b[0mticks\u001b[0m \u001b[0;34m=\u001b[0m \u001b[0mself\u001b[0m\u001b[0;34m.\u001b[0m\u001b[0mget_major_ticks\u001b[0m\u001b[0;34m(\u001b[0m\u001b[0;34m)\u001b[0m\u001b[0;34m\u001b[0m\u001b[0;34m\u001b[0m\u001b[0m\n\u001b[0m\u001b[1;32m   1277\u001b[0m         \u001b[0mlabels1\u001b[0m \u001b[0;34m=\u001b[0m \u001b[0;34m[\u001b[0m\u001b[0mtick\u001b[0m\u001b[0;34m.\u001b[0m\u001b[0mlabel1\u001b[0m \u001b[0;32mfor\u001b[0m \u001b[0mtick\u001b[0m \u001b[0;32min\u001b[0m \u001b[0mticks\u001b[0m \u001b[0;32mif\u001b[0m \u001b[0mtick\u001b[0m\u001b[0;34m.\u001b[0m\u001b[0mlabel1\u001b[0m\u001b[0;34m.\u001b[0m\u001b[0mget_visible\u001b[0m\u001b[0;34m(\u001b[0m\u001b[0;34m)\u001b[0m\u001b[0;34m]\u001b[0m\u001b[0;34m\u001b[0m\u001b[0;34m\u001b[0m\u001b[0m\n\u001b[1;32m   1278\u001b[0m         \u001b[0mlabels2\u001b[0m \u001b[0;34m=\u001b[0m \u001b[0;34m[\u001b[0m\u001b[0mtick\u001b[0m\u001b[0;34m.\u001b[0m\u001b[0mlabel2\u001b[0m \u001b[0;32mfor\u001b[0m \u001b[0mtick\u001b[0m \u001b[0;32min\u001b[0m \u001b[0mticks\u001b[0m \u001b[0;32mif\u001b[0m \u001b[0mtick\u001b[0m\u001b[0;34m.\u001b[0m\u001b[0mlabel2\u001b[0m\u001b[0;34m.\u001b[0m\u001b[0mget_visible\u001b[0m\u001b[0;34m(\u001b[0m\u001b[0;34m)\u001b[0m\u001b[0;34m]\u001b[0m\u001b[0;34m\u001b[0m\u001b[0;34m\u001b[0m\u001b[0m\n",
            "\u001b[0;32m/usr/local/lib/python3.7/dist-packages/matplotlib/axis.py\u001b[0m in \u001b[0;36mget_major_ticks\u001b[0;34m(self, numticks)\u001b[0m\n\u001b[1;32m   1429\u001b[0m         \u001b[0;34m'Get the tick instances; grow as necessary.'\u001b[0m\u001b[0;34m\u001b[0m\u001b[0;34m\u001b[0m\u001b[0m\n\u001b[1;32m   1430\u001b[0m         \u001b[0;32mif\u001b[0m \u001b[0mnumticks\u001b[0m \u001b[0;32mis\u001b[0m \u001b[0;32mNone\u001b[0m\u001b[0;34m:\u001b[0m\u001b[0;34m\u001b[0m\u001b[0;34m\u001b[0m\u001b[0m\n\u001b[0;32m-> 1431\u001b[0;31m             \u001b[0mnumticks\u001b[0m \u001b[0;34m=\u001b[0m \u001b[0mlen\u001b[0m\u001b[0;34m(\u001b[0m\u001b[0mself\u001b[0m\u001b[0;34m.\u001b[0m\u001b[0mget_majorticklocs\u001b[0m\u001b[0;34m(\u001b[0m\u001b[0;34m)\u001b[0m\u001b[0;34m)\u001b[0m\u001b[0;34m\u001b[0m\u001b[0;34m\u001b[0m\u001b[0m\n\u001b[0m\u001b[1;32m   1432\u001b[0m \u001b[0;34m\u001b[0m\u001b[0m\n\u001b[1;32m   1433\u001b[0m         \u001b[0;32mwhile\u001b[0m \u001b[0mlen\u001b[0m\u001b[0;34m(\u001b[0m\u001b[0mself\u001b[0m\u001b[0;34m.\u001b[0m\u001b[0mmajorTicks\u001b[0m\u001b[0;34m)\u001b[0m \u001b[0;34m<\u001b[0m \u001b[0mnumticks\u001b[0m\u001b[0;34m:\u001b[0m\u001b[0;34m\u001b[0m\u001b[0;34m\u001b[0m\u001b[0m\n",
            "\u001b[0;32m/usr/local/lib/python3.7/dist-packages/matplotlib/axis.py\u001b[0m in \u001b[0;36mget_majorticklocs\u001b[0;34m(self)\u001b[0m\n\u001b[1;32m   1346\u001b[0m     \u001b[0;32mdef\u001b[0m \u001b[0mget_majorticklocs\u001b[0m\u001b[0;34m(\u001b[0m\u001b[0mself\u001b[0m\u001b[0;34m)\u001b[0m\u001b[0;34m:\u001b[0m\u001b[0;34m\u001b[0m\u001b[0;34m\u001b[0m\u001b[0m\n\u001b[1;32m   1347\u001b[0m         \u001b[0;34m\"\"\"Get the array of major tick locations in data coordinates.\"\"\"\u001b[0m\u001b[0;34m\u001b[0m\u001b[0;34m\u001b[0m\u001b[0m\n\u001b[0;32m-> 1348\u001b[0;31m         \u001b[0;32mreturn\u001b[0m \u001b[0mself\u001b[0m\u001b[0;34m.\u001b[0m\u001b[0mmajor\u001b[0m\u001b[0;34m.\u001b[0m\u001b[0mlocator\u001b[0m\u001b[0;34m(\u001b[0m\u001b[0;34m)\u001b[0m\u001b[0;34m\u001b[0m\u001b[0;34m\u001b[0m\u001b[0m\n\u001b[0m\u001b[1;32m   1349\u001b[0m \u001b[0;34m\u001b[0m\u001b[0m\n\u001b[1;32m   1350\u001b[0m     \u001b[0;32mdef\u001b[0m \u001b[0mget_minorticklocs\u001b[0m\u001b[0;34m(\u001b[0m\u001b[0mself\u001b[0m\u001b[0;34m)\u001b[0m\u001b[0;34m:\u001b[0m\u001b[0;34m\u001b[0m\u001b[0;34m\u001b[0m\u001b[0m\n",
            "\u001b[0;32m/usr/local/lib/python3.7/dist-packages/matplotlib/dates.py\u001b[0m in \u001b[0;36m__call__\u001b[0;34m(self)\u001b[0m\n\u001b[1;32m   1336\u001b[0m     \u001b[0;32mdef\u001b[0m \u001b[0m__call__\u001b[0m\u001b[0;34m(\u001b[0m\u001b[0mself\u001b[0m\u001b[0;34m)\u001b[0m\u001b[0;34m:\u001b[0m\u001b[0;34m\u001b[0m\u001b[0;34m\u001b[0m\u001b[0m\n\u001b[1;32m   1337\u001b[0m         \u001b[0;34m'Return the locations of the ticks'\u001b[0m\u001b[0;34m\u001b[0m\u001b[0;34m\u001b[0m\u001b[0m\n\u001b[0;32m-> 1338\u001b[0;31m         \u001b[0mself\u001b[0m\u001b[0;34m.\u001b[0m\u001b[0mrefresh\u001b[0m\u001b[0;34m(\u001b[0m\u001b[0;34m)\u001b[0m\u001b[0;34m\u001b[0m\u001b[0;34m\u001b[0m\u001b[0m\n\u001b[0m\u001b[1;32m   1339\u001b[0m         \u001b[0;32mreturn\u001b[0m \u001b[0mself\u001b[0m\u001b[0;34m.\u001b[0m\u001b[0m_locator\u001b[0m\u001b[0;34m(\u001b[0m\u001b[0;34m)\u001b[0m\u001b[0;34m\u001b[0m\u001b[0;34m\u001b[0m\u001b[0m\n\u001b[1;32m   1340\u001b[0m \u001b[0;34m\u001b[0m\u001b[0m\n",
            "\u001b[0;32m/usr/local/lib/python3.7/dist-packages/matplotlib/dates.py\u001b[0m in \u001b[0;36mrefresh\u001b[0;34m(self)\u001b[0m\n\u001b[1;32m   1362\u001b[0m     \u001b[0;32mdef\u001b[0m \u001b[0mrefresh\u001b[0m\u001b[0;34m(\u001b[0m\u001b[0mself\u001b[0m\u001b[0;34m)\u001b[0m\u001b[0;34m:\u001b[0m\u001b[0;34m\u001b[0m\u001b[0;34m\u001b[0m\u001b[0m\n\u001b[1;32m   1363\u001b[0m         \u001b[0;31m# docstring inherited\u001b[0m\u001b[0;34m\u001b[0m\u001b[0;34m\u001b[0m\u001b[0;34m\u001b[0m\u001b[0m\n\u001b[0;32m-> 1364\u001b[0;31m         \u001b[0mdmin\u001b[0m\u001b[0;34m,\u001b[0m \u001b[0mdmax\u001b[0m \u001b[0;34m=\u001b[0m \u001b[0mself\u001b[0m\u001b[0;34m.\u001b[0m\u001b[0mviewlim_to_dt\u001b[0m\u001b[0;34m(\u001b[0m\u001b[0;34m)\u001b[0m\u001b[0;34m\u001b[0m\u001b[0;34m\u001b[0m\u001b[0m\n\u001b[0m\u001b[1;32m   1365\u001b[0m         \u001b[0mself\u001b[0m\u001b[0;34m.\u001b[0m\u001b[0m_locator\u001b[0m \u001b[0;34m=\u001b[0m \u001b[0mself\u001b[0m\u001b[0;34m.\u001b[0m\u001b[0mget_locator\u001b[0m\u001b[0;34m(\u001b[0m\u001b[0mdmin\u001b[0m\u001b[0;34m,\u001b[0m \u001b[0mdmax\u001b[0m\u001b[0;34m)\u001b[0m\u001b[0;34m\u001b[0m\u001b[0;34m\u001b[0m\u001b[0m\n\u001b[1;32m   1366\u001b[0m \u001b[0;34m\u001b[0m\u001b[0m\n",
            "\u001b[0;32m/usr/local/lib/python3.7/dist-packages/matplotlib/dates.py\u001b[0m in \u001b[0;36mviewlim_to_dt\u001b[0;34m(self)\u001b[0m\n\u001b[1;32m   1096\u001b[0m                              \u001b[0;34m'often happens if you pass a non-datetime '\u001b[0m\u001b[0;34m\u001b[0m\u001b[0;34m\u001b[0m\u001b[0m\n\u001b[1;32m   1097\u001b[0m                              \u001b[0;34m'value to an axis that has datetime units'\u001b[0m\u001b[0;34m\u001b[0m\u001b[0;34m\u001b[0m\u001b[0m\n\u001b[0;32m-> 1098\u001b[0;31m                              .format(vmin))\n\u001b[0m\u001b[1;32m   1099\u001b[0m         \u001b[0;32mreturn\u001b[0m \u001b[0mnum2date\u001b[0m\u001b[0;34m(\u001b[0m\u001b[0mvmin\u001b[0m\u001b[0;34m,\u001b[0m \u001b[0mself\u001b[0m\u001b[0;34m.\u001b[0m\u001b[0mtz\u001b[0m\u001b[0;34m)\u001b[0m\u001b[0;34m,\u001b[0m \u001b[0mnum2date\u001b[0m\u001b[0;34m(\u001b[0m\u001b[0mvmax\u001b[0m\u001b[0;34m,\u001b[0m \u001b[0mself\u001b[0m\u001b[0;34m.\u001b[0m\u001b[0mtz\u001b[0m\u001b[0;34m)\u001b[0m\u001b[0;34m\u001b[0m\u001b[0;34m\u001b[0m\u001b[0m\n\u001b[1;32m   1100\u001b[0m \u001b[0;34m\u001b[0m\u001b[0m\n",
            "\u001b[0;31mValueError\u001b[0m: view limit minimum -36833.29791666667 is less than 1 and is an invalid Matplotlib date value. This often happens if you pass a non-datetime value to an axis that has datetime units"
          ]
        }
      ]
    },
    {
      "cell_type": "code",
      "metadata": {
        "colab": {
          "base_uri": "https://localhost:8080/",
          "height": 388
        },
        "id": "Lfv8OhnaOlEl",
        "outputId": "9e87308c-afe6-405a-cf74-5e3d34d66a92"
      },
      "source": [
        "# example of ARCH model\n",
        "from random import gauss\n",
        "from random import seed\n",
        "from matplotlib import pyplot\n",
        "from arch import arch_model\n",
        "# seed pseudorandom number generator\n",
        "seed(1)\n",
        "# create dataset\n",
        "data = [gauss(0, i*0.01) for i in range(0,100)]\n",
        "# split into train/test\n",
        "n_test = 10\n",
        "train, test = df[:-n_test], df[-n_test:]\n",
        "# define model\n",
        "model = arch_model(train, mean='Zero', vol='GARCH', p=15, q=15)\n",
        "# fit model\n",
        "model_fit = model.fit()\n",
        "# forecast the test set\n",
        "yhat = model_fit.forecast(horizon=n_test)\n",
        "# plot the actual variance\n",
        "var = [i*0.01 for i in range(0,100)]\n",
        "pyplot.plot(var[-n_test:], label = 'Actual Variance')\n",
        "# plot forecast variance\n",
        "pyplot.plot(yhat.variance.values[-1, :], label = 'Predicted Variance')\n",
        "\n",
        "plt.title('GARCH Prediction ')\n",
        "# show a legend on the plot\n",
        "plt.legend()\n",
        "\n",
        "pyplot.show()"
      ],
      "execution_count": null,
      "outputs": [
        {
          "output_type": "error",
          "ename": "ValueError",
          "evalue": "ignored",
          "traceback": [
            "\u001b[0;31m---------------------------------------------------------------------------\u001b[0m",
            "\u001b[0;31mValueError\u001b[0m                                Traceback (most recent call last)",
            "\u001b[0;32m<ipython-input-70-41a79e77ef3c>\u001b[0m in \u001b[0;36m<module>\u001b[0;34m()\u001b[0m\n\u001b[1;32m     12\u001b[0m \u001b[0mtrain\u001b[0m\u001b[0;34m,\u001b[0m \u001b[0mtest\u001b[0m \u001b[0;34m=\u001b[0m \u001b[0mdf\u001b[0m\u001b[0;34m[\u001b[0m\u001b[0;34m:\u001b[0m\u001b[0;34m-\u001b[0m\u001b[0mn_test\u001b[0m\u001b[0;34m]\u001b[0m\u001b[0;34m,\u001b[0m \u001b[0mdf\u001b[0m\u001b[0;34m[\u001b[0m\u001b[0;34m-\u001b[0m\u001b[0mn_test\u001b[0m\u001b[0;34m:\u001b[0m\u001b[0;34m]\u001b[0m\u001b[0;34m\u001b[0m\u001b[0;34m\u001b[0m\u001b[0m\n\u001b[1;32m     13\u001b[0m \u001b[0;31m# define model\u001b[0m\u001b[0;34m\u001b[0m\u001b[0;34m\u001b[0m\u001b[0;34m\u001b[0m\u001b[0m\n\u001b[0;32m---> 14\u001b[0;31m \u001b[0mmodel\u001b[0m \u001b[0;34m=\u001b[0m \u001b[0march_model\u001b[0m\u001b[0;34m(\u001b[0m\u001b[0mtrain\u001b[0m\u001b[0;34m,\u001b[0m \u001b[0mmean\u001b[0m\u001b[0;34m=\u001b[0m\u001b[0;34m'Zero'\u001b[0m\u001b[0;34m,\u001b[0m \u001b[0mvol\u001b[0m\u001b[0;34m=\u001b[0m\u001b[0;34m'GARCH'\u001b[0m\u001b[0;34m,\u001b[0m \u001b[0mp\u001b[0m\u001b[0;34m=\u001b[0m\u001b[0;36m15\u001b[0m\u001b[0;34m,\u001b[0m \u001b[0mq\u001b[0m\u001b[0;34m=\u001b[0m\u001b[0;36m15\u001b[0m\u001b[0;34m)\u001b[0m\u001b[0;34m\u001b[0m\u001b[0;34m\u001b[0m\u001b[0m\n\u001b[0m\u001b[1;32m     15\u001b[0m \u001b[0;31m# fit model\u001b[0m\u001b[0;34m\u001b[0m\u001b[0;34m\u001b[0m\u001b[0;34m\u001b[0m\u001b[0m\n\u001b[1;32m     16\u001b[0m \u001b[0mmodel_fit\u001b[0m \u001b[0;34m=\u001b[0m \u001b[0mmodel\u001b[0m\u001b[0;34m.\u001b[0m\u001b[0mfit\u001b[0m\u001b[0;34m(\u001b[0m\u001b[0;34m)\u001b[0m\u001b[0;34m\u001b[0m\u001b[0;34m\u001b[0m\u001b[0m\n",
            "\u001b[0;32m/usr/local/lib/python3.7/dist-packages/arch/univariate/mean.py\u001b[0m in \u001b[0;36march_model\u001b[0;34m(y, x, mean, lags, vol, p, o, q, power, dist, hold_back, rescale)\u001b[0m\n\u001b[1;32m   1638\u001b[0m         \u001b[0mam\u001b[0m \u001b[0;34m=\u001b[0m \u001b[0mConstantMean\u001b[0m\u001b[0;34m(\u001b[0m\u001b[0my\u001b[0m\u001b[0;34m,\u001b[0m \u001b[0mhold_back\u001b[0m\u001b[0;34m=\u001b[0m\u001b[0mhold_back\u001b[0m\u001b[0;34m,\u001b[0m \u001b[0mrescale\u001b[0m\u001b[0;34m=\u001b[0m\u001b[0mrescale\u001b[0m\u001b[0;34m)\u001b[0m\u001b[0;34m\u001b[0m\u001b[0;34m\u001b[0m\u001b[0m\n\u001b[1;32m   1639\u001b[0m     \u001b[0;32melse\u001b[0m\u001b[0;34m:\u001b[0m  \u001b[0;31m# mean == \"zero\"\u001b[0m\u001b[0;34m\u001b[0m\u001b[0;34m\u001b[0m\u001b[0m\n\u001b[0;32m-> 1640\u001b[0;31m         \u001b[0mam\u001b[0m \u001b[0;34m=\u001b[0m \u001b[0mZeroMean\u001b[0m\u001b[0;34m(\u001b[0m\u001b[0my\u001b[0m\u001b[0;34m,\u001b[0m \u001b[0mhold_back\u001b[0m\u001b[0;34m=\u001b[0m\u001b[0mhold_back\u001b[0m\u001b[0;34m,\u001b[0m \u001b[0mrescale\u001b[0m\u001b[0;34m=\u001b[0m\u001b[0mrescale\u001b[0m\u001b[0;34m)\u001b[0m\u001b[0;34m\u001b[0m\u001b[0;34m\u001b[0m\u001b[0m\n\u001b[0m\u001b[1;32m   1641\u001b[0m \u001b[0;34m\u001b[0m\u001b[0m\n\u001b[1;32m   1642\u001b[0m     \u001b[0;32mif\u001b[0m \u001b[0mvol\u001b[0m \u001b[0;32min\u001b[0m \u001b[0;34m(\u001b[0m\u001b[0;34m\"arch\"\u001b[0m\u001b[0;34m,\u001b[0m \u001b[0;34m\"garch\"\u001b[0m\u001b[0;34m,\u001b[0m \u001b[0;34m\"figarch\"\u001b[0m\u001b[0;34m,\u001b[0m \u001b[0;34m\"egarch\"\u001b[0m\u001b[0;34m)\u001b[0m \u001b[0;32mand\u001b[0m \u001b[0;32mnot\u001b[0m \u001b[0misinstance\u001b[0m\u001b[0;34m(\u001b[0m\u001b[0mp\u001b[0m\u001b[0;34m,\u001b[0m \u001b[0mint\u001b[0m\u001b[0;34m)\u001b[0m\u001b[0;34m:\u001b[0m\u001b[0;34m\u001b[0m\u001b[0;34m\u001b[0m\u001b[0m\n",
            "\u001b[0;32m/usr/local/lib/python3.7/dist-packages/arch/univariate/mean.py\u001b[0m in \u001b[0;36m__init__\u001b[0;34m(self, y, hold_back, volatility, distribution, rescale)\u001b[0m\n\u001b[1;32m   1211\u001b[0m             \u001b[0mvolatility\u001b[0m\u001b[0;34m=\u001b[0m\u001b[0mvolatility\u001b[0m\u001b[0;34m,\u001b[0m\u001b[0;34m\u001b[0m\u001b[0;34m\u001b[0m\u001b[0m\n\u001b[1;32m   1212\u001b[0m             \u001b[0mdistribution\u001b[0m\u001b[0;34m=\u001b[0m\u001b[0mdistribution\u001b[0m\u001b[0;34m,\u001b[0m\u001b[0;34m\u001b[0m\u001b[0;34m\u001b[0m\u001b[0m\n\u001b[0;32m-> 1213\u001b[0;31m             \u001b[0mrescale\u001b[0m\u001b[0;34m=\u001b[0m\u001b[0mrescale\u001b[0m\u001b[0;34m,\u001b[0m\u001b[0;34m\u001b[0m\u001b[0;34m\u001b[0m\u001b[0m\n\u001b[0m\u001b[1;32m   1214\u001b[0m         )\n\u001b[1;32m   1215\u001b[0m         \u001b[0mself\u001b[0m\u001b[0;34m.\u001b[0m\u001b[0m_name\u001b[0m \u001b[0;34m=\u001b[0m \u001b[0;34m\"Zero Mean\"\u001b[0m\u001b[0;34m\u001b[0m\u001b[0;34m\u001b[0m\u001b[0m\n",
            "\u001b[0;32m/usr/local/lib/python3.7/dist-packages/arch/univariate/mean.py\u001b[0m in \u001b[0;36m__init__\u001b[0;34m(self, y, x, lags, constant, use_rotated, hold_back, volatility, distribution, rescale)\u001b[0m\n\u001b[1;32m    251\u001b[0m             \u001b[0mvolatility\u001b[0m\u001b[0;34m=\u001b[0m\u001b[0mvolatility\u001b[0m\u001b[0;34m,\u001b[0m\u001b[0;34m\u001b[0m\u001b[0;34m\u001b[0m\u001b[0m\n\u001b[1;32m    252\u001b[0m             \u001b[0mdistribution\u001b[0m\u001b[0;34m=\u001b[0m\u001b[0mdistribution\u001b[0m\u001b[0;34m,\u001b[0m\u001b[0;34m\u001b[0m\u001b[0;34m\u001b[0m\u001b[0m\n\u001b[0;32m--> 253\u001b[0;31m             \u001b[0mrescale\u001b[0m\u001b[0;34m=\u001b[0m\u001b[0mrescale\u001b[0m\u001b[0;34m,\u001b[0m\u001b[0;34m\u001b[0m\u001b[0;34m\u001b[0m\u001b[0m\n\u001b[0m\u001b[1;32m    254\u001b[0m         )\n\u001b[1;32m    255\u001b[0m         \u001b[0mself\u001b[0m\u001b[0;34m.\u001b[0m\u001b[0m_x\u001b[0m \u001b[0;34m=\u001b[0m \u001b[0mx\u001b[0m\u001b[0;34m\u001b[0m\u001b[0;34m\u001b[0m\u001b[0m\n",
            "\u001b[0;32m/usr/local/lib/python3.7/dist-packages/arch/univariate/base.py\u001b[0m in \u001b[0;36m__init__\u001b[0;34m(self, y, volatility, distribution, hold_back, rescale)\u001b[0m\n\u001b[1;32m    196\u001b[0m         \u001b[0mself\u001b[0m\u001b[0;34m.\u001b[0m\u001b[0m_is_pandas\u001b[0m \u001b[0;34m=\u001b[0m \u001b[0misinstance\u001b[0m\u001b[0;34m(\u001b[0m\u001b[0my\u001b[0m\u001b[0;34m,\u001b[0m \u001b[0;34m(\u001b[0m\u001b[0mDataFrame\u001b[0m\u001b[0;34m,\u001b[0m \u001b[0mSeries\u001b[0m\u001b[0;34m)\u001b[0m\u001b[0;34m)\u001b[0m\u001b[0;34m\u001b[0m\u001b[0;34m\u001b[0m\u001b[0m\n\u001b[1;32m    197\u001b[0m         \u001b[0;32mif\u001b[0m \u001b[0my\u001b[0m \u001b[0;32mis\u001b[0m \u001b[0;32mnot\u001b[0m \u001b[0;32mNone\u001b[0m\u001b[0;34m:\u001b[0m\u001b[0;34m\u001b[0m\u001b[0;34m\u001b[0m\u001b[0m\n\u001b[0;32m--> 198\u001b[0;31m             \u001b[0mself\u001b[0m\u001b[0;34m.\u001b[0m\u001b[0m_y_series\u001b[0m \u001b[0;34m=\u001b[0m \u001b[0mcast\u001b[0m\u001b[0;34m(\u001b[0m\u001b[0mSeries\u001b[0m\u001b[0;34m,\u001b[0m \u001b[0mensure1d\u001b[0m\u001b[0;34m(\u001b[0m\u001b[0my\u001b[0m\u001b[0;34m,\u001b[0m \u001b[0;34m\"y\"\u001b[0m\u001b[0;34m,\u001b[0m \u001b[0mseries\u001b[0m\u001b[0;34m=\u001b[0m\u001b[0;32mTrue\u001b[0m\u001b[0;34m)\u001b[0m\u001b[0;34m)\u001b[0m\u001b[0;34m\u001b[0m\u001b[0;34m\u001b[0m\u001b[0m\n\u001b[0m\u001b[1;32m    199\u001b[0m         \u001b[0;32melse\u001b[0m\u001b[0;34m:\u001b[0m\u001b[0;34m\u001b[0m\u001b[0;34m\u001b[0m\u001b[0m\n\u001b[1;32m    200\u001b[0m             \u001b[0mself\u001b[0m\u001b[0;34m.\u001b[0m\u001b[0m_y_series\u001b[0m \u001b[0;34m=\u001b[0m \u001b[0mcast\u001b[0m\u001b[0;34m(\u001b[0m\u001b[0mSeries\u001b[0m\u001b[0;34m,\u001b[0m \u001b[0mensure1d\u001b[0m\u001b[0;34m(\u001b[0m\u001b[0mnp\u001b[0m\u001b[0;34m.\u001b[0m\u001b[0mempty\u001b[0m\u001b[0;34m(\u001b[0m\u001b[0;34m(\u001b[0m\u001b[0;36m0\u001b[0m\u001b[0;34m,\u001b[0m\u001b[0;34m)\u001b[0m\u001b[0;34m)\u001b[0m\u001b[0;34m,\u001b[0m \u001b[0;34m\"y\"\u001b[0m\u001b[0;34m,\u001b[0m \u001b[0mseries\u001b[0m\u001b[0;34m=\u001b[0m\u001b[0;32mTrue\u001b[0m\u001b[0;34m)\u001b[0m\u001b[0;34m)\u001b[0m\u001b[0;34m\u001b[0m\u001b[0;34m\u001b[0m\u001b[0m\n",
            "\u001b[0;32m/usr/local/lib/python3.7/dist-packages/arch/utility/array.py\u001b[0m in \u001b[0;36mensure1d\u001b[0;34m(x, name, series)\u001b[0m\n\u001b[1;32m     47\u001b[0m     \u001b[0;32mif\u001b[0m \u001b[0misinstance\u001b[0m\u001b[0;34m(\u001b[0m\u001b[0mx\u001b[0m\u001b[0;34m,\u001b[0m \u001b[0mDataFrame\u001b[0m\u001b[0;34m)\u001b[0m\u001b[0;34m:\u001b[0m\u001b[0;34m\u001b[0m\u001b[0;34m\u001b[0m\u001b[0m\n\u001b[1;32m     48\u001b[0m         \u001b[0;32mif\u001b[0m \u001b[0mx\u001b[0m\u001b[0;34m.\u001b[0m\u001b[0mshape\u001b[0m\u001b[0;34m[\u001b[0m\u001b[0;36m1\u001b[0m\u001b[0;34m]\u001b[0m \u001b[0;34m!=\u001b[0m \u001b[0;36m1\u001b[0m\u001b[0;34m:\u001b[0m\u001b[0;34m\u001b[0m\u001b[0;34m\u001b[0m\u001b[0m\n\u001b[0;32m---> 49\u001b[0;31m             \u001b[0;32mraise\u001b[0m \u001b[0mValueError\u001b[0m\u001b[0;34m(\u001b[0m\u001b[0;34mf\"{name} must be squeezable to 1 dimension\"\u001b[0m\u001b[0;34m)\u001b[0m\u001b[0;34m\u001b[0m\u001b[0;34m\u001b[0m\u001b[0m\n\u001b[0m\u001b[1;32m     50\u001b[0m         \u001b[0;32mif\u001b[0m \u001b[0;32mnot\u001b[0m \u001b[0mseries\u001b[0m\u001b[0;34m:\u001b[0m\u001b[0;34m\u001b[0m\u001b[0;34m\u001b[0m\u001b[0m\n\u001b[1;32m     51\u001b[0m             \u001b[0;32mreturn\u001b[0m \u001b[0mnp\u001b[0m\u001b[0;34m.\u001b[0m\u001b[0masarray\u001b[0m\u001b[0;34m(\u001b[0m\u001b[0mx\u001b[0m\u001b[0;34m.\u001b[0m\u001b[0miloc\u001b[0m\u001b[0;34m[\u001b[0m\u001b[0;34m:\u001b[0m\u001b[0;34m,\u001b[0m \u001b[0;36m0\u001b[0m\u001b[0;34m]\u001b[0m\u001b[0;34m)\u001b[0m\u001b[0;34m\u001b[0m\u001b[0;34m\u001b[0m\u001b[0m\n",
            "\u001b[0;31mValueError\u001b[0m: y must be squeezable to 1 dimension"
          ]
        }
      ]
    },
    {
      "cell_type": "code",
      "metadata": {
        "colab": {
          "base_uri": "https://localhost:8080/",
          "height": 692
        },
        "id": "6cqu-oWV7j25",
        "outputId": "629dc25b-132a-4708-8a20-1094e6af1918"
      },
      "source": [
        "# example of ARCH model\n",
        "from random import gauss\n",
        "from random import seed\n",
        "from matplotlib import pyplot\n",
        "from arch import arch_model\n",
        "# seed pseudorandom number generator\n",
        "seed(1)\n",
        "# create dataset\n",
        "data = [gauss(0, i*0.01) for i in range(0,100)]\n",
        "# split into train/test\n",
        "n_test = 10\n",
        "train, test = data[:-n_test], data[-n_test:]\n",
        "# define model\n",
        "model = arch_model(train, mean='Zero', vol='HARCH', p=15, q=15)\n",
        "# fit model\n",
        "model_fit = model.fit()\n",
        "# forecast the test set\n",
        "yhat = model_fit.forecast(horizon=n_test)\n",
        "# plot the actual variance\n",
        "var = [i*0.01 for i in range(0,100)]\n",
        "pyplot.plot(var[-n_test:])\n",
        "# plot forecast variance\n",
        "pyplot.plot(yhat.variance.values[-1, :])\n",
        "pyplot.show()"
      ],
      "execution_count": null,
      "outputs": [
        {
          "output_type": "stream",
          "text": [
            "Iteration:      1,   Func. Count:     18,   Neg. LLF: 45.01079847993596\n",
            "Iteration:      2,   Func. Count:     37,   Neg. LLF: 42.050656745002726\n",
            "Iteration:      3,   Func. Count:     56,   Neg. LLF: 41.01054515268306\n",
            "Iteration:      4,   Func. Count:     74,   Neg. LLF: 38.65129877351371\n",
            "Iteration:      5,   Func. Count:     93,   Neg. LLF: 38.471513641070146\n",
            "Iteration:      6,   Func. Count:    112,   Neg. LLF: 38.399365623618436\n",
            "Iteration:      7,   Func. Count:    130,   Neg. LLF: 38.39334744712312\n",
            "Iteration:      8,   Func. Count:    148,   Neg. LLF: 38.392017058278725\n",
            "Iteration:      9,   Func. Count:    166,   Neg. LLF: 38.39201436414302\n",
            "Optimization terminated successfully.    (Exit mode 0)\n",
            "            Current function value: 38.39201445623142\n",
            "            Iterations: 9\n",
            "            Function evaluations: 166\n",
            "            Gradient evaluations: 9\n"
          ],
          "name": "stdout"
        },
        {
          "output_type": "stream",
          "text": [
            "/usr/local/lib/python3.7/dist-packages/arch/__future__/_utility.py:21: FutureWarning: \n",
            "The default for reindex is True. After September 2021 this will change to\n",
            "False. Set reindex to True or False to silence this message. Alternatively,\n",
            "you can use the import comment\n",
            "\n",
            "from arch.__future__ import reindexing\n",
            "\n",
            "to globally set reindex to True and silence this warning.\n",
            "\n",
            "  FutureWarning,\n"
          ],
          "name": "stderr"
        },
        {
          "output_type": "display_data",
          "data": {
            "image/png": "[encoded data removed]",
            "text/plain": [
              "<Figure size 432x288 with 1 Axes>"
            ]
          },
          "metadata": {
            "tags": []
          }
        }
      ]
    },
    {
      "cell_type": "code",
      "metadata": {
        "colab": {
          "base_uri": "https://localhost:8080/",
          "height": 940
        },
        "id": "TRrS2eHA7W1p",
        "outputId": "48e968b7-e1ed-4f46-a862-6ac91c13862d"
      },
      "source": [
        "# example of ARCH model\n",
        "from random import gauss\n",
        "from random import seed\n",
        "from matplotlib import pyplot\n",
        "from arch import arch_model\n",
        "# seed pseudorandom number generator\n",
        "seed(1)\n",
        "# create dataset\n",
        "data = [gauss(0, i*0.01) for i in range(0,100)]\n",
        "# split into train/test\n",
        "n_test = 10\n",
        "train, test = data[:-n_test], data[-n_test:]\n",
        "# define model\n",
        "model = arch_model(train, mean='Zero', vol='ARCH', p=15, q=15)\n",
        "# fit model\n",
        "model_fit = model.fit()\n",
        "# forecast the test set\n",
        "yhat = model_fit.forecast(horizon=n_test)\n",
        "# plot the actual variance\n",
        "var = [i*0.01 for i in range(0,100)]\n",
        "pyplot.plot(var[-n_test:])\n",
        "# plot forecast variance\n",
        "pyplot.plot(yhat.variance.values[-1, :])\n",
        "pyplot.show()"
      ],
      "execution_count": null,
      "outputs": [
        {
          "output_type": "stream",
          "text": [
            "Iteration:      1,   Func. Count:     18,   Neg. LLF: 41.42285909902891\n",
            "Iteration:      2,   Func. Count:     37,   Neg. LLF: 38.58236083168643\n",
            "Iteration:      3,   Func. Count:     56,   Neg. LLF: 36.70857630115163\n",
            "Iteration:      4,   Func. Count:     75,   Neg. LLF: 35.64329949592393\n",
            "Iteration:      5,   Func. Count:     94,   Neg. LLF: 34.388550595379975\n",
            "Iteration:      6,   Func. Count:    113,   Neg. LLF: 31.603119552517732\n",
            "Iteration:      7,   Func. Count:    132,   Neg. LLF: 30.180005155417653\n",
            "Iteration:      8,   Func. Count:    150,   Neg. LLF: 28.719725365835618\n",
            "Iteration:      9,   Func. Count:    169,   Neg. LLF: 25.76384751972326\n",
            "Iteration:     10,   Func. Count:    189,   Neg. LLF: 25.732447890170047\n",
            "Iteration:     11,   Func. Count:    208,   Neg. LLF: 25.649898218420457\n",
            "Iteration:     12,   Func. Count:    227,   Neg. LLF: 25.560400051601007\n",
            "Iteration:     13,   Func. Count:    247,   Neg. LLF: 25.546556809654177\n",
            "Iteration:     14,   Func. Count:    266,   Neg. LLF: 25.48855325038206\n",
            "Iteration:     15,   Func. Count:    285,   Neg. LLF: 25.484752316972667\n",
            "Iteration:     16,   Func. Count:    304,   Neg. LLF: 25.48361365572343\n",
            "Iteration:     17,   Func. Count:    323,   Neg. LLF: 25.482930194956648\n",
            "Iteration:     18,   Func. Count:    341,   Neg. LLF: 25.48214950042378\n",
            "Iteration:     19,   Func. Count:    359,   Neg. LLF: 25.480673868360196\n",
            "Iteration:     20,   Func. Count:    377,   Neg. LLF: 25.478363003722965\n",
            "Iteration:     21,   Func. Count:    395,   Neg. LLF: 25.47763912387276\n",
            "Iteration:     22,   Func. Count:    413,   Neg. LLF: 25.47751060975362\n",
            "Iteration:     23,   Func. Count:    431,   Neg. LLF: 25.477507552673305\n",
            "Optimization terminated successfully.    (Exit mode 0)\n",
            "            Current function value: 25.477507586349713\n",
            "            Iterations: 23\n",
            "            Function evaluations: 431\n",
            "            Gradient evaluations: 23\n"
          ],
          "name": "stdout"
        },
        {
          "output_type": "stream",
          "text": [
            "/usr/local/lib/python3.7/dist-packages/arch/__future__/_utility.py:21: FutureWarning: \n",
            "The default for reindex is True. After September 2021 this will change to\n",
            "False. Set reindex to True or False to silence this message. Alternatively,\n",
            "you can use the import comment\n",
            "\n",
            "from arch.__future__ import reindexing\n",
            "\n",
            "to globally set reindex to True and silence this warning.\n",
            "\n",
            "  FutureWarning,\n"
          ],
          "name": "stderr"
        },
        {
          "output_type": "display_data",
          "data": {
            "image/png": "[encoded data removed]",
            "text/plain": [
              "<Figure size 432x288 with 1 Axes>"
            ]
          },
          "metadata": {
            "tags": []
          }
        }
      ]
    },
    {
      "cell_type": "code",
      "metadata": {
        "colab": {
          "base_uri": "https://localhost:8080/",
          "height": 545
        },
        "id": "trW4KNha_eYS",
        "outputId": "91c08c4e-3d8a-4922-ca60-73898067bb3d"
      },
      "source": [
        "model_fit.plot()"
      ],
      "execution_count": null,
      "outputs": [
        {
          "output_type": "execute_result",
          "data": {
            "image/png": "[encoded data removed]",
            "text/plain": [
              "<Figure size 432x288 with 2 Axes>"
            ]
          },
          "metadata": {
            "tags": []
          },
          "execution_count": 66
        },
        {
          "output_type": "display_data",
          "data": {
            "image/png": "[encoded data removed]",
            "text/plain": [
              "<Figure size 432x288 with 2 Axes>"
            ]
          },
          "metadata": {
            "tags": []
          }
        }
      ]
    },
    {
      "cell_type": "code",
      "metadata": {
        "colab": {
          "base_uri": "https://localhost:8080/"
        },
        "id": "kMDYa3s954sM",
        "outputId": "80ba2fed-a3cb-4057-c7cf-f4da23ab10ff"
      },
      "source": [
        "print(model_fit.summary())"
      ],
      "execution_count": null,
      "outputs": [
        {
          "output_type": "stream",
          "text": [
            "                       Zero Mean - HARCH Model Results                        \n",
            "==============================================================================\n",
            "Dep. Variable:                      y   R-squared:                       0.000\n",
            "Mean Model:                 Zero Mean   Adj. R-squared:                  0.011\n",
            "Vol Model:                      HARCH   Log-Likelihood:               -38.3920\n",
            "Distribution:                  Normal   AIC:                           108.784\n",
            "Method:            Maximum Likelihood   BIC:                           148.781\n",
            "                                        No. Observations:                   90\n",
            "Date:                Fri, Apr 02 2021   Df Residuals:                       90\n",
            "Time:                        18:53:35   Df Model:                            0\n",
            "                               Volatility Model                              \n",
            "=============================================================================\n",
            "                 coef    std err          t      P>|t|       95.0% Conf. Int.\n",
            "-----------------------------------------------------------------------------\n",
            "omega          0.0107  1.599e-02      0.669      0.503 [-2.064e-02,4.205e-02]\n",
            "alpha[1]       0.0000      0.618      0.000      1.000      [ -1.211,  1.211]\n",
            "alpha[2]       0.0000      1.601      0.000      1.000      [ -3.138,  3.138]\n",
            "alpha[3]       0.0000      1.203      0.000      1.000      [ -2.358,  2.358]\n",
            "alpha[4]       0.0000      1.464      0.000      1.000      [ -2.869,  2.869]\n",
            "alpha[5]       0.0000      0.905      0.000      1.000      [ -1.773,  1.773]\n",
            "alpha[6]       0.8200      2.538      0.323      0.747      [ -4.154,  5.794]\n",
            "alpha[7]       0.0000      2.768      0.000      1.000      [ -5.424,  5.424]\n",
            "alpha[8]       0.0000      3.102      0.000      1.000      [ -6.080,  6.080]\n",
            "alpha[9]       0.0000      3.152      0.000      1.000      [ -6.178,  6.178]\n",
            "alpha[10]      0.0000      4.896      0.000      1.000      [ -9.597,  9.597]\n",
            "alpha[11]      0.0000      3.307      0.000      1.000      [ -6.481,  6.481]\n",
            "alpha[12]      0.1800      5.447  3.304e-02      0.974      [-10.497, 10.857]\n",
            "alpha[13]      0.0000      7.516      0.000      1.000      [-14.732, 14.732]\n",
            "alpha[14]      0.0000      8.393      0.000      1.000      [-16.451, 16.451]\n",
            "alpha[15]      0.0000      6.547      0.000      1.000      [-12.832, 12.832]\n",
            "=============================================================================\n",
            "\n",
            "Covariance estimator: robust\n"
          ],
          "name": "stdout"
        }
      ]
    },
    {
      "cell_type": "code",
      "metadata": {
        "colab": {
          "base_uri": "https://localhost:8080/"
        },
        "id": "O9IJmMITMHCH",
        "outputId": "eeaa6521-f690-4b53-969f-b43c5a1f751a"
      },
      "source": [
        "tt= df['PM2.5'].resample('MS').var()\n",
        "tt = train[-100:]\n",
        "print(tt)"
      ],
      "execution_count": null,
      "outputs": [
        {
          "output_type": "stream",
          "text": [
            "11198    104.0\n",
            "11199     90.0\n",
            "11200     49.0\n",
            "11201     53.0\n",
            "11202     75.0\n",
            "         ...  \n",
            "11293     37.0\n",
            "11294     42.0\n",
            "11295     45.0\n",
            "11296     39.0\n",
            "11297     42.0\n",
            "Name: PM2.5, Length: 100, dtype: float64\n"
          ],
          "name": "stdout"
        }
      ]
    },
    {
      "cell_type": "code",
      "metadata": {
        "colab": {
          "base_uri": "https://localhost:8080/"
        },
        "id": "xPMlXzRJLaZE",
        "outputId": "18cba98c-de36-433b-d0bc-eab9e3aa79ba"
      },
      "source": [
        "print(yhat.variance.values[-1:])"
      ],
      "execution_count": null,
      "outputs": [
        {
          "output_type": "stream",
          "text": [
            "[[1962.96259138 2153.47706373 2333.9166577  2504.94993075 2667.06031658\n",
            "  2820.71622602 2966.36141895 3104.41322362 3235.26755651 3359.29966275\n",
            "  3476.8652263  3588.30138703 3693.92770772 3794.0470904  3888.94664503\n",
            "  3978.89851276 4064.16064638 4144.97755007 4221.58098049 4294.19061147\n",
            "  4363.01466388 4428.25050279 4490.08520345 4548.69608773 4604.25123266\n",
            "  4656.90995237 4706.823255   4754.13427573 4798.97868723 4841.48508874\n",
            "  4881.77537482 4919.96508498 4956.16373491 4990.47513061 5022.99766603\n",
            "  5053.82460528 5083.04435001 5110.74069298 5136.99305834 5161.87672934\n",
            "  5185.4630643  5207.81970117 5229.01075155 5249.09698449 5268.1360008\n",
            "  5286.18239822 5303.28792795 5319.50164311 5334.87003939 5349.43718835\n",
            "  5363.24486386 5376.33266186 5388.73811392 5400.49679483 5411.6424247\n",
            "  5422.20696558 5432.22071313 5441.71238355 5450.70919587 5459.23695003\n",
            "  5467.32010087 5474.98182823 5482.24410348 5489.12775246 5495.65251525\n",
            "  5501.83710275 5507.69925035 5513.2557688  5518.52259238 5523.51482464\n",
            "  5528.24678169 5532.73203323 5536.98344153 5541.01319823 5544.83285939\n",
            "  5548.45337854 5551.88513816 5555.13797943 5558.22123043 5561.14373294\n",
            "  5563.91386775 5566.5395787  5569.02839548 5571.38745521 5573.62352291\n",
            "  5575.7430109  5577.75199718 5579.65624287 5581.46120873 5583.17207083\n",
            "  5584.79373534 5586.3308527  5587.78783084 5589.16884792 5590.47786423\n",
            "  5591.71863362 5592.8947142  5594.00947861 5595.06612361 5596.06767933]]\n"
          ],
          "name": "stdout"
        }
      ]
    },
    {
      "cell_type": "code",
      "metadata": {
        "colab": {
          "base_uri": "https://localhost:8080/"
        },
        "id": "f3-uRxg3Ji6t",
        "outputId": "409fe6a6-2602-4f2a-e131-4b416f650f8e"
      },
      "source": [
        "df['PM2.5'].var()"
      ],
      "execution_count": null,
      "outputs": [
        {
          "output_type": "execute_result",
          "data": {
            "text/plain": [
              "6683.304419630514"
            ]
          },
          "metadata": {
            "tags": []
          },
          "execution_count": 113
        }
      ]
    },
    {
      "cell_type": "code",
      "metadata": {
        "colab": {
          "base_uri": "https://localhost:8080/"
        },
        "id": "MzgnmWdoBnlB",
        "outputId": "3256f268-71b8-4c31-98cd-917c1aa30757"
      },
      "source": [
        "print(train)"
      ],
      "execution_count": null,
      "outputs": [
        {
          "output_type": "stream",
          "text": [
            "                                   date  PM2.5  ...  Unnamed: 6  Unnamed: 7\n",
            "date                                            ...                        \n",
            "2013-01-03 00:00:00 2013-01-03 00:00:00    4.0  ...         NaN         NaN\n",
            "2013-01-03 01:00:00 2013-01-03 01:00:00    8.0  ...         NaN         NaN\n",
            "2013-01-03 02:00:00 2013-01-03 02:00:00    7.0  ...         NaN         NaN\n",
            "2013-01-03 03:00:00 2013-01-03 03:00:00    6.0  ...         NaN         NaN\n",
            "2013-01-03 04:00:00 2013-01-03 04:00:00    3.0  ...         NaN         NaN\n",
            "...                                 ...    ...  ...         ...         ...\n",
            "2014-06-14 13:00:00 2014-06-14 13:00:00   37.0  ...         NaN         NaN\n",
            "2014-06-14 14:00:00 2014-06-14 14:00:00   42.0  ...         NaN         NaN\n",
            "2014-06-14 15:00:00 2014-06-14 15:00:00   45.0  ...         NaN         NaN\n",
            "2014-06-14 16:00:00 2014-06-14 16:00:00   39.0  ...         NaN         NaN\n",
            "2014-06-14 17:00:00 2014-06-14 17:00:00   42.0  ...         NaN         NaN\n",
            "\n",
            "[11298 rows x 8 columns]\n"
          ],
          "name": "stdout"
        }
      ]
    },
    {
      "cell_type": "code",
      "metadata": {
        "colab": {
          "base_uri": "https://localhost:8080/"
        },
        "id": "G_xwjSPsAwFb",
        "outputId": "dffbd2fc-2f41-419d-b5a2-4a889a1e0d6c"
      },
      "source": [
        "pip install arch"
      ],
      "execution_count": null,
      "outputs": [
        {
          "output_type": "stream",
          "text": [
            "Collecting arch\n",
            "\u001b[?25l  Downloading https://files.pythonhosted.org/packages/5f/a8/a85dad77039d2884547d4fb83d54edfc13a12e31981934d6d0fb6303b791/arch-4.19-cp37-cp37m-manylinux1_x86_64.whl (807kB)\n",
            "\r\u001b[K     |▍                               | 10kB 14.5MB/s eta 0:00:01\r\u001b[K     |▉                               | 20kB 13.7MB/s eta 0:00:01\r\u001b[K     |█▏                              | 30kB 11.1MB/s eta 0:00:01\r\u001b[K     |█▋                              | 40kB 9.1MB/s eta 0:00:01\r\u001b[K     |██                              | 51kB 6.7MB/s eta 0:00:01\r\u001b[K     |██▍                             | 61kB 6.7MB/s eta 0:00:01\r\u001b[K     |██▉                             | 71kB 7.4MB/s eta 0:00:01\r\u001b[K     |███▎                            | 81kB 7.6MB/s eta 0:00:01\r\u001b[K     |███▋                            | 92kB 7.7MB/s eta 0:00:01\r\u001b[K     |████                            | 102kB 8.4MB/s eta 0:00:01\r\u001b[K     |████▌                           | 112kB 8.4MB/s eta 0:00:01\r\u001b[K     |████▉                           | 122kB 8.4MB/s eta 0:00:01\r\u001b[K     |█████▎                          | 133kB 8.4MB/s eta 0:00:01\r\u001b[K     |█████▊                          | 143kB 8.4MB/s eta 0:00:01\r\u001b[K     |██████                          | 153kB 8.4MB/s eta 0:00:01\r\u001b[K     |██████▌                         | 163kB 8.4MB/s eta 0:00:01\r\u001b[K     |███████                         | 174kB 8.4MB/s eta 0:00:01\r\u001b[K     |███████▎                        | 184kB 8.4MB/s eta 0:00:01\r\u001b[K     |███████▊                        | 194kB 8.4MB/s eta 0:00:01\r\u001b[K     |████████▏                       | 204kB 8.4MB/s eta 0:00:01\r\u001b[K     |████████▌                       | 215kB 8.4MB/s eta 0:00:01\r\u001b[K     |█████████                       | 225kB 8.4MB/s eta 0:00:01\r\u001b[K     |█████████▍                      | 235kB 8.4MB/s eta 0:00:01\r\u001b[K     |█████████▊                      | 245kB 8.4MB/s eta 0:00:01\r\u001b[K     |██████████▏                     | 256kB 8.4MB/s eta 0:00:01\r\u001b[K     |██████████▌                     | 266kB 8.4MB/s eta 0:00:01\r\u001b[K     |███████████                     | 276kB 8.4MB/s eta 0:00:01\r\u001b[K     |███████████▍                    | 286kB 8.4MB/s eta 0:00:01\r\u001b[K     |███████████▊                    | 296kB 8.4MB/s eta 0:00:01\r\u001b[K     |████████████▏                   | 307kB 8.4MB/s eta 0:00:01\r\u001b[K     |████████████▋                   | 317kB 8.4MB/s eta 0:00:01\r\u001b[K     |█████████████                   | 327kB 8.4MB/s eta 0:00:01\r\u001b[K     |█████████████▍                  | 337kB 8.4MB/s eta 0:00:01\r\u001b[K     |█████████████▉                  | 348kB 8.4MB/s eta 0:00:01\r\u001b[K     |██████████████▏                 | 358kB 8.4MB/s eta 0:00:01\r\u001b[K     |██████████████▋                 | 368kB 8.4MB/s eta 0:00:01\r\u001b[K     |███████████████                 | 378kB 8.4MB/s eta 0:00:01\r\u001b[K     |███████████████▍                | 389kB 8.4MB/s eta 0:00:01\r\u001b[K     |███████████████▉                | 399kB 8.4MB/s eta 0:00:01\r\u001b[K     |████████████████▎               | 409kB 8.4MB/s eta 0:00:01\r\u001b[K     |████████████████▋               | 419kB 8.4MB/s eta 0:00:01\r\u001b[K     |█████████████████               | 430kB 8.4MB/s eta 0:00:01\r\u001b[K     |█████████████████▌              | 440kB 8.4MB/s eta 0:00:01\r\u001b[K     |█████████████████▉              | 450kB 8.4MB/s eta 0:00:01\r\u001b[K     |██████████████████▎             | 460kB 8.4MB/s eta 0:00:01\r\u001b[K     |██████████████████▊             | 471kB 8.4MB/s eta 0:00:01\r\u001b[K     |███████████████████             | 481kB 8.4MB/s eta 0:00:01\r\u001b[K     |███████████████████▌            | 491kB 8.4MB/s eta 0:00:01\r\u001b[K     |████████████████████            | 501kB 8.4MB/s eta 0:00:01\r\u001b[K     |████████████████████▎           | 512kB 8.4MB/s eta 0:00:01\r\u001b[K     |████████████████████▊           | 522kB 8.4MB/s eta 0:00:01\r\u001b[K     |█████████████████████           | 532kB 8.4MB/s eta 0:00:01\r\u001b[K     |█████████████████████▌          | 542kB 8.4MB/s eta 0:00:01\r\u001b[K     |██████████████████████          | 552kB 8.4MB/s eta 0:00:01\r\u001b[K     |██████████████████████▎         | 563kB 8.4MB/s eta 0:00:01\r\u001b[K     |██████████████████████▊         | 573kB 8.4MB/s eta 0:00:01\r\u001b[K     |███████████████████████▏        | 583kB 8.4MB/s eta 0:00:01\r\u001b[K     |███████████████████████▌        | 593kB 8.4MB/s eta 0:00:01\r\u001b[K     |████████████████████████        | 604kB 8.4MB/s eta 0:00:01\r\u001b[K     |████████████████████████▍       | 614kB 8.4MB/s eta 0:00:01\r\u001b[K     |████████████████████████▊       | 624kB 8.4MB/s eta 0:00:01\r\u001b[K     |█████████████████████████▏      | 634kB 8.4MB/s eta 0:00:01\r\u001b[K     |█████████████████████████▋      | 645kB 8.4MB/s eta 0:00:01\r\u001b[K     |██████████████████████████      | 655kB 8.4MB/s eta 0:00:01\r\u001b[K     |██████████████████████████▍     | 665kB 8.4MB/s eta 0:00:01\r\u001b[K     |██████████████████████████▉     | 675kB 8.4MB/s eta 0:00:01\r\u001b[K     |███████████████████████████▏    | 686kB 8.4MB/s eta 0:00:01\r\u001b[K     |███████████████████████████▋    | 696kB 8.4MB/s eta 0:00:01\r\u001b[K     |████████████████████████████    | 706kB 8.4MB/s eta 0:00:01\r\u001b[K     |████████████████████████████▍   | 716kB 8.4MB/s eta 0:00:01\r\u001b[K     |████████████████████████████▉   | 727kB 8.4MB/s eta 0:00:01\r\u001b[K     |█████████████████████████████▎  | 737kB 8.4MB/s eta 0:00:01\r\u001b[K     |█████████████████████████████▋  | 747kB 8.4MB/s eta 0:00:01\r\u001b[K     |██████████████████████████████  | 757kB 8.4MB/s eta 0:00:01\r\u001b[K     |██████████████████████████████▌ | 768kB 8.4MB/s eta 0:00:01\r\u001b[K     |██████████████████████████████▉ | 778kB 8.4MB/s eta 0:00:01\r\u001b[K     |███████████████████████████████▎| 788kB 8.4MB/s eta 0:00:01\r\u001b[K     |███████████████████████████████▋| 798kB 8.4MB/s eta 0:00:01\r\u001b[K     |████████████████████████████████| 808kB 8.4MB/s \n",
            "\u001b[?25hRequirement already satisfied: scipy>=1.2.3 in /usr/local/lib/python3.7/dist-packages (from arch) (1.4.1)\n",
            "Requirement already satisfied: numpy>=1.14 in /usr/local/lib/python3.7/dist-packages (from arch) (1.19.5)\n",
            "Collecting property-cached>=1.6.4\n",
            "  Downloading https://files.pythonhosted.org/packages/5c/6c/94d8e520b20a2502e508e1c558f338061cf409cbee78fd6a3a5c6ae812bd/property_cached-1.6.4-py2.py3-none-any.whl\n",
            "Requirement already satisfied: pandas>=0.23 in /usr/local/lib/python3.7/dist-packages (from arch) (1.1.5)\n",
            "Requirement already satisfied: statsmodels>=0.10 in /usr/local/lib/python3.7/dist-packages (from arch) (0.10.2)\n",
            "Requirement already satisfied: cython>=0.29.14 in /usr/local/lib/python3.7/dist-packages (from arch) (0.29.22)\n",
            "Requirement already satisfied: pytz>=2017.2 in /usr/local/lib/python3.7/dist-packages (from pandas>=0.23->arch) (2018.9)\n",
            "Requirement already satisfied: python-dateutil>=2.7.3 in /usr/local/lib/python3.7/dist-packages (from pandas>=0.23->arch) (2.8.1)\n",
            "Requirement already satisfied: patsy>=0.4.0 in /usr/local/lib/python3.7/dist-packages (from statsmodels>=0.10->arch) (0.5.1)\n",
            "Requirement already satisfied: six>=1.5 in /usr/local/lib/python3.7/dist-packages (from python-dateutil>=2.7.3->pandas>=0.23->arch) (1.15.0)\n",
            "Installing collected packages: property-cached, arch\n",
            "Successfully installed arch-4.19 property-cached-1.6.4\n"
          ],
          "name": "stdout"
        }
      ]
    },
    {
      "cell_type": "code",
      "metadata": {
        "id": "Y0rYrSzW0R5E"
      },
      "source": [
        "import numpy as np\n",
        "import pandas as pd\n",
        "from matplotlib import pyplot as plt\n",
        "from statsmodels.tsa.stattools import adfuller\n",
        "from statsmodels.tsa.seasonal import seasonal_decompose\n",
        "from statsmodels.tsa.arima_model import ARIMA\n",
        "from pandas.plotting import register_matplotlib_converters\n",
        "register_matplotlib_converters()"
      ],
      "execution_count": null,
      "outputs": []
    },
    {
      "cell_type": "code",
      "metadata": {
        "id": "HR-egntQ1C4p"
      },
      "source": [
        "import pandas as pd\n",
        "trial = pd.read_csv(\"g.csv\")"
      ],
      "execution_count": null,
      "outputs": []
    },
    {
      "cell_type": "code",
      "metadata": {
        "id": "WDC-YaZA8JDR"
      },
      "source": [
        "format = '%Y-%m-%d %H:%M:%S'\n",
        "x = pd.to_datetime(trial['date'], format=format)\n",
        "trial = trial.set_index(pd.DatetimeIndex(x))"
      ],
      "execution_count": null,
      "outputs": []
    },
    {
      "cell_type": "code",
      "metadata": {
        "colab": {
          "base_uri": "https://localhost:8080/"
        },
        "id": "sSxD_sTA8BXV",
        "outputId": "76d6a67c-b5bf-4ed0-c072-d15cc743249a"
      },
      "source": [
        " isinstance(trial.index, pd.DatetimeIndex) "
      ],
      "execution_count": null,
      "outputs": [
        {
          "output_type": "execute_result",
          "data": {
            "text/plain": [
              "False"
            ]
          },
          "metadata": {
            "tags": []
          },
          "execution_count": 157
        }
      ]
    },
    {
      "cell_type": "code",
      "metadata": {
        "colab": {
          "base_uri": "https://localhost:8080/"
        },
        "id": "zAdFR4Ha8YNU",
        "outputId": "e9fc4337-1093-40ba-bd36-6b2aaaa7f59d"
      },
      "source": [
        "print(trial)"
      ],
      "execution_count": null,
      "outputs": [
        {
          "output_type": "stream",
          "text": [
            "         date       PM2.5\n",
            "0  2013-01-01   79.370833\n",
            "1  2013-02-01   85.023611\n",
            "2  2013-03-01   96.853448\n",
            "3  2013-04-01   70.413690\n",
            "4  2013-05-01   86.848659\n",
            "5  2013-06-01  116.942460\n",
            "6  2013-07-01   90.528257\n",
            "7  2013-08-01   79.195402\n",
            "8  2013-09-01   77.488591\n",
            "9  2013-10-01   72.455939\n",
            "10 2013-11-01   63.365575\n",
            "11 2013-12-01   70.443966\n",
            "12 2014-01-01   99.215905\n",
            "13 2014-02-01  146.371925\n",
            "14 2014-03-01   93.100358\n",
            "15 2014-04-01   91.165741\n",
            "16 2014-05-01   70.248118\n",
            "17 2014-06-01   74.223611\n",
            "18 2014-07-01   86.179659\n",
            "19 2014-08-01   77.401434\n",
            "20 2014-09-01   78.781481\n",
            "21 2014-10-01  109.517473\n",
            "22 2014-11-01  106.871759\n",
            "23 2014-12-01   58.491039\n",
            "24 2015-01-01   91.641263\n",
            "25 2015-02-01   79.739087\n",
            "26 2015-03-01   79.188530\n",
            "27 2015-04-01   74.390278\n",
            "28 2015-05-01   72.546147\n",
            "29 2015-06-01   78.969444\n",
            "30 2015-07-01   75.221774\n",
            "31 2015-08-01   53.593638\n",
            "32 2015-09-01   78.406019\n",
            "33 2015-10-01   73.043235\n",
            "34 2015-11-01  102.756944\n",
            "35 2015-12-01  123.545699\n",
            "36 2016-01-01   64.387545\n",
            "37 2016-02-01   52.743295\n",
            "38 2016-03-01  101.372312\n",
            "39 2016-04-01   91.421759\n",
            "40 2016-05-01   54.887097\n",
            "41 2016-06-01   58.483796\n",
            "42 2016-07-01   63.533602\n",
            "43 2016-08-01   46.328853\n",
            "44 2016-09-01   69.900463\n",
            "45 2016-10-01   79.480735\n",
            "46 2016-11-01   87.238889\n",
            "47 2016-12-01  115.888889\n",
            "48 2017-01-01   96.547619\n",
            "49 2017-02-01   77.973765\n",
            "50 2017-03-01  226.916667\n",
            "51 2017-04-01  314.166667\n",
            "52 2017-05-01  115.458333\n",
            "53 2017-06-01  104.333333\n",
            "54 2017-07-01  116.354167\n",
            "55 2017-08-01   29.750000\n",
            "56 2017-09-01   20.368056\n",
            "57 2017-10-01   15.833333\n",
            "58 2017-11-01   45.854167\n",
            "59 2017-12-01   75.416667\n"
          ],
          "name": "stdout"
        }
      ]
    },
    {
      "cell_type": "code",
      "metadata": {
        "colab": {
          "base_uri": "https://localhost:8080/"
        },
        "id": "g8vSjtXr_f63",
        "outputId": "e84f57d0-8571-4346-d962-887130dcf168"
      },
      "source": [
        "trial.date"
      ],
      "execution_count": null,
      "outputs": [
        {
          "output_type": "execute_result",
          "data": {
            "text/plain": [
              "0    2013-01-01\n",
              "1    2013-02-01\n",
              "2    2013-03-01\n",
              "3    2013-04-01\n",
              "4    2013-05-01\n",
              "5    2013-06-01\n",
              "6    2013-07-01\n",
              "7    2013-08-01\n",
              "8    2013-09-01\n",
              "9    2013-10-01\n",
              "10   2013-11-01\n",
              "11   2013-12-01\n",
              "12   2014-01-01\n",
              "13   2014-02-01\n",
              "14   2014-03-01\n",
              "15   2014-04-01\n",
              "16   2014-05-01\n",
              "17   2014-06-01\n",
              "18   2014-07-01\n",
              "19   2014-08-01\n",
              "20   2014-09-01\n",
              "21   2014-10-01\n",
              "22   2014-11-01\n",
              "23   2014-12-01\n",
              "24   2015-01-01\n",
              "25   2015-02-01\n",
              "26   2015-03-01\n",
              "27   2015-04-01\n",
              "28   2015-05-01\n",
              "29   2015-06-01\n",
              "30   2015-07-01\n",
              "31   2015-08-01\n",
              "32   2015-09-01\n",
              "33   2015-10-01\n",
              "34   2015-11-01\n",
              "35   2015-12-01\n",
              "36   2016-01-01\n",
              "37   2016-02-01\n",
              "38   2016-03-01\n",
              "39   2016-04-01\n",
              "40   2016-05-01\n",
              "41   2016-06-01\n",
              "42   2016-07-01\n",
              "43   2016-08-01\n",
              "44   2016-09-01\n",
              "45   2016-10-01\n",
              "46   2016-11-01\n",
              "47   2016-12-01\n",
              "48   2017-01-01\n",
              "49   2017-02-01\n",
              "50   2017-03-01\n",
              "51   2017-04-01\n",
              "52   2017-05-01\n",
              "53   2017-06-01\n",
              "54   2017-07-01\n",
              "55   2017-08-01\n",
              "56   2017-09-01\n",
              "57   2017-10-01\n",
              "58   2017-11-01\n",
              "59   2017-12-01\n",
              "Name: date, dtype: datetime64[ns]"
            ]
          },
          "metadata": {
            "tags": []
          },
          "execution_count": 126
        }
      ]
    },
    {
      "cell_type": "code",
      "metadata": {
        "colab": {
          "base_uri": "https://localhost:8080/"
        },
        "id": "NxTHMPEi9YrU",
        "outputId": "57c473d9-2cc5-4586-e081-5816d4ca09ca"
      },
      "source": [
        "type(trial)"
      ],
      "execution_count": null,
      "outputs": [
        {
          "output_type": "execute_result",
          "data": {
            "text/plain": [
              "pandas.core.frame.DataFrame"
            ]
          },
          "metadata": {
            "tags": []
          },
          "execution_count": 104
        }
      ]
    },
    {
      "cell_type": "code",
      "metadata": {
        "colab": {
          "base_uri": "https://localhost:8080/",
          "height": 1000
        },
        "id": "P9If4QEB9a2R",
        "outputId": "90319f25-a88e-499c-855e-f3a9d268b3ba"
      },
      "source": [
        "trial.squeeze()"
      ],
      "execution_count": null,
      "outputs": [
        {
          "output_type": "execute_result",
          "data": {
            "text/html": [
              "<div>\n",
              "<style scoped>\n",
              "    .dataframe tbody tr th:only-of-type {\n",
              "        vertical-align: middle;\n",
              "    }\n",
              "\n",
              "    .dataframe tbody tr th {\n",
              "        vertical-align: top;\n",
              "    }\n",
              "\n",
              "    .dataframe thead th {\n",
              "        text-align: right;\n",
              "    }\n",
              "</style>\n",
              "<table border=\"1\" class=\"dataframe\">\n",
              "  <thead>\n",
              "    <tr style=\"text-align: right;\">\n",
              "      <th></th>\n",
              "      <th>date</th>\n",
              "      <th>PM2.5</th>\n",
              "    </tr>\n",
              "  </thead>\n",
              "  <tbody>\n",
              "    <tr>\n",
              "      <th>0</th>\n",
              "      <td>2013-01-01</td>\n",
              "      <td>79.370833</td>\n",
              "    </tr>\n",
              "    <tr>\n",
              "      <th>1</th>\n",
              "      <td>2013-02-01</td>\n",
              "      <td>85.023611</td>\n",
              "    </tr>\n",
              "    <tr>\n",
              "      <th>2</th>\n",
              "      <td>2013-03-01</td>\n",
              "      <td>96.853448</td>\n",
              "    </tr>\n",
              "    <tr>\n",
              "      <th>3</th>\n",
              "      <td>2013-04-01</td>\n",
              "      <td>70.413690</td>\n",
              "    </tr>\n",
              "    <tr>\n",
              "      <th>4</th>\n",
              "      <td>2013-05-01</td>\n",
              "      <td>86.848659</td>\n",
              "    </tr>\n",
              "    <tr>\n",
              "      <th>5</th>\n",
              "      <td>2013-06-01</td>\n",
              "      <td>116.942460</td>\n",
              "    </tr>\n",
              "    <tr>\n",
              "      <th>6</th>\n",
              "      <td>2013-07-01</td>\n",
              "      <td>90.528257</td>\n",
              "    </tr>\n",
              "    <tr>\n",
              "      <th>7</th>\n",
              "      <td>2013-08-01</td>\n",
              "      <td>79.195402</td>\n",
              "    </tr>\n",
              "    <tr>\n",
              "      <th>8</th>\n",
              "      <td>2013-09-01</td>\n",
              "      <td>77.488591</td>\n",
              "    </tr>\n",
              "    <tr>\n",
              "      <th>9</th>\n",
              "      <td>2013-10-01</td>\n",
              "      <td>72.455939</td>\n",
              "    </tr>\n",
              "    <tr>\n",
              "      <th>10</th>\n",
              "      <td>2013-11-01</td>\n",
              "      <td>63.365575</td>\n",
              "    </tr>\n",
              "    <tr>\n",
              "      <th>11</th>\n",
              "      <td>2013-12-01</td>\n",
              "      <td>70.443966</td>\n",
              "    </tr>\n",
              "    <tr>\n",
              "      <th>12</th>\n",
              "      <td>2014-01-01</td>\n",
              "      <td>99.215905</td>\n",
              "    </tr>\n",
              "    <tr>\n",
              "      <th>13</th>\n",
              "      <td>2014-02-01</td>\n",
              "      <td>146.371925</td>\n",
              "    </tr>\n",
              "    <tr>\n",
              "      <th>14</th>\n",
              "      <td>2014-03-01</td>\n",
              "      <td>93.100358</td>\n",
              "    </tr>\n",
              "    <tr>\n",
              "      <th>15</th>\n",
              "      <td>2014-04-01</td>\n",
              "      <td>91.165741</td>\n",
              "    </tr>\n",
              "    <tr>\n",
              "      <th>16</th>\n",
              "      <td>2014-05-01</td>\n",
              "      <td>70.248118</td>\n",
              "    </tr>\n",
              "    <tr>\n",
              "      <th>17</th>\n",
              "      <td>2014-06-01</td>\n",
              "      <td>74.223611</td>\n",
              "    </tr>\n",
              "    <tr>\n",
              "      <th>18</th>\n",
              "      <td>2014-07-01</td>\n",
              "      <td>86.179659</td>\n",
              "    </tr>\n",
              "    <tr>\n",
              "      <th>19</th>\n",
              "      <td>2014-08-01</td>\n",
              "      <td>77.401434</td>\n",
              "    </tr>\n",
              "    <tr>\n",
              "      <th>20</th>\n",
              "      <td>2014-09-01</td>\n",
              "      <td>78.781481</td>\n",
              "    </tr>\n",
              "    <tr>\n",
              "      <th>21</th>\n",
              "      <td>2014-10-01</td>\n",
              "      <td>109.517473</td>\n",
              "    </tr>\n",
              "    <tr>\n",
              "      <th>22</th>\n",
              "      <td>2014-11-01</td>\n",
              "      <td>106.871759</td>\n",
              "    </tr>\n",
              "    <tr>\n",
              "      <th>23</th>\n",
              "      <td>2014-12-01</td>\n",
              "      <td>58.491039</td>\n",
              "    </tr>\n",
              "    <tr>\n",
              "      <th>24</th>\n",
              "      <td>2015-01-01</td>\n",
              "      <td>91.641263</td>\n",
              "    </tr>\n",
              "    <tr>\n",
              "      <th>25</th>\n",
              "      <td>2015-02-01</td>\n",
              "      <td>79.739087</td>\n",
              "    </tr>\n",
              "    <tr>\n",
              "      <th>26</th>\n",
              "      <td>2015-03-01</td>\n",
              "      <td>79.188530</td>\n",
              "    </tr>\n",
              "    <tr>\n",
              "      <th>27</th>\n",
              "      <td>2015-04-01</td>\n",
              "      <td>74.390278</td>\n",
              "    </tr>\n",
              "    <tr>\n",
              "      <th>28</th>\n",
              "      <td>2015-05-01</td>\n",
              "      <td>72.546147</td>\n",
              "    </tr>\n",
              "    <tr>\n",
              "      <th>29</th>\n",
              "      <td>2015-06-01</td>\n",
              "      <td>78.969444</td>\n",
              "    </tr>\n",
              "    <tr>\n",
              "      <th>30</th>\n",
              "      <td>2015-07-01</td>\n",
              "      <td>75.221774</td>\n",
              "    </tr>\n",
              "    <tr>\n",
              "      <th>31</th>\n",
              "      <td>2015-08-01</td>\n",
              "      <td>53.593638</td>\n",
              "    </tr>\n",
              "    <tr>\n",
              "      <th>32</th>\n",
              "      <td>2015-09-01</td>\n",
              "      <td>78.406019</td>\n",
              "    </tr>\n",
              "    <tr>\n",
              "      <th>33</th>\n",
              "      <td>2015-10-01</td>\n",
              "      <td>73.043235</td>\n",
              "    </tr>\n",
              "    <tr>\n",
              "      <th>34</th>\n",
              "      <td>2015-11-01</td>\n",
              "      <td>102.756944</td>\n",
              "    </tr>\n",
              "    <tr>\n",
              "      <th>35</th>\n",
              "      <td>2015-12-01</td>\n",
              "      <td>123.545699</td>\n",
              "    </tr>\n",
              "    <tr>\n",
              "      <th>36</th>\n",
              "      <td>2016-01-01</td>\n",
              "      <td>64.387545</td>\n",
              "    </tr>\n",
              "    <tr>\n",
              "      <th>37</th>\n",
              "      <td>2016-02-01</td>\n",
              "      <td>52.743295</td>\n",
              "    </tr>\n",
              "    <tr>\n",
              "      <th>38</th>\n",
              "      <td>2016-03-01</td>\n",
              "      <td>101.372312</td>\n",
              "    </tr>\n",
              "    <tr>\n",
              "      <th>39</th>\n",
              "      <td>2016-04-01</td>\n",
              "      <td>91.421759</td>\n",
              "    </tr>\n",
              "    <tr>\n",
              "      <th>40</th>\n",
              "      <td>2016-05-01</td>\n",
              "      <td>54.887097</td>\n",
              "    </tr>\n",
              "    <tr>\n",
              "      <th>41</th>\n",
              "      <td>2016-06-01</td>\n",
              "      <td>58.483796</td>\n",
              "    </tr>\n",
              "    <tr>\n",
              "      <th>42</th>\n",
              "      <td>2016-07-01</td>\n",
              "      <td>63.533602</td>\n",
              "    </tr>\n",
              "    <tr>\n",
              "      <th>43</th>\n",
              "      <td>2016-08-01</td>\n",
              "      <td>46.328853</td>\n",
              "    </tr>\n",
              "    <tr>\n",
              "      <th>44</th>\n",
              "      <td>2016-09-01</td>\n",
              "      <td>69.900463</td>\n",
              "    </tr>\n",
              "    <tr>\n",
              "      <th>45</th>\n",
              "      <td>2016-10-01</td>\n",
              "      <td>79.480735</td>\n",
              "    </tr>\n",
              "    <tr>\n",
              "      <th>46</th>\n",
              "      <td>2016-11-01</td>\n",
              "      <td>87.238889</td>\n",
              "    </tr>\n",
              "    <tr>\n",
              "      <th>47</th>\n",
              "      <td>2016-12-01</td>\n",
              "      <td>115.888889</td>\n",
              "    </tr>\n",
              "    <tr>\n",
              "      <th>48</th>\n",
              "      <td>2017-01-01</td>\n",
              "      <td>96.547619</td>\n",
              "    </tr>\n",
              "    <tr>\n",
              "      <th>49</th>\n",
              "      <td>2017-02-01</td>\n",
              "      <td>77.973765</td>\n",
              "    </tr>\n",
              "    <tr>\n",
              "      <th>50</th>\n",
              "      <td>2017-03-01</td>\n",
              "      <td>226.916667</td>\n",
              "    </tr>\n",
              "    <tr>\n",
              "      <th>51</th>\n",
              "      <td>2017-04-01</td>\n",
              "      <td>314.166667</td>\n",
              "    </tr>\n",
              "    <tr>\n",
              "      <th>52</th>\n",
              "      <td>2017-05-01</td>\n",
              "      <td>115.458333</td>\n",
              "    </tr>\n",
              "    <tr>\n",
              "      <th>53</th>\n",
              "      <td>2017-06-01</td>\n",
              "      <td>104.333333</td>\n",
              "    </tr>\n",
              "    <tr>\n",
              "      <th>54</th>\n",
              "      <td>2017-07-01</td>\n",
              "      <td>116.354167</td>\n",
              "    </tr>\n",
              "    <tr>\n",
              "      <th>55</th>\n",
              "      <td>2017-08-01</td>\n",
              "      <td>29.750000</td>\n",
              "    </tr>\n",
              "    <tr>\n",
              "      <th>56</th>\n",
              "      <td>2017-09-01</td>\n",
              "      <td>20.368056</td>\n",
              "    </tr>\n",
              "    <tr>\n",
              "      <th>57</th>\n",
              "      <td>2017-10-01</td>\n",
              "      <td>15.833333</td>\n",
              "    </tr>\n",
              "    <tr>\n",
              "      <th>58</th>\n",
              "      <td>2017-11-01</td>\n",
              "      <td>45.854167</td>\n",
              "    </tr>\n",
              "    <tr>\n",
              "      <th>59</th>\n",
              "      <td>2017-12-01</td>\n",
              "      <td>75.416667</td>\n",
              "    </tr>\n",
              "  </tbody>\n",
              "</table>\n",
              "</div>"
            ],
            "text/plain": [
              "         date       PM2.5\n",
              "0  2013-01-01   79.370833\n",
              "1  2013-02-01   85.023611\n",
              "2  2013-03-01   96.853448\n",
              "3  2013-04-01   70.413690\n",
              "4  2013-05-01   86.848659\n",
              "5  2013-06-01  116.942460\n",
              "6  2013-07-01   90.528257\n",
              "7  2013-08-01   79.195402\n",
              "8  2013-09-01   77.488591\n",
              "9  2013-10-01   72.455939\n",
              "10 2013-11-01   63.365575\n",
              "11 2013-12-01   70.443966\n",
              "12 2014-01-01   99.215905\n",
              "13 2014-02-01  146.371925\n",
              "14 2014-03-01   93.100358\n",
              "15 2014-04-01   91.165741\n",
              "16 2014-05-01   70.248118\n",
              "17 2014-06-01   74.223611\n",
              "18 2014-07-01   86.179659\n",
              "19 2014-08-01   77.401434\n",
              "20 2014-09-01   78.781481\n",
              "21 2014-10-01  109.517473\n",
              "22 2014-11-01  106.871759\n",
              "23 2014-12-01   58.491039\n",
              "24 2015-01-01   91.641263\n",
              "25 2015-02-01   79.739087\n",
              "26 2015-03-01   79.188530\n",
              "27 2015-04-01   74.390278\n",
              "28 2015-05-01   72.546147\n",
              "29 2015-06-01   78.969444\n",
              "30 2015-07-01   75.221774\n",
              "31 2015-08-01   53.593638\n",
              "32 2015-09-01   78.406019\n",
              "33 2015-10-01   73.043235\n",
              "34 2015-11-01  102.756944\n",
              "35 2015-12-01  123.545699\n",
              "36 2016-01-01   64.387545\n",
              "37 2016-02-01   52.743295\n",
              "38 2016-03-01  101.372312\n",
              "39 2016-04-01   91.421759\n",
              "40 2016-05-01   54.887097\n",
              "41 2016-06-01   58.483796\n",
              "42 2016-07-01   63.533602\n",
              "43 2016-08-01   46.328853\n",
              "44 2016-09-01   69.900463\n",
              "45 2016-10-01   79.480735\n",
              "46 2016-11-01   87.238889\n",
              "47 2016-12-01  115.888889\n",
              "48 2017-01-01   96.547619\n",
              "49 2017-02-01   77.973765\n",
              "50 2017-03-01  226.916667\n",
              "51 2017-04-01  314.166667\n",
              "52 2017-05-01  115.458333\n",
              "53 2017-06-01  104.333333\n",
              "54 2017-07-01  116.354167\n",
              "55 2017-08-01   29.750000\n",
              "56 2017-09-01   20.368056\n",
              "57 2017-10-01   15.833333\n",
              "58 2017-11-01   45.854167\n",
              "59 2017-12-01   75.416667"
            ]
          },
          "metadata": {
            "tags": []
          },
          "execution_count": 121
        }
      ]
    },
    {
      "cell_type": "code",
      "metadata": {
        "id": "LgyCbcLG9yS7"
      },
      "source": [
        "x = pd.Series((trial['date'],trial['PM2.5']), index=trial['date'])"
      ],
      "execution_count": null,
      "outputs": []
    },
    {
      "cell_type": "code",
      "metadata": {
        "id": "rUvEoo5IAiuf"
      },
      "source": [
        "x = pd.Series(z, index=trial['date'])"
      ],
      "execution_count": null,
      "outputs": []
    },
    {
      "cell_type": "code",
      "metadata": {
        "colab": {
          "base_uri": "https://localhost:8080/"
        },
        "id": "asEtkqc_COcE",
        "outputId": "baab126b-081c-4951-beea-79319835344b"
      },
      "source": [
        "z = np.array(trial['date'],trial['PM2.5'])\n",
        "print(z)"
      ],
      "execution_count": null,
      "outputs": [
        {
          "output_type": "stream",
          "text": [
            "[1.3569984e+18 1.3596768e+18 1.3620960e+18 1.3647744e+18 1.3673664e+18\n",
            " 1.3700448e+18 1.3726368e+18 1.3753152e+18 1.3779936e+18 1.3805856e+18\n",
            " 1.3832640e+18 1.3858560e+18 1.3885344e+18 1.3912128e+18 1.3936320e+18\n",
            " 1.3963104e+18 1.3989024e+18 1.4015808e+18 1.4041728e+18 1.4068512e+18\n",
            " 1.4095296e+18 1.4121216e+18 1.4148000e+18 1.4173920e+18 1.4200704e+18\n",
            " 1.4227488e+18 1.4251680e+18 1.4278464e+18 1.4304384e+18 1.4331168e+18\n",
            " 1.4357088e+18 1.4383872e+18 1.4410656e+18 1.4436576e+18 1.4463360e+18\n",
            " 1.4489280e+18 1.4516064e+18 1.4542848e+18 1.4567904e+18 1.4594688e+18\n",
            " 1.4620608e+18 1.4647392e+18 1.4673312e+18 1.4700096e+18 1.4726880e+18\n",
            " 1.4752800e+18 1.4779584e+18 1.4805504e+18 1.4832288e+18 1.4859072e+18\n",
            " 1.4883264e+18 1.4910048e+18 1.4935968e+18 1.4962752e+18 1.4988672e+18\n",
            " 1.5015456e+18 1.5042240e+18 1.5068160e+18 1.5094944e+18 1.5120864e+18]\n"
          ],
          "name": "stdout"
        }
      ]
    },
    {
      "cell_type": "code",
      "metadata": {
        "colab": {
          "base_uri": "https://localhost:8080/"
        },
        "id": "oKqEgfF7_3TM",
        "outputId": "b679cc87-4426-491c-de35-62e52e5d6446"
      },
      "source": [
        "print(x)"
      ],
      "execution_count": null,
      "outputs": [
        {
          "output_type": "stream",
          "text": [
            "date\n",
            "2013-01-01    1.356998e+18\n",
            "2013-02-01    1.359677e+18\n",
            "2013-03-01    1.362096e+18\n",
            "2013-04-01    1.364774e+18\n",
            "2013-05-01    1.367366e+18\n",
            "2013-06-01    1.370045e+18\n",
            "2013-07-01    1.372637e+18\n",
            "2013-08-01    1.375315e+18\n",
            "2013-09-01    1.377994e+18\n",
            "2013-10-01    1.380586e+18\n",
            "2013-11-01    1.383264e+18\n",
            "2013-12-01    1.385856e+18\n",
            "2014-01-01    1.388534e+18\n",
            "2014-02-01    1.391213e+18\n",
            "2014-03-01    1.393632e+18\n",
            "2014-04-01    1.396310e+18\n",
            "2014-05-01    1.398902e+18\n",
            "2014-06-01    1.401581e+18\n",
            "2014-07-01    1.404173e+18\n",
            "2014-08-01    1.406851e+18\n",
            "2014-09-01    1.409530e+18\n",
            "2014-10-01    1.412122e+18\n",
            "2014-11-01    1.414800e+18\n",
            "2014-12-01    1.417392e+18\n",
            "2015-01-01    1.420070e+18\n",
            "2015-02-01    1.422749e+18\n",
            "2015-03-01    1.425168e+18\n",
            "2015-04-01    1.427846e+18\n",
            "2015-05-01    1.430438e+18\n",
            "2015-06-01    1.433117e+18\n",
            "2015-07-01    1.435709e+18\n",
            "2015-08-01    1.438387e+18\n",
            "2015-09-01    1.441066e+18\n",
            "2015-10-01    1.443658e+18\n",
            "2015-11-01    1.446336e+18\n",
            "2015-12-01    1.448928e+18\n",
            "2016-01-01    1.451606e+18\n",
            "2016-02-01    1.454285e+18\n",
            "2016-03-01    1.456790e+18\n",
            "2016-04-01    1.459469e+18\n",
            "2016-05-01    1.462061e+18\n",
            "2016-06-01    1.464739e+18\n",
            "2016-07-01    1.467331e+18\n",
            "2016-08-01    1.470010e+18\n",
            "2016-09-01    1.472688e+18\n",
            "2016-10-01    1.475280e+18\n",
            "2016-11-01    1.477958e+18\n",
            "2016-12-01    1.480550e+18\n",
            "2017-01-01    1.483229e+18\n",
            "2017-02-01    1.485907e+18\n",
            "2017-03-01    1.488326e+18\n",
            "2017-04-01    1.491005e+18\n",
            "2017-05-01    1.493597e+18\n",
            "2017-06-01    1.496275e+18\n",
            "2017-07-01    1.498867e+18\n",
            "2017-08-01    1.501546e+18\n",
            "2017-09-01    1.504224e+18\n",
            "2017-10-01    1.506816e+18\n",
            "2017-11-01    1.509494e+18\n",
            "2017-12-01    1.512086e+18\n",
            "dtype: float64\n"
          ],
          "name": "stdout"
        }
      ]
    },
    {
      "cell_type": "code",
      "metadata": {
        "colab": {
          "base_uri": "https://localhost:8080/",
          "height": 333
        },
        "id": "ksS-bTyt1gp2",
        "outputId": "8077fff9-8a29-487d-ca91-e28c46769747"
      },
      "source": [
        "model = VAR(x)"
      ],
      "execution_count": null,
      "outputs": [
        {
          "output_type": "stream",
          "text": [
            "/usr/local/lib/python3.7/dist-packages/statsmodels/tsa/base/tsa_model.py:165: ValueWarning: No frequency information was provided, so inferred frequency MS will be used.\n",
            "  % freq, ValueWarning)\n"
          ],
          "name": "stderr"
        },
        {
          "output_type": "error",
          "ename": "ValueError",
          "evalue": "ignored",
          "traceback": [
            "\u001b[0;31m---------------------------------------------------------------------------\u001b[0m",
            "\u001b[0;31mValueError\u001b[0m                                Traceback (most recent call last)",
            "\u001b[0;32m<ipython-input-151-8c87cd925662>\u001b[0m in \u001b[0;36m<module>\u001b[0;34m()\u001b[0m\n\u001b[0;32m----> 1\u001b[0;31m \u001b[0mmodel\u001b[0m \u001b[0;34m=\u001b[0m \u001b[0mVAR\u001b[0m\u001b[0;34m(\u001b[0m\u001b[0mx\u001b[0m\u001b[0;34m)\u001b[0m\u001b[0;34m\u001b[0m\u001b[0;34m\u001b[0m\u001b[0m\n\u001b[0m",
            "\u001b[0;32m/usr/local/lib/python3.7/dist-packages/statsmodels/tsa/vector_ar/var_model.py\u001b[0m in \u001b[0;36m__init__\u001b[0;34m(self, endog, exog, dates, freq, missing)\u001b[0m\n\u001b[1;32m    523\u001b[0m         \u001b[0msuper\u001b[0m\u001b[0;34m(\u001b[0m\u001b[0mVAR\u001b[0m\u001b[0;34m,\u001b[0m \u001b[0mself\u001b[0m\u001b[0;34m)\u001b[0m\u001b[0;34m.\u001b[0m\u001b[0m__init__\u001b[0m\u001b[0;34m(\u001b[0m\u001b[0mendog\u001b[0m\u001b[0;34m,\u001b[0m \u001b[0mexog\u001b[0m\u001b[0;34m,\u001b[0m \u001b[0mdates\u001b[0m\u001b[0;34m,\u001b[0m \u001b[0mfreq\u001b[0m\u001b[0;34m,\u001b[0m \u001b[0mmissing\u001b[0m\u001b[0;34m=\u001b[0m\u001b[0mmissing\u001b[0m\u001b[0;34m)\u001b[0m\u001b[0;34m\u001b[0m\u001b[0;34m\u001b[0m\u001b[0m\n\u001b[1;32m    524\u001b[0m         \u001b[0;32mif\u001b[0m \u001b[0mself\u001b[0m\u001b[0;34m.\u001b[0m\u001b[0mendog\u001b[0m\u001b[0;34m.\u001b[0m\u001b[0mndim\u001b[0m \u001b[0;34m==\u001b[0m \u001b[0;36m1\u001b[0m\u001b[0;34m:\u001b[0m\u001b[0;34m\u001b[0m\u001b[0;34m\u001b[0m\u001b[0m\n\u001b[0;32m--> 525\u001b[0;31m             \u001b[0;32mraise\u001b[0m \u001b[0mValueError\u001b[0m\u001b[0;34m(\u001b[0m\u001b[0;34m\"Only gave one variable to VAR\"\u001b[0m\u001b[0;34m)\u001b[0m\u001b[0;34m\u001b[0m\u001b[0;34m\u001b[0m\u001b[0m\n\u001b[0m\u001b[1;32m    526\u001b[0m         \u001b[0mself\u001b[0m\u001b[0;34m.\u001b[0m\u001b[0mneqs\u001b[0m \u001b[0;34m=\u001b[0m \u001b[0mself\u001b[0m\u001b[0;34m.\u001b[0m\u001b[0mendog\u001b[0m\u001b[0;34m.\u001b[0m\u001b[0mshape\u001b[0m\u001b[0;34m[\u001b[0m\u001b[0;36m1\u001b[0m\u001b[0;34m]\u001b[0m\u001b[0;34m\u001b[0m\u001b[0;34m\u001b[0m\u001b[0m\n\u001b[1;32m    527\u001b[0m         \u001b[0mself\u001b[0m\u001b[0;34m.\u001b[0m\u001b[0mn_totobs\u001b[0m \u001b[0;34m=\u001b[0m \u001b[0mlen\u001b[0m\u001b[0;34m(\u001b[0m\u001b[0mendog\u001b[0m\u001b[0;34m)\u001b[0m\u001b[0;34m\u001b[0m\u001b[0;34m\u001b[0m\u001b[0m\n",
            "\u001b[0;31mValueError\u001b[0m: Only gave one variable to VAR"
          ]
        }
      ]
    },
    {
      "cell_type": "code",
      "metadata": {
        "id": "tcRmOPVE0YVU"
      },
      "source": [
        "month_average.to_csv(\"g.csv\")"
      ],
      "execution_count": null,
      "outputs": []
    }
  ]
}