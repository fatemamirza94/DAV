{
  "nbformat": 4,
  "nbformat_minor": 0,
  "metadata": {
    "colab": {
      "name": "L-CNN FOR CLASSIFICATION WORKING with lr 0.0004.ipynb",
      "provenance": [],
      "collapsed_sections": []
    },
    "kernelspec": {
      "name": "python3",
      "display_name": "Python 3"
    },
    "language_info": {
      "name": "python"
    }
  },
  "cells": [
    {
      "cell_type": "markdown",
      "metadata": {
        "id": "m_NvqXLUZDMN"
      },
      "source": [
        "**APPENDIX L**"
      ]
    },
    {
      "cell_type": "code",
      "metadata": {
        "id": "P5oYOydUunqp",
        "colab": {
          "base_uri": "https://localhost:8080/"
        },
        "outputId": "364232a6-0bc3-4013-f851-bcb6679b7d6a"
      },
      "source": [
        "import numpy as np\n",
        "import pandas as pd\n",
        "import matplotlib.pyplot as plt\n",
        "import seaborn as sns\n",
        "from datetime import datetime\n",
        "import random\n",
        " \n",
        "import statsmodels.api as sm\n",
        " \n",
        "from sklearn.preprocessing import LabelEncoder, StandardScaler\n",
        "from sklearn.metrics import mean_squared_error\n",
        " \n",
        "# Import Keras\n",
        "from keras.preprocessing.sequence import TimeseriesGenerator\n",
        "from keras.models import Sequential\n",
        "from keras.layers import Dense, LSTM\n",
        " \n",
        "# Import Prophet\n",
        "from fbprophet import Prophet\n",
        "# Import VAR Model\n",
        "from statsmodels.tsa.vector_ar.var_model import VAR\n",
        " \n",
        "import warnings\n",
        "warnings.filterwarnings('ignore')"
      ],
      "execution_count": null,
      "outputs": [
        {
          "output_type": "stream",
          "text": [
            "/usr/local/lib/python3.7/dist-packages/statsmodels/tools/_testing.py:19: FutureWarning: pandas.util.testing is deprecated. Use the functions in the public API at pandas.testing instead.\n",
            "  import pandas.util.testing as tm\n"
          ],
          "name": "stderr"
        }
      ]
    },
    {
      "cell_type": "code",
      "metadata": {
        "colab": {
          "base_uri": "https://localhost:8080/",
          "height": 195
        },
        "id": "qJBqLx6mvxSC",
        "outputId": "0b9b2aea-cbf5-416d-d29e-7d7243f07e83"
      },
      "source": [
        "df = pd.read_csv('/content/all_together - Copy.csv')\n",
        "df.head()"
      ],
      "execution_count": null,
      "outputs": [
        {
          "output_type": "execute_result",
          "data": {
            "text/html": [
              "<div>\n",
              "<style scoped>\n",
              "    .dataframe tbody tr th:only-of-type {\n",
              "        vertical-align: middle;\n",
              "    }\n",
              "\n",
              "    .dataframe tbody tr th {\n",
              "        vertical-align: top;\n",
              "    }\n",
              "\n",
              "    .dataframe thead th {\n",
              "        text-align: right;\n",
              "    }\n",
              "</style>\n",
              "<table border=\"1\" class=\"dataframe\">\n",
              "  <thead>\n",
              "    <tr style=\"text-align: right;\">\n",
              "      <th></th>\n",
              "      <th>No</th>\n",
              "      <th>year</th>\n",
              "      <th>month</th>\n",
              "      <th>day</th>\n",
              "      <th>hour</th>\n",
              "      <th>PM10</th>\n",
              "      <th>SO2</th>\n",
              "      <th>NO2</th>\n",
              "      <th>CO</th>\n",
              "      <th>O3</th>\n",
              "      <th>TEMP</th>\n",
              "      <th>PRES</th>\n",
              "      <th>DEWP</th>\n",
              "      <th>RAIN</th>\n",
              "      <th>WSPM</th>\n",
              "      <th>TARGET</th>\n",
              "    </tr>\n",
              "  </thead>\n",
              "  <tbody>\n",
              "    <tr>\n",
              "      <th>0</th>\n",
              "      <td>1</td>\n",
              "      <td>2013</td>\n",
              "      <td>3</td>\n",
              "      <td>1</td>\n",
              "      <td>0</td>\n",
              "      <td>4.0</td>\n",
              "      <td>4.0</td>\n",
              "      <td>7.0</td>\n",
              "      <td>300.0</td>\n",
              "      <td>77.0</td>\n",
              "      <td>-0.7</td>\n",
              "      <td>1023.0</td>\n",
              "      <td>-18.8</td>\n",
              "      <td>0.0</td>\n",
              "      <td>4.4</td>\n",
              "      <td>0.0</td>\n",
              "    </tr>\n",
              "    <tr>\n",
              "      <th>1</th>\n",
              "      <td>2</td>\n",
              "      <td>2013</td>\n",
              "      <td>3</td>\n",
              "      <td>1</td>\n",
              "      <td>1</td>\n",
              "      <td>8.0</td>\n",
              "      <td>4.0</td>\n",
              "      <td>7.0</td>\n",
              "      <td>300.0</td>\n",
              "      <td>77.0</td>\n",
              "      <td>-1.1</td>\n",
              "      <td>1023.2</td>\n",
              "      <td>-18.2</td>\n",
              "      <td>0.0</td>\n",
              "      <td>4.7</td>\n",
              "      <td>0.0</td>\n",
              "    </tr>\n",
              "    <tr>\n",
              "      <th>2</th>\n",
              "      <td>3</td>\n",
              "      <td>2013</td>\n",
              "      <td>3</td>\n",
              "      <td>1</td>\n",
              "      <td>2</td>\n",
              "      <td>7.0</td>\n",
              "      <td>5.0</td>\n",
              "      <td>10.0</td>\n",
              "      <td>300.0</td>\n",
              "      <td>73.0</td>\n",
              "      <td>-1.1</td>\n",
              "      <td>1023.5</td>\n",
              "      <td>-18.2</td>\n",
              "      <td>0.0</td>\n",
              "      <td>5.6</td>\n",
              "      <td>0.0</td>\n",
              "    </tr>\n",
              "    <tr>\n",
              "      <th>3</th>\n",
              "      <td>4</td>\n",
              "      <td>2013</td>\n",
              "      <td>3</td>\n",
              "      <td>1</td>\n",
              "      <td>3</td>\n",
              "      <td>6.0</td>\n",
              "      <td>11.0</td>\n",
              "      <td>11.0</td>\n",
              "      <td>300.0</td>\n",
              "      <td>72.0</td>\n",
              "      <td>-1.4</td>\n",
              "      <td>1024.5</td>\n",
              "      <td>-19.4</td>\n",
              "      <td>0.0</td>\n",
              "      <td>3.1</td>\n",
              "      <td>0.0</td>\n",
              "    </tr>\n",
              "    <tr>\n",
              "      <th>4</th>\n",
              "      <td>5</td>\n",
              "      <td>2013</td>\n",
              "      <td>3</td>\n",
              "      <td>1</td>\n",
              "      <td>4</td>\n",
              "      <td>3.0</td>\n",
              "      <td>12.0</td>\n",
              "      <td>12.0</td>\n",
              "      <td>300.0</td>\n",
              "      <td>72.0</td>\n",
              "      <td>-2.0</td>\n",
              "      <td>1025.2</td>\n",
              "      <td>-19.5</td>\n",
              "      <td>0.0</td>\n",
              "      <td>2.0</td>\n",
              "      <td>0.0</td>\n",
              "    </tr>\n",
              "  </tbody>\n",
              "</table>\n",
              "</div>"
            ],
            "text/plain": [
              "   No  year  month  day  hour  PM10  ...  TEMP    PRES  DEWP  RAIN  WSPM  TARGET\n",
              "0   1  2013      3    1     0   4.0  ...  -0.7  1023.0 -18.8   0.0   4.4     0.0\n",
              "1   2  2013      3    1     1   8.0  ...  -1.1  1023.2 -18.2   0.0   4.7     0.0\n",
              "2   3  2013      3    1     2   7.0  ...  -1.1  1023.5 -18.2   0.0   5.6     0.0\n",
              "3   4  2013      3    1     3   6.0  ...  -1.4  1024.5 -19.4   0.0   3.1     0.0\n",
              "4   5  2013      3    1     4   3.0  ...  -2.0  1025.2 -19.5   0.0   2.0     0.0\n",
              "\n",
              "[5 rows x 16 columns]"
            ]
          },
          "metadata": {
            "tags": []
          },
          "execution_count": 2
        }
      ]
    },
    {
      "cell_type": "code",
      "metadata": {
        "colab": {
          "base_uri": "https://localhost:8080/",
          "height": 195
        },
        "id": "7bkqxnuiv572",
        "outputId": "01e21de9-1145-42c5-fc2b-d1866d29e8f1"
      },
      "source": [
        "df['date'] = df[['year', 'month', 'day', 'hour']].apply(lambda row: f\"{row['year']}-{row['month']}-{row['day']} {row['hour']}:00:00\", axis=1)\n",
        "df['date'] = pd.to_datetime(df['date'], format='%Y-%m-%d')\n",
        "df.head()"
      ],
      "execution_count": null,
      "outputs": [
        {
          "output_type": "execute_result",
          "data": {
            "text/html": [
              "<div>\n",
              "<style scoped>\n",
              "    .dataframe tbody tr th:only-of-type {\n",
              "        vertical-align: middle;\n",
              "    }\n",
              "\n",
              "    .dataframe tbody tr th {\n",
              "        vertical-align: top;\n",
              "    }\n",
              "\n",
              "    .dataframe thead th {\n",
              "        text-align: right;\n",
              "    }\n",
              "</style>\n",
              "<table border=\"1\" class=\"dataframe\">\n",
              "  <thead>\n",
              "    <tr style=\"text-align: right;\">\n",
              "      <th></th>\n",
              "      <th>No</th>\n",
              "      <th>year</th>\n",
              "      <th>month</th>\n",
              "      <th>day</th>\n",
              "      <th>hour</th>\n",
              "      <th>PM10</th>\n",
              "      <th>SO2</th>\n",
              "      <th>NO2</th>\n",
              "      <th>CO</th>\n",
              "      <th>O3</th>\n",
              "      <th>TEMP</th>\n",
              "      <th>PRES</th>\n",
              "      <th>DEWP</th>\n",
              "      <th>RAIN</th>\n",
              "      <th>WSPM</th>\n",
              "      <th>TARGET</th>\n",
              "      <th>date</th>\n",
              "    </tr>\n",
              "  </thead>\n",
              "  <tbody>\n",
              "    <tr>\n",
              "      <th>0</th>\n",
              "      <td>1</td>\n",
              "      <td>2013</td>\n",
              "      <td>3</td>\n",
              "      <td>1</td>\n",
              "      <td>0</td>\n",
              "      <td>4.0</td>\n",
              "      <td>4.0</td>\n",
              "      <td>7.0</td>\n",
              "      <td>300.0</td>\n",
              "      <td>77.0</td>\n",
              "      <td>-0.7</td>\n",
              "      <td>1023.0</td>\n",
              "      <td>-18.8</td>\n",
              "      <td>0.0</td>\n",
              "      <td>4.4</td>\n",
              "      <td>0.0</td>\n",
              "      <td>2013-03-01 00:00:00</td>\n",
              "    </tr>\n",
              "    <tr>\n",
              "      <th>1</th>\n",
              "      <td>2</td>\n",
              "      <td>2013</td>\n",
              "      <td>3</td>\n",
              "      <td>1</td>\n",
              "      <td>1</td>\n",
              "      <td>8.0</td>\n",
              "      <td>4.0</td>\n",
              "      <td>7.0</td>\n",
              "      <td>300.0</td>\n",
              "      <td>77.0</td>\n",
              "      <td>-1.1</td>\n",
              "      <td>1023.2</td>\n",
              "      <td>-18.2</td>\n",
              "      <td>0.0</td>\n",
              "      <td>4.7</td>\n",
              "      <td>0.0</td>\n",
              "      <td>2013-03-01 01:00:00</td>\n",
              "    </tr>\n",
              "    <tr>\n",
              "      <th>2</th>\n",
              "      <td>3</td>\n",
              "      <td>2013</td>\n",
              "      <td>3</td>\n",
              "      <td>1</td>\n",
              "      <td>2</td>\n",
              "      <td>7.0</td>\n",
              "      <td>5.0</td>\n",
              "      <td>10.0</td>\n",
              "      <td>300.0</td>\n",
              "      <td>73.0</td>\n",
              "      <td>-1.1</td>\n",
              "      <td>1023.5</td>\n",
              "      <td>-18.2</td>\n",
              "      <td>0.0</td>\n",
              "      <td>5.6</td>\n",
              "      <td>0.0</td>\n",
              "      <td>2013-03-01 02:00:00</td>\n",
              "    </tr>\n",
              "    <tr>\n",
              "      <th>3</th>\n",
              "      <td>4</td>\n",
              "      <td>2013</td>\n",
              "      <td>3</td>\n",
              "      <td>1</td>\n",
              "      <td>3</td>\n",
              "      <td>6.0</td>\n",
              "      <td>11.0</td>\n",
              "      <td>11.0</td>\n",
              "      <td>300.0</td>\n",
              "      <td>72.0</td>\n",
              "      <td>-1.4</td>\n",
              "      <td>1024.5</td>\n",
              "      <td>-19.4</td>\n",
              "      <td>0.0</td>\n",
              "      <td>3.1</td>\n",
              "      <td>0.0</td>\n",
              "      <td>2013-03-01 03:00:00</td>\n",
              "    </tr>\n",
              "    <tr>\n",
              "      <th>4</th>\n",
              "      <td>5</td>\n",
              "      <td>2013</td>\n",
              "      <td>3</td>\n",
              "      <td>1</td>\n",
              "      <td>4</td>\n",
              "      <td>3.0</td>\n",
              "      <td>12.0</td>\n",
              "      <td>12.0</td>\n",
              "      <td>300.0</td>\n",
              "      <td>72.0</td>\n",
              "      <td>-2.0</td>\n",
              "      <td>1025.2</td>\n",
              "      <td>-19.5</td>\n",
              "      <td>0.0</td>\n",
              "      <td>2.0</td>\n",
              "      <td>0.0</td>\n",
              "      <td>2013-03-01 04:00:00</td>\n",
              "    </tr>\n",
              "  </tbody>\n",
              "</table>\n",
              "</div>"
            ],
            "text/plain": [
              "   No  year  month  day  hour  ...  DEWP  RAIN  WSPM  TARGET                date\n",
              "0   1  2013      3    1     0  ... -18.8   0.0   4.4     0.0 2013-03-01 00:00:00\n",
              "1   2  2013      3    1     1  ... -18.2   0.0   4.7     0.0 2013-03-01 01:00:00\n",
              "2   3  2013      3    1     2  ... -18.2   0.0   5.6     0.0 2013-03-01 02:00:00\n",
              "3   4  2013      3    1     3  ... -19.4   0.0   3.1     0.0 2013-03-01 03:00:00\n",
              "4   5  2013      3    1     4  ... -19.5   0.0   2.0     0.0 2013-03-01 04:00:00\n",
              "\n",
              "[5 rows x 17 columns]"
            ]
          },
          "metadata": {
            "tags": []
          },
          "execution_count": 4
        }
      ]
    },
    {
      "cell_type": "code",
      "metadata": {
        "colab": {
          "base_uri": "https://localhost:8080/",
          "height": 195
        },
        "id": "Cjqljd_Dv_J2",
        "outputId": "1d1ee990-e6c9-45cf-db94-72aca4e5f9d8"
      },
      "source": [
        "\n",
        "df.drop(['No','year','month','day','hour'], axis=1, inplace=True)\n",
        "df.head()"
      ],
      "execution_count": null,
      "outputs": [
        {
          "output_type": "execute_result",
          "data": {
            "text/html": [
              "<div>\n",
              "<style scoped>\n",
              "    .dataframe tbody tr th:only-of-type {\n",
              "        vertical-align: middle;\n",
              "    }\n",
              "\n",
              "    .dataframe tbody tr th {\n",
              "        vertical-align: top;\n",
              "    }\n",
              "\n",
              "    .dataframe thead th {\n",
              "        text-align: right;\n",
              "    }\n",
              "</style>\n",
              "<table border=\"1\" class=\"dataframe\">\n",
              "  <thead>\n",
              "    <tr style=\"text-align: right;\">\n",
              "      <th></th>\n",
              "      <th>PM10</th>\n",
              "      <th>SO2</th>\n",
              "      <th>NO2</th>\n",
              "      <th>CO</th>\n",
              "      <th>O3</th>\n",
              "      <th>TEMP</th>\n",
              "      <th>PRES</th>\n",
              "      <th>DEWP</th>\n",
              "      <th>RAIN</th>\n",
              "      <th>WSPM</th>\n",
              "      <th>TARGET</th>\n",
              "      <th>date</th>\n",
              "    </tr>\n",
              "  </thead>\n",
              "  <tbody>\n",
              "    <tr>\n",
              "      <th>0</th>\n",
              "      <td>4.0</td>\n",
              "      <td>4.0</td>\n",
              "      <td>7.0</td>\n",
              "      <td>300.0</td>\n",
              "      <td>77.0</td>\n",
              "      <td>-0.7</td>\n",
              "      <td>1023.0</td>\n",
              "      <td>-18.8</td>\n",
              "      <td>0.0</td>\n",
              "      <td>4.4</td>\n",
              "      <td>0.0</td>\n",
              "      <td>2013-03-01 00:00:00</td>\n",
              "    </tr>\n",
              "    <tr>\n",
              "      <th>1</th>\n",
              "      <td>8.0</td>\n",
              "      <td>4.0</td>\n",
              "      <td>7.0</td>\n",
              "      <td>300.0</td>\n",
              "      <td>77.0</td>\n",
              "      <td>-1.1</td>\n",
              "      <td>1023.2</td>\n",
              "      <td>-18.2</td>\n",
              "      <td>0.0</td>\n",
              "      <td>4.7</td>\n",
              "      <td>0.0</td>\n",
              "      <td>2013-03-01 01:00:00</td>\n",
              "    </tr>\n",
              "    <tr>\n",
              "      <th>2</th>\n",
              "      <td>7.0</td>\n",
              "      <td>5.0</td>\n",
              "      <td>10.0</td>\n",
              "      <td>300.0</td>\n",
              "      <td>73.0</td>\n",
              "      <td>-1.1</td>\n",
              "      <td>1023.5</td>\n",
              "      <td>-18.2</td>\n",
              "      <td>0.0</td>\n",
              "      <td>5.6</td>\n",
              "      <td>0.0</td>\n",
              "      <td>2013-03-01 02:00:00</td>\n",
              "    </tr>\n",
              "    <tr>\n",
              "      <th>3</th>\n",
              "      <td>6.0</td>\n",
              "      <td>11.0</td>\n",
              "      <td>11.0</td>\n",
              "      <td>300.0</td>\n",
              "      <td>72.0</td>\n",
              "      <td>-1.4</td>\n",
              "      <td>1024.5</td>\n",
              "      <td>-19.4</td>\n",
              "      <td>0.0</td>\n",
              "      <td>3.1</td>\n",
              "      <td>0.0</td>\n",
              "      <td>2013-03-01 03:00:00</td>\n",
              "    </tr>\n",
              "    <tr>\n",
              "      <th>4</th>\n",
              "      <td>3.0</td>\n",
              "      <td>12.0</td>\n",
              "      <td>12.0</td>\n",
              "      <td>300.0</td>\n",
              "      <td>72.0</td>\n",
              "      <td>-2.0</td>\n",
              "      <td>1025.2</td>\n",
              "      <td>-19.5</td>\n",
              "      <td>0.0</td>\n",
              "      <td>2.0</td>\n",
              "      <td>0.0</td>\n",
              "      <td>2013-03-01 04:00:00</td>\n",
              "    </tr>\n",
              "  </tbody>\n",
              "</table>\n",
              "</div>"
            ],
            "text/plain": [
              "   PM10   SO2   NO2     CO    O3  ...  DEWP  RAIN  WSPM  TARGET                date\n",
              "0   4.0   4.0   7.0  300.0  77.0  ... -18.8   0.0   4.4     0.0 2013-03-01 00:00:00\n",
              "1   8.0   4.0   7.0  300.0  77.0  ... -18.2   0.0   4.7     0.0 2013-03-01 01:00:00\n",
              "2   7.0   5.0  10.0  300.0  73.0  ... -18.2   0.0   5.6     0.0 2013-03-01 02:00:00\n",
              "3   6.0  11.0  11.0  300.0  72.0  ... -19.4   0.0   3.1     0.0 2013-03-01 03:00:00\n",
              "4   3.0  12.0  12.0  300.0  72.0  ... -19.5   0.0   2.0     0.0 2013-03-01 04:00:00\n",
              "\n",
              "[5 rows x 12 columns]"
            ]
          },
          "metadata": {
            "tags": []
          },
          "execution_count": 5
        }
      ]
    },
    {
      "cell_type": "code",
      "metadata": {
        "colab": {
          "base_uri": "https://localhost:8080/",
          "height": 195
        },
        "id": "NNoYRfSMwJFg",
        "outputId": "52b1fd83-fa88-482b-952f-70c03ceb4e33"
      },
      "source": [
        "df.sort_values(by='date', inplace=True)\n",
        "df.head()"
      ],
      "execution_count": null,
      "outputs": [
        {
          "output_type": "execute_result",
          "data": {
            "text/html": [
              "<div>\n",
              "<style scoped>\n",
              "    .dataframe tbody tr th:only-of-type {\n",
              "        vertical-align: middle;\n",
              "    }\n",
              "\n",
              "    .dataframe tbody tr th {\n",
              "        vertical-align: top;\n",
              "    }\n",
              "\n",
              "    .dataframe thead th {\n",
              "        text-align: right;\n",
              "    }\n",
              "</style>\n",
              "<table border=\"1\" class=\"dataframe\">\n",
              "  <thead>\n",
              "    <tr style=\"text-align: right;\">\n",
              "      <th></th>\n",
              "      <th>PM10</th>\n",
              "      <th>SO2</th>\n",
              "      <th>NO2</th>\n",
              "      <th>CO</th>\n",
              "      <th>O3</th>\n",
              "      <th>TEMP</th>\n",
              "      <th>PRES</th>\n",
              "      <th>DEWP</th>\n",
              "      <th>RAIN</th>\n",
              "      <th>WSPM</th>\n",
              "      <th>TARGET</th>\n",
              "      <th>date</th>\n",
              "    </tr>\n",
              "  </thead>\n",
              "  <tbody>\n",
              "    <tr>\n",
              "      <th>0</th>\n",
              "      <td>4.0</td>\n",
              "      <td>4.0</td>\n",
              "      <td>7.0</td>\n",
              "      <td>300.0</td>\n",
              "      <td>77.0</td>\n",
              "      <td>-0.7</td>\n",
              "      <td>1023.0</td>\n",
              "      <td>-18.8</td>\n",
              "      <td>0.0</td>\n",
              "      <td>4.4</td>\n",
              "      <td>0.0</td>\n",
              "      <td>2013-03-01 00:00:00</td>\n",
              "    </tr>\n",
              "    <tr>\n",
              "      <th>35064</th>\n",
              "      <td>6.0</td>\n",
              "      <td>13.0</td>\n",
              "      <td>7.0</td>\n",
              "      <td>300.0</td>\n",
              "      <td>85.0</td>\n",
              "      <td>-2.3</td>\n",
              "      <td>1020.8</td>\n",
              "      <td>-19.7</td>\n",
              "      <td>0.0</td>\n",
              "      <td>0.5</td>\n",
              "      <td>0.0</td>\n",
              "      <td>2013-03-01 00:00:00</td>\n",
              "    </tr>\n",
              "    <tr>\n",
              "      <th>1</th>\n",
              "      <td>8.0</td>\n",
              "      <td>4.0</td>\n",
              "      <td>7.0</td>\n",
              "      <td>300.0</td>\n",
              "      <td>77.0</td>\n",
              "      <td>-1.1</td>\n",
              "      <td>1023.2</td>\n",
              "      <td>-18.2</td>\n",
              "      <td>0.0</td>\n",
              "      <td>4.7</td>\n",
              "      <td>0.0</td>\n",
              "      <td>2013-03-01 01:00:00</td>\n",
              "    </tr>\n",
              "    <tr>\n",
              "      <th>35065</th>\n",
              "      <td>3.0</td>\n",
              "      <td>6.0</td>\n",
              "      <td>6.0</td>\n",
              "      <td>300.0</td>\n",
              "      <td>85.0</td>\n",
              "      <td>-2.5</td>\n",
              "      <td>1021.3</td>\n",
              "      <td>-19.0</td>\n",
              "      <td>0.0</td>\n",
              "      <td>0.7</td>\n",
              "      <td>0.0</td>\n",
              "      <td>2013-03-01 01:00:00</td>\n",
              "    </tr>\n",
              "    <tr>\n",
              "      <th>2</th>\n",
              "      <td>7.0</td>\n",
              "      <td>5.0</td>\n",
              "      <td>10.0</td>\n",
              "      <td>300.0</td>\n",
              "      <td>73.0</td>\n",
              "      <td>-1.1</td>\n",
              "      <td>1023.5</td>\n",
              "      <td>-18.2</td>\n",
              "      <td>0.0</td>\n",
              "      <td>5.6</td>\n",
              "      <td>0.0</td>\n",
              "      <td>2013-03-01 02:00:00</td>\n",
              "    </tr>\n",
              "  </tbody>\n",
              "</table>\n",
              "</div>"
            ],
            "text/plain": [
              "       PM10   SO2   NO2     CO  ...  RAIN  WSPM  TARGET                date\n",
              "0       4.0   4.0   7.0  300.0  ...   0.0   4.4     0.0 2013-03-01 00:00:00\n",
              "35064   6.0  13.0   7.0  300.0  ...   0.0   0.5     0.0 2013-03-01 00:00:00\n",
              "1       8.0   4.0   7.0  300.0  ...   0.0   4.7     0.0 2013-03-01 01:00:00\n",
              "35065   3.0   6.0   6.0  300.0  ...   0.0   0.7     0.0 2013-03-01 01:00:00\n",
              "2       7.0   5.0  10.0  300.0  ...   0.0   5.6     0.0 2013-03-01 02:00:00\n",
              "\n",
              "[5 rows x 12 columns]"
            ]
          },
          "metadata": {
            "tags": []
          },
          "execution_count": 6
        }
      ]
    },
    {
      "cell_type": "code",
      "metadata": {
        "colab": {
          "base_uri": "https://localhost:8080/"
        },
        "id": "YkQt0T91wNL3",
        "outputId": "568e6c6c-396c-4228-9775-0f53b22641a8"
      },
      "source": [
        "df['date'].min(), df['date'].max()"
      ],
      "execution_count": null,
      "outputs": [
        {
          "output_type": "execute_result",
          "data": {
            "text/plain": [
              "(Timestamp('2013-03-01 00:00:00'), Timestamp('2017-02-28 23:00:00'))"
            ]
          },
          "metadata": {
            "tags": []
          },
          "execution_count": 7
        }
      ]
    },
    {
      "cell_type": "code",
      "metadata": {
        "colab": {
          "base_uri": "https://localhost:8080/",
          "height": 225
        },
        "id": "fRtjz4u_wV3q",
        "outputId": "c012f4c8-9ed8-4801-f74c-432fe36fe3e6"
      },
      "source": [
        "df.set_index('date', inplace=True)\n",
        "df.head()"
      ],
      "execution_count": null,
      "outputs": [
        {
          "output_type": "execute_result",
          "data": {
            "text/html": [
              "<div>\n",
              "<style scoped>\n",
              "    .dataframe tbody tr th:only-of-type {\n",
              "        vertical-align: middle;\n",
              "    }\n",
              "\n",
              "    .dataframe tbody tr th {\n",
              "        vertical-align: top;\n",
              "    }\n",
              "\n",
              "    .dataframe thead th {\n",
              "        text-align: right;\n",
              "    }\n",
              "</style>\n",
              "<table border=\"1\" class=\"dataframe\">\n",
              "  <thead>\n",
              "    <tr style=\"text-align: right;\">\n",
              "      <th></th>\n",
              "      <th>PM10</th>\n",
              "      <th>SO2</th>\n",
              "      <th>NO2</th>\n",
              "      <th>CO</th>\n",
              "      <th>O3</th>\n",
              "      <th>TEMP</th>\n",
              "      <th>PRES</th>\n",
              "      <th>DEWP</th>\n",
              "      <th>RAIN</th>\n",
              "      <th>WSPM</th>\n",
              "      <th>TARGET</th>\n",
              "    </tr>\n",
              "    <tr>\n",
              "      <th>date</th>\n",
              "      <th></th>\n",
              "      <th></th>\n",
              "      <th></th>\n",
              "      <th></th>\n",
              "      <th></th>\n",
              "      <th></th>\n",
              "      <th></th>\n",
              "      <th></th>\n",
              "      <th></th>\n",
              "      <th></th>\n",
              "      <th></th>\n",
              "    </tr>\n",
              "  </thead>\n",
              "  <tbody>\n",
              "    <tr>\n",
              "      <th>2013-03-01 00:00:00</th>\n",
              "      <td>4.0</td>\n",
              "      <td>4.0</td>\n",
              "      <td>7.0</td>\n",
              "      <td>300.0</td>\n",
              "      <td>77.0</td>\n",
              "      <td>-0.7</td>\n",
              "      <td>1023.0</td>\n",
              "      <td>-18.8</td>\n",
              "      <td>0.0</td>\n",
              "      <td>4.4</td>\n",
              "      <td>0.0</td>\n",
              "    </tr>\n",
              "    <tr>\n",
              "      <th>2013-03-01 00:00:00</th>\n",
              "      <td>6.0</td>\n",
              "      <td>13.0</td>\n",
              "      <td>7.0</td>\n",
              "      <td>300.0</td>\n",
              "      <td>85.0</td>\n",
              "      <td>-2.3</td>\n",
              "      <td>1020.8</td>\n",
              "      <td>-19.7</td>\n",
              "      <td>0.0</td>\n",
              "      <td>0.5</td>\n",
              "      <td>0.0</td>\n",
              "    </tr>\n",
              "    <tr>\n",
              "      <th>2013-03-01 01:00:00</th>\n",
              "      <td>8.0</td>\n",
              "      <td>4.0</td>\n",
              "      <td>7.0</td>\n",
              "      <td>300.0</td>\n",
              "      <td>77.0</td>\n",
              "      <td>-1.1</td>\n",
              "      <td>1023.2</td>\n",
              "      <td>-18.2</td>\n",
              "      <td>0.0</td>\n",
              "      <td>4.7</td>\n",
              "      <td>0.0</td>\n",
              "    </tr>\n",
              "    <tr>\n",
              "      <th>2013-03-01 01:00:00</th>\n",
              "      <td>3.0</td>\n",
              "      <td>6.0</td>\n",
              "      <td>6.0</td>\n",
              "      <td>300.0</td>\n",
              "      <td>85.0</td>\n",
              "      <td>-2.5</td>\n",
              "      <td>1021.3</td>\n",
              "      <td>-19.0</td>\n",
              "      <td>0.0</td>\n",
              "      <td>0.7</td>\n",
              "      <td>0.0</td>\n",
              "    </tr>\n",
              "    <tr>\n",
              "      <th>2013-03-01 02:00:00</th>\n",
              "      <td>7.0</td>\n",
              "      <td>5.0</td>\n",
              "      <td>10.0</td>\n",
              "      <td>300.0</td>\n",
              "      <td>73.0</td>\n",
              "      <td>-1.1</td>\n",
              "      <td>1023.5</td>\n",
              "      <td>-18.2</td>\n",
              "      <td>0.0</td>\n",
              "      <td>5.6</td>\n",
              "      <td>0.0</td>\n",
              "    </tr>\n",
              "  </tbody>\n",
              "</table>\n",
              "</div>"
            ],
            "text/plain": [
              "                     PM10   SO2   NO2     CO  ...  DEWP  RAIN  WSPM  TARGET\n",
              "date                                          ...                          \n",
              "2013-03-01 00:00:00   4.0   4.0   7.0  300.0  ... -18.8   0.0   4.4     0.0\n",
              "2013-03-01 00:00:00   6.0  13.0   7.0  300.0  ... -19.7   0.0   0.5     0.0\n",
              "2013-03-01 01:00:00   8.0   4.0   7.0  300.0  ... -18.2   0.0   4.7     0.0\n",
              "2013-03-01 01:00:00   3.0   6.0   6.0  300.0  ... -19.0   0.0   0.7     0.0\n",
              "2013-03-01 02:00:00   7.0   5.0  10.0  300.0  ... -18.2   0.0   5.6     0.0\n",
              "\n",
              "[5 rows x 11 columns]"
            ]
          },
          "metadata": {
            "tags": []
          },
          "execution_count": 8
        }
      ]
    },
    {
      "cell_type": "code",
      "metadata": {
        "id": "_bF-mSl7vKbC"
      },
      "source": [
        "X = df.drop('TARGET',axis=1)\n",
        "y = df[['TARGET']]\n",
        "\n",
        "X = np.nan_to_num(X)\n",
        "y = np.nan_to_num(y)"
      ],
      "execution_count": null,
      "outputs": []
    },
    {
      "cell_type": "code",
      "metadata": {
        "id": "7G9tyho7ksLl"
      },
      "source": [
        "X = X.reshape(X.shape[0], X.shape[1], 1)"
      ],
      "execution_count": null,
      "outputs": []
    },
    {
      "cell_type": "code",
      "metadata": {
        "id": "nEWChctQ32cA"
      },
      "source": [
        "from sklearn.preprocessing import LabelEncoder\n",
        "encoder =  LabelEncoder()\n",
        "y1 = encoder.fit_transform(y)\n",
        "\n",
        "Y = pd.get_dummies(y1).values"
      ],
      "execution_count": null,
      "outputs": []
    },
    {
      "cell_type": "code",
      "metadata": {
        "id": "BNF8hs69vp5G"
      },
      "source": [
        "from sklearn.model_selection import train_test_split\n",
        "X_train,X_test, y_train,y_test = train_test_split(X,Y,test_size=0.25,random_state=0) "
      ],
      "execution_count": null,
      "outputs": []
    },
    {
      "cell_type": "code",
      "metadata": {
        "colab": {
          "base_uri": "https://localhost:8080/"
        },
        "id": "uaSY65bC0Bux",
        "outputId": "fcd640bc-5c60-4582-e4aa-1603ebb0e0e8"
      },
      "source": [
        "X_train.shape"
      ],
      "execution_count": null,
      "outputs": [
        {
          "output_type": "execute_result",
          "data": {
            "text/plain": [
              "(39088, 10, 1)"
            ]
          },
          "metadata": {
            "tags": []
          },
          "execution_count": 13
        }
      ]
    },
    {
      "cell_type": "code",
      "metadata": {
        "colab": {
          "base_uri": "https://localhost:8080/"
        },
        "id": "cuFTKU0u3qpA",
        "outputId": "cb95c25e-1fe1-4ffe-8072-73353a9da378"
      },
      "source": [
        "y_train.shape"
      ],
      "execution_count": null,
      "outputs": [
        {
          "output_type": "execute_result",
          "data": {
            "text/plain": [
              "(39088, 3)"
            ]
          },
          "metadata": {
            "tags": []
          },
          "execution_count": 15
        }
      ]
    },
    {
      "cell_type": "code",
      "metadata": {
        "colab": {
          "base_uri": "https://localhost:8080/"
        },
        "id": "YSo50CyHwFUD",
        "outputId": "0118c0c6-e9cf-4bb6-92ca-57ca12e3f737"
      },
      "source": [
        "from keras.models import Sequential\n",
        "from keras.layers import Dense\n",
        "from keras.optimizers import SGD,Adam\n",
        "\n",
        "from keras.models import Sequential\n",
        "from keras.layers import Dense, Conv1D, Flatten, MaxPooling1D\n",
        "from sklearn.model_selection import train_test_split\n",
        "from sklearn.metrics import confusion_matrix\n",
        "from sklearn.datasets import load_iris\n",
        "from numpy import unique\n",
        "\n",
        "\n",
        "model = Sequential()\n",
        "\n",
        "model.add(Conv1D(64,2, activation=\"relu\", input_shape=(10,1)))\n",
        "model.add(MaxPooling1D())\n",
        "model.add(Flatten())\n",
        "\n",
        "model.add(Dense(3,activation='softmax'))\n",
        "\n",
        "model.compile(Adam(lr=0.0004),'categorical_crossentropy',metrics=['accuracy'])\n",
        "\n",
        "model.summary()"
      ],
      "execution_count": null,
      "outputs": [
        {
          "output_type": "stream",
          "text": [
            "Model: \"sequential\"\n",
            "_________________________________________________________________\n",
            "Layer (type)                 Output Shape              Param #   \n",
            "=================================================================\n",
            "conv1d (Conv1D)              (None, 9, 64)             192       \n",
            "_________________________________________________________________\n",
            "max_pooling1d (MaxPooling1D) (None, 4, 64)             0         \n",
            "_________________________________________________________________\n",
            "flatten (Flatten)            (None, 256)               0         \n",
            "_________________________________________________________________\n",
            "dense (Dense)                (None, 3)                 771       \n",
            "=================================================================\n",
            "Total params: 963\n",
            "Trainable params: 963\n",
            "Non-trainable params: 0\n",
            "_________________________________________________________________\n"
          ],
          "name": "stdout"
        }
      ]
    },
    {
      "cell_type": "code",
      "metadata": {
        "colab": {
          "base_uri": "https://localhost:8080/"
        },
        "id": "Pi5SwVjowNAG",
        "outputId": "616ceae1-87de-4ae8-ff1c-fd3d953c165c"
      },
      "source": [
        "history = model.fit(X_train,y_train,batch_size=100, epochs=100,verbose=1, validation_split=0.20)\n",
        "y_pred = model.predict(X_test)\n"
      ],
      "execution_count": null,
      "outputs": [
        {
          "output_type": "stream",
          "text": [
            "Epoch 1/100\n",
            "313/313 [==============================] - 2s 5ms/step - loss: 7.1439 - accuracy: 0.6151 - val_loss: 0.6228 - val_accuracy: 0.7887\n",
            "Epoch 2/100\n",
            "313/313 [==============================] - 1s 3ms/step - loss: 0.5961 - accuracy: 0.7867 - val_loss: 1.2766 - val_accuracy: 0.6841\n",
            "Epoch 3/100\n",
            "313/313 [==============================] - 1s 3ms/step - loss: 0.7026 - accuracy: 0.7734 - val_loss: 0.4755 - val_accuracy: 0.8140\n",
            "Epoch 4/100\n",
            "313/313 [==============================] - 1s 3ms/step - loss: 0.5030 - accuracy: 0.8023 - val_loss: 0.4695 - val_accuracy: 0.8147\n",
            "Epoch 5/100\n",
            "313/313 [==============================] - 1s 3ms/step - loss: 0.4924 - accuracy: 0.8029 - val_loss: 0.4772 - val_accuracy: 0.8016\n",
            "Epoch 6/100\n",
            "313/313 [==============================] - 1s 3ms/step - loss: 0.5286 - accuracy: 0.7922 - val_loss: 0.4439 - val_accuracy: 0.8193\n",
            "Epoch 7/100\n",
            "313/313 [==============================] - 1s 3ms/step - loss: 0.5212 - accuracy: 0.7987 - val_loss: 0.4561 - val_accuracy: 0.8141\n",
            "Epoch 8/100\n",
            "313/313 [==============================] - 1s 3ms/step - loss: 0.4807 - accuracy: 0.8060 - val_loss: 0.4409 - val_accuracy: 0.8217\n",
            "Epoch 9/100\n",
            "313/313 [==============================] - 1s 3ms/step - loss: 0.4986 - accuracy: 0.7994 - val_loss: 0.4723 - val_accuracy: 0.8150\n",
            "Epoch 10/100\n",
            "313/313 [==============================] - 1s 3ms/step - loss: 0.4800 - accuracy: 0.8107 - val_loss: 0.5558 - val_accuracy: 0.7638\n",
            "Epoch 11/100\n",
            "313/313 [==============================] - 1s 3ms/step - loss: 0.5458 - accuracy: 0.7885 - val_loss: 0.4732 - val_accuracy: 0.8003\n",
            "Epoch 12/100\n",
            "313/313 [==============================] - 1s 3ms/step - loss: 0.4816 - accuracy: 0.8070 - val_loss: 0.6357 - val_accuracy: 0.7579\n",
            "Epoch 13/100\n",
            "313/313 [==============================] - 1s 3ms/step - loss: 0.5089 - accuracy: 0.8008 - val_loss: 0.4183 - val_accuracy: 0.8230\n",
            "Epoch 14/100\n",
            "313/313 [==============================] - 1s 3ms/step - loss: 0.5018 - accuracy: 0.7997 - val_loss: 0.4133 - val_accuracy: 0.8283\n",
            "Epoch 15/100\n",
            "313/313 [==============================] - 1s 3ms/step - loss: 0.4582 - accuracy: 0.8150 - val_loss: 0.6656 - val_accuracy: 0.7760\n",
            "Epoch 16/100\n",
            "313/313 [==============================] - 1s 3ms/step - loss: 0.4634 - accuracy: 0.8136 - val_loss: 0.5083 - val_accuracy: 0.7813\n",
            "Epoch 17/100\n",
            "313/313 [==============================] - 1s 3ms/step - loss: 0.4924 - accuracy: 0.8029 - val_loss: 0.4243 - val_accuracy: 0.8263\n",
            "Epoch 18/100\n",
            "313/313 [==============================] - 1s 3ms/step - loss: 0.4857 - accuracy: 0.8037 - val_loss: 0.4202 - val_accuracy: 0.8269\n",
            "Epoch 19/100\n",
            "313/313 [==============================] - 1s 3ms/step - loss: 0.4890 - accuracy: 0.8084 - val_loss: 0.4530 - val_accuracy: 0.8222\n",
            "Epoch 20/100\n",
            "313/313 [==============================] - 1s 3ms/step - loss: 0.4589 - accuracy: 0.8155 - val_loss: 0.4178 - val_accuracy: 0.8248\n",
            "Epoch 21/100\n",
            "313/313 [==============================] - 1s 3ms/step - loss: 0.4637 - accuracy: 0.8123 - val_loss: 0.5029 - val_accuracy: 0.7882\n",
            "Epoch 22/100\n",
            "313/313 [==============================] - 1s 3ms/step - loss: 0.4933 - accuracy: 0.8090 - val_loss: 0.4937 - val_accuracy: 0.8033\n",
            "Epoch 23/100\n",
            "313/313 [==============================] - 1s 3ms/step - loss: 0.4705 - accuracy: 0.8142 - val_loss: 0.5273 - val_accuracy: 0.7921\n",
            "Epoch 24/100\n",
            "313/313 [==============================] - 1s 3ms/step - loss: 0.4883 - accuracy: 0.8073 - val_loss: 0.5343 - val_accuracy: 0.7746\n",
            "Epoch 25/100\n",
            "313/313 [==============================] - 1s 3ms/step - loss: 0.5038 - accuracy: 0.7982 - val_loss: 0.4431 - val_accuracy: 0.8272\n",
            "Epoch 26/100\n",
            "313/313 [==============================] - 1s 3ms/step - loss: 0.4318 - accuracy: 0.8210 - val_loss: 0.4387 - val_accuracy: 0.8188\n",
            "Epoch 27/100\n",
            "313/313 [==============================] - 1s 3ms/step - loss: 0.4820 - accuracy: 0.8127 - val_loss: 0.4037 - val_accuracy: 0.8360\n",
            "Epoch 28/100\n",
            "313/313 [==============================] - 1s 3ms/step - loss: 0.4407 - accuracy: 0.8247 - val_loss: 0.4362 - val_accuracy: 0.8226\n",
            "Epoch 29/100\n",
            "313/313 [==============================] - 1s 3ms/step - loss: 0.4651 - accuracy: 0.8179 - val_loss: 0.4501 - val_accuracy: 0.8179\n",
            "Epoch 30/100\n",
            "313/313 [==============================] - 1s 3ms/step - loss: 0.4647 - accuracy: 0.8150 - val_loss: 0.4099 - val_accuracy: 0.8319\n",
            "Epoch 31/100\n",
            "313/313 [==============================] - 1s 3ms/step - loss: 0.4589 - accuracy: 0.8214 - val_loss: 0.4415 - val_accuracy: 0.8163\n",
            "Epoch 32/100\n",
            "313/313 [==============================] - 1s 3ms/step - loss: 0.4669 - accuracy: 0.8136 - val_loss: 0.4368 - val_accuracy: 0.8283\n",
            "Epoch 33/100\n",
            "313/313 [==============================] - 1s 3ms/step - loss: 0.4458 - accuracy: 0.8229 - val_loss: 0.4856 - val_accuracy: 0.8083\n",
            "Epoch 34/100\n",
            "313/313 [==============================] - 1s 3ms/step - loss: 0.4393 - accuracy: 0.8232 - val_loss: 0.4705 - val_accuracy: 0.8167\n",
            "Epoch 35/100\n",
            "313/313 [==============================] - 1s 3ms/step - loss: 0.4929 - accuracy: 0.8103 - val_loss: 0.4263 - val_accuracy: 0.8296\n",
            "Epoch 36/100\n",
            "313/313 [==============================] - 1s 3ms/step - loss: 0.4388 - accuracy: 0.8265 - val_loss: 0.4409 - val_accuracy: 0.8266\n",
            "Epoch 37/100\n",
            "313/313 [==============================] - 1s 3ms/step - loss: 0.4658 - accuracy: 0.8103 - val_loss: 0.5452 - val_accuracy: 0.7950\n",
            "Epoch 38/100\n",
            "313/313 [==============================] - 1s 3ms/step - loss: 0.4333 - accuracy: 0.8252 - val_loss: 0.4866 - val_accuracy: 0.8181\n",
            "Epoch 39/100\n",
            "313/313 [==============================] - 1s 3ms/step - loss: 0.4456 - accuracy: 0.8241 - val_loss: 0.4239 - val_accuracy: 0.8363\n",
            "Epoch 40/100\n",
            "313/313 [==============================] - 1s 3ms/step - loss: 0.4493 - accuracy: 0.8193 - val_loss: 0.3986 - val_accuracy: 0.8387\n",
            "Epoch 41/100\n",
            "313/313 [==============================] - 1s 3ms/step - loss: 0.4194 - accuracy: 0.8298 - val_loss: 0.5371 - val_accuracy: 0.7838\n",
            "Epoch 42/100\n",
            "313/313 [==============================] - 1s 3ms/step - loss: 0.4665 - accuracy: 0.8142 - val_loss: 0.4445 - val_accuracy: 0.8286\n",
            "Epoch 43/100\n",
            "313/313 [==============================] - 1s 3ms/step - loss: 0.4421 - accuracy: 0.8244 - val_loss: 0.4366 - val_accuracy: 0.8235\n",
            "Epoch 44/100\n",
            "313/313 [==============================] - 1s 3ms/step - loss: 0.4482 - accuracy: 0.8181 - val_loss: 0.4498 - val_accuracy: 0.8109\n",
            "Epoch 45/100\n",
            "313/313 [==============================] - 1s 3ms/step - loss: 0.4419 - accuracy: 0.8168 - val_loss: 0.4147 - val_accuracy: 0.8280\n",
            "Epoch 46/100\n",
            "313/313 [==============================] - 1s 3ms/step - loss: 0.4212 - accuracy: 0.8263 - val_loss: 0.4007 - val_accuracy: 0.8377\n",
            "Epoch 47/100\n",
            "313/313 [==============================] - 1s 3ms/step - loss: 0.4238 - accuracy: 0.8262 - val_loss: 0.4997 - val_accuracy: 0.7974\n",
            "Epoch 48/100\n",
            "313/313 [==============================] - 1s 3ms/step - loss: 0.4580 - accuracy: 0.8182 - val_loss: 0.4211 - val_accuracy: 0.8370\n",
            "Epoch 49/100\n",
            "313/313 [==============================] - 1s 3ms/step - loss: 0.4285 - accuracy: 0.8255 - val_loss: 0.4214 - val_accuracy: 0.8336\n",
            "Epoch 50/100\n",
            "313/313 [==============================] - 1s 3ms/step - loss: 0.4436 - accuracy: 0.8237 - val_loss: 0.4079 - val_accuracy: 0.8328\n",
            "Epoch 51/100\n",
            "313/313 [==============================] - 1s 3ms/step - loss: 0.4633 - accuracy: 0.8155 - val_loss: 0.4425 - val_accuracy: 0.8225\n",
            "Epoch 52/100\n",
            "313/313 [==============================] - 1s 3ms/step - loss: 0.4917 - accuracy: 0.8157 - val_loss: 0.4075 - val_accuracy: 0.8317\n",
            "Epoch 53/100\n",
            "313/313 [==============================] - 1s 3ms/step - loss: 0.4154 - accuracy: 0.8280 - val_loss: 0.4254 - val_accuracy: 0.8208\n",
            "Epoch 54/100\n",
            "313/313 [==============================] - 1s 3ms/step - loss: 0.4606 - accuracy: 0.8217 - val_loss: 0.4378 - val_accuracy: 0.8214\n",
            "Epoch 55/100\n",
            "313/313 [==============================] - 1s 3ms/step - loss: 0.4930 - accuracy: 0.8087 - val_loss: 0.4998 - val_accuracy: 0.8180\n",
            "Epoch 56/100\n",
            "313/313 [==============================] - 1s 3ms/step - loss: 0.4277 - accuracy: 0.8299 - val_loss: 0.4031 - val_accuracy: 0.8363\n",
            "Epoch 57/100\n",
            "313/313 [==============================] - 1s 3ms/step - loss: 0.4558 - accuracy: 0.8193 - val_loss: 0.4239 - val_accuracy: 0.8295\n",
            "Epoch 58/100\n",
            "313/313 [==============================] - 1s 3ms/step - loss: 0.4797 - accuracy: 0.8125 - val_loss: 0.4256 - val_accuracy: 0.8235\n",
            "Epoch 59/100\n",
            "313/313 [==============================] - 1s 3ms/step - loss: 0.4613 - accuracy: 0.8164 - val_loss: 0.4535 - val_accuracy: 0.8127\n",
            "Epoch 60/100\n",
            "313/313 [==============================] - 1s 3ms/step - loss: 0.4328 - accuracy: 0.8251 - val_loss: 0.4635 - val_accuracy: 0.8102\n",
            "Epoch 61/100\n",
            "313/313 [==============================] - 1s 3ms/step - loss: 0.4312 - accuracy: 0.8250 - val_loss: 0.3963 - val_accuracy: 0.8424\n",
            "Epoch 62/100\n",
            "313/313 [==============================] - 1s 3ms/step - loss: 0.4571 - accuracy: 0.8172 - val_loss: 0.4087 - val_accuracy: 0.8393\n",
            "Epoch 63/100\n",
            "313/313 [==============================] - 1s 3ms/step - loss: 0.4626 - accuracy: 0.8189 - val_loss: 0.4150 - val_accuracy: 0.8266\n",
            "Epoch 64/100\n",
            "313/313 [==============================] - 1s 3ms/step - loss: 0.4031 - accuracy: 0.8363 - val_loss: 0.4550 - val_accuracy: 0.8140\n",
            "Epoch 65/100\n",
            "313/313 [==============================] - 1s 3ms/step - loss: 0.4294 - accuracy: 0.8252 - val_loss: 0.4475 - val_accuracy: 0.8269\n",
            "Epoch 66/100\n",
            "313/313 [==============================] - 1s 3ms/step - loss: 0.4612 - accuracy: 0.8170 - val_loss: 0.4619 - val_accuracy: 0.8226\n",
            "Epoch 67/100\n",
            "313/313 [==============================] - 1s 3ms/step - loss: 0.5046 - accuracy: 0.8091 - val_loss: 0.4596 - val_accuracy: 0.8159\n",
            "Epoch 68/100\n",
            "313/313 [==============================] - 1s 3ms/step - loss: 0.4438 - accuracy: 0.8224 - val_loss: 0.4344 - val_accuracy: 0.8305\n",
            "Epoch 69/100\n",
            "313/313 [==============================] - 1s 3ms/step - loss: 0.4612 - accuracy: 0.8223 - val_loss: 0.5241 - val_accuracy: 0.8134\n",
            "Epoch 70/100\n",
            "313/313 [==============================] - 1s 3ms/step - loss: 0.4410 - accuracy: 0.8287 - val_loss: 0.4296 - val_accuracy: 0.8294\n",
            "Epoch 71/100\n",
            "313/313 [==============================] - 1s 3ms/step - loss: 0.4314 - accuracy: 0.8245 - val_loss: 0.4027 - val_accuracy: 0.8392\n",
            "Epoch 72/100\n",
            "313/313 [==============================] - 1s 3ms/step - loss: 0.4209 - accuracy: 0.8312 - val_loss: 0.4690 - val_accuracy: 0.8113\n",
            "Epoch 73/100\n",
            "313/313 [==============================] - 1s 3ms/step - loss: 0.4290 - accuracy: 0.8298 - val_loss: 0.5019 - val_accuracy: 0.7960\n",
            "Epoch 74/100\n",
            "313/313 [==============================] - 1s 3ms/step - loss: 0.4358 - accuracy: 0.8261 - val_loss: 0.3925 - val_accuracy: 0.8427\n",
            "Epoch 75/100\n",
            "313/313 [==============================] - 1s 3ms/step - loss: 0.4645 - accuracy: 0.8186 - val_loss: 0.4162 - val_accuracy: 0.8358\n",
            "Epoch 76/100\n",
            "313/313 [==============================] - 1s 3ms/step - loss: 0.4291 - accuracy: 0.8330 - val_loss: 0.4241 - val_accuracy: 0.8294\n",
            "Epoch 77/100\n",
            "313/313 [==============================] - 1s 3ms/step - loss: 0.4186 - accuracy: 0.8302 - val_loss: 0.5915 - val_accuracy: 0.7722\n",
            "Epoch 78/100\n",
            "313/313 [==============================] - 1s 3ms/step - loss: 0.4352 - accuracy: 0.8280 - val_loss: 0.3869 - val_accuracy: 0.8420\n",
            "Epoch 79/100\n",
            "313/313 [==============================] - 1s 3ms/step - loss: 0.4463 - accuracy: 0.8231 - val_loss: 0.4913 - val_accuracy: 0.8033\n",
            "Epoch 80/100\n",
            "313/313 [==============================] - 1s 3ms/step - loss: 0.4877 - accuracy: 0.8142 - val_loss: 0.3873 - val_accuracy: 0.8419\n",
            "Epoch 81/100\n",
            "313/313 [==============================] - 1s 3ms/step - loss: 0.4243 - accuracy: 0.8289 - val_loss: 0.9011 - val_accuracy: 0.7365\n",
            "Epoch 82/100\n",
            "313/313 [==============================] - 1s 3ms/step - loss: 0.5238 - accuracy: 0.8105 - val_loss: 0.5582 - val_accuracy: 0.8005\n",
            "Epoch 83/100\n",
            "313/313 [==============================] - 1s 3ms/step - loss: 0.4392 - accuracy: 0.8271 - val_loss: 0.4609 - val_accuracy: 0.8179\n",
            "Epoch 84/100\n",
            "313/313 [==============================] - 1s 3ms/step - loss: 0.4191 - accuracy: 0.8290 - val_loss: 0.4746 - val_accuracy: 0.8208\n",
            "Epoch 85/100\n",
            "313/313 [==============================] - 1s 3ms/step - loss: 0.4503 - accuracy: 0.8206 - val_loss: 0.4315 - val_accuracy: 0.8292\n",
            "Epoch 86/100\n",
            "313/313 [==============================] - 1s 3ms/step - loss: 0.4335 - accuracy: 0.8255 - val_loss: 0.4201 - val_accuracy: 0.8249\n",
            "Epoch 87/100\n",
            "313/313 [==============================] - 1s 3ms/step - loss: 0.4249 - accuracy: 0.8291 - val_loss: 0.4239 - val_accuracy: 0.8245\n",
            "Epoch 88/100\n",
            "313/313 [==============================] - 1s 3ms/step - loss: 0.4253 - accuracy: 0.8269 - val_loss: 0.4056 - val_accuracy: 0.8439\n",
            "Epoch 89/100\n",
            "313/313 [==============================] - 1s 3ms/step - loss: 0.4306 - accuracy: 0.8238 - val_loss: 0.4682 - val_accuracy: 0.8136\n",
            "Epoch 90/100\n",
            "313/313 [==============================] - 1s 3ms/step - loss: 0.4203 - accuracy: 0.8294 - val_loss: 0.4041 - val_accuracy: 0.8416\n",
            "Epoch 91/100\n",
            "313/313 [==============================] - 1s 3ms/step - loss: 0.4348 - accuracy: 0.8279 - val_loss: 0.3896 - val_accuracy: 0.8439\n",
            "Epoch 92/100\n",
            "313/313 [==============================] - 1s 3ms/step - loss: 0.4348 - accuracy: 0.8278 - val_loss: 0.4379 - val_accuracy: 0.8182\n",
            "Epoch 93/100\n",
            "313/313 [==============================] - 1s 3ms/step - loss: 0.4171 - accuracy: 0.8292 - val_loss: 0.5892 - val_accuracy: 0.7717\n",
            "Epoch 94/100\n",
            "313/313 [==============================] - 1s 3ms/step - loss: 0.4508 - accuracy: 0.8185 - val_loss: 0.3872 - val_accuracy: 0.8455\n",
            "Epoch 95/100\n",
            "313/313 [==============================] - 1s 3ms/step - loss: 0.4174 - accuracy: 0.8294 - val_loss: 0.3811 - val_accuracy: 0.8461\n",
            "Epoch 96/100\n",
            "313/313 [==============================] - 1s 3ms/step - loss: 0.4384 - accuracy: 0.8262 - val_loss: 0.4604 - val_accuracy: 0.8168\n",
            "Epoch 97/100\n",
            "313/313 [==============================] - 1s 3ms/step - loss: 0.4287 - accuracy: 0.8262 - val_loss: 0.4039 - val_accuracy: 0.8358\n",
            "Epoch 98/100\n",
            "313/313 [==============================] - 1s 3ms/step - loss: 0.4449 - accuracy: 0.8267 - val_loss: 0.5347 - val_accuracy: 0.7930\n",
            "Epoch 99/100\n",
            "313/313 [==============================] - 1s 3ms/step - loss: 0.4573 - accuracy: 0.8205 - val_loss: 0.4212 - val_accuracy: 0.8262\n",
            "Epoch 100/100\n",
            "313/313 [==============================] - 1s 3ms/step - loss: 0.4374 - accuracy: 0.8254 - val_loss: 0.4345 - val_accuracy: 0.8282\n"
          ],
          "name": "stdout"
        }
      ]
    },
    {
      "cell_type": "code",
      "metadata": {
        "colab": {
          "base_uri": "https://localhost:8080/"
        },
        "id": "ybgQGu9F3GQ6",
        "outputId": "3ab9b8e9-7d85-4eef-d9b9-603aca9f754c"
      },
      "source": [
        "y_pred"
      ],
      "execution_count": null,
      "outputs": [
        {
          "output_type": "execute_result",
          "data": {
            "text/plain": [
              "array([[7.2066723e-13, 3.2059826e-02, 9.6794015e-01],\n",
              "       [5.0760422e-02, 9.3045229e-01, 1.8787310e-02],\n",
              "       [1.1718861e-04, 6.8111885e-01, 3.1876397e-01],\n",
              "       ...,\n",
              "       [1.2208226e-04, 9.4369447e-01, 5.6183483e-02],\n",
              "       [6.1519539e-01, 3.8147071e-01, 3.3339185e-03],\n",
              "       [1.1760678e-12, 6.3192523e-03, 9.9368072e-01]], dtype=float32)"
            ]
          },
          "metadata": {
            "tags": []
          },
          "execution_count": 18
        }
      ]
    },
    {
      "cell_type": "code",
      "metadata": {
        "id": "HTmZ0h8I3PIy"
      },
      "source": [
        "y_test_class = np.argmax(y_test,axis=1)\n",
        "y_pred_class = np.argmax(y_pred,axis=1)"
      ],
      "execution_count": null,
      "outputs": []
    },
    {
      "cell_type": "code",
      "metadata": {
        "colab": {
          "base_uri": "https://localhost:8080/"
        },
        "id": "XJRRspAR3ThX",
        "outputId": "cb646bb6-5ec9-4f19-c933-ede02dc39d02"
      },
      "source": [
        "from sklearn.metrics import classification_report,confusion_matrix\n",
        "print(classification_report(y_test_class,y_pred_class))\n",
        "print(confusion_matrix(y_test_class,y_pred_class))"
      ],
      "execution_count": null,
      "outputs": [
        {
          "output_type": "stream",
          "text": [
            "              precision    recall  f1-score   support\n",
            "\n",
            "           0       0.85      0.85      0.85      3251\n",
            "           1       0.88      0.77      0.82      6527\n",
            "           2       0.75      0.93      0.83      3252\n",
            "\n",
            "    accuracy                           0.83     13030\n",
            "   macro avg       0.83      0.85      0.83     13030\n",
            "weighted avg       0.84      0.83      0.83     13030\n",
            "\n",
            "[[2769  479    3]\n",
            " [ 465 5035 1027]\n",
            " [   6  232 3014]]\n"
          ],
          "name": "stdout"
        }
      ]
    },
    {
      "cell_type": "code",
      "metadata": {
        "colab": {
          "base_uri": "https://localhost:8080/"
        },
        "id": "YDe9083Uif4m",
        "outputId": "1429d209-b12c-44d9-a8f1-8d5829631d84"
      },
      "source": [
        "import seaborn as sns\n",
        "import pandas as pd\n",
        "import datetime \n",
        "import calendar\n",
        "import matplotlib.pyplot as plt\n",
        "import numpy as np\n",
        "import scipy.stats as stats\n",
        " \n",
        "from sklearn.model_selection import train_test_split\n",
        "from sklearn.linear_model import LogisticRegression\n",
        "from sklearn import metrics\n",
        "from sklearn.metrics import roc_curve, auc\n",
        "from sklearn.metrics import roc_auc_score\n",
        "\n",
        "from sklearn import model_selection\n",
        "from sklearn import linear_model\n",
        "from sklearn import metrics\n",
        " \n",
        "\n",
        "# Model accuracy\n",
        "print(\"\\n\")\n",
        "print(\"Normal Predictor Values ===============================\")\n",
        "#print(\"model score: %.3f\" % model.score(X_test, y_test))\n",
        "print(\"Accuracy:\",metrics.accuracy_score(y_test_class,y_pred_class))\n",
        "print(\"Precision:\",metrics.precision_score(y_test_class,y_pred_class, average='weighted'))\n",
        "print(\"Recall:\",metrics.recall_score(y_test_class,y_pred_class, average='weighted'))\n",
        "print(\"F1 Score:\",metrics.f1_score(y_test_class,y_pred_class, average='weighted'))\n",
        "print(\"\\n\")"
      ],
      "execution_count": null,
      "outputs": [
        {
          "output_type": "stream",
          "text": [
            "\n",
            "\n",
            "Normal Predictor Values ===============================\n",
            "Accuracy: 0.8302379125095932\n",
            "Precision: 0.838179771206325\n",
            "Recall: 0.8302379125095932\n",
            "F1 Score: 0.8300782983182926\n",
            "\n",
            "\n"
          ],
          "name": "stdout"
        }
      ]
    },
    {
      "cell_type": "code",
      "metadata": {
        "colab": {
          "base_uri": "https://localhost:8080/"
        },
        "id": "rKWmbYXGB9fK",
        "outputId": "b17bbb13-1d98-4469-c9c4-44eceba314a5"
      },
      "source": [
        "print(history.history.keys())"
      ],
      "execution_count": null,
      "outputs": [
        {
          "output_type": "stream",
          "text": [
            "dict_keys(['loss', 'accuracy', 'val_loss', 'val_accuracy'])\n"
          ],
          "name": "stdout"
        }
      ]
    },
    {
      "cell_type": "code",
      "metadata": {
        "colab": {
          "base_uri": "https://localhost:8080/",
          "height": 573
        },
        "id": "R-3MH6uhB-Gy",
        "outputId": "603478b6-a993-49ab-a7ec-d6c2e4737f48"
      },
      "source": [
        "# summarize history for accuracy\n",
        "plt.plot(history.history['accuracy'])\n",
        "plt.plot(history.history['val_accuracy'])\n",
        "plt.title('model accuracy')\n",
        "plt.ylabel('accuracy')\n",
        "plt.xlabel('epoch')\n",
        "plt.legend(['train', 'test'], loc='upper left')\n",
        "plt.show()\n",
        "\n",
        "# summarize history for loss\n",
        "plt.plot(history.history['loss'])\n",
        "plt.plot(history.history['val_loss'])\n",
        "plt.title('model loss')\n",
        "plt.ylabel('loss')\n",
        "plt.xlabel('epoch')\n",
        "plt.legend(['train', 'test'], loc='upper left')\n",
        "plt.show()\n"
      ],
      "execution_count": null,
      "outputs": [
        {
          "output_type": "display_data",
          "data": {
            "image/png": "[encoded data removed]",
            "text/plain": [
              "<Figure size 432x288 with 1 Axes>"
            ]
          },
          "metadata": {
            "tags": [],
            "needs_background": "light"
          }
        },
        {
          "output_type": "display_data",
          "data": {
            "image/png": "[encoded data removed]",
            "text/plain": [
              "<Figure size 432x288 with 1 Axes>"
            ]
          },
          "metadata": {
            "tags": [],
            "needs_background": "light"
          }
        }
      ]
    },
    {
      "cell_type": "code",
      "metadata": {
        "colab": {
          "base_uri": "https://localhost:8080/"
        },
        "id": "GrbmUqxHHI3r",
        "outputId": "0b235155-c5a9-460a-9469-49f991aa9f7b"
      },
      "source": [
        "from keras.models import Sequential\n",
        "from keras.layers import Dense\n",
        "from keras.optimizers import SGD, RMSprop, Adam\n",
        "\n",
        "\n",
        "model = Sequential()\n",
        "\n",
        "from keras.models import Sequential\n",
        "from keras.layers import Dense, Conv1D, Flatten, MaxPooling1D\n",
        "from sklearn.model_selection import train_test_split\n",
        "from sklearn.metrics import confusion_matrix\n",
        "from sklearn.datasets import load_iris\n",
        "from numpy import unique\n",
        "\n",
        "\n",
        "model = Sequential()\n",
        "\n",
        "model.add(Conv1D(64,2, activation=\"relu\", input_shape=(10,1)))\n",
        "model.add(MaxPooling1D())\n",
        "model.add(Flatten())\n",
        "model.add(Dense(3,activation='softmax'))\n",
        "\n",
        "model.compile(SGD(lr=0.0004),'categorical_crossentropy',metrics=['accuracy'])\n",
        "\n",
        "model.summary()"
      ],
      "execution_count": null,
      "outputs": [
        {
          "output_type": "stream",
          "text": [
            "Model: \"sequential_2\"\n",
            "_________________________________________________________________\n",
            "Layer (type)                 Output Shape              Param #   \n",
            "=================================================================\n",
            "conv1d_1 (Conv1D)            (None, 9, 64)             192       \n",
            "_________________________________________________________________\n",
            "max_pooling1d_1 (MaxPooling1 (None, 4, 64)             0         \n",
            "_________________________________________________________________\n",
            "flatten_1 (Flatten)          (None, 256)               0         \n",
            "_________________________________________________________________\n",
            "dense_1 (Dense)              (None, 3)                 771       \n",
            "=================================================================\n",
            "Total params: 963\n",
            "Trainable params: 963\n",
            "Non-trainable params: 0\n",
            "_________________________________________________________________\n"
          ],
          "name": "stdout"
        }
      ]
    },
    {
      "cell_type": "code",
      "metadata": {
        "colab": {
          "base_uri": "https://localhost:8080/"
        },
        "id": "hGazJrfpHVTj",
        "outputId": "42cd87ed-e382-4482-d8b1-07b793253849"
      },
      "source": [
        "history = model.fit(X_train,y_train,epochs=100,verbose=1, validation_split=0.20)\n",
        "y_pred = model.predict(X_test)\n"
      ],
      "execution_count": null,
      "outputs": [
        {
          "output_type": "stream",
          "text": [
            "Epoch 1/100\n",
            "978/978 [==============================] - 2s 2ms/step - loss: 13.3116 - accuracy: 0.6916 - val_loss: 0.5580 - val_accuracy: 0.7323\n",
            "Epoch 2/100\n",
            "978/978 [==============================] - 2s 2ms/step - loss: 0.5130 - accuracy: 0.7876 - val_loss: 0.4739 - val_accuracy: 0.7993\n",
            "Epoch 3/100\n",
            "978/978 [==============================] - 2s 2ms/step - loss: 0.4889 - accuracy: 0.8013 - val_loss: 0.5036 - val_accuracy: 0.7776\n",
            "Epoch 4/100\n",
            "978/978 [==============================] - 2s 2ms/step - loss: 0.4782 - accuracy: 0.8084 - val_loss: 0.4683 - val_accuracy: 0.7896\n",
            "Epoch 5/100\n",
            "978/978 [==============================] - 2s 2ms/step - loss: 0.4620 - accuracy: 0.8109 - val_loss: 0.4573 - val_accuracy: 0.8056\n",
            "Epoch 6/100\n",
            "978/978 [==============================] - 2s 2ms/step - loss: 0.4623 - accuracy: 0.8097 - val_loss: 0.6217 - val_accuracy: 0.7452\n",
            "Epoch 7/100\n",
            "978/978 [==============================] - 2s 2ms/step - loss: 0.4571 - accuracy: 0.8155 - val_loss: 0.4369 - val_accuracy: 0.8177\n",
            "Epoch 8/100\n",
            "978/978 [==============================] - 2s 2ms/step - loss: 0.4540 - accuracy: 0.8145 - val_loss: 0.4498 - val_accuracy: 0.8085\n",
            "Epoch 9/100\n",
            "978/978 [==============================] - 2s 2ms/step - loss: 0.4552 - accuracy: 0.8162 - val_loss: 0.4323 - val_accuracy: 0.8170\n",
            "Epoch 10/100\n",
            "978/978 [==============================] - 2s 2ms/step - loss: 0.4477 - accuracy: 0.8157 - val_loss: 0.4566 - val_accuracy: 0.8144\n",
            "Epoch 11/100\n",
            "978/978 [==============================] - 2s 2ms/step - loss: 0.4408 - accuracy: 0.8197 - val_loss: 0.5188 - val_accuracy: 0.7768\n",
            "Epoch 12/100\n",
            "978/978 [==============================] - 2s 2ms/step - loss: 0.4418 - accuracy: 0.8196 - val_loss: 0.5155 - val_accuracy: 0.7805\n",
            "Epoch 13/100\n",
            "978/978 [==============================] - 2s 2ms/step - loss: 0.4401 - accuracy: 0.8212 - val_loss: 0.5028 - val_accuracy: 0.7845\n",
            "Epoch 14/100\n",
            "978/978 [==============================] - 2s 2ms/step - loss: 0.4354 - accuracy: 0.8230 - val_loss: 0.4556 - val_accuracy: 0.8044\n",
            "Epoch 15/100\n",
            "978/978 [==============================] - 2s 2ms/step - loss: 0.4331 - accuracy: 0.8210 - val_loss: 0.4885 - val_accuracy: 0.7994\n",
            "Epoch 16/100\n",
            "978/978 [==============================] - 2s 2ms/step - loss: 0.4398 - accuracy: 0.8169 - val_loss: 0.5536 - val_accuracy: 0.7543\n",
            "Epoch 17/100\n",
            "978/978 [==============================] - 2s 2ms/step - loss: 0.4388 - accuracy: 0.8172 - val_loss: 0.4985 - val_accuracy: 0.7786\n",
            "Epoch 18/100\n",
            "978/978 [==============================] - 2s 2ms/step - loss: 0.4398 - accuracy: 0.8198 - val_loss: 0.5301 - val_accuracy: 0.7805\n",
            "Epoch 19/100\n",
            "978/978 [==============================] - 2s 2ms/step - loss: 0.4497 - accuracy: 0.8162 - val_loss: 0.4571 - val_accuracy: 0.8017\n",
            "Epoch 20/100\n",
            "978/978 [==============================] - 2s 2ms/step - loss: 0.4351 - accuracy: 0.8227 - val_loss: 0.4496 - val_accuracy: 0.8107\n",
            "Epoch 21/100\n",
            "978/978 [==============================] - 2s 2ms/step - loss: 0.4342 - accuracy: 0.8225 - val_loss: 0.4985 - val_accuracy: 0.7891\n",
            "Epoch 22/100\n",
            "978/978 [==============================] - 2s 2ms/step - loss: 0.4441 - accuracy: 0.8200 - val_loss: 0.4426 - val_accuracy: 0.8093\n",
            "Epoch 23/100\n",
            "978/978 [==============================] - 2s 2ms/step - loss: 0.4470 - accuracy: 0.8143 - val_loss: 0.5160 - val_accuracy: 0.7772\n",
            "Epoch 24/100\n",
            "978/978 [==============================] - 2s 2ms/step - loss: 0.4376 - accuracy: 0.8190 - val_loss: 0.4471 - val_accuracy: 0.8191\n",
            "Epoch 25/100\n",
            "978/978 [==============================] - 2s 2ms/step - loss: 0.4385 - accuracy: 0.8180 - val_loss: 0.4448 - val_accuracy: 0.8198\n",
            "Epoch 26/100\n",
            "978/978 [==============================] - 2s 2ms/step - loss: 0.4458 - accuracy: 0.8187 - val_loss: 0.4295 - val_accuracy: 0.8213\n",
            "Epoch 27/100\n",
            "978/978 [==============================] - 2s 2ms/step - loss: 0.4386 - accuracy: 0.8196 - val_loss: 0.4858 - val_accuracy: 0.7895\n",
            "Epoch 28/100\n",
            "978/978 [==============================] - 2s 2ms/step - loss: 0.4359 - accuracy: 0.8234 - val_loss: 0.4308 - val_accuracy: 0.8190\n",
            "Epoch 29/100\n",
            "978/978 [==============================] - 2s 2ms/step - loss: 0.4421 - accuracy: 0.8207 - val_loss: 0.4277 - val_accuracy: 0.8245\n",
            "Epoch 30/100\n",
            "978/978 [==============================] - 2s 2ms/step - loss: 0.4416 - accuracy: 0.8189 - val_loss: 0.4289 - val_accuracy: 0.8232\n",
            "Epoch 31/100\n",
            "978/978 [==============================] - 2s 2ms/step - loss: 0.4372 - accuracy: 0.8204 - val_loss: 0.4586 - val_accuracy: 0.8048\n",
            "Epoch 32/100\n",
            "978/978 [==============================] - 2s 2ms/step - loss: 0.4355 - accuracy: 0.8216 - val_loss: 0.4416 - val_accuracy: 0.8176\n",
            "Epoch 33/100\n",
            "978/978 [==============================] - 2s 2ms/step - loss: 0.4365 - accuracy: 0.8211 - val_loss: 0.4263 - val_accuracy: 0.8223\n",
            "Epoch 34/100\n",
            "978/978 [==============================] - 2s 2ms/step - loss: 0.4309 - accuracy: 0.8225 - val_loss: 0.4297 - val_accuracy: 0.8216\n",
            "Epoch 35/100\n",
            "978/978 [==============================] - 2s 2ms/step - loss: 0.4401 - accuracy: 0.8230 - val_loss: 0.5090 - val_accuracy: 0.7769\n",
            "Epoch 36/100\n",
            "978/978 [==============================] - 2s 2ms/step - loss: 0.4323 - accuracy: 0.8242 - val_loss: 0.4960 - val_accuracy: 0.7860\n",
            "Epoch 37/100\n",
            "978/978 [==============================] - 2s 2ms/step - loss: 0.4415 - accuracy: 0.8222 - val_loss: 0.4894 - val_accuracy: 0.7980\n",
            "Epoch 38/100\n",
            "978/978 [==============================] - 2s 2ms/step - loss: 0.4360 - accuracy: 0.8242 - val_loss: 0.4284 - val_accuracy: 0.8207\n",
            "Epoch 39/100\n",
            "978/978 [==============================] - 2s 2ms/step - loss: 0.4422 - accuracy: 0.8224 - val_loss: 0.5076 - val_accuracy: 0.7878\n",
            "Epoch 40/100\n",
            "978/978 [==============================] - 2s 2ms/step - loss: 0.4278 - accuracy: 0.8248 - val_loss: 0.4247 - val_accuracy: 0.8244\n",
            "Epoch 41/100\n",
            "978/978 [==============================] - 2s 2ms/step - loss: 0.4406 - accuracy: 0.8199 - val_loss: 0.5066 - val_accuracy: 0.7736\n",
            "Epoch 42/100\n",
            "978/978 [==============================] - 2s 2ms/step - loss: 0.4360 - accuracy: 0.8200 - val_loss: 0.4906 - val_accuracy: 0.7898\n",
            "Epoch 43/100\n",
            "978/978 [==============================] - 2s 2ms/step - loss: 0.4405 - accuracy: 0.8215 - val_loss: 0.4504 - val_accuracy: 0.8191\n",
            "Epoch 44/100\n",
            "978/978 [==============================] - 2s 2ms/step - loss: 0.4352 - accuracy: 0.8251 - val_loss: 0.4367 - val_accuracy: 0.8207\n",
            "Epoch 45/100\n",
            "978/978 [==============================] - 2s 2ms/step - loss: 0.4428 - accuracy: 0.8209 - val_loss: 0.4263 - val_accuracy: 0.8244\n",
            "Epoch 46/100\n",
            "978/978 [==============================] - 2s 2ms/step - loss: 0.4418 - accuracy: 0.8229 - val_loss: 0.4499 - val_accuracy: 0.8203\n",
            "Epoch 47/100\n",
            "978/978 [==============================] - 2s 2ms/step - loss: 0.4432 - accuracy: 0.8245 - val_loss: 0.4522 - val_accuracy: 0.8181\n",
            "Epoch 48/100\n",
            "978/978 [==============================] - 2s 2ms/step - loss: 0.4426 - accuracy: 0.8220 - val_loss: 0.4252 - val_accuracy: 0.8264\n",
            "Epoch 49/100\n",
            "978/978 [==============================] - 2s 2ms/step - loss: 0.4434 - accuracy: 0.8209 - val_loss: 0.4703 - val_accuracy: 0.7962\n",
            "Epoch 50/100\n",
            "978/978 [==============================] - 2s 2ms/step - loss: 0.4319 - accuracy: 0.8213 - val_loss: 0.4226 - val_accuracy: 0.8259\n",
            "Epoch 51/100\n",
            "978/978 [==============================] - 2s 2ms/step - loss: 0.4292 - accuracy: 0.8247 - val_loss: 0.5045 - val_accuracy: 0.7782\n",
            "Epoch 52/100\n",
            "978/978 [==============================] - 2s 2ms/step - loss: 0.4360 - accuracy: 0.8228 - val_loss: 0.4628 - val_accuracy: 0.7965\n",
            "Epoch 53/100\n",
            "978/978 [==============================] - 2s 2ms/step - loss: 0.4286 - accuracy: 0.8223 - val_loss: 0.4314 - val_accuracy: 0.8225\n",
            "Epoch 54/100\n",
            "978/978 [==============================] - 2s 2ms/step - loss: 0.4361 - accuracy: 0.8217 - val_loss: 0.4745 - val_accuracy: 0.7891\n",
            "Epoch 55/100\n",
            "978/978 [==============================] - 2s 2ms/step - loss: 0.4389 - accuracy: 0.8233 - val_loss: 0.4267 - val_accuracy: 0.8216\n",
            "Epoch 56/100\n",
            "978/978 [==============================] - 2s 2ms/step - loss: 0.4420 - accuracy: 0.8220 - val_loss: 0.4317 - val_accuracy: 0.8214\n",
            "Epoch 57/100\n",
            "978/978 [==============================] - 2s 2ms/step - loss: 0.4300 - accuracy: 0.8219 - val_loss: 0.4378 - val_accuracy: 0.8107\n",
            "Epoch 58/100\n",
            "978/978 [==============================] - 2s 2ms/step - loss: 0.4355 - accuracy: 0.8247 - val_loss: 0.4434 - val_accuracy: 0.8118\n",
            "Epoch 59/100\n",
            "978/978 [==============================] - 2s 2ms/step - loss: 0.4282 - accuracy: 0.8255 - val_loss: 0.4245 - val_accuracy: 0.8237\n",
            "Epoch 60/100\n",
            "978/978 [==============================] - 2s 2ms/step - loss: 0.4372 - accuracy: 0.8227 - val_loss: 0.4305 - val_accuracy: 0.8199\n",
            "Epoch 61/100\n",
            "978/978 [==============================] - 2s 2ms/step - loss: 0.4263 - accuracy: 0.8240 - val_loss: 0.4257 - val_accuracy: 0.8258\n",
            "Epoch 62/100\n",
            "978/978 [==============================] - 2s 2ms/step - loss: 0.4322 - accuracy: 0.8242 - val_loss: 0.4271 - val_accuracy: 0.8258\n",
            "Epoch 63/100\n",
            "978/978 [==============================] - 2s 2ms/step - loss: 0.4314 - accuracy: 0.8257 - val_loss: 0.4277 - val_accuracy: 0.8214\n",
            "Epoch 64/100\n",
            "978/978 [==============================] - 2s 2ms/step - loss: 0.4354 - accuracy: 0.8268 - val_loss: 0.4338 - val_accuracy: 0.8147\n",
            "Epoch 65/100\n",
            "978/978 [==============================] - 2s 2ms/step - loss: 0.4308 - accuracy: 0.8250 - val_loss: 0.4301 - val_accuracy: 0.8161\n",
            "Epoch 66/100\n",
            "978/978 [==============================] - 2s 2ms/step - loss: 0.4282 - accuracy: 0.8266 - val_loss: 0.4246 - val_accuracy: 0.8248\n",
            "Epoch 67/100\n",
            "978/978 [==============================] - 2s 2ms/step - loss: 0.4344 - accuracy: 0.8198 - val_loss: 0.4310 - val_accuracy: 0.8216\n",
            "Epoch 68/100\n",
            "978/978 [==============================] - 2s 2ms/step - loss: 0.4341 - accuracy: 0.8236 - val_loss: 0.4357 - val_accuracy: 0.8135\n",
            "Epoch 69/100\n",
            "978/978 [==============================] - 2s 2ms/step - loss: 0.4333 - accuracy: 0.8228 - val_loss: 0.5344 - val_accuracy: 0.7655\n",
            "Epoch 70/100\n",
            "978/978 [==============================] - 2s 2ms/step - loss: 0.4403 - accuracy: 0.8197 - val_loss: 0.4301 - val_accuracy: 0.8246\n",
            "Epoch 71/100\n",
            "978/978 [==============================] - 2s 2ms/step - loss: 0.4259 - accuracy: 0.8261 - val_loss: 0.4466 - val_accuracy: 0.8127\n",
            "Epoch 72/100\n",
            "978/978 [==============================] - 2s 2ms/step - loss: 0.4310 - accuracy: 0.8255 - val_loss: 0.4348 - val_accuracy: 0.8136\n",
            "Epoch 73/100\n",
            "978/978 [==============================] - 2s 2ms/step - loss: 0.4390 - accuracy: 0.8206 - val_loss: 0.4554 - val_accuracy: 0.8026\n",
            "Epoch 74/100\n",
            "978/978 [==============================] - 2s 2ms/step - loss: 0.4301 - accuracy: 0.8261 - val_loss: 0.4274 - val_accuracy: 0.8198\n",
            "Epoch 75/100\n",
            "978/978 [==============================] - 2s 2ms/step - loss: 0.4378 - accuracy: 0.8238 - val_loss: 0.5402 - val_accuracy: 0.7818\n",
            "Epoch 76/100\n",
            "978/978 [==============================] - 2s 2ms/step - loss: 0.4377 - accuracy: 0.8230 - val_loss: 0.4231 - val_accuracy: 0.8249\n",
            "Epoch 77/100\n",
            "978/978 [==============================] - 2s 2ms/step - loss: 0.4389 - accuracy: 0.8236 - val_loss: 0.4317 - val_accuracy: 0.8217\n",
            "Epoch 78/100\n",
            "978/978 [==============================] - 2s 2ms/step - loss: 0.4352 - accuracy: 0.8221 - val_loss: 0.4246 - val_accuracy: 0.8254\n",
            "Epoch 79/100\n",
            "978/978 [==============================] - 2s 2ms/step - loss: 0.4318 - accuracy: 0.8231 - val_loss: 0.4320 - val_accuracy: 0.8214\n",
            "Epoch 80/100\n",
            "978/978 [==============================] - 2s 2ms/step - loss: 0.4284 - accuracy: 0.8239 - val_loss: 0.4295 - val_accuracy: 0.8164\n",
            "Epoch 81/100\n",
            "978/978 [==============================] - 2s 2ms/step - loss: 0.4266 - accuracy: 0.8251 - val_loss: 0.4428 - val_accuracy: 0.8097\n",
            "Epoch 82/100\n",
            "978/978 [==============================] - 2s 2ms/step - loss: 0.4390 - accuracy: 0.8238 - val_loss: 0.5081 - val_accuracy: 0.7774\n",
            "Epoch 83/100\n",
            "978/978 [==============================] - 2s 2ms/step - loss: 0.4393 - accuracy: 0.8208 - val_loss: 0.4556 - val_accuracy: 0.8098\n",
            "Epoch 84/100\n",
            "978/978 [==============================] - 2s 2ms/step - loss: 0.4398 - accuracy: 0.8243 - val_loss: 0.4317 - val_accuracy: 0.8191\n",
            "Epoch 85/100\n",
            "978/978 [==============================] - 2s 2ms/step - loss: 0.4311 - accuracy: 0.8217 - val_loss: 0.4264 - val_accuracy: 0.8244\n",
            "Epoch 86/100\n",
            "978/978 [==============================] - 2s 2ms/step - loss: 0.4382 - accuracy: 0.8247 - val_loss: 0.4647 - val_accuracy: 0.8117\n",
            "Epoch 87/100\n",
            "978/978 [==============================] - 2s 2ms/step - loss: 0.4263 - accuracy: 0.8250 - val_loss: 0.4234 - val_accuracy: 0.8246\n",
            "Epoch 88/100\n",
            "978/978 [==============================] - 2s 2ms/step - loss: 0.4306 - accuracy: 0.8254 - val_loss: 0.4287 - val_accuracy: 0.8204\n",
            "Epoch 89/100\n",
            "978/978 [==============================] - 2s 2ms/step - loss: 0.4342 - accuracy: 0.8262 - val_loss: 0.4443 - val_accuracy: 0.8223\n",
            "Epoch 90/100\n",
            "978/978 [==============================] - 2s 2ms/step - loss: 0.4220 - accuracy: 0.8250 - val_loss: 0.4443 - val_accuracy: 0.8153\n",
            "Epoch 91/100\n",
            "978/978 [==============================] - 2s 2ms/step - loss: 0.4326 - accuracy: 0.8255 - val_loss: 0.4325 - val_accuracy: 0.8202\n",
            "Epoch 92/100\n",
            "978/978 [==============================] - 2s 2ms/step - loss: 0.4318 - accuracy: 0.8276 - val_loss: 1.0651 - val_accuracy: 0.3329\n",
            "Epoch 93/100\n",
            "978/978 [==============================] - 2s 2ms/step - loss: 0.5291 - accuracy: 0.7568 - val_loss: 0.4532 - val_accuracy: 0.8035\n",
            "Epoch 94/100\n",
            "978/978 [==============================] - 2s 2ms/step - loss: 0.4389 - accuracy: 0.8149 - val_loss: 0.4557 - val_accuracy: 0.8052\n",
            "Epoch 95/100\n",
            "978/978 [==============================] - 2s 2ms/step - loss: 0.4422 - accuracy: 0.8155 - val_loss: 0.4450 - val_accuracy: 0.8156\n",
            "Epoch 96/100\n",
            "978/978 [==============================] - 2s 2ms/step - loss: 0.4411 - accuracy: 0.8180 - val_loss: 0.4864 - val_accuracy: 0.7930\n",
            "Epoch 97/100\n",
            "978/978 [==============================] - 2s 2ms/step - loss: 0.4391 - accuracy: 0.8186 - val_loss: 0.4523 - val_accuracy: 0.7961\n",
            "Epoch 98/100\n",
            "978/978 [==============================] - 2s 2ms/step - loss: 0.4385 - accuracy: 0.8164 - val_loss: 1.4100 - val_accuracy: 0.6452\n",
            "Epoch 99/100\n",
            "978/978 [==============================] - 2s 2ms/step - loss: 0.4528 - accuracy: 0.8138 - val_loss: 0.4310 - val_accuracy: 0.8235\n",
            "Epoch 100/100\n",
            "978/978 [==============================] - 2s 2ms/step - loss: 0.4437 - accuracy: 0.8166 - val_loss: 0.4402 - val_accuracy: 0.8104\n"
          ],
          "name": "stdout"
        }
      ]
    },
    {
      "cell_type": "code",
      "metadata": {
        "id": "eDpCdKveHYWi"
      },
      "source": [
        "y_test_class = np.argmax(y_test,axis=1)\n",
        "y_pred_class = np.argmax(y_pred,axis=1)"
      ],
      "execution_count": null,
      "outputs": []
    },
    {
      "cell_type": "code",
      "metadata": {
        "colab": {
          "base_uri": "https://localhost:8080/"
        },
        "id": "LsveEscxJm6r",
        "outputId": "7bf5fcfe-3cc9-4773-8250-edfcdc3f2e57"
      },
      "source": [
        "#from sklearn.metrics import classification_report,confusion_matrix\n",
        "from sklearn.metrics import classification_report, confusion_matrix, accuracy_score\n",
        "print(classification_report(y_test_class,y_pred_class))\n",
        "print(confusion_matrix(y_test_class,y_pred_class))\n",
        "\n",
        "\n"
      ],
      "execution_count": null,
      "outputs": [
        {
          "output_type": "stream",
          "text": [
            "              precision    recall  f1-score   support\n",
            "\n",
            "           0       0.84      0.84      0.84      3251\n",
            "           1       0.78      0.88      0.83      6527\n",
            "           2       0.90      0.65      0.75      3252\n",
            "\n",
            "    accuracy                           0.81     13030\n",
            "   macro avg       0.84      0.79      0.81     13030\n",
            "weighted avg       0.82      0.81      0.81     13030\n",
            "\n",
            "[[2733  514    4]\n",
            " [ 513 5775  239]\n",
            " [   3 1143 2106]]\n"
          ],
          "name": "stdout"
        }
      ]
    },
    {
      "cell_type": "code",
      "metadata": {
        "colab": {
          "base_uri": "https://localhost:8080/"
        },
        "id": "8hBXFfpfNES1",
        "outputId": "9e2b1697-845e-4740-8126-a4762d4838db"
      },
      "source": [
        "import seaborn as sns\n",
        "import pandas as pd\n",
        "import datetime \n",
        "import calendar\n",
        "import matplotlib.pyplot as plt\n",
        "import numpy as np\n",
        "import scipy.stats as stats\n",
        " \n",
        "from sklearn.model_selection import train_test_split\n",
        "from sklearn.linear_model import LogisticRegression\n",
        "from sklearn import metrics\n",
        "from sklearn.metrics import roc_curve, auc\n",
        "from sklearn.metrics import roc_auc_score\n",
        "\n",
        "from sklearn import model_selection\n",
        "from sklearn import linear_model\n",
        "from sklearn import metrics\n",
        " \n",
        "\n",
        "# Model accuracy\n",
        "print(\"\\n\")\n",
        "print(\"Normal Predictor Values ===============================\")\n",
        "#print(\"model score: %.3f\" % model.score(X_test, y_test))\n",
        "print(\"Accuracy:\",metrics.accuracy_score(y_test_class,y_pred_class))\n",
        "print(\"Precision:\",metrics.precision_score(y_test_class,y_pred_class, average='weighted'))\n",
        "print(\"Recall:\",metrics.recall_score(y_test_class,y_pred_class, average='weighted'))\n",
        "print(\"F1 Score:\",metrics.f1_score(y_test_class,y_pred_class, average='weighted'))\n",
        "print(\"\\n\")"
      ],
      "execution_count": null,
      "outputs": [
        {
          "output_type": "stream",
          "text": [
            "\n",
            "\n",
            "Normal Predictor Values ===============================\n",
            "Accuracy: 0.8145817344589409\n",
            "Precision: 0.8228735729653472\n",
            "Recall: 0.8145817344589409\n",
            "F1 Score: 0.8119695939320366\n",
            "\n",
            "\n"
          ],
          "name": "stdout"
        }
      ]
    },
    {
      "cell_type": "code",
      "metadata": {
        "id": "tiBYaKv4Jq9O",
        "colab": {
          "base_uri": "https://localhost:8080/",
          "height": 573
        },
        "outputId": "4652646d-40bc-4a7d-e625-b0fbc5a35d65"
      },
      "source": [
        " # summarize history for accuracy\n",
        "plt.plot(history.history['accuracy'])\n",
        "plt.plot(history.history['val_accuracy'])\n",
        "plt.title('model accuracy')\n",
        "plt.ylabel('accuracy')\n",
        "plt.xlabel('epoch')\n",
        "plt.legend(['train', 'test'], loc='upper left')\n",
        "plt.show()\n",
        "\n",
        "# summarize history for loss\n",
        "plt.plot(history.history['loss'])\n",
        "plt.plot(history.history['val_loss'])\n",
        "plt.title('model loss')\n",
        "plt.ylabel('loss')\n",
        "plt.xlabel('epoch')\n",
        "plt.legend(['train', 'test'], loc='upper left')\n",
        "plt.show()\n"
      ],
      "execution_count": null,
      "outputs": [
        {
          "output_type": "display_data",
          "data": {
            "image/png": "[encoded data removed]",
            "text/plain": [
              "<Figure size 432x288 with 1 Axes>"
            ]
          },
          "metadata": {
            "tags": [],
            "needs_background": "light"
          }
        },
        {
          "output_type": "display_data",
          "data": {
            "image/png": "[encoded data removed]",
            "text/plain": [
              "<Figure size 432x288 with 1 Axes>"
            ]
          },
          "metadata": {
            "tags": [],
            "needs_background": "light"
          }
        }
      ]
    },
    {
      "cell_type": "code",
      "metadata": {
        "colab": {
          "base_uri": "https://localhost:8080/"
        },
        "id": "spmz1CGOJzFF",
        "outputId": "22e56d51-4499-4295-e061-84c18edab5c6"
      },
      "source": [
        "from keras.models import Sequential\n",
        "from keras.layers import Dense\n",
        "from keras.optimizers import SGD, RMSprop, Adam\n",
        "\n",
        "\n",
        "model = Sequential()\n",
        "\n",
        "from keras.models import Sequential\n",
        "from keras.layers import Dense, Conv1D, Flatten, MaxPooling1D\n",
        "from sklearn.model_selection import train_test_split\n",
        "from sklearn.metrics import confusion_matrix\n",
        "from sklearn.datasets import load_iris\n",
        "from numpy import unique\n",
        "\n",
        "\n",
        "model = Sequential()\n",
        "\n",
        "model.add(Conv1D(64,2, activation=\"relu\", input_shape=(10,1)))\n",
        "model.add(MaxPooling1D())\n",
        "model.add(Flatten())\n",
        "\n",
        "model.add(Dense(3,activation='softmax'))\n",
        "\n",
        "model.compile(RMSprop(lr=0.0004),'categorical_crossentropy',metrics=['accuracy'])\n",
        "\n",
        "model.summary()"
      ],
      "execution_count": null,
      "outputs": [
        {
          "output_type": "stream",
          "text": [
            "Model: \"sequential_4\"\n",
            "_________________________________________________________________\n",
            "Layer (type)                 Output Shape              Param #   \n",
            "=================================================================\n",
            "conv1d_2 (Conv1D)            (None, 9, 64)             192       \n",
            "_________________________________________________________________\n",
            "max_pooling1d_2 (MaxPooling1 (None, 4, 64)             0         \n",
            "_________________________________________________________________\n",
            "flatten_2 (Flatten)          (None, 256)               0         \n",
            "_________________________________________________________________\n",
            "dense_2 (Dense)              (None, 3)                 771       \n",
            "=================================================================\n",
            "Total params: 963\n",
            "Trainable params: 963\n",
            "Non-trainable params: 0\n",
            "_________________________________________________________________\n"
          ],
          "name": "stdout"
        }
      ]
    },
    {
      "cell_type": "code",
      "metadata": {
        "colab": {
          "base_uri": "https://localhost:8080/"
        },
        "id": "m7iEnwlnJ82y",
        "outputId": "80d013f4-2b86-42d8-e01c-371918ea3799"
      },
      "source": [
        "history = model.fit(X_train,y_train,batch_size=100, epochs=100,verbose=1, validation_split=0.20)\n",
        "y_pred = model.predict(X_test)\n"
      ],
      "execution_count": null,
      "outputs": [
        {
          "output_type": "stream",
          "text": [
            "Epoch 1/100\n",
            "313/313 [==============================] - 1s 3ms/step - loss: 45.9694 - accuracy: 0.5019 - val_loss: 1.2142 - val_accuracy: 0.7588\n",
            "Epoch 2/100\n",
            "313/313 [==============================] - 1s 3ms/step - loss: 1.6314 - accuracy: 0.7244 - val_loss: 1.2299 - val_accuracy: 0.7760\n",
            "Epoch 3/100\n",
            "313/313 [==============================] - 1s 3ms/step - loss: 1.4913 - accuracy: 0.7411 - val_loss: 2.2815 - val_accuracy: 0.6372\n",
            "Epoch 4/100\n",
            "313/313 [==============================] - 1s 3ms/step - loss: 1.5510 - accuracy: 0.7335 - val_loss: 2.1391 - val_accuracy: 0.6781\n",
            "Epoch 5/100\n",
            "313/313 [==============================] - 1s 3ms/step - loss: 1.5466 - accuracy: 0.7372 - val_loss: 2.7237 - val_accuracy: 0.5780\n",
            "Epoch 6/100\n",
            "313/313 [==============================] - 1s 3ms/step - loss: 1.4643 - accuracy: 0.7430 - val_loss: 0.8811 - val_accuracy: 0.8065\n",
            "Epoch 7/100\n",
            "313/313 [==============================] - 1s 3ms/step - loss: 1.5091 - accuracy: 0.7389 - val_loss: 1.7110 - val_accuracy: 0.7169\n",
            "Epoch 8/100\n",
            "313/313 [==============================] - 1s 3ms/step - loss: 1.4685 - accuracy: 0.7442 - val_loss: 1.5583 - val_accuracy: 0.7430\n",
            "Epoch 9/100\n",
            "313/313 [==============================] - 1s 3ms/step - loss: 1.4348 - accuracy: 0.7471 - val_loss: 1.7380 - val_accuracy: 0.7089\n",
            "Epoch 10/100\n",
            "313/313 [==============================] - 1s 3ms/step - loss: 1.3684 - accuracy: 0.7497 - val_loss: 0.6825 - val_accuracy: 0.8313\n",
            "Epoch 11/100\n",
            "313/313 [==============================] - 1s 3ms/step - loss: 1.4091 - accuracy: 0.7416 - val_loss: 1.2938 - val_accuracy: 0.7553\n",
            "Epoch 12/100\n",
            "313/313 [==============================] - 1s 3ms/step - loss: 1.3257 - accuracy: 0.7561 - val_loss: 0.7269 - val_accuracy: 0.8234\n",
            "Epoch 13/100\n",
            "313/313 [==============================] - 1s 3ms/step - loss: 1.3386 - accuracy: 0.7517 - val_loss: 1.3981 - val_accuracy: 0.7240\n",
            "Epoch 14/100\n",
            "313/313 [==============================] - 1s 3ms/step - loss: 1.3750 - accuracy: 0.7428 - val_loss: 1.0682 - val_accuracy: 0.7681\n",
            "Epoch 15/100\n",
            "313/313 [==============================] - 1s 3ms/step - loss: 1.2590 - accuracy: 0.7611 - val_loss: 0.8981 - val_accuracy: 0.8002\n",
            "Epoch 16/100\n",
            "313/313 [==============================] - 1s 3ms/step - loss: 1.2386 - accuracy: 0.7626 - val_loss: 0.7515 - val_accuracy: 0.8230\n",
            "Epoch 17/100\n",
            "313/313 [==============================] - 1s 3ms/step - loss: 1.2692 - accuracy: 0.7498 - val_loss: 1.7759 - val_accuracy: 0.6851\n",
            "Epoch 18/100\n",
            "313/313 [==============================] - 1s 3ms/step - loss: 1.2760 - accuracy: 0.7521 - val_loss: 2.1836 - val_accuracy: 0.6073\n",
            "Epoch 19/100\n",
            "313/313 [==============================] - 1s 3ms/step - loss: 1.2673 - accuracy: 0.7586 - val_loss: 1.1073 - val_accuracy: 0.7570\n",
            "Epoch 20/100\n",
            "313/313 [==============================] - 1s 3ms/step - loss: 1.2518 - accuracy: 0.7567 - val_loss: 1.1438 - val_accuracy: 0.7387\n",
            "Epoch 21/100\n",
            "313/313 [==============================] - 1s 3ms/step - loss: 1.2891 - accuracy: 0.7488 - val_loss: 0.6105 - val_accuracy: 0.8310\n",
            "Epoch 22/100\n",
            "313/313 [==============================] - 1s 3ms/step - loss: 1.2390 - accuracy: 0.7564 - val_loss: 0.7966 - val_accuracy: 0.8042\n",
            "Epoch 23/100\n",
            "313/313 [==============================] - 1s 3ms/step - loss: 1.1977 - accuracy: 0.7565 - val_loss: 1.4064 - val_accuracy: 0.7497\n",
            "Epoch 24/100\n",
            "313/313 [==============================] - 1s 3ms/step - loss: 1.1696 - accuracy: 0.7583 - val_loss: 0.6957 - val_accuracy: 0.8121\n",
            "Epoch 25/100\n",
            "313/313 [==============================] - 1s 3ms/step - loss: 1.1475 - accuracy: 0.7565 - val_loss: 1.5273 - val_accuracy: 0.7061\n",
            "Epoch 26/100\n",
            "313/313 [==============================] - 1s 3ms/step - loss: 1.1547 - accuracy: 0.7594 - val_loss: 1.0728 - val_accuracy: 0.7787\n",
            "Epoch 27/100\n",
            "313/313 [==============================] - 1s 3ms/step - loss: 1.1137 - accuracy: 0.7614 - val_loss: 1.0322 - val_accuracy: 0.7640\n",
            "Epoch 28/100\n",
            "313/313 [==============================] - 1s 3ms/step - loss: 1.1375 - accuracy: 0.7623 - val_loss: 1.0608 - val_accuracy: 0.7695\n",
            "Epoch 29/100\n",
            "313/313 [==============================] - 1s 3ms/step - loss: 1.1459 - accuracy: 0.7597 - val_loss: 1.9359 - val_accuracy: 0.6344\n",
            "Epoch 30/100\n",
            "313/313 [==============================] - 1s 3ms/step - loss: 1.1940 - accuracy: 0.7487 - val_loss: 1.0343 - val_accuracy: 0.7612\n",
            "Epoch 31/100\n",
            "313/313 [==============================] - 1s 3ms/step - loss: 1.1030 - accuracy: 0.7649 - val_loss: 1.5801 - val_accuracy: 0.7300\n",
            "Epoch 32/100\n",
            "313/313 [==============================] - 1s 3ms/step - loss: 1.1081 - accuracy: 0.7593 - val_loss: 0.8692 - val_accuracy: 0.7942\n",
            "Epoch 33/100\n",
            "313/313 [==============================] - 1s 3ms/step - loss: 1.0730 - accuracy: 0.7593 - val_loss: 1.4644 - val_accuracy: 0.7093\n",
            "Epoch 34/100\n",
            "313/313 [==============================] - 1s 3ms/step - loss: 1.0434 - accuracy: 0.7642 - val_loss: 1.3917 - val_accuracy: 0.7146\n",
            "Epoch 35/100\n",
            "313/313 [==============================] - 1s 3ms/step - loss: 1.0635 - accuracy: 0.7620 - val_loss: 1.0970 - val_accuracy: 0.7375\n",
            "Epoch 36/100\n",
            "313/313 [==============================] - 1s 3ms/step - loss: 1.0303 - accuracy: 0.7702 - val_loss: 1.1542 - val_accuracy: 0.7525\n",
            "Epoch 37/100\n",
            "313/313 [==============================] - 1s 3ms/step - loss: 1.0298 - accuracy: 0.7718 - val_loss: 1.2177 - val_accuracy: 0.7077\n",
            "Epoch 38/100\n",
            "313/313 [==============================] - 1s 3ms/step - loss: 1.0425 - accuracy: 0.7604 - val_loss: 0.8436 - val_accuracy: 0.7788\n",
            "Epoch 39/100\n",
            "313/313 [==============================] - 1s 3ms/step - loss: 1.0554 - accuracy: 0.7585 - val_loss: 0.6608 - val_accuracy: 0.8253\n",
            "Epoch 40/100\n",
            "313/313 [==============================] - 1s 3ms/step - loss: 1.0172 - accuracy: 0.7709 - val_loss: 1.2255 - val_accuracy: 0.6856\n",
            "Epoch 41/100\n",
            "313/313 [==============================] - 1s 3ms/step - loss: 1.0254 - accuracy: 0.7606 - val_loss: 0.6548 - val_accuracy: 0.8141\n",
            "Epoch 42/100\n",
            "313/313 [==============================] - 1s 3ms/step - loss: 0.9943 - accuracy: 0.7692 - val_loss: 0.6942 - val_accuracy: 0.8118\n",
            "Epoch 43/100\n",
            "313/313 [==============================] - 1s 3ms/step - loss: 0.9626 - accuracy: 0.7736 - val_loss: 1.3768 - val_accuracy: 0.6765\n",
            "Epoch 44/100\n",
            "313/313 [==============================] - 1s 3ms/step - loss: 1.0098 - accuracy: 0.7631 - val_loss: 1.9158 - val_accuracy: 0.6699\n",
            "Epoch 45/100\n",
            "313/313 [==============================] - 1s 3ms/step - loss: 1.0004 - accuracy: 0.7661 - val_loss: 1.0752 - val_accuracy: 0.7655\n",
            "Epoch 46/100\n",
            "313/313 [==============================] - 1s 3ms/step - loss: 0.9811 - accuracy: 0.7705 - val_loss: 1.7736 - val_accuracy: 0.6527\n",
            "Epoch 47/100\n",
            "313/313 [==============================] - 1s 3ms/step - loss: 0.9786 - accuracy: 0.7716 - val_loss: 0.8033 - val_accuracy: 0.7901\n",
            "Epoch 48/100\n",
            "313/313 [==============================] - 1s 3ms/step - loss: 0.9093 - accuracy: 0.7725 - val_loss: 3.8092 - val_accuracy: 0.5267\n",
            "Epoch 49/100\n",
            "313/313 [==============================] - 1s 3ms/step - loss: 0.9920 - accuracy: 0.7639 - val_loss: 0.7631 - val_accuracy: 0.7765\n",
            "Epoch 50/100\n",
            "313/313 [==============================] - 1s 3ms/step - loss: 0.9242 - accuracy: 0.7697 - val_loss: 0.6404 - val_accuracy: 0.8163\n",
            "Epoch 51/100\n",
            "313/313 [==============================] - 1s 3ms/step - loss: 0.9302 - accuracy: 0.7715 - val_loss: 2.3860 - val_accuracy: 0.6225\n",
            "Epoch 52/100\n",
            "313/313 [==============================] - 1s 3ms/step - loss: 0.8982 - accuracy: 0.7769 - val_loss: 0.6721 - val_accuracy: 0.8135\n",
            "Epoch 53/100\n",
            "313/313 [==============================] - 1s 3ms/step - loss: 0.8866 - accuracy: 0.7777 - val_loss: 0.8305 - val_accuracy: 0.7736\n",
            "Epoch 54/100\n",
            "313/313 [==============================] - 1s 3ms/step - loss: 0.8918 - accuracy: 0.7746 - val_loss: 0.7002 - val_accuracy: 0.7907\n",
            "Epoch 55/100\n",
            "313/313 [==============================] - 1s 3ms/step - loss: 0.9227 - accuracy: 0.7674 - val_loss: 0.7082 - val_accuracy: 0.7870\n",
            "Epoch 56/100\n",
            "313/313 [==============================] - 1s 3ms/step - loss: 0.9130 - accuracy: 0.7687 - val_loss: 0.6867 - val_accuracy: 0.8015\n",
            "Epoch 57/100\n",
            "313/313 [==============================] - 1s 3ms/step - loss: 0.8911 - accuracy: 0.7696 - val_loss: 0.5639 - val_accuracy: 0.8194\n",
            "Epoch 58/100\n",
            "313/313 [==============================] - 1s 3ms/step - loss: 0.8807 - accuracy: 0.7714 - val_loss: 0.8725 - val_accuracy: 0.7551\n",
            "Epoch 59/100\n",
            "313/313 [==============================] - 1s 3ms/step - loss: 0.8567 - accuracy: 0.7740 - val_loss: 0.5441 - val_accuracy: 0.8335\n",
            "Epoch 60/100\n",
            "313/313 [==============================] - 1s 3ms/step - loss: 0.8042 - accuracy: 0.7807 - val_loss: 0.6116 - val_accuracy: 0.8163\n",
            "Epoch 61/100\n",
            "313/313 [==============================] - 1s 3ms/step - loss: 0.8256 - accuracy: 0.7764 - val_loss: 0.9747 - val_accuracy: 0.7405\n",
            "Epoch 62/100\n",
            "313/313 [==============================] - 1s 3ms/step - loss: 0.8200 - accuracy: 0.7814 - val_loss: 0.7281 - val_accuracy: 0.7906\n",
            "Epoch 63/100\n",
            "313/313 [==============================] - 1s 3ms/step - loss: 0.8728 - accuracy: 0.7680 - val_loss: 0.4779 - val_accuracy: 0.8388\n",
            "Epoch 64/100\n",
            "313/313 [==============================] - 1s 3ms/step - loss: 0.7831 - accuracy: 0.7818 - val_loss: 0.5901 - val_accuracy: 0.8231\n",
            "Epoch 65/100\n",
            "313/313 [==============================] - 1s 3ms/step - loss: 0.7930 - accuracy: 0.7828 - val_loss: 0.5432 - val_accuracy: 0.8239\n",
            "Epoch 66/100\n",
            "313/313 [==============================] - 1s 3ms/step - loss: 0.8368 - accuracy: 0.7751 - val_loss: 0.5714 - val_accuracy: 0.8236\n",
            "Epoch 67/100\n",
            "313/313 [==============================] - 1s 3ms/step - loss: 0.8011 - accuracy: 0.7785 - val_loss: 0.4767 - val_accuracy: 0.8359\n",
            "Epoch 68/100\n",
            "313/313 [==============================] - 1s 3ms/step - loss: 0.7861 - accuracy: 0.7796 - val_loss: 0.9703 - val_accuracy: 0.7556\n",
            "Epoch 69/100\n",
            "313/313 [==============================] - 1s 3ms/step - loss: 0.8090 - accuracy: 0.7726 - val_loss: 0.4952 - val_accuracy: 0.8384\n",
            "Epoch 70/100\n",
            "313/313 [==============================] - 1s 3ms/step - loss: 0.7934 - accuracy: 0.7792 - val_loss: 0.6526 - val_accuracy: 0.7992\n",
            "Epoch 71/100\n",
            "313/313 [==============================] - 1s 3ms/step - loss: 0.7622 - accuracy: 0.7825 - val_loss: 0.8633 - val_accuracy: 0.7452\n",
            "Epoch 72/100\n",
            "313/313 [==============================] - 1s 3ms/step - loss: 0.8038 - accuracy: 0.7767 - val_loss: 0.5619 - val_accuracy: 0.8129\n",
            "Epoch 73/100\n",
            "313/313 [==============================] - 1s 3ms/step - loss: 0.7828 - accuracy: 0.7803 - val_loss: 0.4844 - val_accuracy: 0.8333\n",
            "Epoch 74/100\n",
            "313/313 [==============================] - 1s 3ms/step - loss: 0.7271 - accuracy: 0.7880 - val_loss: 0.6369 - val_accuracy: 0.8112\n",
            "Epoch 75/100\n",
            "313/313 [==============================] - 1s 3ms/step - loss: 0.7428 - accuracy: 0.7876 - val_loss: 0.4744 - val_accuracy: 0.8355\n",
            "Epoch 76/100\n",
            "313/313 [==============================] - 1s 3ms/step - loss: 0.7423 - accuracy: 0.7866 - val_loss: 0.4936 - val_accuracy: 0.8312\n",
            "Epoch 77/100\n",
            "313/313 [==============================] - 1s 3ms/step - loss: 0.7533 - accuracy: 0.7815 - val_loss: 0.5182 - val_accuracy: 0.8223\n",
            "Epoch 78/100\n",
            "313/313 [==============================] - 1s 3ms/step - loss: 0.7254 - accuracy: 0.7868 - val_loss: 1.0292 - val_accuracy: 0.6921\n",
            "Epoch 79/100\n",
            "313/313 [==============================] - 1s 3ms/step - loss: 0.7569 - accuracy: 0.7800 - val_loss: 1.7628 - val_accuracy: 0.6456\n",
            "Epoch 80/100\n",
            "313/313 [==============================] - 1s 3ms/step - loss: 0.7302 - accuracy: 0.7832 - val_loss: 0.8835 - val_accuracy: 0.7664\n",
            "Epoch 81/100\n",
            "313/313 [==============================] - 1s 3ms/step - loss: 0.7140 - accuracy: 0.7899 - val_loss: 0.4492 - val_accuracy: 0.8390\n",
            "Epoch 82/100\n",
            "313/313 [==============================] - 1s 3ms/step - loss: 0.7162 - accuracy: 0.7877 - val_loss: 0.4431 - val_accuracy: 0.8404\n",
            "Epoch 83/100\n",
            "313/313 [==============================] - 1s 3ms/step - loss: 0.6842 - accuracy: 0.7941 - val_loss: 0.4323 - val_accuracy: 0.8425\n",
            "Epoch 84/100\n",
            "313/313 [==============================] - 1s 3ms/step - loss: 0.6857 - accuracy: 0.7863 - val_loss: 0.6800 - val_accuracy: 0.7852\n",
            "Epoch 85/100\n",
            "313/313 [==============================] - 1s 3ms/step - loss: 0.7073 - accuracy: 0.7824 - val_loss: 0.5512 - val_accuracy: 0.8150\n",
            "Epoch 86/100\n",
            "313/313 [==============================] - 1s 3ms/step - loss: 0.7159 - accuracy: 0.7850 - val_loss: 0.5565 - val_accuracy: 0.8139\n",
            "Epoch 87/100\n",
            "313/313 [==============================] - 1s 3ms/step - loss: 0.6914 - accuracy: 0.7893 - val_loss: 0.4282 - val_accuracy: 0.8447\n",
            "Epoch 88/100\n",
            "313/313 [==============================] - 1s 3ms/step - loss: 0.6909 - accuracy: 0.7852 - val_loss: 0.7579 - val_accuracy: 0.7769\n",
            "Epoch 89/100\n",
            "313/313 [==============================] - 1s 3ms/step - loss: 0.6851 - accuracy: 0.7876 - val_loss: 0.5469 - val_accuracy: 0.8049\n",
            "Epoch 90/100\n",
            "313/313 [==============================] - 1s 3ms/step - loss: 0.6521 - accuracy: 0.7898 - val_loss: 0.6753 - val_accuracy: 0.7763\n",
            "Epoch 91/100\n",
            "313/313 [==============================] - 1s 3ms/step - loss: 0.6762 - accuracy: 0.7850 - val_loss: 0.4571 - val_accuracy: 0.8324\n",
            "Epoch 92/100\n",
            "313/313 [==============================] - 1s 3ms/step - loss: 0.6624 - accuracy: 0.7895 - val_loss: 0.5575 - val_accuracy: 0.7993\n",
            "Epoch 93/100\n",
            "313/313 [==============================] - 1s 3ms/step - loss: 0.6204 - accuracy: 0.7988 - val_loss: 0.9518 - val_accuracy: 0.7012\n",
            "Epoch 94/100\n",
            "313/313 [==============================] - 1s 3ms/step - loss: 0.6393 - accuracy: 0.7921 - val_loss: 0.6135 - val_accuracy: 0.7849\n",
            "Epoch 95/100\n",
            "313/313 [==============================] - 1s 3ms/step - loss: 0.6555 - accuracy: 0.7873 - val_loss: 0.5472 - val_accuracy: 0.8120\n",
            "Epoch 96/100\n",
            "313/313 [==============================] - 1s 3ms/step - loss: 0.6293 - accuracy: 0.7962 - val_loss: 0.7265 - val_accuracy: 0.7559\n",
            "Epoch 97/100\n",
            "313/313 [==============================] - 1s 3ms/step - loss: 0.6449 - accuracy: 0.7880 - val_loss: 0.8215 - val_accuracy: 0.7397\n",
            "Epoch 98/100\n",
            "313/313 [==============================] - 1s 3ms/step - loss: 0.6239 - accuracy: 0.7944 - val_loss: 0.6189 - val_accuracy: 0.7833\n",
            "Epoch 99/100\n",
            "313/313 [==============================] - 1s 3ms/step - loss: 0.6179 - accuracy: 0.7946 - val_loss: 0.5085 - val_accuracy: 0.8118\n",
            "Epoch 100/100\n",
            "313/313 [==============================] - 1s 3ms/step - loss: 0.6084 - accuracy: 0.7971 - val_loss: 0.6952 - val_accuracy: 0.7753\n"
          ],
          "name": "stdout"
        }
      ]
    },
    {
      "cell_type": "code",
      "metadata": {
        "id": "9WvWQlddKgwI"
      },
      "source": [
        "y_test_class = np.argmax(y_test,axis=1)\n",
        "y_pred_class = np.argmax(y_pred,axis=1)"
      ],
      "execution_count": null,
      "outputs": []
    },
    {
      "cell_type": "code",
      "metadata": {
        "colab": {
          "base_uri": "https://localhost:8080/"
        },
        "id": "0uGMENbXKlc3",
        "outputId": "df703c78-5c9c-408b-fe42-5ca193e9a662"
      },
      "source": [
        "from sklearn.metrics import classification_report,confusion_matrix\n",
        "print(classification_report(y_test_class,y_pred_class))\n",
        "print(confusion_matrix(y_test_class,y_pred_class))"
      ],
      "execution_count": null,
      "outputs": [
        {
          "output_type": "stream",
          "text": [
            "              precision    recall  f1-score   support\n",
            "\n",
            "           0       0.72      0.95      0.82      3251\n",
            "           1       0.93      0.59      0.72      6527\n",
            "           2       0.68      0.96      0.79      3252\n",
            "\n",
            "    accuracy                           0.77     13030\n",
            "   macro avg       0.78      0.83      0.78     13030\n",
            "weighted avg       0.81      0.77      0.76     13030\n",
            "\n",
            "[[3088  152   11]\n",
            " [1200 3866 1461]\n",
            " [   9  135 3108]]\n"
          ],
          "name": "stdout"
        }
      ]
    },
    {
      "cell_type": "code",
      "metadata": {
        "colab": {
          "base_uri": "https://localhost:8080/"
        },
        "id": "4c_OvKc0L54x",
        "outputId": "0d16451e-586d-4f7d-d8c8-05941009ccec"
      },
      "source": [
        "import seaborn as sns\n",
        "import pandas as pd\n",
        "import datetime \n",
        "import calendar\n",
        "import matplotlib.pyplot as plt\n",
        "import numpy as np\n",
        "import scipy.stats as stats\n",
        " \n",
        "from sklearn.model_selection import train_test_split\n",
        "from sklearn.linear_model import LogisticRegression\n",
        "from sklearn import metrics\n",
        "from sklearn.metrics import roc_curve, auc\n",
        "from sklearn.metrics import roc_auc_score\n",
        "\n",
        "from sklearn import model_selection\n",
        "from sklearn import linear_model\n",
        "from sklearn import metrics\n",
        " \n",
        "\n",
        "# Model accuracy\n",
        "print(\"\\n\")\n",
        "print(\"Normal Predictor Values ===============================\")\n",
        "#print(\"model score: %.3f\" % model.score(X_test, y_test))\n",
        "print(\"Accuracy:\",metrics.accuracy_score(y_test_class,y_pred_class))\n",
        "print(\"Precision:\",metrics.precision_score(y_test_class,y_pred_class, average='weighted'))\n",
        "print(\"Recall:\",metrics.recall_score(y_test_class,y_pred_class, average='weighted'))\n",
        "print(\"F1 Score:\",metrics.f1_score(y_test_class,y_pred_class, average='weighted'))\n",
        "print(\"\\n\")"
      ],
      "execution_count": null,
      "outputs": [
        {
          "output_type": "stream",
          "text": [
            "\n",
            "\n",
            "Normal Predictor Values ===============================\n",
            "Accuracy: 0.7722179585571758\n",
            "Precision: 0.8149699226406002\n",
            "Recall: 0.7722179585571758\n",
            "F1 Score: 0.7648828284329103\n",
            "\n",
            "\n"
          ],
          "name": "stdout"
        }
      ]
    },
    {
      "cell_type": "code",
      "metadata": {
        "colab": {
          "base_uri": "https://localhost:8080/",
          "height": 573
        },
        "id": "HaXkTkQfKu6e",
        "outputId": "b2ec9533-2cc2-484c-879a-f3dbb963cfdd"
      },
      "source": [
        "# summarize history for accuracy\n",
        "plt.plot(history.history['accuracy'])\n",
        "plt.plot(history.history['val_accuracy'])\n",
        "plt.title('model accuracy')\n",
        "plt.ylabel('accuracy')\n",
        "plt.xlabel('epoch')\n",
        "plt.legend(['train', 'test'], loc='upper left')\n",
        "plt.show()\n",
        "\n",
        "# summarize history for loss\n",
        "plt.plot(history.history['loss'])\n",
        "plt.plot(history.history['val_loss'])\n",
        "plt.title('model loss')\n",
        "plt.ylabel('loss')\n",
        "plt.xlabel('epoch')\n",
        "plt.legend(['train', 'test'], loc='upper left')\n",
        "plt.show()\n"
      ],
      "execution_count": null,
      "outputs": [
        {
          "output_type": "display_data",
          "data": {
            "image/png": "[encoded data removed]",
            "text/plain": [
              "<Figure size 432x288 with 1 Axes>"
            ]
          },
          "metadata": {
            "tags": [],
            "needs_background": "light"
          }
        },
        {
          "output_type": "display_data",
          "data": {
            "image/png": "[encoded data removed]",
            "text/plain": [
              "<Figure size 432x288 with 1 Axes>"
            ]
          },
          "metadata": {
            "tags": [],
            "needs_background": "light"
          }
        }
      ]
    }
  ]
}