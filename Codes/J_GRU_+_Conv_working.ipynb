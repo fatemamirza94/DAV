{
  "nbformat": 4,
  "nbformat_minor": 0,
  "metadata": {
    "colab": {
      "name": "J-GRU + Conv working.ipynb",
      "provenance": [],
      "collapsed_sections": []
    },
    "kernelspec": {
      "display_name": "Python 3",
      "name": "python3"
    },
    "language_info": {
      "name": "python"
    }
  },
  "cells": [
    {
      "cell_type": "markdown",
      "metadata": {
        "id": "JsSthYbIXNm-"
      },
      "source": [
        "**APPENDIX J**"
      ]
    },
    {
      "cell_type": "code",
      "metadata": {
        "colab": {
          "base_uri": "https://localhost:8080/"
        },
        "id": "bV-7FYcMCQFY",
        "outputId": "c8c193d9-1ee4-454a-a8c8-fbcd8b0a55c7"
      },
      "source": [
        "!pip install keras-hypetune"
      ],
      "execution_count": null,
      "outputs": [
        {
          "output_type": "stream",
          "text": [
            "Collecting keras-hypetune\n",
            "  Downloading https://files.pythonhosted.org/packages/b1/ce/9d43d66a647aaa6357bc7434523240f9fa825daa4e209d821ed2a08dfc60/keras_hypetune-0.1.1-py3-none-any.whl\n",
            "Requirement already satisfied: numpy in /usr/local/lib/python3.7/dist-packages (from keras-hypetune) (1.19.5)\n",
            "Installing collected packages: keras-hypetune\n",
            "Successfully installed keras-hypetune-0.1.1\n"
          ],
          "name": "stdout"
        }
      ]
    },
    {
      "cell_type": "code",
      "metadata": {
        "id": "P5oYOydUunqp"
      },
      "source": [
        "import numpy as np\n",
        "import pandas as pd\n",
        "import matplotlib.pyplot as plt\n",
        "import seaborn as sns\n",
        "from datetime import datetime\n",
        "import random\n",
        " \n",
        "import statsmodels.api as sm\n",
        " \n",
        "from sklearn.preprocessing import LabelEncoder, StandardScaler\n",
        "from sklearn.metrics import mean_squared_error\n",
        " \n",
        "# Import Keras\n",
        "from keras.preprocessing.sequence import TimeseriesGenerator\n",
        "from keras.models import Sequential\n",
        "from keras.layers import Dense, LSTM\n",
        " \n",
        "# Import Prophet\n",
        "from fbprophet import Prophet\n",
        "# Import VAR Model\n",
        "from statsmodels.tsa.vector_ar.var_model import VAR\n",
        " \n",
        "import warnings\n",
        "warnings.filterwarnings('ignore')"
      ],
      "execution_count": null,
      "outputs": []
    },
    {
      "cell_type": "code",
      "metadata": {
        "id": "MWy-8G_U84RY"
      },
      "source": [
        "import numpy\n",
        "import pandas\n",
        "from matplotlib import pyplot \n",
        "from math import sqrt\n",
        "from datetime import datetime\n",
        "from pandas import read_csv\n",
        "from pandas import DataFrame\n",
        "from pandas import concat\n",
        "from sklearn.preprocessing import LabelEncoder\n",
        "from sklearn.preprocessing import MinMaxScaler\n",
        "from sklearn.metrics import mean_squared_error\n",
        "import tensorflow as tf\n",
        "import seaborn as sns"
      ],
      "execution_count": null,
      "outputs": []
    },
    {
      "cell_type": "code",
      "metadata": {
        "id": "cauxtuQj7Fl1"
      },
      "source": [
        "\n",
        "import os\n",
        "import random\n",
        "import numpy as np\n",
        "import pandas as pd\n",
        "import matplotlib.pyplot as plt\n",
        "from scipy.ndimage import zoom\n",
        "from sklearn.preprocessing import StandardScaler\n",
        "\n",
        "import tensorflow as tf\n",
        "from tensorflow.keras.layers import *\n",
        "from tensorflow.keras.models import *\n",
        "from tensorflow.keras.callbacks import *\n",
        "from tensorflow.keras.optimizers import *\n",
        "from tensorflow.keras import backend as K\n",
        "from kerashypetune import KerasGridSearch\n",
        "\n",
        "from pandas.plotting import register_matplotlib_converters\n",
        "register_matplotlib_converters()"
      ],
      "execution_count": null,
      "outputs": []
    },
    {
      "cell_type": "code",
      "metadata": {
        "id": "4DyrVrIfAcU0"
      },
      "source": [
        "df = pd.read_csv('Aotizhongxin1 - Copy (3) - Copy.csv')\n",
        "df['date'] = pd.to_datetime(df[['year','month','day','hour']])"
      ],
      "execution_count": null,
      "outputs": []
    },
    {
      "cell_type": "code",
      "metadata": {
        "colab": {
          "base_uri": "https://localhost:8080/"
        },
        "id": "PM6SboaOAoKY",
        "outputId": "859314d4-bdd8-4796-9f37-83c4c53ec7c6"
      },
      "source": [
        "columns = ['DEWP','TEMP','PRES','RAIN','WSPM','PM10','SO2','NO2','CO','O3']\n",
        "\n",
        "y_train = df[df.year < 2015]['PM2.5'].copy().values\n",
        "train_date = df[df.year < 2015].date.values\n",
        "x_train = df[df.year < 2015][columns].copy()\n",
        "\n",
        "y_val = df[df.year == 2015]['PM2.5'].copy().values\n",
        "val_date = df[df.year == 2015].date.values\n",
        "x_val = df[df.year == 2015][columns].copy()\n",
        "\n",
        "y_test = df[df.year == 2016]['PM2.5'].copy().values\n",
        "test_date = df[df.year == 2016].date.values\n",
        "x_test = df[df.year == 2016][columns].copy()\n",
        "\n",
        "print(x_train.shape, x_val.shape, x_test.shape)\n"
      ],
      "execution_count": null,
      "outputs": [
        {
          "output_type": "stream",
          "text": [
            "(16104, 10) (8760, 10) (8784, 10)\n"
          ],
          "name": "stdout"
        }
      ]
    },
    {
      "cell_type": "code",
      "metadata": {
        "id": "3NGagKuQAojJ"
      },
      "source": [
        "sequence_length = 24*2\n",
        "\n",
        "def gen_sequence(id_df, seq_length, seq_cols):\n",
        "\n",
        "    data_matrix = id_df[seq_cols].values\n",
        "    num_elements = data_matrix.shape[0]\n",
        "\n",
        "    for start, stop in zip(range(0, num_elements-seq_length), range(seq_length, num_elements)):\n",
        "        yield data_matrix[start:stop, :]"
      ],
      "execution_count": null,
      "outputs": []
    },
    {
      "cell_type": "code",
      "metadata": {
        "colab": {
          "base_uri": "https://localhost:8080/"
        },
        "id": "HA3xVZuhCowi",
        "outputId": "9106755e-003e-4cb7-d227-df6ab99e6436"
      },
      "source": [
        "X_train, X_val, X_test = [], [], []\n",
        "\n",
        "for sequence in gen_sequence(x_train, sequence_length, columns):\n",
        "    X_train.append(sequence)\n",
        "    \n",
        "for sequence in gen_sequence(x_val, sequence_length, columns):\n",
        "    X_val.append(sequence)\n",
        "    \n",
        "for sequence in gen_sequence(x_test, sequence_length, columns):\n",
        "    X_test.append(sequence)\n",
        "    \n",
        "X_train, X_val, X_test = np.asarray(X_train), np.asarray(X_val), np.asarray(X_test)\n",
        "print(X_train.shape, X_val.shape, X_test.shape)"
      ],
      "execution_count": null,
      "outputs": [
        {
          "output_type": "stream",
          "text": [
            "(16056, 48, 10) (8712, 48, 10) (8736, 48, 10)\n"
          ],
          "name": "stdout"
        }
      ]
    },
    {
      "cell_type": "code",
      "metadata": {
        "id": "KA2SqXYwCv9C"
      },
      "source": [
        "def scale_target(y, mean, std):\n",
        "    return (y - mean)/std\n",
        "\n",
        "def reverse_target(pred, mean, std): \n",
        "    return pred*std + mean"
      ],
      "execution_count": null,
      "outputs": []
    },
    {
      "cell_type": "code",
      "metadata": {
        "colab": {
          "base_uri": "https://localhost:8080/"
        },
        "id": "7eme08vpCw1l",
        "outputId": "76455c01-6ce9-4af4-dc85-389cb134a8ba"
      },
      "source": [
        "mean_train = y_train.mean()\n",
        "std_train = y_train.std()\n",
        "\n",
        "y_train_seq = scale_target(y_train[sequence_length:], mean_train, std_train)\n",
        "y_val_seq = scale_target(y_val[sequence_length:], mean_train, std_train)\n",
        "y_test_seq = scale_target(y_test[sequence_length:], mean_train, std_train)\n",
        "\n",
        "print(y_train_seq.shape, y_val_seq.shape, y_test_seq.shape)"
      ],
      "execution_count": null,
      "outputs": [
        {
          "output_type": "stream",
          "text": [
            "(16056,) (8712,) (8736,)\n"
          ],
          "name": "stdout"
        }
      ]
    },
    {
      "cell_type": "code",
      "metadata": {
        "id": "N7mf5yjSC21s"
      },
      "source": [
        "scaler = StandardScaler()\n",
        "X_train = scaler.fit_transform(X_train.reshape(-1,len(columns))).reshape(X_train.shape)\n",
        "X_val = scaler.transform(X_val.reshape(-1,len(columns))).reshape(X_val.shape)\n",
        "X_test = scaler.transform(X_test.reshape(-1,len(columns))).reshape(X_test.shape)"
      ],
      "execution_count": null,
      "outputs": []
    },
    {
      "cell_type": "code",
      "metadata": {
        "id": "JSG2KE9bC3_3"
      },
      "source": [
        "### DEFINE MODEL ###\n",
        "\n",
        "def set_seed(seed):\n",
        "    \n",
        "    tf.random.set_seed(seed)\n",
        "    os.environ['PYTHONHASHSEED'] = str(seed)\n",
        "    np.random.seed(seed)\n",
        "    random.seed(seed)\n",
        "    \n",
        "\n",
        "def get_model(params):\n",
        "    \n",
        "    set_seed(33)\n",
        "    \n",
        "    inp = Input(shape=(sequence_length, len(columns)))\n",
        "\n",
        "    x = GRU(params['units_gru'], return_sequences=True)(inp)\n",
        "    x = AveragePooling1D(2)(x)\n",
        "    x = Conv1D(params['units_cnn'], 3, \n",
        "               activation='relu', padding='same', \n",
        "               name='extractor')(x)\n",
        "    x = Flatten()(x)\n",
        "    out = Dense(1)(x)\n",
        "    \n",
        "    model = Model(inp, out)\n",
        "    model.compile(optimizer=RMSprop(lr=params['lr']), loss='mse')\n",
        "    \n",
        "    return model"
      ],
      "execution_count": null,
      "outputs": []
    },
    {
      "cell_type": "code",
      "metadata": {
        "colab": {
          "base_uri": "https://localhost:8080/"
        },
        "id": "VF3EW1GxC9hs",
        "outputId": "7e3e752b-e6bd-48de-b496-cfb05fa3007c"
      },
      "source": [
        "param_grid = {\n",
        "    'units_gru': [128, 64],\n",
        "    'units_cnn': [64, 32],\n",
        "    'lr': [1e-4, 1e-3],\n",
        "    'batch_size': [512, 1024]\n",
        "}\n",
        "\n",
        "es = EarlyStopping(patience=5, verbose=1, min_delta=0.001, monitor='val_loss', mode='auto', restore_best_weights=True)\n",
        "kgs = KerasGridSearch(get_model, param_grid, \n",
        "                      monitor='val_loss', greater_is_better=False, tuner_verbose=1)\n",
        "kgs.search(X_train, y_train_seq, validation_data=(X_val, y_val_seq), callbacks=[es], epochs=50)"
      ],
      "execution_count": null,
      "outputs": [
        {
          "output_type": "stream",
          "text": [
            "\n",
            "16 trials detected for ('units_gru', 'units_cnn', 'lr', 'batch_size')\n",
            "\n",
            "***** (1/16) *****\n",
            "Search({'units_gru': 128, 'units_cnn': 64, 'lr': 0.0001, 'batch_size': 512})\n",
            "Restoring model weights from the end of the best epoch.\n",
            "Epoch 00031: early stopping\n",
            "SCORE: 0.19664 at epoch 26\n",
            "\n",
            "***** (2/16) *****\n",
            "Search({'units_gru': 128, 'units_cnn': 64, 'lr': 0.0001, 'batch_size': 1024})\n",
            "Restoring model weights from the end of the best epoch.\n",
            "Epoch 00031: early stopping\n",
            "SCORE: 0.21678 at epoch 26\n",
            "\n",
            "***** (3/16) *****\n",
            "Search({'units_gru': 128, 'units_cnn': 64, 'lr': 0.001, 'batch_size': 512})\n",
            "Restoring model weights from the end of the best epoch.\n",
            "Epoch 00015: early stopping\n",
            "SCORE: 0.16552 at epoch 10\n",
            "\n",
            "***** (4/16) *****\n",
            "Search({'units_gru': 128, 'units_cnn': 64, 'lr': 0.001, 'batch_size': 1024})\n",
            "Restoring model weights from the end of the best epoch.\n",
            "Epoch 00017: early stopping\n",
            "SCORE: 0.16815 at epoch 12\n",
            "\n",
            "***** (5/16) *****\n",
            "Search({'units_gru': 128, 'units_cnn': 32, 'lr': 0.0001, 'batch_size': 512})\n",
            "Restoring model weights from the end of the best epoch.\n",
            "Epoch 00031: early stopping\n",
            "SCORE: 0.20989 at epoch 26\n",
            "\n",
            "***** (6/16) *****\n",
            "Search({'units_gru': 128, 'units_cnn': 32, 'lr': 0.0001, 'batch_size': 1024})\n",
            "Restoring model weights from the end of the best epoch.\n",
            "Epoch 00037: early stopping\n",
            "SCORE: 0.2266 at epoch 32\n",
            "\n",
            "***** (7/16) *****\n",
            "Search({'units_gru': 128, 'units_cnn': 32, 'lr': 0.001, 'batch_size': 512})\n",
            "Restoring model weights from the end of the best epoch.\n",
            "Epoch 00023: early stopping\n",
            "SCORE: 0.16133 at epoch 18\n",
            "\n",
            "***** (8/16) *****\n",
            "Search({'units_gru': 128, 'units_cnn': 32, 'lr': 0.001, 'batch_size': 1024})\n",
            "Restoring model weights from the end of the best epoch.\n",
            "Epoch 00024: early stopping\n",
            "SCORE: 0.15951 at epoch 19\n",
            "\n",
            "***** (9/16) *****\n",
            "Search({'units_gru': 64, 'units_cnn': 64, 'lr': 0.0001, 'batch_size': 512})\n",
            "Restoring model weights from the end of the best epoch.\n",
            "Epoch 00042: early stopping\n",
            "SCORE: 0.19961 at epoch 37\n",
            "\n",
            "***** (10/16) *****\n",
            "Search({'units_gru': 64, 'units_cnn': 64, 'lr': 0.0001, 'batch_size': 1024})\n",
            "Restoring model weights from the end of the best epoch.\n",
            "Epoch 00037: early stopping\n",
            "SCORE: 0.21966 at epoch 32\n",
            "\n",
            "***** (11/16) *****\n",
            "Search({'units_gru': 64, 'units_cnn': 64, 'lr': 0.001, 'batch_size': 512})\n",
            "Restoring model weights from the end of the best epoch.\n",
            "Epoch 00016: early stopping\n",
            "SCORE: 0.17498 at epoch 11\n",
            "\n",
            "***** (12/16) *****\n",
            "Search({'units_gru': 64, 'units_cnn': 64, 'lr': 0.001, 'batch_size': 1024})\n",
            "Restoring model weights from the end of the best epoch.\n",
            "Epoch 00017: early stopping\n",
            "SCORE: 0.18237 at epoch 12\n",
            "\n",
            "***** (13/16) *****\n",
            "Search({'units_gru': 64, 'units_cnn': 32, 'lr': 0.0001, 'batch_size': 512})\n",
            "Restoring model weights from the end of the best epoch.\n",
            "Epoch 00042: early stopping\n",
            "SCORE: 0.20437 at epoch 37\n",
            "\n",
            "***** (14/16) *****\n",
            "Search({'units_gru': 64, 'units_cnn': 32, 'lr': 0.0001, 'batch_size': 1024})\n",
            "SCORE: 0.21862 at epoch 49\n",
            "\n",
            "***** (15/16) *****\n",
            "Search({'units_gru': 64, 'units_cnn': 32, 'lr': 0.001, 'batch_size': 512})\n",
            "Restoring model weights from the end of the best epoch.\n",
            "Epoch 00016: early stopping\n",
            "SCORE: 0.17265 at epoch 11\n",
            "\n",
            "***** (16/16) *****\n",
            "Search({'units_gru': 64, 'units_cnn': 32, 'lr': 0.001, 'batch_size': 1024})\n",
            "Restoring model weights from the end of the best epoch.\n",
            "Epoch 00017: early stopping\n",
            "SCORE: 0.18477 at epoch 12\n"
          ],
          "name": "stdout"
        }
      ]
    },
    {
      "cell_type": "code",
      "metadata": {
        "id": "U-pZZLTVIZaU"
      },
      "source": [
        "### MAKE PREDICTION ON TEST ###\n",
        "\n",
        "pred = reverse_target(kgs.best_model.predict([X_test]).ravel(), mean_train, std_train)"
      ],
      "execution_count": null,
      "outputs": []
    },
    {
      "cell_type": "code",
      "metadata": {
        "colab": {
          "base_uri": "https://localhost:8080/"
        },
        "id": "UhaJ9XzDIgrz",
        "outputId": "4772cf2b-14c0-4724-a067-bdfb26657818"
      },
      "source": [
        "pred.shape"
      ],
      "execution_count": null,
      "outputs": [
        {
          "output_type": "execute_result",
          "data": {
            "text/plain": [
              "(8736,)"
            ]
          },
          "metadata": {
            "tags": []
          },
          "execution_count": 38
        }
      ]
    },
    {
      "cell_type": "code",
      "metadata": {
        "colab": {
          "base_uri": "https://localhost:8080/"
        },
        "id": "bNGJ8NM7pAFw",
        "outputId": "7c317978-4895-4c69-def7-c4d8bb28b2e5"
      },
      "source": [
        "print(pred)"
      ],
      "execution_count": null,
      "outputs": [
        {
          "output_type": "stream",
          "text": [
            "[414.65964 421.3863  460.90378 ... 335.72485 351.50964 365.03214]\n"
          ],
          "name": "stdout"
        }
      ]
    },
    {
      "cell_type": "code",
      "metadata": {
        "colab": {
          "base_uri": "https://localhost:8080/"
        },
        "id": "0Xc7iQGIpEXD",
        "outputId": "857a3ded-8533-42cb-ec0f-0ecd2730ab77"
      },
      "source": [
        "print(X_test)"
      ],
      "execution_count": null,
      "outputs": [
        {
          "output_type": "stream",
          "text": [
            "[[[-1.02725147 -1.58172249  1.47376704 ...  1.67915843  4.09034541\n",
            "   -0.66998862]\n",
            "  [-0.95869474 -1.67389824  1.40336645 ...  1.56546842  4.18996796\n",
            "   -0.61447045]\n",
            "  [-0.95869474 -1.78450914  1.39330922 ...  1.45177841  3.09411986\n",
            "   -0.68849468]\n",
            "  ...\n",
            "  [-0.74540712 -1.53563461  0.68930329 ...  4.03822608  6.08279649\n",
            "   -0.65148256]\n",
            "  [-0.74540712 -1.60937521  0.68930329 ...  4.3224511   6.58090926\n",
            "   -0.66998862]\n",
            "  [-0.70732005 -1.62781036  0.73958942 ...  4.09507108  6.08279649\n",
            "   -0.68849468]]\n",
            "\n",
            " [[-0.95869474 -1.67389824  1.40336645 ...  1.56546842  4.18996796\n",
            "   -0.61447045]\n",
            "  [-0.95869474 -1.78450914  1.39330922 ...  1.45177841  3.09411986\n",
            "   -0.68849468]\n",
            "  [-0.9891644  -1.68311581  1.33296586 ...  1.33808841  2.89487476\n",
            "   -0.74401285]\n",
            "  ...\n",
            "  [-0.74540712 -1.60937521  0.68930329 ...  4.3224511   6.58090926\n",
            "   -0.66998862]\n",
            "  [-0.70732005 -1.62781036  0.73958942 ...  4.09507108  6.08279649\n",
            "   -0.68849468]\n",
            "  [-0.70732005 -1.64624551  0.71947497 ...  4.03822608  6.48128671\n",
            "   -0.66998862]]\n",
            "\n",
            " [[-0.95869474 -1.78450914  1.39330922 ...  1.45177841  3.09411986\n",
            "   -0.68849468]\n",
            "  [-0.9891644  -1.68311581  1.33296586 ...  1.33808841  2.89487476\n",
            "   -0.74401285]\n",
            "  [-0.9891644  -1.82137944  1.25250804 ...  1.2243984   2.39676198\n",
            "   -0.78102496]\n",
            "  ...\n",
            "  [-0.70732005 -1.62781036  0.73958942 ...  4.09507108  6.08279649\n",
            "   -0.68849468]\n",
            "  [-0.70732005 -1.64624551  0.71947497 ...  4.03822608  6.48128671\n",
            "   -0.66998862]\n",
            "  [-0.70732005 -1.65546309  0.69936051 ...  3.81084607  7.57713481\n",
            "   -0.63297651]]\n",
            "\n",
            " ...\n",
            "\n",
            " [[-1.21006943 -1.43424128  1.91628506 ...  0.94017338  0.60355601\n",
            "   -0.85504919]\n",
            "  [-1.12627787 -1.48032916  1.88611338 ...  1.1959759   1.20129133\n",
            "   -0.87355525]\n",
            "  [-0.93584249 -1.54485219  1.86599892 ...  1.1675534   1.40053644\n",
            "   -0.87355525]\n",
            "  ...\n",
            "  [-0.89775542 -1.47111158  1.21227913 ...  3.95295858  3.99072285\n",
            "   -0.87355525]\n",
            "  [-0.86728576 -1.52641704  1.22233635 ...  3.41293104  3.69185519\n",
            "   -0.83654314]\n",
            "  [-0.82158127 -1.58172249  1.26256526 ...  3.32766353  4.09034541\n",
            "   -0.85504919]]\n",
            "\n",
            " [[-1.12627787 -1.48032916  1.88611338 ...  1.1959759   1.20129133\n",
            "   -0.87355525]\n",
            "  [-0.93584249 -1.54485219  1.86599892 ...  1.1675534   1.40053644\n",
            "   -0.87355525]\n",
            "  [-0.89775542 -1.54485219  1.87605615 ...  1.45177841  2.09789432\n",
            "   -0.87355525]\n",
            "  ...\n",
            "  [-0.86728576 -1.52641704  1.22233635 ...  3.41293104  3.69185519\n",
            "   -0.83654314]\n",
            "  [-0.82158127 -1.58172249  1.26256526 ...  3.32766353  4.09034541\n",
            "   -0.85504919]\n",
            "  [-0.80634644 -1.62781036  1.23239358 ...  2.8160585   4.09034541\n",
            "   -0.85504919]]\n",
            "\n",
            " [[-0.93584249 -1.54485219  1.86599892 ...  1.1675534   1.40053644\n",
            "   -0.87355525]\n",
            "  [-0.89775542 -1.54485219  1.87605615 ...  1.45177841  2.09789432\n",
            "   -0.87355525]\n",
            "  [-0.89775542 -1.61859279  1.83582724 ...  1.70758093  2.69562965\n",
            "   -0.87355525]\n",
            "  ...\n",
            "  [-0.82158127 -1.58172249  1.26256526 ...  3.32766353  4.09034541\n",
            "   -0.85504919]\n",
            "  [-0.80634644 -1.62781036  1.23239358 ...  2.8160585   4.09034541\n",
            "   -0.85504919]\n",
            "  [-0.7834942  -1.62781036  1.29273695 ...  2.36129847  3.79147774\n",
            "   -0.85504919]]]\n"
          ],
          "name": "stdout"
        }
      ]
    },
    {
      "cell_type": "code",
      "metadata": {
        "colab": {
          "base_uri": "https://localhost:8080/",
          "height": 374
        },
        "id": "jiw1Z0bDIqqf",
        "outputId": "ac001c97-42a6-445b-d10b-1d7469b409b3"
      },
      "source": [
        "### PREDICTIONS vs REALITY ON TEST ###\n",
        "\n",
        "plt.figure(figsize=(16,6))\n",
        "\n",
        "start, end = 0, 15000\n",
        "plt.plot(test_date[sequence_length+start:end+sequence_length], y_test[sequence_length+start:end+sequence_length], \n",
        "         c='orange', label='real test')\n",
        "plt.plot(test_date[sequence_length+start:end+sequence_length], pred[start:end], \n",
        "         c='green', label='prediction')\n",
        "plt.legend(); plt.ylabel('PM2.5')\n",
        "plt.show()\n",
        "\n",
        "\n",
        "\n"
      ],
      "execution_count": null,
      "outputs": [
        {
          "output_type": "display_data",
          "data": {
            "image/png": "[encoded data removed]",
            "text/plain": [
              "<Figure size 1152x432 with 1 Axes>"
            ]
          },
          "metadata": {
            "tags": [],
            "needs_background": "light"
          }
        }
      ]
    },
    {
      "cell_type": "code",
      "metadata": {
        "colab": {
          "base_uri": "https://localhost:8080/"
        },
        "id": "ifQX8-RcriBa",
        "outputId": "e787a3f2-0b44-4aac-d9a8-5278f6d631bd"
      },
      "source": [
        "from sklearn.metrics import r2_score\n",
        "from sklearn.metrics import mean_absolute_error\n",
        "from sklearn.metrics import mean_squared_error\n",
        "\n",
        "print(np.sqrt(mean_squared_error(y_test[sequence_length+start:end+sequence_length],pred[start:end])))\n",
        "print(mean_squared_error(y_test[sequence_length+start:end+sequence_length],pred[start:end]))\n",
        "print(mean_absolute_error(y_test[sequence_length+start:end+sequence_length],pred[start:end]))\n",
        "print(r2_score(y_test[sequence_length+start:end+sequence_length],pred[start:end]))\n"
      ],
      "execution_count": null,
      "outputs": [
        {
          "output_type": "stream",
          "text": [
            "31.57951255607685\n",
            "997.2656132794154\n",
            "20.1486504239247\n",
            "0.8265165159558724\n"
          ],
          "name": "stdout"
        }
      ]
    },
    {
      "cell_type": "code",
      "metadata": {
        "colab": {
          "base_uri": "https://localhost:8080/",
          "height": 162
        },
        "id": "pC7cyW8KthcN",
        "outputId": "0ae35c6e-9f71-47e2-8bda-3844ff882309"
      },
      "source": [
        "model.history"
      ],
      "execution_count": null,
      "outputs": [
        {
          "output_type": "error",
          "ename": "NameError",
          "evalue": "ignored",
          "traceback": [
            "\u001b[0;31m---------------------------------------------------------------------------\u001b[0m",
            "\u001b[0;31mNameError\u001b[0m                                 Traceback (most recent call last)",
            "\u001b[0;32m<ipython-input-33-37691af34917>\u001b[0m in \u001b[0;36m<module>\u001b[0;34m()\u001b[0m\n\u001b[0;32m----> 1\u001b[0;31m \u001b[0mmodel\u001b[0m\u001b[0;34m.\u001b[0m\u001b[0mhistory\u001b[0m\u001b[0;34m\u001b[0m\u001b[0;34m\u001b[0m\u001b[0m\n\u001b[0m",
            "\u001b[0;31mNameError\u001b[0m: name 'model' is not defined"
          ]
        }
      ]
    },
    {
      "cell_type": "code",
      "metadata": {
        "id": "O6UTuANvpr4_"
      },
      "source": [
        "### PREDICTIONS vs REALITY ON TEST ###\n",
        "\n",
        "\n",
        "\n",
        "start, end = 0, 3000\n",
        "print(mean_squared_error(test_date[sequence_length+start:end+sequence_length], y_test[sequence_length+start:end+sequence_length]))\n",
        "\n",
        "        "
      ],
      "execution_count": null,
      "outputs": []
    },
    {
      "cell_type": "code",
      "metadata": {
        "id": "-IXbyRg2qjMg"
      },
      "source": [
        "### PREDICTIONS vs REALITY ON TEST ###\n",
        "\n",
        "\n",
        "\n",
        "start, end = 0, 3000\n",
        "qqq =test_date[sequence_length+start:end+sequence_length]\n",
        "www= y_test[sequence_length+start:end+sequence_length]\n",
        "\n",
        "        "
      ],
      "execution_count": null,
      "outputs": []
    },
    {
      "cell_type": "code",
      "metadata": {
        "id": "CzPa-hAuqqp-"
      },
      "source": [
        "qqq"
      ],
      "execution_count": null,
      "outputs": []
    },
    {
      "cell_type": "code",
      "metadata": {
        "id": "x0urGIQyquWF"
      },
      "source": [
        "www"
      ],
      "execution_count": null,
      "outputs": []
    },
    {
      "cell_type": "code",
      "metadata": {
        "id": "gcrr0J3yqY2_"
      },
      "source": [
        "print(test_date)"
      ],
      "execution_count": null,
      "outputs": []
    },
    {
      "cell_type": "code",
      "metadata": {
        "id": "B2B_fNp9I0Dz"
      },
      "source": [
        "from sklearn.metrics import r2_score\n",
        "from sklearn.metrics import mean_absolute_error\n",
        "\n",
        "print(mean_squared_error(pred, y_test_seq))"
      ],
      "execution_count": null,
      "outputs": []
    },
    {
      "cell_type": "code",
      "metadata": {
        "id": "pCsni0lJFx2I"
      },
      "source": [
        "### DEFINE MODEL ###\n",
        "\n",
        "\n",
        "    \n",
        "inp = Input(shape=(sequence_length, len(columns)))\n",
        "\n",
        "x = GRU(128, return_sequences=True)(inp)\n",
        "x = AveragePooling1D(2)(x)\n",
        "x = Conv1D(64, 3,  activation='relu', padding='same', name='extractor')(x)\n",
        "x = Flatten()(x)\n",
        "out = Dense(1)(x)\n",
        "    \n",
        "model = Model(inp, out)\n",
        "model.compile(optimizer=Adam(lr=0.01), loss='mse')\n",
        "    "
      ],
      "execution_count": null,
      "outputs": []
    },
    {
      "cell_type": "code",
      "metadata": {
        "id": "jrcuWpwoxaFm"
      },
      "source": [
        "df['2013-03-01']['PM2.5'].mean()"
      ],
      "execution_count": null,
      "outputs": []
    },
    {
      "cell_type": "code",
      "metadata": {
        "id": "0_dCw5fwxqs3"
      },
      "source": [
        "df['PM2.5'].fillna(method='ffill', inplace=True)\n",
        "df['PM2.5'].fillna(value=df['2013-03-01']['PM2.5'].mean(), inplace=True)\n",
        "df.head()"
      ],
      "execution_count": null,
      "outputs": []
    },
    {
      "cell_type": "code",
      "metadata": {
        "id": "6osIxXOpnoRP"
      },
      "source": [
        "from pylab import rcParams\n",
        "rcParams['figure.figsize'] = 16, 6\n",
        "\n",
        "def plot_pred_date(pred):\n",
        "    pred = pd.DataFrame(sc.inverse_transform(pred), columns=df.columns, index=valid.index)\n",
        "    temp = pd.DataFrame(sc.inverse_transform(train), columns=train.columns, index=train.index)\n",
        "    \n",
        "    for col in temp.columns:\n",
        "        plt.plot(temp[col], 'r-', label='Actual Data')\n",
        "        plt.plot(pred[col], 'b-', label='Predicted Data')\n",
        "        plt.legend()\n",
        "        plt.xlabel('Date')\n",
        "        plt.ylabel(col)\n",
        "        plt.title(f'Predicted {col} vs DateTime')\n",
        "        plt.show()\n",
        "        \n",
        "    return\n",
        "\n",
        "\n",
        "def plot_actual_pred(pred):\n",
        "    pred = pd.DataFrame(sc.inverse_transform(pred), columns=df.columns, index=valid.index)\n",
        "    temp = pd.DataFrame(sc.inverse_transform(valid), columns=valid.columns, index=valid.index)\n",
        "\n",
        "    for col in temp.columns:\n",
        "        plt.plot(temp[col], 'r-', label='Actual Data')\n",
        "        plt.plot(pred[col], 'b-', label='Predicted Data')\n",
        "        plt.legend()\n",
        "        plt.xlabel('Date')\n",
        "        plt.ylabel(col)\n",
        "        plt.title(f'Actual {col} vs Predicted {col}')\n",
        "        plt.show()\n",
        "        \n",
        "    return"
      ],
      "execution_count": null,
      "outputs": []
    },
    {
      "cell_type": "code",
      "metadata": {
        "id": "BaTJ6dXtsPG6"
      },
      "source": [
        "d_train = df[:int(0.7*(len(df)))]\n",
        "d_valid = df[int(0.7*(len(df))):]"
      ],
      "execution_count": null,
      "outputs": []
    },
    {
      "cell_type": "code",
      "metadata": {
        "id": "_MJ58umOsfVS"
      },
      "source": [
        "sc = StandardScaler()\n",
        "sc.fit(d_train)\n",
        "train = pd.DataFrame(sc.transform(d_train), columns=df.columns, index=d_train.index)\n",
        "valid = pd.DataFrame(sc.transform(d_valid), columns=df.columns, index=d_valid.index)"
      ],
      "execution_count": null,
      "outputs": []
    },
    {
      "cell_type": "code",
      "metadata": {
        "id": "FmPytT-br4Xj"
      },
      "source": [
        "n_input = len(train.columns)\n",
        "n_features= len(train.columns)\n",
        "generator = TimeseriesGenerator(train.values, train.values, length=n_input, batch_size=10)\n",
        "test_data = np.vstack((train[-n_input:], valid.values))\n",
        "valid_generator = TimeseriesGenerator(test_data, test_data, length=n_input, batch_size=len(test_data))"
      ],
      "execution_count": null,
      "outputs": []
    },
    {
      "cell_type": "code",
      "metadata": {
        "id": "wWuZBPmMWUcr"
      },
      "source": [
        "d_train = df[:int(0.7*(len(df)))]\n",
        "d_valid = df[int(0.7*(len(df))):]\n",
        "\n",
        "\n",
        "sc = StandardScaler()\n",
        "sc.fit(d_train)\n",
        "train = pd.DataFrame(sc.transform(d_train), columns=df.columns, index=d_train.index)\n",
        "valid = pd.DataFrame(sc.transform(d_valid), columns=df.columns, index=d_valid.index)\n",
        "\n",
        "\n",
        "\n",
        "n_input = len(train.columns)\n",
        "n_features= len(train.columns)\n",
        "generator = TimeseriesGenerator(train.values, train.values, length=n_input, batch_size=10)\n",
        "test_data = np.vstack((train[-n_input:], valid.values))\n",
        "valid_generator = TimeseriesGenerator(test_data, test_data, length=n_input, batch_size=len(test_data))\n",
        "\n",
        "\n",
        "from keras.models import Sequential\n",
        "from keras.layers import Dense\n",
        "from keras.optimizers import SGD, RMSprop, Adam\n",
        "\n",
        "\n",
        "\n",
        "\n",
        "\n",
        "lstm_model = tf.keras.Sequential()\n",
        "lstm_model.add(tf.keras.layers.Bidirectional(tf.keras.layers.LSTM(64, activation='relu', return_sequences=True), input_shape=(n_input, n_features)))\n",
        "lstm_model.add(tf.keras.layers.Bidirectional(tf.keras.layers.LSTM(64, activation='relu', return_sequences=True)))\n",
        "lstm_model.add(tf.keras.layers.Bidirectional(tf.keras.layers.LSTM(50, activation='relu')))\n",
        "lstm_model.add(tf.keras.layers.Dense(11))\n",
        "lstm_model.compile(optimizer='adam', loss='mse', metrics=['accuracy'])\n",
        "\n",
        "lstm_model.summary()\n",
        "\n"
      ],
      "execution_count": null,
      "outputs": []
    },
    {
      "cell_type": "code",
      "metadata": {
        "id": "-jmngZVfWxz2"
      },
      "source": [
        "\n",
        "history = lstm_model.fit_generator(generator,epochs=40)"
      ],
      "execution_count": null,
      "outputs": []
    },
    {
      "cell_type": "code",
      "metadata": {
        "id": "HfVw3uHLY5SU"
      },
      "source": [
        "losses_lstm = lstm_model.history.history['loss']\n",
        "\n",
        "plt.figure(figsize=(12,4))\n",
        "plt.xticks(np.arange(0,21,1))\n",
        "plt.plot(range(len(losses_lstm)),losses_lstm);"
      ],
      "execution_count": null,
      "outputs": []
    },
    {
      "cell_type": "code",
      "metadata": {
        "id": "AVcLTj_ZZE-w"
      },
      "source": [
        "lstm_predictions_scaled = list()\n",
        "\n",
        "batch = train[-n_input:]\n",
        "current_batch = batch.values.reshape((1, n_input, n_features))\n",
        "\n",
        "for i in range(len(valid)):   \n",
        "    lstm_pred = lstm_model.predict(current_batch)[0]\n",
        "    lstm_predictions_scaled.append(lstm_pred) \n",
        "    current_batch = np.append(current_batch[:,1:,:],[[lstm_pred]], axis=1)\n",
        "\n",
        "\n",
        "\n",
        "predictions = lstm_model.predict_generator(valid_generator)\n",
        "predictions.shape, valid.shape"
      ],
      "execution_count": null,
      "outputs": []
    },
    {
      "cell_type": "code",
      "metadata": {
        "id": "AyiavTwBZKkC"
      },
      "source": [
        "from sklearn.metrics import r2_score\n",
        "from sklearn.metrics import mean_absolute_error\n",
        "lstm_pred = pd.DataFrame(predictions, columns=df.columns)\n",
        "\n",
        "#check rmse\n",
        "for i in df.columns:\n",
        "    try:\n",
        "        print('RMSE value for', i, 'is : ', np.sqrt(mean_squared_error(lstm_pred[i], valid[i])))\n",
        "        print('MSE value for', i, 'is : ', (mean_squared_error(lstm_pred[i], valid[i])))\n",
        "        print('MAE value for', i, 'is : ', (mean_absolute_error(lstm_pred[i], valid[i])))\n",
        "        print('R2 value for', i, 'is : ', (r2_score(lstm_pred[i], valid[i])))\n",
        "    except Exception as err:\n",
        "        print(i, err)"
      ],
      "execution_count": null,
      "outputs": []
    },
    {
      "cell_type": "code",
      "metadata": {
        "id": "-inxvc5TZOWN"
      },
      "source": [
        "plot_pred_date(lstm_pred)"
      ],
      "execution_count": null,
      "outputs": []
    },
    {
      "cell_type": "code",
      "metadata": {
        "id": "kLPrnsWdZYRf"
      },
      "source": [
        "plot_actual_pred(lstm_pred)"
      ],
      "execution_count": null,
      "outputs": []
    },
    {
      "cell_type": "code",
      "metadata": {
        "id": "5KJRzXMffu6c"
      },
      "source": [
        "d_train = df[:int(0.7*(len(df)))]\n",
        "d_valid = df[int(0.7*(len(df))):]\n",
        "\n",
        "\n",
        "sc = StandardScaler()\n",
        "sc.fit(d_train)\n",
        "train = pd.DataFrame(sc.transform(d_train), columns=df.columns, index=d_train.index)\n",
        "valid = pd.DataFrame(sc.transform(d_valid), columns=df.columns, index=d_valid.index)\n",
        "\n",
        "\n",
        "\n",
        "n_input = len(train.columns)\n",
        "n_features= len(train.columns)\n",
        "generator = TimeseriesGenerator(train.values, train.values, length=n_input, batch_size=10)\n",
        "test_data = np.vstack((train[-n_input:], valid.values))\n",
        "valid_generator = TimeseriesGenerator(test_data, test_data, length=n_input, batch_size=len(test_data))\n",
        "\n",
        "\n",
        "from keras.models import Sequential\n",
        "from keras.layers import Dense\n",
        "from keras.optimizers import SGD, RMSprop, Adam\n",
        "\n",
        "lstm_model = Sequential()\n",
        "lstm_model.add(LSTM(500, activation='relu', input_shape=(n_input, n_features), return_sequences=True))\n",
        "lstm_model.add(LSTM(200, activation='relu', input_shape=(n_input, n_features)))\n",
        "lstm_model.add(Dense(100, activation='relu'))\n",
        "lstm_model.add(Dense(11))\n",
        "lstm_model.compile(RMSprop(lr=1e-06), loss='mse' )\n",
        "\n",
        "lstm_model.summary()\n",
        "\n"
      ],
      "execution_count": null,
      "outputs": []
    },
    {
      "cell_type": "code",
      "metadata": {
        "id": "3OKEnywHf1X6"
      },
      "source": [
        "\n",
        "history = lstm_model.fit_generator(generator,epochs=40)"
      ],
      "execution_count": null,
      "outputs": []
    },
    {
      "cell_type": "code",
      "metadata": {
        "id": "81dY9ls5hL2r"
      },
      "source": [
        "losses_lstm = lstm_model.history.history['loss']\n",
        "\n",
        "plt.figure(figsize=(12,4))\n",
        "plt.xticks(np.arange(0,21,1))\n",
        "plt.plot(range(len(losses_lstm)),losses_lstm);"
      ],
      "execution_count": null,
      "outputs": []
    },
    {
      "cell_type": "code",
      "metadata": {
        "id": "jRCmtR_JhN_L"
      },
      "source": [
        "lstm_predictions_scaled = list()\n",
        "\n",
        "batch = train[-n_input:]\n",
        "current_batch = batch.values.reshape((1, n_input, n_features))\n",
        "\n",
        "for i in range(len(valid)):   \n",
        "    lstm_pred = lstm_model.predict(current_batch)[0]\n",
        "    lstm_predictions_scaled.append(lstm_pred)\n",
        "    current_batch = np.append(current_batch[:,1:,:],[[lstm_pred]], axis=1)\n",
        "\n",
        "\n",
        "\n",
        "predictions = lstm_model.predict_generator(valid_generator)\n",
        "predictions.shape, valid.shape\n",
        "\n",
        "\n",
        "from sklearn.metrics import r2_score\n",
        "from sklearn.metrics import mean_absolute_error\n",
        "lstm_pred = pd.DataFrame(predictions, columns=df.columns)\n",
        "\n",
        "#check rmse\n",
        "for i in df.columns:\n",
        "    try:\n",
        "        print('RMSE value for', i, 'is : ', np.sqrt(mean_squared_error(lstm_pred[i], valid[i])))\n",
        "        print('MSE value for', i, 'is : ', (mean_squared_error(lstm_pred[i], valid[i])))\n",
        "        print('MAE value for', i, 'is : ', (mean_absolute_error(lstm_pred[i], valid[i])))\n",
        "        print('R2 value for', i, 'is : ', (r2_score(lstm_pred[i], valid[i],  multioutput='variance_weighted')))\n",
        "    except Exception as err:\n",
        "        print(i, err)\n",
        "   "
      ],
      "execution_count": null,
      "outputs": []
    },
    {
      "cell_type": "code",
      "metadata": {
        "id": "8jRwRYrkhU73"
      },
      "source": [
        "plot_pred_date(lstm_pred)"
      ],
      "execution_count": null,
      "outputs": []
    },
    {
      "cell_type": "code",
      "metadata": {
        "id": "K5QUtH2gheYU"
      },
      "source": [
        "plot_actual_pred(lstm_pred)"
      ],
      "execution_count": null,
      "outputs": []
    },
    {
      "cell_type": "code",
      "metadata": {
        "id": "p1npQaI4m6ch"
      },
      "source": [
        "d_train = df[:int(0.7*(len(df)))]\n",
        "d_valid = df[int(0.7*(len(df))):]\n",
        "\n",
        "\n",
        "sc = StandardScaler()\n",
        "sc.fit(d_train)\n",
        "train = pd.DataFrame(sc.transform(d_train), columns=df.columns, index=d_train.index)\n",
        "valid = pd.DataFrame(sc.transform(d_valid), columns=df.columns, index=d_valid.index)\n",
        "\n",
        "\n",
        "\n",
        "n_input = len(train.columns)\n",
        "n_features= len(train.columns)\n",
        "generator = TimeseriesGenerator(train.values, train.values, length=n_input, batch_size=10)\n",
        "test_data = np.vstack((train[-n_input:], valid.values))\n",
        "valid_generator = TimeseriesGenerator(test_data, test_data, length=n_input, batch_size=len(test_data))\n",
        "\n",
        "\n",
        "from keras.models import Sequential\n",
        "from keras.layers import Dense\n",
        "from keras.optimizers import SGD, RMSprop, Adam\n",
        "\n",
        "lstm_model = Sequential()\n",
        "lstm_model.add(LSTM(500, activation='relu', input_shape=(n_input, n_features), return_sequences=True))\n",
        "lstm_model.add(LSTM(200, activation='relu', input_shape=(n_input, n_features)))\n",
        "lstm_model.add(Dense(100, activation='relu'))\n",
        "lstm_model.add(Dense(11))\n",
        "lstm_model.compile(Adam(lr=1e-01), loss='mse' )\n",
        "\n",
        "lstm_model.summary()\n",
        "\n"
      ],
      "execution_count": null,
      "outputs": []
    },
    {
      "cell_type": "code",
      "metadata": {
        "id": "VnVayUnbnC8k"
      },
      "source": [
        "\n",
        "history = lstm_model.fit_generator(generator,epochs=10)"
      ],
      "execution_count": null,
      "outputs": []
    },
    {
      "cell_type": "code",
      "metadata": {
        "id": "ZxtxL35InFV6"
      },
      "source": [
        "losses_lstm = lstm_model.history.history['loss']\n",
        "\n",
        "plt.figure(figsize=(12,4))\n",
        "plt.xticks(np.arange(0,21,1))\n",
        "plt.plot(range(len(losses_lstm)),losses_lstm);"
      ],
      "execution_count": null,
      "outputs": []
    },
    {
      "cell_type": "code",
      "metadata": {
        "id": "yP7zfSGhnJuT"
      },
      "source": [
        "lstm_predictions_scaled = list()\n",
        "\n",
        "batch = train[-n_input:]\n",
        "current_batch = batch.values.reshape((1, n_input, n_features))\n",
        "\n",
        "for i in range(len(valid)):   \n",
        "    lstm_pred = lstm_model.predict(current_batch)[0]\n",
        "    lstm_predictions_scaled.append(lstm_pred)\n",
        "    current_batch = np.append(current_batch[:,1:,:],[[lstm_pred]], axis=1)\n",
        "\n",
        "\n",
        "\n",
        "predictions = lstm_model.predict_generator(valid_generator)\n",
        "predictions.shape, valid.shape\n",
        "\n",
        "\n",
        "from sklearn.metrics import r2_score\n",
        "from sklearn.metrics import mean_absolute_error\n",
        "lstm_pred = pd.DataFrame(predictions, columns=df.columns)\n",
        "\n",
        "#check rmse\n",
        "for i in df.columns:\n",
        "    try:\n",
        "        print('RMSE value for', i, 'is : ', np.sqrt(mean_squared_error(lstm_pred[i], valid[i])))\n",
        "        print('MSE value for', i, 'is : ', (mean_squared_error(lstm_pred[i], valid[i])))\n",
        "        print('MAE value for', i, 'is : ', (mean_absolute_error(lstm_pred[i], valid[i])))\n",
        "        print('R2 value for', i, 'is : ', (r2_score(lstm_pred[i], valid[i],  multioutput='variance_weighted')))\n",
        "    except Exception as err:\n",
        "        print(i, err)\n",
        "   "
      ],
      "execution_count": null,
      "outputs": []
    },
    {
      "cell_type": "code",
      "metadata": {
        "id": "26DFDM_InQiQ"
      },
      "source": [
        "plot_pred_date(lstm_pred)"
      ],
      "execution_count": null,
      "outputs": []
    },
    {
      "cell_type": "code",
      "metadata": {
        "id": "yUgsjTy6nRIH"
      },
      "source": [
        "plot_actual_pred(lstm_pred)"
      ],
      "execution_count": null,
      "outputs": []
    }
  ]
}